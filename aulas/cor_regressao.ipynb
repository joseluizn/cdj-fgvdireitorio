{
 "cells": [
  {
   "cell_type": "markdown",
   "metadata": {},
   "source": [
    "# Carregando os dados:"
   ]
  },
  {
   "cell_type": "markdown",
   "metadata": {},
   "source": [
    "Vamos carregar os dados referentes ao Estudo 3 do artigo \"An Experimental Guide to Vehicles in the Park\":"
   ]
  },
  {
   "cell_type": "code",
   "execution_count": null,
   "metadata": {},
   "outputs": [],
   "source": [
    "import pandas as pd\n",
    "import seaborn as sns"
   ]
  },
  {
   "cell_type": "code",
   "execution_count": null,
   "metadata": {},
   "outputs": [],
   "source": [
    "experimental_guide = pd.read_csv(\"https://bit.ly/study3-exp-guide\")\n",
    "\n",
    "# vamos substituir os valores da coluna lawyer pelo que eles representam\n",
    "experimental_guide[\"lawyer\"] = experimental_guide[\"lawyer\"].replace(\n",
    "    {\n",
    "        1: \"lawyer\",\n",
    "        2: \"law_student\",\n",
    "        3: \"other\",\n",
    "    }\n",
    ")\n",
    "\n",
    "experimental_guide.head(3)"
   ]
  },
  {
   "cell_type": "markdown",
   "metadata": {},
   "source": [
    "Em cada linha, temos a resposta que um participante deu para cada um dos cenários da pesquisa.\n",
    "\n",
    "Precisamos converter a unidade de análise para realizar a análise que desejamos.\n",
    "\n",
    "Queremos analisar a relação entre a variação das medidas de violação para texto (`text`), propósito (`moral`), e violação da regra (`rule_violation`) para saber se elas variam junto.\n",
    "\n",
    "Qual o primeiro passo que precisamos tomar?"
   ]
  },
  {
   "cell_type": "code",
   "execution_count": null,
   "metadata": {},
   "outputs": [],
   "source": [
    "df_casos = experimental_guide.groupby(\n",
    "    \"case\", as_index=False\n",
    ")[[\"rule_violation\", \"text\", \"moral\"]].mean()\n",
    "\n",
    "df_casos.head(3)"
   ]
  },
  {
   "cell_type": "markdown",
   "metadata": {},
   "source": [
    "Vamos também criar um conjunto de dados que agrupa as respostas pela formação jurídica do respondente:"
   ]
  },
  {
   "cell_type": "code",
   "execution_count": null,
   "metadata": {},
   "outputs": [],
   "source": [
    "df_alunos = experimental_guide.groupby(\n",
    "    [\"case\", \"lawyer\"], as_index=False\n",
    ")[[\"rule_violation\", \"text\", \"moral\"]].mean()\n",
    "\n",
    "df_alunos.head(3)"
   ]
  },
  {
   "cell_type": "code",
   "execution_count": null,
   "metadata": {},
   "outputs": [],
   "source": [
    "from statsmodels.formula.api import ols\n",
    "\n",
    "modelo_texto = ols(\n",
    "    \"rule_violation ~ text\",\n",
    "    data=df_casos,\n",
    ").fit()\n",
    "\n",
    "modelo_texto.summary()"
   ]
  },
  {
   "cell_type": "code",
   "execution_count": null,
   "metadata": {},
   "outputs": [],
   "source": [
    "modelo_proposito = ols(\n",
    "    \"rule_violation ~ moral\",\n",
    "    data=df_casos,\n",
    ").fit()\n",
    "\n",
    "modelo_proposito.summary()"
   ]
  },
  {
   "cell_type": "markdown",
   "metadata": {},
   "source": [
    "Mas e se quisermos testar um modelo que considera tanto a variação de violação do texto quanto a variação de violação do propósito da regra?\n",
    "\n",
    "Podemos fazer isso criando uma regressão múltipla!"
   ]
  },
  {
   "cell_type": "code",
   "execution_count": null,
   "metadata": {},
   "outputs": [],
   "source": []
  }
 ],
 "metadata": {
  "kernelspec": {
   "display_name": "eda",
   "language": "python",
   "name": "python3"
  },
  "language_info": {
   "codemirror_mode": {
    "name": "ipython",
    "version": 3
   },
   "file_extension": ".py",
   "mimetype": "text/x-python",
   "name": "python",
   "nbconvert_exporter": "python",
   "pygments_lexer": "ipython3",
   "version": "3.12.5"
  },
  "toc": {
   "base_numbering": 1,
   "nav_menu": {},
   "number_sections": true,
   "sideBar": true,
   "skip_h1_title": false,
   "title_cell": "Table of Contents",
   "title_sidebar": "Contents",
   "toc_cell": false,
   "toc_position": {},
   "toc_section_display": true,
   "toc_window_display": false
  }
 },
 "nbformat": 4,
 "nbformat_minor": 4
}
