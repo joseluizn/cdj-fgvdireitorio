{
 "cells": [
  {
   "cell_type": "code",
   "execution_count": 3,
   "metadata": {},
   "outputs": [],
   "source": [
    "import pandas as pd\n",
    "import scipy.stats as stats"
   ]
  },
  {
   "cell_type": "markdown",
   "metadata": {},
   "source": [
    "Hoje vamos usar uma nova função que nos permite interagir com a distribuição normal:\n",
    "```python\n",
    "stats.norm(loc=media, scale=desvio_padrao)\n",
    "```\n",
    "\n",
    "Essa função nos permite calcular estatísticas de uma distribuição normal e, logo, podemos usá-la para calcular intervalos de confiança.\n",
    "\n",
    "Para isso, precisamos saber a média e o desvio padrão da nossa amostra.\n",
    "\n",
    "Lembre-se que o desvio padrão da distribuição da média amostral é dado por:\n",
    "\n",
    "$\n",
    "\\sigma_{\\bar{x}} = \\frac{\\sigma}{\\sqrt{n}}\n",
    "$\n",
    "\n",
    "onde $\\sigma$ é o desvio padrão da população e $n$ é o tamanho da amostra."
   ]
  },
  {
   "cell_type": "code",
   "execution_count": 11,
   "metadata": {},
   "outputs": [
    {
     "name": "stdout",
     "output_type": "stream",
     "text": [
      "(-1.959963984540054, 1.959963984540054)\n",
      "(-19.59963984540054, 19.59963984540054)\n"
     ]
    }
   ],
   "source": [
    "nossa_normal = stats.norm(loc=0, scale=1)\n",
    "\n",
    "print(nossa_normal.interval(0.95))\n",
    "\n",
    "# outra forma de fazer\n",
    "print(stats.norm.interval(0.95, loc=0, scale=10))"
   ]
  },
  {
   "cell_type": "markdown",
   "metadata": {},
   "source": [
    "Agora vamos carregar os dados coletados por Hartmann e colegas:"
   ]
  },
  {
   "cell_type": "code",
   "execution_count": 2,
   "metadata": {},
   "outputs": [
    {
     "data": {
      "text/html": [
       "<div>\n",
       "<style scoped>\n",
       "    .dataframe tbody tr th:only-of-type {\n",
       "        vertical-align: middle;\n",
       "    }\n",
       "\n",
       "    .dataframe tbody tr th {\n",
       "        vertical-align: top;\n",
       "    }\n",
       "\n",
       "    .dataframe thead th {\n",
       "        text-align: right;\n",
       "    }\n",
       "</style>\n",
       "<table border=\"1\" class=\"dataframe\">\n",
       "  <thead>\n",
       "    <tr style=\"text-align: right;\">\n",
       "      <th></th>\n",
       "      <th>classe</th>\n",
       "      <th>num_processo</th>\n",
       "      <th>reu_preso_recorreu</th>\n",
       "      <th>seq_jurisdicionado</th>\n",
       "      <th>mp</th>\n",
       "      <th>pena_fixada_decisao_recorrida_anos</th>\n",
       "      <th>pena_fixada_decisao_recorrida_meses</th>\n",
       "      <th>sucesso_recurso</th>\n",
       "      <th>obs</th>\n",
       "    </tr>\n",
       "  </thead>\n",
       "  <tbody>\n",
       "    <tr>\n",
       "      <th>0</th>\n",
       "      <td>REsp</td>\n",
       "      <td>1496317</td>\n",
       "      <td>NaN</td>\n",
       "      <td>1384</td>\n",
       "      <td>False</td>\n",
       "      <td>0</td>\n",
       "      <td>0</td>\n",
       "      <td>0.0</td>\n",
       "      <td>Discussão cível</td>\n",
       "    </tr>\n",
       "    <tr>\n",
       "      <th>1</th>\n",
       "      <td>REsp</td>\n",
       "      <td>1496317</td>\n",
       "      <td>NaN</td>\n",
       "      <td>34</td>\n",
       "      <td>False</td>\n",
       "      <td>0</td>\n",
       "      <td>0</td>\n",
       "      <td>0.0</td>\n",
       "      <td>Discussão cível</td>\n",
       "    </tr>\n",
       "    <tr>\n",
       "      <th>2</th>\n",
       "      <td>AREsp</td>\n",
       "      <td>805570</td>\n",
       "      <td>1</td>\n",
       "      <td>978</td>\n",
       "      <td>False</td>\n",
       "      <td>9</td>\n",
       "      <td>9</td>\n",
       "      <td>0.0</td>\n",
       "      <td>NaN</td>\n",
       "    </tr>\n",
       "    <tr>\n",
       "      <th>3</th>\n",
       "      <td>AREsp</td>\n",
       "      <td>561496</td>\n",
       "      <td>NaN</td>\n",
       "      <td>983</td>\n",
       "      <td>False</td>\n",
       "      <td>0</td>\n",
       "      <td>0</td>\n",
       "      <td>0.0</td>\n",
       "      <td>Agravo de execução</td>\n",
       "    </tr>\n",
       "    <tr>\n",
       "      <th>4</th>\n",
       "      <td>AREsp</td>\n",
       "      <td>521115</td>\n",
       "      <td>1</td>\n",
       "      <td>912</td>\n",
       "      <td>False</td>\n",
       "      <td>9</td>\n",
       "      <td>4</td>\n",
       "      <td>0.0</td>\n",
       "      <td>NaN</td>\n",
       "    </tr>\n",
       "  </tbody>\n",
       "</table>\n",
       "</div>"
      ],
      "text/plain": [
       "  classe  num_processo reu_preso_recorreu  seq_jurisdicionado     mp  \\\n",
       "0   REsp       1496317                NaN                1384  False   \n",
       "1   REsp       1496317                NaN                  34  False   \n",
       "2  AREsp        805570                  1                 978  False   \n",
       "3  AREsp        561496                NaN                 983  False   \n",
       "4  AREsp        521115                  1                 912  False   \n",
       "\n",
       "   pena_fixada_decisao_recorrida_anos  pena_fixada_decisao_recorrida_meses  \\\n",
       "0                                   0                                    0   \n",
       "1                                   0                                    0   \n",
       "2                                   9                                    9   \n",
       "3                                   0                                    0   \n",
       "4                                   9                                    4   \n",
       "\n",
       "   sucesso_recurso                 obs  \n",
       "0              0.0     Discussão cível  \n",
       "1              0.0     Discussão cível  \n",
       "2              0.0                 NaN  \n",
       "3              0.0  Agravo de execução  \n",
       "4              0.0                 NaN  "
      ]
     },
     "execution_count": 2,
     "metadata": {},
     "output_type": "execute_result"
    }
   ],
   "source": [
    "dados_prisao = \"https://raw.githubusercontent.com/joseluizn/cdj-fgvdireitorio/refs/heads/main/notebooks/dados/hartmann_etal_clean.csv\"\n",
    "\n",
    "df = pd.read_csv(dados_prisao)\n",
    "\n",
    "df.head()"
   ]
  },
  {
   "cell_type": "code",
   "execution_count": null,
   "metadata": {},
   "outputs": [],
   "source": []
  }
 ],
 "metadata": {
  "kernelspec": {
   "display_name": "eda",
   "language": "python",
   "name": "python3"
  },
  "language_info": {
   "codemirror_mode": {
    "name": "ipython",
    "version": 3
   },
   "file_extension": ".py",
   "mimetype": "text/x-python",
   "name": "python",
   "nbconvert_exporter": "python",
   "pygments_lexer": "ipython3",
   "version": "3.11.3"
  }
 },
 "nbformat": 4,
 "nbformat_minor": 2
}
