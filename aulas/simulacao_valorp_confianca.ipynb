{
 "cells": [
  {
   "cell_type": "code",
   "execution_count": 39,
   "id": "23b69906",
   "metadata": {},
   "outputs": [],
   "source": [
    "import pandas as pd\n",
    "import seaborn as sns\n",
    "import matplotlib.pyplot as plt\n",
    "\n",
    "from scipy.stats import norm"
   ]
  },
  {
   "cell_type": "markdown",
   "id": "590c842c",
   "metadata": {},
   "source": [
    "# Nível de Confiança e Valor P - visualizando a partir de simulações\n",
    "\n",
    "Vamos ilustrar os testes de hipótese a partir de simulações, com o objetivo de entender o significado do p-valor (também relacionado ao nível de confiança discutido quando falamos de intervalo de confiança).\n",
    "\n",
    "Vamos imaginar que queremos estimar o valor médio do preço de alugueis na cidade de Nova Iorque. Vamos carregar os dados:"
   ]
  },
  {
   "cell_type": "code",
   "execution_count": 40,
   "id": "772c3d95",
   "metadata": {},
   "outputs": [
    {
     "data": {
      "text/html": [
       "<div>\n",
       "<style scoped>\n",
       "    .dataframe tbody tr th:only-of-type {\n",
       "        vertical-align: middle;\n",
       "    }\n",
       "\n",
       "    .dataframe tbody tr th {\n",
       "        vertical-align: top;\n",
       "    }\n",
       "\n",
       "    .dataframe thead th {\n",
       "        text-align: right;\n",
       "    }\n",
       "</style>\n",
       "<table border=\"1\" class=\"dataframe\">\n",
       "  <thead>\n",
       "    <tr style=\"text-align: right;\">\n",
       "      <th></th>\n",
       "      <th>F1</th>\n",
       "      <th>id</th>\n",
       "      <th>neighbourhood</th>\n",
       "      <th>latitude</th>\n",
       "      <th>longitude</th>\n",
       "      <th>room_type</th>\n",
       "      <th>price</th>\n",
       "      <th>days_occupied_in_2019</th>\n",
       "      <th>minimum_nights</th>\n",
       "      <th>number_of_reviews</th>\n",
       "      <th>reviews_per_month</th>\n",
       "      <th>availability_2020</th>\n",
       "    </tr>\n",
       "  </thead>\n",
       "  <tbody>\n",
       "    <tr>\n",
       "      <th>0</th>\n",
       "      <td>0</td>\n",
       "      <td>2595</td>\n",
       "      <td>Midtown</td>\n",
       "      <td>40.75362</td>\n",
       "      <td>-73.98377</td>\n",
       "      <td>Entire home/apt</td>\n",
       "      <td>225</td>\n",
       "      <td>15</td>\n",
       "      <td>10</td>\n",
       "      <td>48</td>\n",
       "      <td>0.39</td>\n",
       "      <td>1</td>\n",
       "    </tr>\n",
       "    <tr>\n",
       "      <th>1</th>\n",
       "      <td>1</td>\n",
       "      <td>3831</td>\n",
       "      <td>Brooklyn</td>\n",
       "      <td>40.68514</td>\n",
       "      <td>-73.95976</td>\n",
       "      <td>Entire home/apt</td>\n",
       "      <td>89</td>\n",
       "      <td>188</td>\n",
       "      <td>1</td>\n",
       "      <td>295</td>\n",
       "      <td>4.67</td>\n",
       "      <td>1</td>\n",
       "    </tr>\n",
       "    <tr>\n",
       "      <th>2</th>\n",
       "      <td>2</td>\n",
       "      <td>5099</td>\n",
       "      <td>Manhattan</td>\n",
       "      <td>40.74767</td>\n",
       "      <td>-73.97500</td>\n",
       "      <td>Entire home/apt</td>\n",
       "      <td>200</td>\n",
       "      <td>362</td>\n",
       "      <td>3</td>\n",
       "      <td>78</td>\n",
       "      <td>0.60</td>\n",
       "      <td>19</td>\n",
       "    </tr>\n",
       "    <tr>\n",
       "      <th>5</th>\n",
       "      <td>6</td>\n",
       "      <td>5238</td>\n",
       "      <td>Lower East Side</td>\n",
       "      <td>40.71344</td>\n",
       "      <td>-73.99037</td>\n",
       "      <td>Entire home/apt</td>\n",
       "      <td>150</td>\n",
       "      <td>86</td>\n",
       "      <td>1</td>\n",
       "      <td>161</td>\n",
       "      <td>1.29</td>\n",
       "      <td>1</td>\n",
       "    </tr>\n",
       "    <tr>\n",
       "      <th>8</th>\n",
       "      <td>9</td>\n",
       "      <td>6090</td>\n",
       "      <td>Manhattan</td>\n",
       "      <td>40.73530</td>\n",
       "      <td>-74.00525</td>\n",
       "      <td>Entire home/apt</td>\n",
       "      <td>120</td>\n",
       "      <td>226</td>\n",
       "      <td>180</td>\n",
       "      <td>27</td>\n",
       "      <td>0.22</td>\n",
       "      <td>271</td>\n",
       "    </tr>\n",
       "  </tbody>\n",
       "</table>\n",
       "</div>"
      ],
      "text/plain": [
       "   F1    id    neighbourhood  latitude  longitude        room_type  price  \\\n",
       "0   0  2595          Midtown  40.75362  -73.98377  Entire home/apt    225   \n",
       "1   1  3831         Brooklyn  40.68514  -73.95976  Entire home/apt     89   \n",
       "2   2  5099        Manhattan  40.74767  -73.97500  Entire home/apt    200   \n",
       "5   6  5238  Lower East Side  40.71344  -73.99037  Entire home/apt    150   \n",
       "8   9  6090        Manhattan  40.73530  -74.00525  Entire home/apt    120   \n",
       "\n",
       "   days_occupied_in_2019  minimum_nights  number_of_reviews  \\\n",
       "0                     15              10                 48   \n",
       "1                    188               1                295   \n",
       "2                    362               3                 78   \n",
       "5                     86               1                161   \n",
       "8                    226             180                 27   \n",
       "\n",
       "   reviews_per_month  availability_2020  \n",
       "0               0.39                  1  \n",
       "1               4.67                  1  \n",
       "2               0.60                 19  \n",
       "5               1.29                  1  \n",
       "8               0.22                271  "
      ]
     },
     "execution_count": 40,
     "metadata": {},
     "output_type": "execute_result"
    }
   ],
   "source": [
    "df_raw = pd.read_csv(\n",
    "    \"https://www.kaggle.com/api/v1/datasets/download/ivanchvez/ny-rental-properties-pricing\",\n",
    "    compression=\"zip\",\n",
    ")\n",
    "\n",
    "# vamos deixar apenas alugueis de imoveis inteiros\n",
    "f = \"Entire home/apt\"\n",
    "df = df_raw.query(\"room_type == @f\")\n",
    "\n",
    "df.head()"
   ]
  },
  {
   "cell_type": "markdown",
   "id": "f7c01865",
   "metadata": {},
   "source": [
    "Vamos ver quantos alugueis existem em nosso conjunto de dados, e armazenar a quantidade em uma variável chamada `n_imoveis`:"
   ]
  },
  {
   "cell_type": "code",
   "execution_count": 41,
   "id": "1ec002c3",
   "metadata": {},
   "outputs": [
    {
     "data": {
      "text/plain": [
       "(9405, 12)"
      ]
     },
     "execution_count": 41,
     "metadata": {},
     "output_type": "execute_result"
    }
   ],
   "source": [
    "n_imoveis = df.shape[0]\n",
    "df.shape"
   ]
  },
  {
   "cell_type": "markdown",
   "id": "77e4d9ab",
   "metadata": {},
   "source": [
    "Vamos supor que esses dados contenham **todos** os aluguéis na cidade de Nova Iorque. Ainda, que o valor contido na coluna `price` é o valor diário do aluguel.\n",
    "\n",
    "Vamos observar a distribuição dos valores:"
   ]
  },
  {
   "cell_type": "code",
   "execution_count": 42,
   "id": "7dbfff99",
   "metadata": {},
   "outputs": [
    {
     "data": {
      "text/plain": [
       "<Axes: xlabel='price', ylabel='Count'>"
      ]
     },
     "execution_count": 42,
     "metadata": {},
     "output_type": "execute_result"
    },
    {
     "data": {
      "image/png": "[encoded data removed]",
      "text/plain": [
       "<Figure size 640x480 with 1 Axes>"
      ]
     },
     "metadata": {},
     "output_type": "display_data"
    }
   ],
   "source": [
    "sns.histplot(df.price, bins=100)"
   ]
  },
  {
   "cell_type": "markdown",
   "id": "3ac3ad9c",
   "metadata": {},
   "source": [
    "Isso não se parece com uma distribuição normal. Temos uma longa calda à direita, com valores mais altos. Provavelmente seria explicado pela presença de imóveis de luxo, ou seja, com valores muito mais altos.\n",
    "\n",
    "Vamos verificar o preço médio:"
   ]
  },
  {
   "cell_type": "code",
   "execution_count": 43,
   "id": "8df4b93c",
   "metadata": {},
   "outputs": [
    {
     "data": {
      "text/plain": [
       "197.7711855396066"
      ]
     },
     "execution_count": 43,
     "metadata": {},
     "output_type": "execute_result"
    }
   ],
   "source": [
    "preco_medio = df[\"price\"].mean()\n",
    "preco_medio"
   ]
  },
  {
   "cell_type": "markdown",
   "id": "37140259",
   "metadata": {},
   "source": [
    "Agora, vamos supor que precisamos fazer uma estimativa do preço médio de aluguel em Nova Iorque, e que não temos acesso a todos os dados. \n",
    "\n",
    "Nesse cenário, vamo considerar que temos capacidade de coletar informações sobre  uma amostra aleatória de 1000 imóveis, e obter o preço nessa amostra. Para simular isso, vamos usar o método `sample` do pandas, que nos permite selecionar aleatoriamente uma amostra de um DataFrame."
   ]
  },
  {
   "cell_type": "code",
   "execution_count": 44,
   "id": "4ef7daaa",
   "metadata": {},
   "outputs": [
    {
     "name": "stdout",
     "output_type": "stream",
     "text": [
      "200.231\n"
     ]
    },
    {
     "data": {
      "text/plain": [
       "(1000, 12)"
      ]
     },
     "execution_count": 44,
     "metadata": {},
     "output_type": "execute_result"
    }
   ],
   "source": [
    "df_amostra = df.sample(n=1000)\n",
    "# valor médio da amostra\n",
    "print(df_amostra[\"price\"].mean())\n",
    "df_amostra.shape\n"
   ]
  },
  {
   "cell_type": "markdown",
   "id": "475e4c2c",
   "metadata": {},
   "source": [
    "Se fossemos calcular um intervalo de confiança para a média a partir dessa amostra, teríamos o seguinte intervalo para um nível de confiança de 95%:"
   ]
  },
  {
   "cell_type": "code",
   "execution_count": 45,
   "id": "79629689",
   "metadata": {},
   "outputs": [
    {
     "data": {
      "text/plain": [
       "(189.15023335408827, 211.31176664591172)"
      ]
     },
     "execution_count": 45,
     "metadata": {},
     "output_type": "execute_result"
    }
   ],
   "source": [
    "intervalo_amostra = norm(\n",
    "    df_amostra[\"price\"].mean(),  # media\n",
    "    df_amostra[\"price\"].std() / (df_amostra.shape[0] ** 0.5),  # erro padrão\n",
    ").interval(0.95)\n",
    "\n",
    "intervalo_amostra"
   ]
  },
  {
   "cell_type": "markdown",
   "id": "627d9d1a",
   "metadata": {},
   "source": [
    "Podemos verificar se o intervalo contém o valor médio da população:"
   ]
  },
  {
   "cell_type": "code",
   "execution_count": 46,
   "id": "9b357f14",
   "metadata": {},
   "outputs": [
    {
     "name": "stdout",
     "output_type": "stream",
     "text": [
      "O preço médio da amostra está dentro do intervalo de confiança.\n"
     ]
    }
   ],
   "source": [
    "if intervalo_amostra[0] <= preco_medio <= intervalo_amostra[1]:\n",
    "    print(\"O preço médio da amostra está dentro do intervalo de confiança.\")\n",
    "else:\n",
    "    print(\"O preço médio da amostra está fora do intervalo de confiança.\")"
   ]
  },
  {
   "cell_type": "markdown",
   "id": "171f32e1",
   "metadata": {},
   "source": [
    "Agora vamos simular o processo de coletar amostrar um grande número de vezes, calculando o intervalo de confiança para cada uma delas, e verificando se o intervalo contém o valor médio da população. Vamos usar uma função que calcula `n` amostras, e retorna um dataframe com os intervalos de confiança a um nível `conf` e se o intervalo contém o valor médio da população."
   ]
  },
  {
   "cell_type": "code",
   "execution_count": 47,
   "id": "bdd479a0",
   "metadata": {},
   "outputs": [],
   "source": [
    "def gera_intervalos(df, n, conf, media_real):\n",
    "    intervalos = []\n",
    "    for i in range(n):\n",
    "        amostra = df.sample(n=1000, replace=True)\n",
    "        media = amostra[\"price\"].mean()\n",
    "        intervalo = norm(\n",
    "            media,\n",
    "            amostra[\"price\"].std() / (amostra.shape[0] ** 0.5),\n",
    "        ).interval(conf)\n",
    "        if intervalo[0] <= media_real <= intervalo[1]:\n",
    "            intervalos.append([media, intervalo[0], intervalo[1], True])\n",
    "        else:\n",
    "            intervalos.append([media, intervalo[0], intervalo[1], False])\n",
    "    return pd.DataFrame(\n",
    "        intervalos,\n",
    "        columns=[\n",
    "            \"media_amostra\",\n",
    "            \"limite_inferior_intervalo\",\n",
    "            \"limite_superior_intervalo\",\n",
    "            \"contem_media\",\n",
    "        ],\n",
    "    )"
   ]
  },
  {
   "cell_type": "markdown",
   "id": "6ca5674a",
   "metadata": {},
   "source": [
    "Vamos testar quantas vezes o intervalo contém a média real se realizarmos 1000 amostras:"
   ]
  },
  {
   "cell_type": "code",
   "execution_count": 48,
   "id": "c29d1de0",
   "metadata": {},
   "outputs": [
    {
     "data": {
      "text/html": [
       "<div>\n",
       "<style scoped>\n",
       "    .dataframe tbody tr th:only-of-type {\n",
       "        vertical-align: middle;\n",
       "    }\n",
       "\n",
       "    .dataframe tbody tr th {\n",
       "        vertical-align: top;\n",
       "    }\n",
       "\n",
       "    .dataframe thead th {\n",
       "        text-align: right;\n",
       "    }\n",
       "</style>\n",
       "<table border=\"1\" class=\"dataframe\">\n",
       "  <thead>\n",
       "    <tr style=\"text-align: right;\">\n",
       "      <th></th>\n",
       "      <th>media_amostra</th>\n",
       "      <th>limite_inferior_intervalo</th>\n",
       "      <th>limite_superior_intervalo</th>\n",
       "      <th>contem_media</th>\n",
       "    </tr>\n",
       "  </thead>\n",
       "  <tbody>\n",
       "    <tr>\n",
       "      <th>0</th>\n",
       "      <td>197.683</td>\n",
       "      <td>180.415819</td>\n",
       "      <td>214.950181</td>\n",
       "      <td>True</td>\n",
       "    </tr>\n",
       "    <tr>\n",
       "      <th>1</th>\n",
       "      <td>197.315</td>\n",
       "      <td>179.868221</td>\n",
       "      <td>214.761779</td>\n",
       "      <td>True</td>\n",
       "    </tr>\n",
       "    <tr>\n",
       "      <th>2</th>\n",
       "      <td>197.520</td>\n",
       "      <td>185.703881</td>\n",
       "      <td>209.336119</td>\n",
       "      <td>True</td>\n",
       "    </tr>\n",
       "    <tr>\n",
       "      <th>3</th>\n",
       "      <td>191.867</td>\n",
       "      <td>181.060166</td>\n",
       "      <td>202.673834</td>\n",
       "      <td>True</td>\n",
       "    </tr>\n",
       "    <tr>\n",
       "      <th>4</th>\n",
       "      <td>192.105</td>\n",
       "      <td>184.181904</td>\n",
       "      <td>200.028096</td>\n",
       "      <td>True</td>\n",
       "    </tr>\n",
       "  </tbody>\n",
       "</table>\n",
       "</div>"
      ],
      "text/plain": [
       "   media_amostra  limite_inferior_intervalo  limite_superior_intervalo  \\\n",
       "0        197.683                 180.415819                 214.950181   \n",
       "1        197.315                 179.868221                 214.761779   \n",
       "2        197.520                 185.703881                 209.336119   \n",
       "3        191.867                 181.060166                 202.673834   \n",
       "4        192.105                 184.181904                 200.028096   \n",
       "\n",
       "   contem_media  \n",
       "0          True  \n",
       "1          True  \n",
       "2          True  \n",
       "3          True  \n",
       "4          True  "
      ]
     },
     "execution_count": 48,
     "metadata": {},
     "output_type": "execute_result"
    }
   ],
   "source": [
    "n_amostras = 1000\n",
    "conf = 0.95\n",
    "\n",
    "experimento_amostras = gera_intervalos(df, n_amostras, conf, preco_medio)\n",
    "experimento_amostras.head()"
   ]
  },
  {
   "cell_type": "markdown",
   "id": "f1aa2845",
   "metadata": {},
   "source": [
    "Vamos ver a proporção de intervalos que contém a média real:"
   ]
  },
  {
   "cell_type": "code",
   "execution_count": 49,
   "id": "0d4832f4",
   "metadata": {},
   "outputs": [
    {
     "data": {
      "text/plain": [
       "contem_media\n",
       "True     917\n",
       "False     83\n",
       "Name: count, dtype: int64"
      ]
     },
     "execution_count": 49,
     "metadata": {},
     "output_type": "execute_result"
    }
   ],
   "source": [
    "experimento_amostras[\"contem_media\"].value_counts()"
   ]
  },
  {
   "cell_type": "markdown",
   "id": "065eef5a",
   "metadata": {},
   "source": [
    "Ou em números relativos"
   ]
  },
  {
   "cell_type": "code",
   "execution_count": 50,
   "id": "68ea3999",
   "metadata": {},
   "outputs": [
    {
     "data": {
      "text/plain": [
       "contem_media\n",
       "True     0.917\n",
       "False    0.083\n",
       "Name: proportion, dtype: float64"
      ]
     },
     "execution_count": 50,
     "metadata": {},
     "output_type": "execute_result"
    }
   ],
   "source": [
    "experimento_amostras[\"contem_media\"].value_counts(normalize=True)"
   ]
  },
  {
   "cell_type": "markdown",
   "id": "d310302b",
   "metadata": {},
   "source": [
    "Podemos ver que no geral temos uma proporção próxima de 95% dos intervalos gerados contendo a média real!\n",
    "\n",
    "Como discutimos, o nível de confiança se refere ao processo de calcular o intervalo de confiança, e não a um intervalo específico.\n",
    "\n",
    "\n",
    "# Valor p\n",
    "\n",
    "Agora, queremos usar a mesma estratégia (chamamos de simulação) para entender o valor p (ou p-valor, ou ainda p-value no inglês). O p-valor é uma estatística quase sempre reportada quando realizamos um teste de hipótese utilizando métodos estatísticos, incluindo o teste t.\n",
    "\n",
    "Recapitulando, seu significado é a probabilidade de observarmos um resultado tão extremo quanto o observado, dado que a hipótese nula é verdadeira.\n",
    "\n",
    "Vamos reformular a perspectiva de abordagem para o mesmo problema do preço dos alugueis. \n",
    "\n",
    "Com base informações anteriores, esperamos que o preço médio de alugueis em Nova Iorque seja de 197.77 dólares por dia, que é exatamente o valor que encontramos na média da população.\n",
    "\n",
    "Queremos, com base em uma amostrar específica, testar a hipótese de que o preço médio dos alugueis é diferente de 197.77 dólares.\n",
    "\n",
    "Nesse cenário temos a hipótese nula (H0) de que o preço médio dos alugueis é 197.77 dólares, e a hipótese alternativa (H1) de que o preço médio dos alugueis é diferente de 197.77 dólares.\n",
    "\n",
    "Poderíamos realizar o teste t diretamente da primeira amostra original usando a função `ttest_1samp` do scipy, para quando temos apenas uma amostra e queremos testar se ela possui uma média diferente de um valor específico.\n",
    "\n",
    "Vejamos:"
   ]
  },
  {
   "cell_type": "code",
   "execution_count": 51,
   "id": "083b2a7a",
   "metadata": {},
   "outputs": [
    {
     "data": {
      "text/plain": [
       "TtestResult(statistic=0.4350915333823646, pvalue=0.663589964874566, df=999)"
      ]
     },
     "execution_count": 51,
     "metadata": {},
     "output_type": "execute_result"
    }
   ],
   "source": [
    "from scipy.stats import ttest_1samp\n",
    "\n",
    "# Teste de Hipóteses\n",
    "# H0: a média da amostra é igual à média populacional\n",
    "# H1: a média da amostra é diferente da média populacional\n",
    "ttest_1samp(\n",
    "    df_amostra[\"price\"],\n",
    "    preco_medio,\n",
    ")"
   ]
  },
  {
   "cell_type": "markdown",
   "id": "1f7e23f6",
   "metadata": {},
   "source": [
    "A partir do valor p, qual o resultado desse teste?\n",
    "\n",
    "Provavelmente, o resultado é de que não há diferença significativa entre a média da amostra e a média da população (`preco_medio`). Assim, muito provavelmente o resultado que observaremos é de um valor p maior que 0.05, o que nos leva a não rejeitar a hipótese nula.\n",
    "\n",
    "Isso faz sentido, já que retiramos a amostra da população e calculamos sua média diretamente!\n",
    "\n",
    "Mas vamos tentar entender isso a partir de nossa simulação. O teste de hipótese, por padrão, considera a chance de se observar uma diferença de magnitude igual ou maior que a observada, dado que a hipótese nula é verdadeira.\n",
    "\n",
    "Ou seja, termos a diferença de valor entre a média da amostra e a média da população, seja para mais ou para menos. Podemos aproveitar os dados que geramos para visualizar isso:"
   ]
  },
  {
   "cell_type": "code",
   "execution_count": 52,
   "id": "45cbfedf",
   "metadata": {},
   "outputs": [
    {
     "name": "stdout",
     "output_type": "stream",
     "text": [
      "197.7711855396066\n",
      "Observamos uma diferença de 2.46 entre a média da amostra e a média populacional.\n"
     ]
    }
   ],
   "source": [
    "# vamos ver a média de nossa amostra:\n",
    "print(preco_medio)\n",
    "\n",
    "# diferença entre a média da amostra e a média populacional\n",
    "diferenca = df_amostra[\"price\"].mean() - preco_medio\n",
    "print(\n",
    "    f\"Observamos uma diferença de {diferenca:.2f} entre a média da amostra e a média populacional.\"\n",
    ")"
   ]
  },
  {
   "cell_type": "markdown",
   "id": "05aed2a6",
   "metadata": {},
   "source": [
    "Como podemos visualizar isso? Vamos aproveitar nossa simulação anterior, e gerar um gráfico para nosso problema."
   ]
  },
  {
   "cell_type": "code",
   "execution_count": 53,
   "id": "5261db4f",
   "metadata": {},
   "outputs": [
    {
     "data": {
      "text/plain": [
       "<Axes: xlabel='media_amostra', ylabel='Count'>"
      ]
     },
     "execution_count": 53,
     "metadata": {},
     "output_type": "execute_result"
    },
    {
     "data": {
      "image/png": "[encoded data removed]",
      "text/plain": [
       "<Figure size 640x480 with 1 Axes>"
      ]
     },
     "metadata": {},
     "output_type": "display_data"
    }
   ],
   "source": [
    "sns.histplot(x=\"media_amostra\", data=experimento_amostras, bins=100)"
   ]
  },
  {
   "cell_type": "markdown",
   "id": "19b8b3ed",
   "metadata": {},
   "source": [
    "Estamos interessados em observar o número de casos que estariam a distância observada ou maior, já que sabemos que esses dados foram gerados a partir de um cenário em que a hipótese nula é verdadeira.\n",
    "\n",
    "Vamos adicionar a diferença observada visualmente no gráfico:"
   ]
  },
  {
   "cell_type": "code",
   "execution_count": null,
   "id": "bf716c45",
   "metadata": {},
   "outputs": [
    {
     "data": {
      "text/plain": [
       "<matplotlib.lines.Line2D at 0x30d865690>"
      ]
     },
     "execution_count": 54,
     "metadata": {},
     "output_type": "execute_result"
    },
    {
     "data": {
      "image/png": "[encoded data removed]",
      "text/plain": [
       "<Figure size 800x400 with 1 Axes>"
      ]
     },
     "metadata": {},
     "output_type": "display_data"
    }
   ],
   "source": [
    "fig, ax = plt.subplots(figsize=(8, 4))\n",
    "\n",
    "sns.histplot(\n",
    "    x=\"media_amostra\",\n",
    "    data=experimento_amostras,\n",
    "    bins=100,\n",
    "    ax=ax,\n",
    ")\n",
    "\n",
    "ax.axvline(\n",
    "    x=preco_medio + diferenca,\n",
    "    color=\"red\",\n",
    "    linestyle=\"--\",\n",
    "    alpha=0.7,\n",
    ")\n",
    "\n",
    "ax.axvline(\n",
    "    x=preco_medio - diferenca,\n",
    "    color=\"red\",\n",
    "    linestyle=\"--\",\n",
    "    alpha=0.7,\n",
    ")\n"
   ]
  },
  {
   "cell_type": "markdown",
   "id": "b62e27d6",
   "metadata": {},
   "source": [
    "Ou destacando a área que representa o valor p:"
   ]
  },
  {
   "cell_type": "code",
   "execution_count": 55,
   "id": "d57c5ae2",
   "metadata": {},
   "outputs": [
    {
     "data": {
      "text/plain": [
       "<matplotlib.lines.Line2D at 0x30da4bed0>"
      ]
     },
     "execution_count": 55,
     "metadata": {},
     "output_type": "execute_result"
    },
    {
     "data": {
      "image/png": "[encoded data removed]",
      "text/plain": [
       "<Figure size 800x400 with 1 Axes>"
      ]
     },
     "metadata": {},
     "output_type": "display_data"
    }
   ],
   "source": [
    "fig, ax = plt.subplots(figsize=(8, 4))\n",
    "\n",
    "sns.histplot(\n",
    "    x=\"media_amostra\",\n",
    "    data=experimento_amostras,\n",
    "    bins=100,\n",
    "    ax=ax,\n",
    ")\n",
    "\n",
    "\n",
    "# fundo vermelho menor que a média\n",
    "ax.axvspan(xmin=ax.get_xlim()[0], xmax=preco_medio - diferenca, color=\"red\", alpha=0.15)\n",
    "\n",
    "ax.axvline(\n",
    "    x=preco_medio - diferenca,\n",
    "    color=\"red\",\n",
    "    linestyle=\"--\",\n",
    "    alpha=0.7,\n",
    ")\n",
    "\n",
    "# fundo vermelho apos a média\n",
    "ax.axvspan(xmin=preco_medio + diferenca, xmax=ax.get_xlim()[1], color=\"red\", alpha=0.15)\n",
    "\n",
    "ax.axvline(\n",
    "    x=preco_medio + diferenca,\n",
    "    color=\"red\",\n",
    "    linestyle=\"--\",\n",
    "    alpha=0.7,\n",
    ")"
   ]
  },
  {
   "cell_type": "markdown",
   "id": "6ea80a6c",
   "metadata": {},
   "source": [
    "Caso estivessemos resolvendo o problema por simulação, sem conhecer a distribuição da média, a estatística equivalente ao valor p seria a proporção de intervalos que estão a uma distância maior ou igual a diferença observada. Ou seja, o número de casos que estão para a esquerda da primeira linha vermelha, ou para a direita da segunda linha vermelha, dividido pelo número total de casos.\n",
    "\n",
    "Podemos calcular isso facilmente a partir do dataframe que geramos anteriormente, e verificar o valor p:"
   ]
  },
  {
   "cell_type": "code",
   "execution_count": 56,
   "id": "ee271db0",
   "metadata": {},
   "outputs": [
    {
     "name": "stdout",
     "output_type": "stream",
     "text": [
      "711\n",
      "Valor p simulado: 0.7110\n"
     ]
    }
   ],
   "source": [
    "limite_inferior = preco_medio - diferenca\n",
    "limite_superior = preco_medio + diferenca\n",
    "\n",
    "casos_dif = experimento_amostras.query(\n",
    "    \"media_amostra <= @limite_inferior or media_amostra >= @limite_superior\"\n",
    ")\n",
    "\n",
    "print(casos_dif.shape[0])\n",
    "valor_p_simulado = casos_dif.shape[0] / n_amostras\n",
    "print(f\"Valor p simulado: {valor_p_simulado:.4f}\")\n"
   ]
  },
  {
   "cell_type": "markdown",
   "id": "53fe143d",
   "metadata": {},
   "source": [
    "Assim, podemos ver de forma semelhante qual o significado do valor p! Escolhemos rejeitar a hipótese nula apenas quando houver uma chance considerada baixa de observamos um resultado como aquele, se a hipótese nula for verdadeira.\n",
    "\n",
    "# Observações finais\n",
    "\n",
    "O objetivo do notebook desta aula foi ilustrar o significado do p-valor e do nível de confiança, a partir de um exemplo usando simulação em que podemos sortear o valor de uma distribuição.\n",
    "\n",
    "Como falamos nas aulas anteriores, a estatística nos garante a qualidade da aproximação a medida que o tamanho de nossa amostra aumenta. Além disso, o p-valor e o Nível de Confiança dizem respeito sobre o número de casos para um número infinito de amostragens, o que não é possível realizar mesmo com a simulação.\n",
    "\n",
    "Assim, os valores observados de fato irão variar.\n",
    "\n",
    "## Relação entre valor p e Nível de Confiança\n",
    "\n",
    "Você provavelmente percebeu que parece haver uma relação entre o fato do valor p convencionado ser 0.05 e o nível de confiança de 95%.\n",
    "\n",
    "De fato, esses valores estão diretamente ligados e são de certa forma complementares. Usamos um nível de confiança de 95% (0.95) a partir do fato que o valor p padrão é 0.05, ou seja, 5% de chance de observarmos um resultado tão extremo quanto o observado, dado que a hipótese nula é verdadeira.\n",
    "\n",
    "Poderíamos também observar os valores cobertos por um intervalo de confiança."
   ]
  },
  {
   "cell_type": "code",
   "execution_count": 81,
   "id": "43a798ab",
   "metadata": {},
   "outputs": [
    {
     "data": {
      "image/png": "[encoded data removed]",
      "text/plain": [
       "<Figure size 1113.86x500 with 2 Axes>"
      ]
     },
     "metadata": {},
     "output_type": "display_data"
    }
   ],
   "source": [
    "g = sns.displot(\n",
    "    x=\"media_amostra\",\n",
    "    col=\"contem_media\",\n",
    "    hue=\"contem_media\",\n",
    "    data=experimento_amostras,\n",
    "    bins=50,\n",
    ")\n",
    "\n",
    "g.set_titles(template=\"\")\n",
    "\n",
    "# adiciona média real\n",
    "for ax in g.axes.flat:\n",
    "    ax.axvline(\n",
    "        x=preco_medio,\n",
    "        color=\"forestgreen\",\n",
    "        linestyle=\"--\",\n",
    "        alpha=0.7,\n",
    "    )\n",
    "\n",
    "sns.move_legend(\n",
    "    g,\n",
    "    \"lower center\",\n",
    "    title=\"Intervalo contém média real?\",\n",
    "    bbox_to_anchor=(0.48, 1),\n",
    "    ncol=2,\n",
    "    title_fontsize=12,\n",
    "    fontsize=10,\n",
    ")"
   ]
  },
  {
   "cell_type": "code",
   "execution_count": null,
   "id": "478340f6",
   "metadata": {},
   "outputs": [],
   "source": []
  }
 ],
 "metadata": {
  "kernelspec": {
   "display_name": "eda",
   "language": "python",
   "name": "python3"
  },
  "language_info": {
   "codemirror_mode": {
    "name": "ipython",
    "version": 3
   },
   "file_extension": ".py",
   "mimetype": "text/x-python",
   "name": "python",
   "nbconvert_exporter": "python",
   "pygments_lexer": "ipython3",
   "version": "3.11.3"
  }
 },
 "nbformat": 4,
 "nbformat_minor": 5
}
