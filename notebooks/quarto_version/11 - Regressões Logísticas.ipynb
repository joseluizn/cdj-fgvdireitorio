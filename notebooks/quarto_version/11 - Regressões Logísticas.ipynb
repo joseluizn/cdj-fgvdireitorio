{
 "cells": [
  {
   "cell_type": "raw",
   "metadata": {
    "vscode": {
     "languageId": "raw"
    }
   },
   "source": [
    "---\n",
    "title: Regressão Logística\n",
    "author: 'Guilherme Almeida e José Luiz Nunes'\n",
    "format: \n",
    "    html:\n",
    "        toc: true\n",
    "        toc-depth: 4\n",
    "        toc-location: left\n",
    "        toc-title: Conteúdo\n",
    "        number-sections: true\n",
    "        number-depth: 3\n",
    "        smooth-scroll: true\n",
    "        link-external-icon: true\n",
    "        link-external-newwindow: true\n",
    "        self-contained: true\n",
    "embed-resources: true\n",
    "theme: zephyr\n",
    "abstract: Nesta aula, vamos discutir um outro modelo de estatística inferencia* regressão logística.\n",
    " A regressão logística nos permite averiguar a relação entre um conjunto de variáveis dependentes, e uma variável independente (ou de resposta) binária.\n",
    " Vamos também falar de como interpretar o resultado de uma tabela de regressão logística, e suas diferenças com a regressão linear.\n",
    "---"
   ]
  },
  {
   "cell_type": "markdown",
   "metadata": {},
   "source": [
    "# Material de apoio\n",
    "\n",
    "1. An Introduction to Empirical Legal Research. Epstein & Martin. Parte IV (introdução) Capítulo 9, item 9.3 - Logistic Regression.\n",
    "2. Blog post [A Simple Interpretation of Logistic Regression Coefficients](https://towardsdatascience.com/a-simple-interpretation-of-logistic-regression-coefficients-e3a40a62e8cf)\n",
    "3. Interpretable Machine Learning. MOLNAR, Christoph. [Logistic Regression: https://christophm.github.io/interpretable-ml-book/logistic.html](https://christophm.github.io/interpretable-ml-book/logistic.html)\n",
    "\n",
    "As 2 últimas referências contém um pouco de notação matemática e equações que representam o modelo logístico. Contudo, a ideia principal do texto pode ser compreendida mesmo sem se preocupar em entender essas fórmulas e abstraindo seu significado.\n",
    "\n",
    "O principal conteúdo dessas referências é como podemos expressar e interpretar alguns elementos da regressão logística."
   ]
  },
  {
   "cell_type": "markdown",
   "metadata": {},
   "source": [
    "# Regressões logísticas\n",
    "\n",
    "Nas últimas aulas aprendemos como averiguar e testar a existência de relações lineares entre variáveis. Quando começamos, nossa principal preocupação era de entender a relação entre 2 variáveis de um mesmo conjunto de observações. Utilizando o **teste de Pearson** podemos verificar *se há uma relação linear entre as 2 variáveis no nosso conjunto de dados*. Além disso, utilizando **regressões** podemos não apenas checar se há correlação entre as variáveis, mas também *estimar o quanto as variáveis variam conjuntamento*, isto é, quanto Y tende a variar com uma variação de uma unidade em X. Utilizando essa ferramenta somos capazes de quantificar na unidade medida a relação entre as variáveis, ou mesmo prever o valor da variável dependente a partir de outras variáveis independentes, que acreditamos estar correlacionadas.\n",
    "\n",
    "Uma característica importante das regressões lineares é que elas são usadas para lidar com variáveis dependentes com valores **contínuos**, por exemplo, valor de uma condenação ou tempo decorrido até uma decisão. No exemplo das aulas anteriores, estávamos trabalhando com a média dos julgamentos de diversas pessoas sobre violação a regras em uma escala de 7 pontos, uma variável que podia assumir qualquer valor entre 1 e 7 para cada um dos casos.\n",
    "\n",
    "Contudo, muitas vezes estamos interessados em variáveis com características diferentes. Inclusive no direito. Podemos desejar verificar se um caso será concedido ou não, se um juiz de colegiado irá votar a favor ou contra nosso pedido, se haverá um pedido de vista no caso, classificar o tema de um documento.\n",
    "\n",
    "Nesses casos, ao invés de tratarmos com variáveis contínuas, estamos trabalhando com **variáveis discretas** ou **categóricas**. Queremos saber, por exemplo, se um determinado processo vai ser julgado como procedente ou improcedente, ou qual vai ser o resultado exato dentre um conjunto finito de categorias. Esse tipo diferente de dado exige um tipo diferente de modelo estatística. Em especial, quando tratamos de variáveis dependentes **binárias**, podemos categorizar a variável que estamos interessado como 1 ou 0, podemos usar regressões logísticas.\n",
    "\n",
    "Neste notebook, vamos usar regressões logísticas para reproduzir algumas análises do artigo de [Posner e De Figueiredo que avalia a existência de vieses na Corte Internacional de Justiça.](https://chicagounbound.uchicago.edu/law_and_economics/290/). Para isso, vamos tentar entender se alguma das variáveis estão associadas a maior chance de cada Juiz votar a favor do país que fez a petição na Corte.\n",
    "\n",
    "O [dicionário de dados com a explicação do significado de cada variável dos dados está disponível como suplemento ao livro An Introduction to Empirical Legal Research](http://empiricallegalresearch.org/assets/Codebook_icj.pdf), que indicamos como material ao longo do curso. Foram feitas algumas adaptações no dataset para manter o significado de algumas colunas mais próximo de como estamos acostumados a lidar quando pensamos sobre o problema, do que a forma representada no dataset original que usa númeração para todas as categorias.\n",
    "\n",
    "No fim do material e na próxima aula, veremos como esse mesmo problema pode ser generalizado como uma tarefa de classificação ao qual podemos aplicar diversos métodos de aprendizado de máquina."
   ]
  },
  {
   "cell_type": "markdown",
   "metadata": {},
   "source": [
    "## Carregando os dados\n",
    "\n",
    "Para falar sobre o padrão de voto dos juízes da ICJ vamos carregar os dados que estão disponibilizados em um link específico"
   ]
  },
  {
   "cell_type": "code",
   "execution_count": 1,
   "metadata": {},
   "outputs": [],
   "source": [
    "import pandas as pd"
   ]
  },
  {
   "cell_type": "code",
   "execution_count": 2,
   "metadata": {
    "scrolled": false
   },
   "outputs": [
    {
     "data": {
      "text/html": [
       "<div>\n",
       "<style scoped>\n",
       "    .dataframe tbody tr th:only-of-type {\n",
       "        vertical-align: middle;\n",
       "    }\n",
       "\n",
       "    .dataframe tbody tr th {\n",
       "        vertical-align: top;\n",
       "    }\n",
       "\n",
       "    .dataframe thead th {\n",
       "        text-align: right;\n",
       "    }\n",
       "</style>\n",
       "<table border=\"1\" class=\"dataframe\">\n",
       "  <thead>\n",
       "    <tr style=\"text-align: right;\">\n",
       "      <th></th>\n",
       "      <th>caseNumber</th>\n",
       "      <th>caseName</th>\n",
       "      <th>respEU</th>\n",
       "      <th>respGDP</th>\n",
       "      <th>respLegalTrad</th>\n",
       "      <th>decision1</th>\n",
       "      <th>judgeEU</th>\n",
       "      <th>judgeGDP</th>\n",
       "      <th>judgeLegalTrad</th>\n",
       "      <th>appEU</th>\n",
       "      <th>appGDP</th>\n",
       "      <th>appLegalTrad</th>\n",
       "      <th>jurisBasis</th>\n",
       "    </tr>\n",
       "  </thead>\n",
       "  <tbody>\n",
       "    <tr>\n",
       "      <th>0</th>\n",
       "      <td>C0.5</td>\n",
       "      <td>Corfu Channel (Preliminary Objection)</td>\n",
       "      <td>0.0</td>\n",
       "      <td>NaN</td>\n",
       "      <td>NaN</td>\n",
       "      <td>0.0</td>\n",
       "      <td>0.0</td>\n",
       "      <td>NaN</td>\n",
       "      <td>NaN</td>\n",
       "      <td>0.0</td>\n",
       "      <td>NaN</td>\n",
       "      <td>1.0</td>\n",
       "      <td>3.0</td>\n",
       "    </tr>\n",
       "    <tr>\n",
       "      <th>1</th>\n",
       "      <td>C1</td>\n",
       "      <td>Corfu Channel</td>\n",
       "      <td>0.0</td>\n",
       "      <td>NaN</td>\n",
       "      <td>NaN</td>\n",
       "      <td>0.0</td>\n",
       "      <td>0.0</td>\n",
       "      <td>NaN</td>\n",
       "      <td>NaN</td>\n",
       "      <td>0.0</td>\n",
       "      <td>NaN</td>\n",
       "      <td>1.0</td>\n",
       "      <td>3.0</td>\n",
       "    </tr>\n",
       "    <tr>\n",
       "      <th>2</th>\n",
       "      <td>C1.5</td>\n",
       "      <td>Corfu Channel (Assessment of Compensation)</td>\n",
       "      <td>0.0</td>\n",
       "      <td>NaN</td>\n",
       "      <td>NaN</td>\n",
       "      <td>0.0</td>\n",
       "      <td>0.0</td>\n",
       "      <td>NaN</td>\n",
       "      <td>NaN</td>\n",
       "      <td>0.0</td>\n",
       "      <td>NaN</td>\n",
       "      <td>1.0</td>\n",
       "      <td>3.0</td>\n",
       "    </tr>\n",
       "    <tr>\n",
       "      <th>3</th>\n",
       "      <td>C56</td>\n",
       "      <td>Certain Phosphate Lands in Nauru</td>\n",
       "      <td>0.0</td>\n",
       "      <td>19573.818359</td>\n",
       "      <td>1.0</td>\n",
       "      <td>1.0</td>\n",
       "      <td>0.0</td>\n",
       "      <td>4209.721191</td>\n",
       "      <td>NaN</td>\n",
       "      <td>0.0</td>\n",
       "      <td>NaN</td>\n",
       "      <td>NaN</td>\n",
       "      <td>3.0</td>\n",
       "    </tr>\n",
       "    <tr>\n",
       "      <th>4</th>\n",
       "      <td>C59</td>\n",
       "      <td>East Timor</td>\n",
       "      <td>0.0</td>\n",
       "      <td>21771.312500</td>\n",
       "      <td>1.0</td>\n",
       "      <td>0.0</td>\n",
       "      <td>0.0</td>\n",
       "      <td>4245.033691</td>\n",
       "      <td>NaN</td>\n",
       "      <td>1.0</td>\n",
       "      <td>12906.996094</td>\n",
       "      <td>2.0</td>\n",
       "      <td>3.0</td>\n",
       "    </tr>\n",
       "  </tbody>\n",
       "</table>\n",
       "</div>"
      ],
      "text/plain": [
       "  caseNumber                                    caseName  respEU  \\\n",
       "0       C0.5       Corfu Channel (Preliminary Objection)     0.0   \n",
       "1         C1                               Corfu Channel     0.0   \n",
       "2       C1.5  Corfu Channel (Assessment of Compensation)     0.0   \n",
       "3        C56            Certain Phosphate Lands in Nauru     0.0   \n",
       "4        C59                                  East Timor     0.0   \n",
       "\n",
       "        respGDP  respLegalTrad  decision1  judgeEU     judgeGDP  \\\n",
       "0           NaN            NaN        0.0      0.0          NaN   \n",
       "1           NaN            NaN        0.0      0.0          NaN   \n",
       "2           NaN            NaN        0.0      0.0          NaN   \n",
       "3  19573.818359            1.0        1.0      0.0  4209.721191   \n",
       "4  21771.312500            1.0        0.0      0.0  4245.033691   \n",
       "\n",
       "   judgeLegalTrad  appEU        appGDP  appLegalTrad  jurisBasis  \n",
       "0             NaN    0.0           NaN           1.0         3.0  \n",
       "1             NaN    0.0           NaN           1.0         3.0  \n",
       "2             NaN    0.0           NaN           1.0         3.0  \n",
       "3             NaN    0.0           NaN           NaN         3.0  \n",
       "4             NaN    1.0  12906.996094           2.0         3.0  "
      ]
     },
     "execution_count": 2,
     "metadata": {},
     "output_type": "execute_result"
    }
   ],
   "source": [
    "icj = pd.read_csv(\"https://bit.ly/dataset-ICJ\")\n",
    "\n",
    "icj.head()"
   ]
  },
  {
   "cell_type": "markdown",
   "metadata": {},
   "source": [
    "Algumas informações básicas sobre as variáveis e o que desejamos fazer:\n",
    "\n",
    "1. **caseNumber** identifica as decisões *individualmente*. Perceba pelas primeiras informações de caseName que nossa unidade é voto em decisão, podendo um mesmo processo conter múltiplas observações de decisão, e a mesma decisão conter múltiplos votos de juízes diferentes.\n",
    "2. As medidas de PIB são em dólares americanos per capita.\n",
    "\n",
    "Nossa tarefa: Estamos interessados em analisar *se os juízes com certas características tendem a votar mais em favor do aplicante (país que apresentou a petição) nos casos levados a corte*, essa informação está representada na coluna `decision1`."
   ]
  },
  {
   "cell_type": "markdown",
   "metadata": {},
   "source": [
    "Como discutimos, regressões logísticas têm uma variável binária como variável dependente. Qual é a variável dependente da análise proposta? Ela é binária?\n",
    "\n",
    "Lembrando, para checar podemos usar o método `value_counts()`"
   ]
  },
  {
   "cell_type": "code",
   "execution_count": 3,
   "metadata": {},
   "outputs": [
    {
     "data": {
      "text/plain": [
       "decision1\n",
       "1.0    754\n",
       "0.0    748\n",
       "Name: count, dtype: int64"
      ]
     },
     "execution_count": 3,
     "metadata": {},
     "output_type": "execute_result"
    }
   ],
   "source": [
    "icj[\"decision1\"].value_counts()"
   ]
  },
  {
   "cell_type": "markdown",
   "metadata": {},
   "source": [
    "Vamos substituir alguns dos valores de representação numérica para dar nome as categorias expressadas."
   ]
  },
  {
   "cell_type": "code",
   "execution_count": 4,
   "metadata": {},
   "outputs": [
    {
     "data": {
      "text/html": [
       "<div>\n",
       "<style scoped>\n",
       "    .dataframe tbody tr th:only-of-type {\n",
       "        vertical-align: middle;\n",
       "    }\n",
       "\n",
       "    .dataframe tbody tr th {\n",
       "        vertical-align: top;\n",
       "    }\n",
       "\n",
       "    .dataframe thead th {\n",
       "        text-align: right;\n",
       "    }\n",
       "</style>\n",
       "<table border=\"1\" class=\"dataframe\">\n",
       "  <thead>\n",
       "    <tr style=\"text-align: right;\">\n",
       "      <th></th>\n",
       "      <th>caseNumber</th>\n",
       "      <th>caseName</th>\n",
       "      <th>respEU</th>\n",
       "      <th>respGDP</th>\n",
       "      <th>respLegalTrad</th>\n",
       "      <th>decision1</th>\n",
       "      <th>judgeEU</th>\n",
       "      <th>judgeGDP</th>\n",
       "      <th>judgeLegalTrad</th>\n",
       "      <th>appEU</th>\n",
       "      <th>appGDP</th>\n",
       "      <th>appLegalTrad</th>\n",
       "      <th>jurisBasis</th>\n",
       "    </tr>\n",
       "  </thead>\n",
       "  <tbody>\n",
       "    <tr>\n",
       "      <th>0</th>\n",
       "      <td>C0.5</td>\n",
       "      <td>Corfu Channel (Preliminary Objection)</td>\n",
       "      <td>0.0</td>\n",
       "      <td>NaN</td>\n",
       "      <td>NaN</td>\n",
       "      <td>0.0</td>\n",
       "      <td>0.0</td>\n",
       "      <td>NaN</td>\n",
       "      <td>NaN</td>\n",
       "      <td>0.0</td>\n",
       "      <td>NaN</td>\n",
       "      <td>english</td>\n",
       "      <td>special clause</td>\n",
       "    </tr>\n",
       "    <tr>\n",
       "      <th>1</th>\n",
       "      <td>C1</td>\n",
       "      <td>Corfu Channel</td>\n",
       "      <td>0.0</td>\n",
       "      <td>NaN</td>\n",
       "      <td>NaN</td>\n",
       "      <td>0.0</td>\n",
       "      <td>0.0</td>\n",
       "      <td>NaN</td>\n",
       "      <td>NaN</td>\n",
       "      <td>0.0</td>\n",
       "      <td>NaN</td>\n",
       "      <td>english</td>\n",
       "      <td>special clause</td>\n",
       "    </tr>\n",
       "    <tr>\n",
       "      <th>2</th>\n",
       "      <td>C1.5</td>\n",
       "      <td>Corfu Channel (Assessment of Compensation)</td>\n",
       "      <td>0.0</td>\n",
       "      <td>NaN</td>\n",
       "      <td>NaN</td>\n",
       "      <td>0.0</td>\n",
       "      <td>0.0</td>\n",
       "      <td>NaN</td>\n",
       "      <td>NaN</td>\n",
       "      <td>0.0</td>\n",
       "      <td>NaN</td>\n",
       "      <td>english</td>\n",
       "      <td>special clause</td>\n",
       "    </tr>\n",
       "  </tbody>\n",
       "</table>\n",
       "</div>"
      ],
      "text/plain": [
       "  caseNumber                                    caseName  respEU  respGDP  \\\n",
       "0       C0.5       Corfu Channel (Preliminary Objection)     0.0      NaN   \n",
       "1         C1                               Corfu Channel     0.0      NaN   \n",
       "2       C1.5  Corfu Channel (Assessment of Compensation)     0.0      NaN   \n",
       "\n",
       "  respLegalTrad  decision1  judgeEU  judgeGDP judgeLegalTrad  appEU  appGDP  \\\n",
       "0           NaN        0.0      0.0       NaN            NaN    0.0     NaN   \n",
       "1           NaN        0.0      0.0       NaN            NaN    0.0     NaN   \n",
       "2           NaN        0.0      0.0       NaN            NaN    0.0     NaN   \n",
       "\n",
       "  appLegalTrad      jurisBasis  \n",
       "0      english  special clause  \n",
       "1      english  special clause  \n",
       "2      english  special clause  "
      ]
     },
     "execution_count": 4,
     "metadata": {},
     "output_type": "execute_result"
    }
   ],
   "source": [
    "icj.replace(\n",
    "    to_replace={\n",
    "        \"appLegalTrad\": {\n",
    "            1: \"english\",\n",
    "            2: \"french\",\n",
    "            3: \"german\",\n",
    "            4: \"scandinavian\",\n",
    "            5: \"socialist\",\n",
    "        },\n",
    "        \"respLegalTrad\": {\n",
    "            1: \"english\",\n",
    "            2: \"french\",\n",
    "            3: \"german\",\n",
    "            4: \"scandinavian\",\n",
    "            5: \"socialist\",\n",
    "        },\n",
    "        \"judgeLegalTrad\": {\n",
    "            1: \"english\",\n",
    "            2: \"french\",\n",
    "            3: \"german\",\n",
    "            4: \"scandinavian\",\n",
    "            5: \"socialist\",\n",
    "        },\n",
    "        \"jurisBasis\": {\n",
    "            1: \"treaty\",\n",
    "            2: \"special agreement\",\n",
    "            3: \"special clause\",\n",
    "        },\n",
    "    },\n",
    "    inplace=True,\n",
    ")\n",
    "\n",
    "icj.head(3)"
   ]
  },
  {
   "cell_type": "markdown",
   "metadata": {},
   "source": [
    "A sintaxe das regressões logísticas é a mesma com a sintaxe que usamos para expressas as regressões lineares. Vamos escrever uma `string` começando com o nome de nossa variável dependente (Y), aproximada (`\"~\"`) pela combinação das variáveis independentes (X). Devemos, entretanto, mudar a função usada de `ols` para `logit`.\n",
    "\n",
    "Vamos importar a função abaixo e criar um primeiro modelo que prevê a decisão do juiz apenas do PIB do seu país de origem:"
   ]
  },
  {
   "cell_type": "code",
   "execution_count": 5,
   "metadata": {},
   "outputs": [
    {
     "name": "stdout",
     "output_type": "stream",
     "text": [
      "Optimization terminated successfully.\n",
      "         Current function value: 0.687987\n",
      "         Iterations 4\n"
     ]
    },
    {
     "data": {
      "text/html": [
       "<table class=\"simpletable\">\n",
       "<caption>Logit Regression Results</caption>\n",
       "<tr>\n",
       "  <th>Dep. Variable:</th>       <td>decision1</td>    <th>  No. Observations:  </th>  <td>  1146</td>  \n",
       "</tr>\n",
       "<tr>\n",
       "  <th>Model:</th>                 <td>Logit</td>      <th>  Df Residuals:      </th>  <td>  1144</td>  \n",
       "</tr>\n",
       "<tr>\n",
       "  <th>Method:</th>                 <td>MLE</td>       <th>  Df Model:          </th>  <td>     1</td>  \n",
       "</tr>\n",
       "<tr>\n",
       "  <th>Date:</th>            <td>Mon, 06 Jan 2025</td> <th>  Pseudo R-squ.:     </th> <td>0.007181</td> \n",
       "</tr>\n",
       "<tr>\n",
       "  <th>Time:</th>                <td>17:08:18</td>     <th>  Log-Likelihood:    </th> <td> -788.43</td> \n",
       "</tr>\n",
       "<tr>\n",
       "  <th>converged:</th>             <td>True</td>       <th>  LL-Null:           </th> <td> -794.14</td> \n",
       "</tr>\n",
       "<tr>\n",
       "  <th>Covariance Type:</th>     <td>nonrobust</td>    <th>  LLR p-value:       </th> <td>0.0007322</td>\n",
       "</tr>\n",
       "</table>\n",
       "<table class=\"simpletable\">\n",
       "<tr>\n",
       "      <td></td>         <th>coef</th>     <th>std err</th>      <th>z</th>      <th>P>|z|</th>  <th>[0.025</th>    <th>0.975]</th>  \n",
       "</tr>\n",
       "<tr>\n",
       "  <th>Intercept</th> <td>    0.1330</td> <td>    0.078</td> <td>    1.705</td> <td> 0.088</td> <td>   -0.020</td> <td>    0.286</td>\n",
       "</tr>\n",
       "<tr>\n",
       "  <th>judgeGDP</th>  <td>-2.292e-05</td> <td> 6.85e-06</td> <td>   -3.346</td> <td> 0.001</td> <td>-3.63e-05</td> <td>-9.49e-06</td>\n",
       "</tr>\n",
       "</table>"
      ],
      "text/latex": [
       "\\begin{center}\n",
       "\\begin{tabular}{lclc}\n",
       "\\toprule\n",
       "\\textbf{Dep. Variable:}   &    decision1     & \\textbf{  No. Observations:  } &     1146    \\\\\n",
       "\\textbf{Model:}           &      Logit       & \\textbf{  Df Residuals:      } &     1144    \\\\\n",
       "\\textbf{Method:}          &       MLE        & \\textbf{  Df Model:          } &        1    \\\\\n",
       "\\textbf{Date:}            & Mon, 06 Jan 2025 & \\textbf{  Pseudo R-squ.:     } &  0.007181   \\\\\n",
       "\\textbf{Time:}            &     17:08:18     & \\textbf{  Log-Likelihood:    } &   -788.43   \\\\\n",
       "\\textbf{converged:}       &       True       & \\textbf{  LL-Null:           } &   -794.14   \\\\\n",
       "\\textbf{Covariance Type:} &    nonrobust     & \\textbf{  LLR p-value:       } & 0.0007322   \\\\\n",
       "\\bottomrule\n",
       "\\end{tabular}\n",
       "\\begin{tabular}{lcccccc}\n",
       "                   & \\textbf{coef} & \\textbf{std err} & \\textbf{z} & \\textbf{P$> |$z$|$} & \\textbf{[0.025} & \\textbf{0.975]}  \\\\\n",
       "\\midrule\n",
       "\\textbf{Intercept} &       0.1330  &        0.078     &     1.705  &         0.088        &       -0.020    &        0.286     \\\\\n",
       "\\textbf{judgeGDP}  &   -2.292e-05  &     6.85e-06     &    -3.346  &         0.001        &    -3.63e-05    &    -9.49e-06     \\\\\n",
       "\\bottomrule\n",
       "\\end{tabular}\n",
       "%\\caption{Logit Regression Results}\n",
       "\\end{center}"
      ],
      "text/plain": [
       "<class 'statsmodels.iolib.summary.Summary'>\n",
       "\"\"\"\n",
       "                           Logit Regression Results                           \n",
       "==============================================================================\n",
       "Dep. Variable:              decision1   No. Observations:                 1146\n",
       "Model:                          Logit   Df Residuals:                     1144\n",
       "Method:                           MLE   Df Model:                            1\n",
       "Date:                Mon, 06 Jan 2025   Pseudo R-squ.:                0.007181\n",
       "Time:                        17:08:18   Log-Likelihood:                -788.43\n",
       "converged:                       True   LL-Null:                       -794.14\n",
       "Covariance Type:            nonrobust   LLR p-value:                 0.0007322\n",
       "==============================================================================\n",
       "                 coef    std err          z      P>|z|      [0.025      0.975]\n",
       "------------------------------------------------------------------------------\n",
       "Intercept      0.1330      0.078      1.705      0.088      -0.020       0.286\n",
       "judgeGDP   -2.292e-05   6.85e-06     -3.346      0.001   -3.63e-05   -9.49e-06\n",
       "==============================================================================\n",
       "\"\"\""
      ]
     },
     "execution_count": 5,
     "metadata": {},
     "output_type": "execute_result"
    }
   ],
   "source": [
    "from statsmodels.formula.api import logit\n",
    "model = logit(\"decision1 ~ judgeGDP\", data=icj).fit()\n",
    "\n",
    "model.summary()"
   ]
  },
  {
   "cell_type": "markdown",
   "metadata": {},
   "source": [
    "A apresentação do resultado é um pouco diferente ao que vimos com as regressões lineares. Mas temos os principais itens que interpretamos repetidos, mas com ligeiramente diferentes. O valor-p é ainda um indicador de significância estatística, e tem a mesma interpretação que já estabelecemos desde a introdução de testes estatísticos. Ja o coeficiente indica a direção e intensidade da relação entre as variáveis, e o Pseudo-R mede quão bem o modelo se ajusta aos dados, mas a interpretação do valor observado é diferente. Vamos tratar disso mais adiante.\n",
    "\n",
    "Quanto ao resultado material do modelo criado, como esperado, ele não é muito útil para descrever o comportamento dos juízes. Apesar de haver uma relação significativa entre o PIB do país de origem dos juízes e a decisão deles, o Pseudo-R² é extremamente baixo, indicando que o modelo não se ajusta bem aos dados.\n",
    "\n",
    "Também podemos gerar o output como texto, e printá-lo para leitura."
   ]
  },
  {
   "cell_type": "code",
   "execution_count": 6,
   "metadata": {},
   "outputs": [
    {
     "name": "stdout",
     "output_type": "stream",
     "text": [
      "                           Logit Regression Results                           \n",
      "==============================================================================\n",
      "Dep. Variable:              decision1   No. Observations:                 1146\n",
      "Model:                          Logit   Df Residuals:                     1144\n",
      "Method:                           MLE   Df Model:                            1\n",
      "Date:                Mon, 06 Jan 2025   Pseudo R-squ.:                0.007181\n",
      "Time:                        17:08:18   Log-Likelihood:                -788.43\n",
      "converged:                       True   LL-Null:                       -794.14\n",
      "Covariance Type:            nonrobust   LLR p-value:                 0.0007322\n",
      "==============================================================================\n",
      "                 coef    std err          z      P>|z|      [0.025      0.975]\n",
      "------------------------------------------------------------------------------\n",
      "Intercept      0.1330      0.078      1.705      0.088      -0.020       0.286\n",
      "judgeGDP   -2.292e-05   6.85e-06     -3.346      0.001   -3.63e-05   -9.49e-06\n",
      "==============================================================================\n"
     ]
    }
   ],
   "source": [
    "print(model.summary().as_text())"
   ]
  },
  {
   "cell_type": "markdown",
   "metadata": {},
   "source": [
    "Antes de adentrar na interpretação do modelo, vamos primeiro criar um modelo melhor usando mais das variáveis que temos disponíveis.\n",
    "\n",
    "## Regressões logísticas múltiplas\n",
    "\n",
    "Assim como no caso das regressões lineares, também podemos usar várias variáveis independentes para investigar nossa variável dependente.\n",
    "\n",
    "Vamos olhar para alguns candidatos potenciais:\n",
    "\n",
    "A tradição jurídica do país de origem do juiz."
   ]
  },
  {
   "cell_type": "code",
   "execution_count": 7,
   "metadata": {},
   "outputs": [
    {
     "data": {
      "text/plain": [
       "judgeLegalTrad\n",
       "french          523\n",
       "english         349\n",
       "socialist       267\n",
       "german          114\n",
       "scandinavian     45\n",
       "Name: count, dtype: int64"
      ]
     },
     "execution_count": 7,
     "metadata": {},
     "output_type": "execute_result"
    }
   ],
   "source": [
    "icj.judgeLegalTrad.value_counts()"
   ]
  },
  {
   "cell_type": "markdown",
   "metadata": {},
   "source": [
    "A tradição jurídica do país de origem do respondente."
   ]
  },
  {
   "cell_type": "code",
   "execution_count": 8,
   "metadata": {},
   "outputs": [
    {
     "data": {
      "text/plain": [
       "respLegalTrad\n",
       "english         694\n",
       "french          427\n",
       "scandinavian    163\n",
       "socialist        16\n",
       "german           15\n",
       "Name: count, dtype: int64"
      ]
     },
     "execution_count": 8,
     "metadata": {},
     "output_type": "execute_result"
    }
   ],
   "source": [
    "icj.respLegalTrad.value_counts()"
   ]
  },
  {
   "cell_type": "markdown",
   "metadata": {},
   "source": [
    "Se o país respondente é membro da União Europeia."
   ]
  },
  {
   "cell_type": "code",
   "execution_count": 9,
   "metadata": {},
   "outputs": [
    {
     "data": {
      "text/plain": [
       "respEU\n",
       "0.0    1245\n",
       "1.0     310\n",
       "Name: count, dtype: int64"
      ]
     },
     "execution_count": 9,
     "metadata": {},
     "output_type": "execute_result"
    }
   ],
   "source": [
    "icj.respEU.value_counts()"
   ]
  },
  {
   "cell_type": "markdown",
   "metadata": {},
   "source": [
    "Vamos especificar um modelo que considere não apenas a renda do país de origem do Juiz, mas também o tipo de norma que fornece competência de jurisdição para a Corte, assim como se o respondente é membro da União Européia."
   ]
  },
  {
   "cell_type": "code",
   "execution_count": 10,
   "metadata": {},
   "outputs": [
    {
     "name": "stdout",
     "output_type": "stream",
     "text": [
      "Optimization terminated successfully.\n",
      "         Current function value: 0.675323\n",
      "         Iterations 5\n",
      "                           Logit Regression Results                           \n",
      "==============================================================================\n",
      "Dep. Variable:              decision1   No. Observations:                 1146\n",
      "Model:                          Logit   Df Residuals:                     1141\n",
      "Method:                           MLE   Df Model:                            4\n",
      "Date:                Mon, 06 Jan 2025   Pseudo R-squ.:                 0.02546\n",
      "Time:                        17:08:21   Log-Likelihood:                -773.92\n",
      "converged:                       True   LL-Null:                       -794.14\n",
      "Covariance Type:            nonrobust   LLR p-value:                 3.527e-08\n",
      "================================================================================================\n",
      "                                   coef    std err          z      P>|z|      [0.025      0.975]\n",
      "------------------------------------------------------------------------------------------------\n",
      "Intercept                       -0.5894      0.213     -2.761      0.006      -1.008      -0.171\n",
      "jurisBasis[T.special clause]     0.9005      0.222      4.048      0.000       0.465       1.336\n",
      "jurisBasis[T.treaty]             0.8818      0.247      3.567      0.000       0.397       1.366\n",
      "judgeGDP                     -1.974e-05   7.21e-06     -2.740      0.006   -3.39e-05   -5.62e-06\n",
      "respEU                          -0.5454      0.155     -3.509      0.000      -0.850      -0.241\n",
      "================================================================================================\n"
     ]
    }
   ],
   "source": [
    "model = logit(\"decision1 ~ judgeGDP + respEU + jurisBasis\", data=icj).fit()\n",
    "\n",
    "print(model.summary().as_text())"
   ]
  },
  {
   "cell_type": "markdown",
   "metadata": {},
   "source": [
    "## Pausa para reflexão: o que queremos medir/analisar?\n",
    "\n",
    "Poderíamos desenvolver ainda mais esse modelo, adicionando mais variáveis. Mas antes, vamos pausar e pensar sobre o que queremos avaliar com nossa regressão, como podemos interpretá-la e relacionar com o problema concreto.\n",
    "\n",
    "Em primeiro lugar, a hipótese de Posner e De Figueiredo sobre o comportamento dos juízes avaliada nos artigos originais diz a respeito da **diferença** entre a renda do país de origem do peticionante e do juíz. Nós temos essas informações no momento?\n",
    "\n",
    "Mas com as informações a nossa disposição, poderíamos gerá-la? Como?\n",
    "\n",
    "Por outro lado, queremos avaliar, por exemplo, se juízes julgam de forma diferente por serem da União Européia, ou estamos mais preocupados se juízes tendem a julgar a favor de países semelhantes ao de sua origem? Uma forma que podemos pensar sobre o problema é: se tanto o juiz quanto uma das partes são da União Europeia, isso pode afetar seu comportamento?\n",
    "\n",
    "Ambas as perguntas são válidas e distintas, mas devemos usar variáveis diferentes para tentar capturar cada uma delas.\n",
    "\n",
    "Podemos fazer o mesmo questionamento sobre a tradição jurídica das partes e dos juizes.\n",
    "\n",
    "A título de exemplo, vamos criar uma nova coluna que indica se a tradição jurídica do país que levou o caso a corte e do juiz são iguais. Isso pode ser feito de inúmeras maneiras.\n"
   ]
  },
  {
   "cell_type": "code",
   "execution_count": 11,
   "metadata": {},
   "outputs": [
    {
     "data": {
      "text/plain": [
       "trad_equals_pet\n",
       "0    1308\n",
       "1     252\n",
       "Name: count, dtype: int64"
      ]
     },
     "execution_count": 11,
     "metadata": {},
     "output_type": "execute_result"
    }
   ],
   "source": [
    "# opção 1: nativo do pandas\n",
    "# A linha abaixo retornau ma coluna informando se as duas variáveis são iguais\n",
    "# Teste executá-la em outra célula\n",
    "(icj[\"appLegalTrad\"] == icj[\"judgeLegalTrad\"]).astype(int)\n",
    "# lembrando: as operações por padrão são feitas linha a linha no pandas. Após, podemos interpretar o booleano como int.\n",
    "icj['trad_equals_pet'] = (icj[\"appLegalTrad\"] == icj[\"judgeLegalTrad\"]).astype(int)\n",
    "\n",
    "icj['trad_equals_pet'].value_counts()\n"
   ]
  },
  {
   "cell_type": "markdown",
   "metadata": {},
   "source": [
    "Poderíamos obter o mesmo resultado usando uma iteração sobre o DataFrame:"
   ]
  },
  {
   "cell_type": "code",
   "execution_count": 12,
   "metadata": {},
   "outputs": [
    {
     "name": "stdout",
     "output_type": "stream",
     "text": [
      "[0, 0, 0, 0, 0]\n"
     ]
    },
    {
     "data": {
      "text/plain": [
       "trad_equals_pet\n",
       "0    1308\n",
       "1     252\n",
       "Name: count, dtype: int64"
      ]
     },
     "execution_count": 12,
     "metadata": {},
     "output_type": "execute_result"
    }
   ],
   "source": [
    "# opção 2: iteração\n",
    "pet_trad_equals_judge = list()\n",
    "\n",
    "for _indice, row in icj.iterrows():\n",
    "    if row[\"appLegalTrad\"] == row[\"judgeLegalTrad\"]:\n",
    "        pet_trad_equals_judge.append(1)\n",
    "    else:\n",
    "        pet_trad_equals_judge.append(0)\n",
    "\n",
    "print(pet_trad_equals_judge[:5])\n",
    "\n",
    "icj['trad_equals_pet'] = pet_trad_equals_judge\n",
    "\n",
    "icj['trad_equals_pet'].value_counts()"
   ]
  },
  {
   "cell_type": "markdown",
   "metadata": {},
   "source": [
    "Vamos calcular também a diferença entre o PIB dos países partes."
   ]
  },
  {
   "cell_type": "code",
   "execution_count": 13,
   "metadata": {},
   "outputs": [
    {
     "name": "stdout",
     "output_type": "stream",
     "text": [
      "<class 'pandas.core.series.Series'>\n",
      "RangeIndex: 1560 entries, 0 to 1559\n",
      "Series name: parties_GDP_dif\n",
      "Non-Null Count  Dtype  \n",
      "--------------  -----  \n",
      "854 non-null    float64\n",
      "dtypes: float64(1)\n",
      "memory usage: 12.3 KB\n"
     ]
    }
   ],
   "source": [
    "icj[\"parties_GDP_dif\"] = (icj[\"respGDP\"] - icj[\"appGDP\"])\n",
    "\n",
    "icj[\"parties_GDP_dif\"].info()"
   ]
  },
  {
   "cell_type": "markdown",
   "metadata": {},
   "source": [
    "Vamos criar um novo modelo usando essas informações"
   ]
  },
  {
   "cell_type": "code",
   "execution_count": 14,
   "metadata": {},
   "outputs": [
    {
     "name": "stdout",
     "output_type": "stream",
     "text": [
      "Optimization terminated successfully.\n",
      "         Current function value: 0.669438\n",
      "         Iterations 5\n",
      "                           Logit Regression Results                           \n",
      "==============================================================================\n",
      "Dep. Variable:              decision1   No. Observations:                  734\n",
      "Model:                          Logit   Df Residuals:                      728\n",
      "Method:                           MLE   Df Model:                            5\n",
      "Date:                Mon, 06 Jan 2025   Pseudo R-squ.:                 0.03408\n",
      "Time:                        17:08:29   Log-Likelihood:                -491.37\n",
      "converged:                       True   LL-Null:                       -508.70\n",
      "Covariance Type:            nonrobust   LLR p-value:                 1.752e-06\n",
      "================================================================================================\n",
      "                                   coef    std err          z      P>|z|      [0.025      0.975]\n",
      "------------------------------------------------------------------------------------------------\n",
      "Intercept                       -0.9552      0.287     -3.323      0.001      -1.519      -0.392\n",
      "jurisBasis[T.special clause]     0.5493      0.288      1.909      0.056      -0.015       1.113\n",
      "jurisBasis[T.treaty]             1.2744      0.305      4.176      0.000       0.676       1.873\n",
      "trad_equals_pet                  0.4250      0.179      2.374      0.018       0.074       0.776\n",
      "parties_GDP_dif               4.118e-05   1.15e-05      3.583      0.000    1.87e-05    6.37e-05\n",
      "judgeGDP                     -1.996e-06   1.06e-05     -0.189      0.850   -2.27e-05    1.88e-05\n",
      "================================================================================================\n"
     ]
    }
   ],
   "source": [
    "model = logit(\"decision1 ~ trad_equals_pet + parties_GDP_dif + judgeGDP + jurisBasis\", data=icj).fit()\n",
    "\n",
    "print(model.summary().as_text())"
   ]
  },
  {
   "cell_type": "markdown",
   "metadata": {},
   "source": [
    "Usando o Pseudo-R², podemos ver que esse modelo é ligeiramente melhor ao que fizemos antes de criar nossas novas variáveis. Por outro lado, essas novas variáveis fornecem informações interessantes sobre fatores do caso que podem influenciar o comportamento dos juízes.\n",
    "\n",
    "Verifique quais das variáveis usadas são estatisticamente significativas.\n",
    "\n",
    "Sob o ponto de vista que avaliaríamos uma regressão linear, esse modelo poderia ainda ser considerado ruim. É importante ressaltar que a interpretação não deve ser a mesma! Vamos ver isso em seguida.\n",
    "\n",
    "\n",
    "# Avaliando regressões logísticas\n",
    "\n",
    "Como mencionamos, podemos usar a mesma lógica que usamos para interpretar os resultados de uma regressão linear para interpretar os resultados de uma regressão logística, mas nenhum dos parâmetros funciona exatamente da mesma forma. Por exemplo, o resultado não possui um *R²*, mas sim *um Pseudo-R²*, que tenta aproximar a mesma lógica que vimos no caso da regressão linear simples.\n",
    "\n",
    "É importante considerarmos também o valor de P de cada uma das variáveis, para saber se o efeito delas é significativo.\n",
    "\n",
    "Essa é uma forma de pensarmos sobre os resultados da regressão logística, alinhada com o que vimos até aqui. Podemos chamar essa visão de *\"estatística\"*. Ela é útil quando queremos olhar para cada uma das variáveis e sua relação com o fenônomeno sob análise.\n",
    "\n",
    "Mas e se quisermos avaliar o resultado do nosso modelo como um todo? Ou se queremos usar nosso modelo para prever casos futuros, como podemos avaliar quão bem ele é capaz de prever casos?\n",
    "\n",
    "Uma maneira mais intuitiva de avaliar o quão boa ou ruim é uma regressão logística é saber *quantas vezes ela acerta a previsão a respeito do resultado*: assim como podemos usar uma regressão linear para saber qual é o valor esperado na variável dependente dado certos valores nas variáveis independentes, podemos fazer o mesmo no caso da regressão logística.  A diferença é que agora a regressão logística irá retornar a *probabilidade esperada de que o valor seja 1*.\n",
    "\n",
    "Essa forma de pensar está normalmente associada a prática de aprendizado de máquinas. \n",
    "\n",
    "Vamos usar o mesmo método `predict` que vimos em regressão linear com as colunas relevantes."
   ]
  },
  {
   "cell_type": "code",
   "execution_count": 15,
   "metadata": {},
   "outputs": [
    {
     "data": {
      "text/html": [
       "<div>\n",
       "<style scoped>\n",
       "    .dataframe tbody tr th:only-of-type {\n",
       "        vertical-align: middle;\n",
       "    }\n",
       "\n",
       "    .dataframe tbody tr th {\n",
       "        vertical-align: top;\n",
       "    }\n",
       "\n",
       "    .dataframe thead th {\n",
       "        text-align: right;\n",
       "    }\n",
       "</style>\n",
       "<table border=\"1\" class=\"dataframe\">\n",
       "  <thead>\n",
       "    <tr style=\"text-align: right;\">\n",
       "      <th></th>\n",
       "      <th>trad_equals_pet</th>\n",
       "      <th>parties_GDP_dif</th>\n",
       "      <th>judgeGDP</th>\n",
       "      <th>jurisBasis</th>\n",
       "    </tr>\n",
       "  </thead>\n",
       "  <tbody>\n",
       "    <tr>\n",
       "      <th>0</th>\n",
       "      <td>0</td>\n",
       "      <td>NaN</td>\n",
       "      <td>NaN</td>\n",
       "      <td>special clause</td>\n",
       "    </tr>\n",
       "    <tr>\n",
       "      <th>1</th>\n",
       "      <td>0</td>\n",
       "      <td>NaN</td>\n",
       "      <td>NaN</td>\n",
       "      <td>special clause</td>\n",
       "    </tr>\n",
       "    <tr>\n",
       "      <th>2</th>\n",
       "      <td>0</td>\n",
       "      <td>NaN</td>\n",
       "      <td>NaN</td>\n",
       "      <td>special clause</td>\n",
       "    </tr>\n",
       "    <tr>\n",
       "      <th>3</th>\n",
       "      <td>0</td>\n",
       "      <td>NaN</td>\n",
       "      <td>4209.721191</td>\n",
       "      <td>special clause</td>\n",
       "    </tr>\n",
       "    <tr>\n",
       "      <th>4</th>\n",
       "      <td>0</td>\n",
       "      <td>8864.316406</td>\n",
       "      <td>4245.033691</td>\n",
       "      <td>special clause</td>\n",
       "    </tr>\n",
       "  </tbody>\n",
       "</table>\n",
       "</div>"
      ],
      "text/plain": [
       "   trad_equals_pet  parties_GDP_dif     judgeGDP      jurisBasis\n",
       "0                0              NaN          NaN  special clause\n",
       "1                0              NaN          NaN  special clause\n",
       "2                0              NaN          NaN  special clause\n",
       "3                0              NaN  4209.721191  special clause\n",
       "4                0      8864.316406  4245.033691  special clause"
      ]
     },
     "execution_count": 15,
     "metadata": {},
     "output_type": "execute_result"
    }
   ],
   "source": [
    "icj[[\"trad_equals_pet\", \"parties_GDP_dif\", \"judgeGDP\", \"jurisBasis\"]].head()"
   ]
  },
  {
   "cell_type": "markdown",
   "metadata": {},
   "source": [
    "Um problema inicial é que temos uma alta quantidade de valores não preenchidos `NaN`. Para lidar com isso vamos separar apenas as linhas em que essa informação está preenchida."
   ]
  },
  {
   "cell_type": "code",
   "execution_count": 29,
   "metadata": {},
   "outputs": [],
   "source": [
    "df_previsao = icj.dropna(\n",
    "    subset=[\"trad_equals_pet\", \"parties_GDP_dif\", \"judgeGDP\", \"jurisBasis\", \"decision1\"]\n",
    ").copy()\n"
   ]
  },
  {
   "cell_type": "code",
   "execution_count": 30,
   "metadata": {},
   "outputs": [
    {
     "data": {
      "text/plain": [
       "4     0.487670\n",
       "11    0.474677\n",
       "dtype: float64"
      ]
     },
     "execution_count": 30,
     "metadata": {},
     "output_type": "execute_result"
    }
   ],
   "source": [
    "probabilidade_de_sucesso = model.predict(df_previsao[[\"trad_equals_pet\", \"parties_GDP_dif\", \"judgeGDP\", \"jurisBasis\"]])\n",
    "\n",
    "probabilidade_de_sucesso.head(2)"
   ]
  },
  {
   "cell_type": "markdown",
   "metadata": {},
   "source": [
    "Vamos agora adicionar o valor previsto ao dataframe"
   ]
  },
  {
   "cell_type": "code",
   "execution_count": 31,
   "metadata": {},
   "outputs": [
    {
     "data": {
      "text/html": [
       "<div>\n",
       "<style scoped>\n",
       "    .dataframe tbody tr th:only-of-type {\n",
       "        vertical-align: middle;\n",
       "    }\n",
       "\n",
       "    .dataframe tbody tr th {\n",
       "        vertical-align: top;\n",
       "    }\n",
       "\n",
       "    .dataframe thead th {\n",
       "        text-align: right;\n",
       "    }\n",
       "</style>\n",
       "<table border=\"1\" class=\"dataframe\">\n",
       "  <thead>\n",
       "    <tr style=\"text-align: right;\">\n",
       "      <th></th>\n",
       "      <th>caseNumber</th>\n",
       "      <th>caseName</th>\n",
       "      <th>respEU</th>\n",
       "      <th>respGDP</th>\n",
       "      <th>respLegalTrad</th>\n",
       "      <th>decision1</th>\n",
       "      <th>judgeEU</th>\n",
       "      <th>judgeGDP</th>\n",
       "      <th>judgeLegalTrad</th>\n",
       "      <th>appEU</th>\n",
       "      <th>appGDP</th>\n",
       "      <th>appLegalTrad</th>\n",
       "      <th>jurisBasis</th>\n",
       "      <th>trad_equals_pet</th>\n",
       "      <th>parties_GDP_dif</th>\n",
       "      <th>probabilidade_de_sucesso</th>\n",
       "    </tr>\n",
       "  </thead>\n",
       "  <tbody>\n",
       "    <tr>\n",
       "      <th>4</th>\n",
       "      <td>C59</td>\n",
       "      <td>East Timor</td>\n",
       "      <td>0.0</td>\n",
       "      <td>21771.312500</td>\n",
       "      <td>english</td>\n",
       "      <td>0.0</td>\n",
       "      <td>0.0</td>\n",
       "      <td>4245.033691</td>\n",
       "      <td>NaN</td>\n",
       "      <td>1.0</td>\n",
       "      <td>12906.996094</td>\n",
       "      <td>french</td>\n",
       "      <td>special clause</td>\n",
       "      <td>0</td>\n",
       "      <td>8864.316406</td>\n",
       "      <td>0.487670</td>\n",
       "    </tr>\n",
       "    <tr>\n",
       "      <th>11</th>\n",
       "      <td>C69</td>\n",
       "      <td>Fisheries Jurisdiction</td>\n",
       "      <td>0.0</td>\n",
       "      <td>24944.189453</td>\n",
       "      <td>english</td>\n",
       "      <td>1.0</td>\n",
       "      <td>0.0</td>\n",
       "      <td>4540.739258</td>\n",
       "      <td>NaN</td>\n",
       "      <td>1.0</td>\n",
       "      <td>17329.433594</td>\n",
       "      <td>french</td>\n",
       "      <td>special clause</td>\n",
       "      <td>0</td>\n",
       "      <td>7614.755859</td>\n",
       "      <td>0.474677</td>\n",
       "    </tr>\n",
       "  </tbody>\n",
       "</table>\n",
       "</div>"
      ],
      "text/plain": [
       "   caseNumber                caseName  respEU       respGDP respLegalTrad  \\\n",
       "4         C59              East Timor     0.0  21771.312500       english   \n",
       "11        C69  Fisheries Jurisdiction     0.0  24944.189453       english   \n",
       "\n",
       "    decision1  judgeEU     judgeGDP judgeLegalTrad  appEU        appGDP  \\\n",
       "4         0.0      0.0  4245.033691            NaN    1.0  12906.996094   \n",
       "11        1.0      0.0  4540.739258            NaN    1.0  17329.433594   \n",
       "\n",
       "   appLegalTrad      jurisBasis  trad_equals_pet  parties_GDP_dif  \\\n",
       "4        french  special clause                0      8864.316406   \n",
       "11       french  special clause                0      7614.755859   \n",
       "\n",
       "    probabilidade_de_sucesso  \n",
       "4                   0.487670  \n",
       "11                  0.474677  "
      ]
     },
     "execution_count": 31,
     "metadata": {},
     "output_type": "execute_result"
    }
   ],
   "source": [
    "df_previsao[\"probabilidade_de_sucesso\"] = probabilidade_de_sucesso\n",
    "\n",
    "df_previsao.head(2)"
   ]
  },
  {
   "cell_type": "markdown",
   "metadata": {},
   "source": [
    "Alternativamente, podemos fazer com que a nossa regressão logística *classifique* cada uma das observações como um 1 ou como um 0. Para isso, podemos implementar a seguinte heurística: se a probabilidade prevista de que a ação seja julgada procedente for menor do que 50%, vamos tratar a previsão como se fosse de derrota (0); por outro lado, se a probabilidade de que a ação seja julgada procedente for maior do que 50%, vamos tratar a previsão como sendo de vitória (1).\n",
    "\n",
    "Vamos usar a função `eval` para criar uma nova coluna usando essa heurística:"
   ]
  },
  {
   "cell_type": "code",
   "execution_count": 32,
   "metadata": {},
   "outputs": [],
   "source": [
    "df_previsao[\"prev\"] = df_previsao.eval(\"probabilidade_de_sucesso > 0.5\")"
   ]
  },
  {
   "cell_type": "markdown",
   "metadata": {},
   "source": [
    "Com as métricas que calculamos, podemos saber qual é o percentual de acerto do nosso modelo ao o voto dos juízes.\n",
    "\n",
    "Chamamos essa medida de *acurácia* do modelo. Ela é a forma mais intuitiva de avaliar o quão bom é um modelo de classificação. Falaremos de outras adiante."
   ]
  },
  {
   "cell_type": "code",
   "execution_count": 35,
   "metadata": {},
   "outputs": [
    {
     "data": {
      "text/plain": [
       "0.5980926430517711"
      ]
     },
     "execution_count": 35,
     "metadata": {},
     "output_type": "execute_result"
    }
   ],
   "source": [
    "df_previsao[\"acerto_bin\"] = df_previsao[\"decision1\"] == df_previsao[\"prev\"]\n",
    "df_previsao[\"acerto_bin\"] = df_previsao[\"acerto_bin\"].astype(\"int\")\n",
    "df_previsao[\"acerto_bin\"].mean()"
   ]
  },
  {
   "cell_type": "markdown",
   "metadata": {},
   "source": [
    "Isso significa que estamos acertando cerca de 56% das previsões sobre voto dos juízes. Isso é bastante impressionante, afinal estamos prevendo os votos de casos altamente complexos. Não?\n",
    "\n",
    "Por outro lado, a métrica de percentual de acerto possui algumas limitações.\n",
    "\n",
    "Vocês conseguem pensar em algumas delas?\n",
    "\n",
    "### Desafio\n",
    "\n",
    "Por que usamos o valor 0.5 em nossa heurística? Poderíamos alterar esse valor? Qual seria a consequência de alterá-lo?\n",
    "\n",
    "Veja o valor médio da coluna com as decisões. Como devemos interpretar o percentual de acerto a partir disso?"
   ]
  },
  {
   "cell_type": "code",
   "execution_count": 40,
   "metadata": {},
   "outputs": [
    {
     "data": {
      "text/plain": [
       "0.49318801089918257"
      ]
     },
     "execution_count": 40,
     "metadata": {},
     "output_type": "execute_result"
    }
   ],
   "source": [
    "df_previsao[\"decision1\"].mean()"
   ]
  },
  {
   "cell_type": "code",
   "execution_count": 37,
   "metadata": {},
   "outputs": [
    {
     "data": {
      "text/plain": [
       "0.5980926430517711"
      ]
     },
     "execution_count": 37,
     "metadata": {},
     "output_type": "execute_result"
    }
   ],
   "source": [
    "df_previsao[\"acerto_bin\"].mean()"
   ]
  },
  {
   "cell_type": "markdown",
   "metadata": {},
   "source": [
    "## Limitações do percentual de sucesso\n",
    "\n",
    "Uma primeira limitação que precisamos enfrentar é a seguinte: um modelo não é muito bom se tudo o que ele consegue fazer é aproximar algum chute tosco.\n",
    "\n",
    "Se simplesmente jogassemos uma moeda para cima quantos casos esperaríamos acertar? Essa pergunta é um pouco mais complexa do que parece de início!\n",
    "\n",
    "Podemos escolher chutar que todos os juízes semrpe vão tomar um mesmo tipo de decisão, por exemplo a favor do réu. Nesse caso, conseguiríamos acertar quase 50% dos casos: 49,3% para ser preciso, conforme a média na célula acima.\n",
    "\n",
    "Mas não é necessário saber muito sobre ciência de dados para desenvolver essa heurística.\n",
    "\n",
    "Vamos ver quantas vezes prevemos cada tipo de voto:"
   ]
  },
  {
   "cell_type": "code",
   "execution_count": 50,
   "metadata": {},
   "outputs": [
    {
     "data": {
      "text/plain": [
       "prev\n",
       "True     373\n",
       "False    361\n",
       "Name: count, dtype: int64"
      ]
     },
     "execution_count": 50,
     "metadata": {},
     "output_type": "execute_result"
    }
   ],
   "source": [
    "df_previsao[\"prev\"].value_counts()"
   ]
  },
  {
   "cell_type": "markdown",
   "metadata": {},
   "source": [
    "Podemos ver que não se assemalha a uma heurística tão tosca quanto essa, afinal ele apresenta um número balanceado de predição das duas classes.\n",
    "\n",
    "Por outro lado, isso parece indicar que provavelmente ele erra uma quantidade razoável de vezes nos 2 casos. Vamos verificar:"
   ]
  },
  {
   "cell_type": "code",
   "execution_count": 41,
   "metadata": {},
   "outputs": [
    {
     "data": {
      "text/plain": [
       "acerto_bin\n",
       "1    220\n",
       "0    142\n",
       "Name: count, dtype: int64"
      ]
     },
     "execution_count": 41,
     "metadata": {},
     "output_type": "execute_result"
    }
   ],
   "source": [
    "df_previsao.query(\"decision1 == 1\")[\"acerto_bin\"].value_counts()"
   ]
  },
  {
   "cell_type": "code",
   "execution_count": 42,
   "metadata": {},
   "outputs": [
    {
     "data": {
      "text/plain": [
       "acerto_bin\n",
       "1    219\n",
       "0    153\n",
       "Name: count, dtype: int64"
      ]
     },
     "execution_count": 42,
     "metadata": {},
     "output_type": "execute_result"
    }
   ],
   "source": [
    "df_previsao.query(\"decision1 == 0\")[\"acerto_bin\"].value_counts()"
   ]
  },
  {
   "cell_type": "markdown",
   "metadata": {},
   "source": [
    "Uma forma de visualizar não só o % de acerto, mas também qual foi o % de acerto em cada uma das categorias e, portanto, conhecer os % de **falsos positivos**, **verdadeiros positivos**, **falsos negativos** e **verdadeiros negativos** de um modelo preditivo é usar uma matriz de confusão:"
   ]
  },
  {
   "cell_type": "code",
   "execution_count": 44,
   "metadata": {},
   "outputs": [
    {
     "name": "stdout",
     "output_type": "stream",
     "text": [
      "[[219 153]\n",
      " [142 220]]\n"
     ]
    }
   ],
   "source": [
    "from sklearn.metrics import confusion_matrix\n",
    "\n",
    "print(confusion_matrix(df_previsao[\"decision1\"], df_previsao[\"prev\"]))"
   ]
  },
  {
   "cell_type": "markdown",
   "metadata": {},
   "source": [
    "Essa matriz não fica muito fácil de ler. O código abaixo deixa as coisas um pouco mais claras:"
   ]
  },
  {
   "cell_type": "code",
   "execution_count": 45,
   "metadata": {},
   "outputs": [
    {
     "data": {
      "text/html": [
       "<div>\n",
       "<style scoped>\n",
       "    .dataframe tbody tr th:only-of-type {\n",
       "        vertical-align: middle;\n",
       "    }\n",
       "\n",
       "    .dataframe tbody tr th {\n",
       "        vertical-align: top;\n",
       "    }\n",
       "\n",
       "    .dataframe thead th {\n",
       "        text-align: right;\n",
       "    }\n",
       "</style>\n",
       "<table border=\"1\" class=\"dataframe\">\n",
       "  <thead>\n",
       "    <tr style=\"text-align: right;\">\n",
       "      <th></th>\n",
       "      <th>0</th>\n",
       "      <th>1</th>\n",
       "    </tr>\n",
       "  </thead>\n",
       "  <tbody>\n",
       "    <tr>\n",
       "      <th>0</th>\n",
       "      <td>219</td>\n",
       "      <td>153</td>\n",
       "    </tr>\n",
       "    <tr>\n",
       "      <th>1</th>\n",
       "      <td>142</td>\n",
       "      <td>220</td>\n",
       "    </tr>\n",
       "  </tbody>\n",
       "</table>\n",
       "</div>"
      ],
      "text/plain": [
       "     0    1\n",
       "0  219  153\n",
       "1  142  220"
      ]
     },
     "execution_count": 45,
     "metadata": {},
     "output_type": "execute_result"
    }
   ],
   "source": [
    "pd.DataFrame(columns = [0, 1], index = [0,1], data=confusion_matrix(df_previsao[\"decision1\"], df_previsao[\"prev\"]))"
   ]
  },
  {
   "cell_type": "markdown",
   "metadata": {},
   "source": [
    "O modelo parece performar de forma semelhante tanto quando os juízes votam a favor do aplicante quanto quando votam contra. Isso é um bom sinal, pois indica que o modelo não está simplesmente chutando um resultado. Contudo, isso nem sempre é o caso.\n",
    "\n",
    "Imagine que se chutarmos para todos os casos de um tribunal que ele não será julgado pelo STF, acertaríamos a imensa maioria dos casos. Mas também erraríamos 100% dos casos que seriam levados até a corte.\n",
    "\n",
    "A partir dos números obtidos, podemos calcular estatísticas importantes. Por exemplo, podemos saber qual é a proporção de verdadeiros positivos e de verdadeiros negativos:"
   ]
  },
  {
   "cell_type": "code",
   "execution_count": 48,
   "metadata": {},
   "outputs": [
    {
     "name": "stdout",
     "output_type": "stream",
     "text": [
      "A taxa de verdadeiro positivo é 60.77%\n",
      "A taxa de verdadeiro negativo é 58.87%\n"
     ]
    }
   ],
   "source": [
    "verdadeiro_positivo = 220 / (220 + 142) # probabilidade de ser positivo dado que a previsão foi positiva (classificada como 1)\n",
    "verdadeiro_negativo = 219 / (219 + 153) # probabilidade de ser negativo dado que a previsão foi negativa\n",
    "\n",
    "print(f\"A taxa de verdadeiro positivo é {round(verdadeiro_positivo, 4) * 100}%\")\n",
    "print(f\"A taxa de verdadeiro negativo é {round(verdadeiro_negativo, 4) * 100}%\")"
   ]
  },
  {
   "cell_type": "markdown",
   "metadata": {},
   "source": [
    "Várias outras métricas podem ser calculadas usando o método `classification_report`:"
   ]
  },
  {
   "cell_type": "code",
   "execution_count": 49,
   "metadata": {},
   "outputs": [
    {
     "name": "stdout",
     "output_type": "stream",
     "text": [
      "              precision    recall  f1-score   support\n",
      "\n",
      "         0.0       0.61      0.59      0.60       372\n",
      "         1.0       0.59      0.61      0.60       362\n",
      "\n",
      "    accuracy                           0.60       734\n",
      "   macro avg       0.60      0.60      0.60       734\n",
      "weighted avg       0.60      0.60      0.60       734\n",
      "\n"
     ]
    }
   ],
   "source": [
    "from sklearn.metrics import classification_report\n",
    "\n",
    "print(classification_report(df_previsao[\"decision1\"], df_previsao[\"prev\"]))"
   ]
  },
  {
   "cell_type": "markdown",
   "metadata": {},
   "source": [
    "Vamos explicá-las abaixo:\n",
    "\n",
    "A **precisão** representa o percentual de verdadeiros positivos entre todas as observações consideradas como positivas pelo modelo para aquela classe. Ou seja, considera os casos de certa classe que o modelo acertou em relação a todos os casos que ele previu serem daquela classe.\n",
    "\n",
    "$$ Precisão = \\frac {Verdadeiros~Positivos}{Verdadeiros~Positivos + Falsos~Positivos} $$\n",
    "\n",
    "Assim, dizer que a precisão do modelo com relação ao voto 0 foi de 61% significa que 61% das vezes em que o modelo previu que o voto do juiz seria contra o peticionante, o voto de fato foi contra. A mesma interpretação pode ser dada com relação ao resultado 1. Nesse caso, a precisão significa a mesma coisa do que a taxa de verdadeiros positivos.\n",
    "\n",
    "O **recall** indica o percentual de membros existentes daquela classe que foram corretamente identificados como membros da classe:\n",
    "\n",
    "$$ Recall = \\frac {Verdadeiros~Positivos}{Verdadeiros~Positivos + Falsos~Negativos} $$\n",
    "\n",
    "Assim, dizer que o modelo teve recall de 59% com relação ao resultado 0 significa que identificamos 59% dos votos contra o peticionante como sendo de fato contrário a seu interesse. Comparar recall e precisão nos diz coisas importantes sobre o modelo.\n",
    "\n",
    "Finalmente, o **f1 score** é uma métrica que leva em conta tanto o recall quanto a precisão.\n",
    "\n",
    "$$ F1 = 2 * \\frac{Precision * Recall}{Precision + Recall} $$\n",
    "\n",
    "Valores mais altos são melhores, mas é difícil interpretar os resultados de maneira absoluta. Para comparação, é interessante ver a média ponderada (\"weighted\") entre os f1 scores das duas classes, no caso do nosso modelo, 0.60.\n",
    "\n",
    "Podemos usar essas métricas agora para comparar diferentes modelos e para saber se o nosso modelo é bom ou ruim de uma maneira geral.\n",
    "\n",
    "O quão bom seria esse modelo para prever o voto dos juízes? \n"
   ]
  },
  {
   "cell_type": "markdown",
   "metadata": {},
   "source": [
    "## Interpretando regressão logística como modelo estatístico.\n",
    "\n",
    "Mas e se estivermos interessados em saber informações sobre uma das variáveis que incluímos em nossa logit? Poderíamos fazer isso com nossa \"mentalidade\" de predição que usamos acima. Poderíamos comparar o modelo com e sem um parâmetro e ver o quão melhor ele fica, e refletir sobre qual seria sua relação com o resultado sendo previsto.\n",
    "\n",
    "Outra opção é voltarmos à perspectiva estatística que usamos na regressão linear. Vamos olhar o sumário da regressão novamente."
   ]
  },
  {
   "cell_type": "code",
   "execution_count": null,
   "metadata": {},
   "outputs": [
    {
     "name": "stdout",
     "output_type": "stream",
     "text": [
      "Optimization terminated successfully.\n",
      "         Current function value: 0.669438\n",
      "         Iterations 5\n",
      "                           Logit Regression Results                           \n",
      "==============================================================================\n",
      "Dep. Variable:              decision1   No. Observations:                  734\n",
      "Model:                          Logit   Df Residuals:                      728\n",
      "Method:                           MLE   Df Model:                            5\n",
      "Date:                Wed, 10 Jul 2024   Pseudo R-squ.:                 0.03408\n",
      "Time:                        15:05:47   Log-Likelihood:                -491.37\n",
      "converged:                       True   LL-Null:                       -508.70\n",
      "Covariance Type:            nonrobust   LLR p-value:                 1.752e-06\n",
      "================================================================================================\n",
      "                                   coef    std err          z      P>|z|      [0.025      0.975]\n",
      "------------------------------------------------------------------------------------------------\n",
      "Intercept                       -0.9552      0.287     -3.323      0.001      -1.519      -0.392\n",
      "jurisBasis[T.special clause]     0.5493      0.288      1.909      0.056      -0.015       1.113\n",
      "jurisBasis[T.treaty]             1.2744      0.305      4.176      0.000       0.676       1.873\n",
      "trad_equals_pet                  0.4250      0.179      2.374      0.018       0.074       0.776\n",
      "parties_GDP_dif               4.118e-05   1.15e-05      3.583      0.000    1.87e-05    6.37e-05\n",
      "judgeGDP                     -1.996e-06   1.06e-05     -0.189      0.850   -2.27e-05    1.88e-05\n",
      "================================================================================================\n"
     ]
    }
   ],
   "source": [
    "model = logit(\"decision1 ~ trad_equals_pet + parties_GDP_dif + judgeGDP + jurisBasis\", data=icj).fit()\n",
    "\n",
    "print(model.summary().as_text())"
   ]
  },
  {
   "cell_type": "markdown",
   "metadata": {},
   "source": [
    "Nas aulas anteriores falamos de algumas estatísticas pelas quais podemos iniciar nossa interpretação do modelo. Isso também vale aqui, mas a forma como vamos conectá-las com o resultado é diferente.\n",
    "\n",
    "No material de apoio há algumas referências destacadas de como procedor com modelos logísticos.\n",
    "\n",
    "Quanto ao modelo como um todo, nossa opção além do que fizemos de comparar a previsão é analisar o Pseudo-R², lembrando que essa estatística possui limitações em especial se queremos compararmos performances de modelos treinados em conjuntos de dados diferentes.\n",
    "\n",
    "E quanto a cada parâmetro individualmente? Digamos que queremos analisar o impacto do PIB per capita do país de origem dos juízes no modelo reportado acima. Como devemos fazê-lo?\n",
    "\n",
    "Assim como nos demais casos, o local mais comum de se iniciar é pelo valor P. Ele tem a mesma interpretação que nos casos anteriores, inclusive as limitações.\n",
    "\n",
    "Agora, queremos comparar o impacto do parâmetro individual no resultado. Na regressão linear costumamos interpretar a alteração de uma unidade da variável independente como a variação esperada a ser observada na variável dependente, mantendo-se todo  o mais constante. Contudo, isso não faz sentido no caso da regressão logística! Por quê?\n",
    "\n",
    "Vamos lembrar do resultado de quando usamos o método `predict` com nosso modelo:"
   ]
  },
  {
   "cell_type": "code",
   "execution_count": 29,
   "metadata": {},
   "outputs": [
    {
     "data": {
      "text/plain": [
       "4     0.487670\n",
       "11    0.474677\n",
       "14    0.424945\n",
       "17    0.397522\n",
       "18    0.402168\n",
       "dtype: float64"
      ]
     },
     "execution_count": 29,
     "metadata": {},
     "output_type": "execute_result"
    }
   ],
   "source": [
    "probabilidade_de_sucesso.iloc[:5]"
   ]
  },
  {
   "cell_type": "markdown",
   "metadata": {},
   "source": [
    "Como o nome da variável indica, geralmente interpretamos o resultado de uma regressão logística como a probabilidade da variável independente ocorrer naquele caso (codificada como 1).\n",
    "\n",
    "Assim, se voltarmos a tabela e olharmos o coeficiente do que concedeu jurisdição para a corte, $jurisBasis[T.treaty]$ tem um coeficiente de 1.27 e seu valor P indica uma relação significativa, mas aumentar a probabilidade nesse montante indicaria mais de 100% de chance!\n",
    "\n",
    "O coeficiente logística não tem essa interpretação direta. Vamos ver a equação que representa esse tipo de modelo:\n",
    "\n",
    "$$p(x)=\\frac{1}{1+e^{-(\\beta_0+\\beta_1 x+ ... + \\beta_n x_n)}}$$\n",
    "\n",
    "Essa equação é bem menos familiar e mais confusa que a da regressão linear. O intercepto da regressão logística é o $\\beta_0$ que está em um expoente no denominador da fração, e os coeficientes sao $\\beta_1$ e demais.\n",
    "\n",
    "O importanto é que podemos converter esse coeficiente para algo próximo de como pensamos em probabilidade: em inglês essa interpretação é denominada de odd ratio, algo semelhante a razão de chances ou razão de probabilidade. Esse tipo de resultado é muito usado para expressar apostas e jogos de azar. \n",
    "\n",
    "Assim como na regressão linear costumamos formular nossa explicação no aumento de uma unidade da variável.\n",
    "\n",
    "Para converter o valor para odd ratio precisamos fazer uma operação matemática com o coeficiente e comparar a probabilidade para diferentes valores da variável independente de interesse. Vamos usar jurisBasis como exemplo.\n",
    "\n",
    "Lembrando: como jurisBasis é uma variável categórica, ela é calculada comparando a outro valor da mesma variável. No caso, como o valor que não aparece na tabela é 'special agreement' esse é o valor de comparação. Vamos comparar com quando a jurisdição vem de um tratado."
   ]
  },
  {
   "cell_type": "code",
   "execution_count": 30,
   "metadata": {},
   "outputs": [
    {
     "data": {
      "text/plain": [
       "array(['special clause', 'special agreement', 'treaty', nan], dtype=object)"
      ]
     },
     "execution_count": 30,
     "metadata": {},
     "output_type": "execute_result"
    }
   ],
   "source": [
    "icj.jurisBasis.unique()"
   ]
  },
  {
   "cell_type": "markdown",
   "metadata": {},
   "source": [
    "Podemos calcular a fração entre a probabilidade de quando a base para jurisdição é tratado e cláusula especial. Algo como:\n",
    "\n",
    "\n",
    "$$Odds Ratio = \\frac{P(jurisBasis=treaty)}{P(jurisBasis=special\\ agreement)}$$\n",
    "\n",
    "Para calcular a probabilidade precisáriamos resolver a equação estranha da regressão logística... Felizmente podemos usar `python` para nos auxiliar e calcular facilmente a Odd Ratio para todos os coeficientes:\n",
    "\n",
    "Você não precisa se preocupar com o código a seguir, basta saber que ele está calculando a odd ratio para cada uma das variáveis independentes do modelo."
   ]
  },
  {
   "cell_type": "code",
   "execution_count": 59,
   "metadata": {},
   "outputs": [
    {
     "data": {
      "text/plain": [
       "1.5095505774384976"
      ]
     },
     "execution_count": 59,
     "metadata": {},
     "output_type": "execute_result"
    }
   ],
   "source": [
    "np.exp(model.params[\"parties_GDP_dif\"]*10000)"
   ]
  },
  {
   "cell_type": "code",
   "execution_count": 52,
   "metadata": {},
   "outputs": [
    {
     "data": {
      "text/html": [
       "<div>\n",
       "<style scoped>\n",
       "    .dataframe tbody tr th:only-of-type {\n",
       "        vertical-align: middle;\n",
       "    }\n",
       "\n",
       "    .dataframe tbody tr th {\n",
       "        vertical-align: top;\n",
       "    }\n",
       "\n",
       "    .dataframe thead th {\n",
       "        text-align: right;\n",
       "    }\n",
       "</style>\n",
       "<table border=\"1\" class=\"dataframe\">\n",
       "  <thead>\n",
       "    <tr style=\"text-align: right;\">\n",
       "      <th></th>\n",
       "      <th>odd_ratio</th>\n",
       "      <th>p-value</th>\n",
       "      <th>2.5%</th>\n",
       "      <th>97.5%</th>\n",
       "    </tr>\n",
       "  </thead>\n",
       "  <tbody>\n",
       "    <tr>\n",
       "      <th>Intercept</th>\n",
       "      <td>0.384720</td>\n",
       "      <td>0.000889</td>\n",
       "      <td>0.219023</td>\n",
       "      <td>0.675772</td>\n",
       "    </tr>\n",
       "    <tr>\n",
       "      <th>jurisBasis[T.special clause]</th>\n",
       "      <td>1.732106</td>\n",
       "      <td>0.056278</td>\n",
       "      <td>0.985406</td>\n",
       "      <td>3.044625</td>\n",
       "    </tr>\n",
       "    <tr>\n",
       "      <th>jurisBasis[T.treaty]</th>\n",
       "      <td>3.576664</td>\n",
       "      <td>0.000030</td>\n",
       "      <td>1.966623</td>\n",
       "      <td>6.504818</td>\n",
       "    </tr>\n",
       "    <tr>\n",
       "      <th>trad_equals_pet</th>\n",
       "      <td>1.529644</td>\n",
       "      <td>0.017602</td>\n",
       "      <td>1.076926</td>\n",
       "      <td>2.172677</td>\n",
       "    </tr>\n",
       "    <tr>\n",
       "      <th>parties_GDP_dif</th>\n",
       "      <td>1.000041</td>\n",
       "      <td>0.000340</td>\n",
       "      <td>1.000019</td>\n",
       "      <td>1.000064</td>\n",
       "    </tr>\n",
       "    <tr>\n",
       "      <th>judgeGDP</th>\n",
       "      <td>0.999998</td>\n",
       "      <td>0.850445</td>\n",
       "      <td>0.999977</td>\n",
       "      <td>1.000019</td>\n",
       "    </tr>\n",
       "  </tbody>\n",
       "</table>\n",
       "</div>"
      ],
      "text/plain": [
       "                              odd_ratio   p-value      2.5%     97.5%\n",
       "Intercept                      0.384720  0.000889  0.219023  0.675772\n",
       "jurisBasis[T.special clause]   1.732106  0.056278  0.985406  3.044625\n",
       "jurisBasis[T.treaty]           3.576664  0.000030  1.966623  6.504818\n",
       "trad_equals_pet                1.529644  0.017602  1.076926  2.172677\n",
       "parties_GDP_dif                1.000041  0.000340  1.000019  1.000064\n",
       "judgeGDP                       0.999998  0.850445  0.999977  1.000019"
      ]
     },
     "execution_count": 52,
     "metadata": {},
     "output_type": "execute_result"
    }
   ],
   "source": [
    "import numpy as np\n",
    "\n",
    "# Vamos criar um dataframe com as informações\n",
    "# primeiro, precisamos resolver o log natural dos coeficientes. Vamos usar o numpy\n",
    "model_odds = pd.DataFrame(np.exp(model.params), columns= ['odd_ratio'])\n",
    "\n",
    "# adicionando o valor p\n",
    "model_odds['p-value']= model.pvalues\n",
    "\n",
    "# adicionando intervalo de confiança\n",
    "model_odds[['2.5%', '97.5%']] = np.exp(model.conf_int())\n",
    "\n",
    "model_odds"
   ]
  },
  {
   "cell_type": "markdown",
   "metadata": {},
   "source": [
    "Agora podemos interpretar nossos coeficientes!\n",
    "\n",
    "Nossa nova tabela diz que a razão de chance quando a Jurisdição é tratado é de 3.57. Isso significa que a probabilidade prevista para concessão do pedido nesses caso e 3.57 vezes maior que aquela atribuída a acordo especial, se mantermos todo o resto constante.\n",
    "\n",
    "A título de exemplo, se a probabilidade para acordo fosse de 20%, a de tratado seria de 71.4%.\n",
    "\n",
    "Já o aumento de 1 unidade na diferença do PIB per capita entre as partes leva a uma razão de 1.000041. Dada a escala de medição de PIB podemos formular isso em uma unidade de milha. Uma diferença positiva de US$1.000 no PIB per capita (1000 unidades) das partes (respondente subtraída do peticionante) é associada a probabilidade 1.042 vezes maior, e 1.5 vez para US$10.000.\n",
    "\n",
    "**CUIDADO: a chance de probabilidade (odd ratio) não diz diretamente qual a probabilidade prevista, apenas o quão maior ela é em relação a um valor base.**"
   ]
  }
 ],
 "metadata": {
  "kernelspec": {
   "display_name": "eda_312",
   "language": "python",
   "name": "python3"
  },
  "language_info": {
   "codemirror_mode": {
    "name": "ipython",
    "version": 3
   },
   "file_extension": ".py",
   "mimetype": "text/x-python",
   "name": "python",
   "nbconvert_exporter": "python",
   "pygments_lexer": "ipython3",
   "version": "3.12.3"
  },
  "toc": {
   "base_numbering": 1,
   "nav_menu": {},
   "number_sections": true,
   "sideBar": true,
   "skip_h1_title": false,
   "title_cell": "Table of Contents",
   "title_sidebar": "Contents",
   "toc_cell": true,
   "toc_position": {},
   "toc_section_display": true,
   "toc_window_display": true
  }
 },
 "nbformat": 4,
 "nbformat_minor": 4
}
