{
 "cells": [
  {
   "cell_type": "raw",
   "metadata": {
    "vscode": {
     "languageId": "raw"
    }
   },
   "source": [
    "---\n",
    "title: Regressão Linear\n",
    "author: 'Guilherme Almeida e José Luiz Nunes'\n",
    "format: \n",
    "    html:\n",
    "        toc: true\n",
    "        toc-depth: 3\n",
    "        toc-location: left\n",
    "        toc-title: Conteúdo\n",
    "        number-sections: true\n",
    "        number-depth: 3\n",
    "        smooth-scroll: true\n",
    "        link-external-icon: true\n",
    "        link-external-newwindow: true\n",
    "        self-contained: true\n",
    "embed-resources: true\n",
    "theme: zephyr\n",
    "abstract: Nesta aula, vamos aprender sobre regressão linear, um método estatístico contrui sobre a correlação para permitir análises mais sofisticadas.\n",
    " O método é estruturado em torno de verificar a relação de uma ou mais variáveis independentes (ou preditoras) com uma variável dependente (ou resposta).\n",
    " Vamos também abordar como usamos diferentes tipos de variável no contexto de regressão numéricas, categóricas, e binárias.\n",
    "---"
   ]
  },
  {
   "cell_type": "markdown",
   "metadata": {},
   "source": [
    "\n",
    "\n",
    "# Material de apoio\n",
    "\n",
    "\n",
    "Leitura sugerida\n",
    "1. An Introduction to Empirical Legal Research. Epstein & Martin. Capítulos 8 e 9, itens 9.0, 9.1, e 9.2. Pp. 173-192 e 193-211.\n",
    "2. Statistical Thinking for the 21st Century. Poldrack. Capítulo 9. (Itens 9.3.5.2 a 9.3.5.4 são mais ténicos e podem ser pulados em uma primeira leitura)\n",
    "Disponível em: https://statsthinking21.github.io/statsthinking21-core-site/hypothesis-testing.html"
   ]
  },
  {
   "cell_type": "markdown",
   "metadata": {},
   "source": [
    "# Regressão linear"
   ]
  },
  {
   "cell_type": "markdown",
   "metadata": {},
   "source": [
    "Vamos retomar os dados de onde paramos na apostila anterior.\n",
    "\n",
    "Lembrando, já iremos partir de um dataframe em que calculamos a média para violação de cada elemento de interessa por caso criado para o experimento."
   ]
  },
  {
   "cell_type": "code",
   "execution_count": null,
   "metadata": {},
   "outputs": [],
   "source": [
    "import pandas as pd\n",
    "import seaborn as sns\n",
    "from scipy.stats import pearsonr"
   ]
  },
  {
   "cell_type": "code",
   "execution_count": null,
   "metadata": {},
   "outputs": [
    {
     "data": {
      "text/html": [
       "<div>\n",
       "<style scoped>\n",
       "    .dataframe tbody tr th:only-of-type {\n",
       "        vertical-align: middle;\n",
       "    }\n",
       "\n",
       "    .dataframe tbody tr th {\n",
       "        vertical-align: top;\n",
       "    }\n",
       "\n",
       "    .dataframe thead th {\n",
       "        text-align: right;\n",
       "    }\n",
       "</style>\n",
       "<table border=\"1\" class=\"dataframe\">\n",
       "  <thead>\n",
       "    <tr style=\"text-align: right;\">\n",
       "      <th></th>\n",
       "      <th>cases</th>\n",
       "      <th>text</th>\n",
       "      <th>moral</th>\n",
       "      <th>rule_violation</th>\n",
       "    </tr>\n",
       "  </thead>\n",
       "  <tbody>\n",
       "    <tr>\n",
       "      <th>0</th>\n",
       "      <td>acc1</td>\n",
       "      <td>2.000000</td>\n",
       "      <td>3.222222</td>\n",
       "      <td>3.583333</td>\n",
       "    </tr>\n",
       "    <tr>\n",
       "      <th>1</th>\n",
       "      <td>acc3</td>\n",
       "      <td>6.916667</td>\n",
       "      <td>6.500000</td>\n",
       "      <td>7.000000</td>\n",
       "    </tr>\n",
       "    <tr>\n",
       "      <th>2</th>\n",
       "      <td>acc4</td>\n",
       "      <td>1.454545</td>\n",
       "      <td>1.272727</td>\n",
       "      <td>1.333333</td>\n",
       "    </tr>\n",
       "    <tr>\n",
       "      <th>3</th>\n",
       "      <td>alice2</td>\n",
       "      <td>5.785714</td>\n",
       "      <td>1.000000</td>\n",
       "      <td>1.818182</td>\n",
       "    </tr>\n",
       "    <tr>\n",
       "      <th>4</th>\n",
       "      <td>alice3</td>\n",
       "      <td>4.666667</td>\n",
       "      <td>4.000000</td>\n",
       "      <td>3.000000</td>\n",
       "    </tr>\n",
       "  </tbody>\n",
       "</table>\n",
       "</div>"
      ],
      "text/plain": [
       "    cases      text     moral  rule_violation\n",
       "0    acc1  2.000000  3.222222        3.583333\n",
       "1    acc3  6.916667  6.500000        7.000000\n",
       "2    acc4  1.454545  1.272727        1.333333\n",
       "3  alice2  5.785714  1.000000        1.818182\n",
       "4  alice3  4.666667  4.000000        3.000000"
      ]
     },
     "metadata": {},
     "output_type": "display_data"
    }
   ],
   "source": [
    "experimental_guide = pd.read_csv(\"https://bit.ly/study3-exp-guide\")\n",
    "\n",
    "cases = experimental_guide.groupby(\"case\", as_index=False)[[\"text\", \"moral\", \"rule_violation\"]].mean()\n",
    "cases.columns = [\"cases\", \"text\", \"moral\", \"rule_violation\"]\n",
    "cases.head()"
   ]
  },
  {
   "cell_type": "markdown",
   "metadata": {},
   "source": [
    "Terminamos a aula passando pelo texte de correlação. Aqui, medimos como duas variáveis variam em conjunto. A correlação é uma medida direção e intensidade da relação linear entre duas variáveis.\n",
    "\n",
    "Esse fato tem três características importantes:\n",
    "\n",
    "1. Essa variação é medida por uma relação linear! Ou seja, podemos descrevê-la com uma linha reta que sempre varia na mesma proporção e na mesma direção.\n",
    "2. A direção se refere a como duas variáveis variam juntas. Se uma variável aumenta enquanto a outra diminui, a correlação é negativa. Se ambas aumentam ou diminuem juntas, a correlação é positiva.\n",
    "3. **Intensidade** se refere a quão fortemente as duas variáveis estão relacionadas. A correlação varia de -1 a 1. Quanto mais próximo do valor máximo, mais perto a variação conjunta é de uma linha reta.\n",
    "\n",
    "Isso tem certas limitações. Por exemplo, o fato de que talvezx nem todas as relações tenham a característica de ser bem descrita por uma linha reta. Pense, por exemplo, o efeito que renda adicional terá sobre seu tratamento de saúde. Com certeza, ter uma renda de R$ 110.0000,00 por mês proporcionará acesso a saúde muito maior para uma família do que R$ 10.000,00. Mas parece razoável supor que aumentar essa renda na mesma quantidade para R$ 210.000,00 não terá o mesmo efeito.\n",
    "\n",
    "Além disso, a correlação não mede a inclinação da reta. Ou seja, se alterarmos o valor de uma variável em uma unidade, a correlação não nos diz quanto a outra variável deve mudar.\n",
    "\n",
    "Vamos voltar ao nosso exemplo. \n",
    "\n",
    "\n",
    "Como podemos visualizar uma relação linear? O gráfico de disperção é uma boa ferramente, mas se queremos estudar a correlação, como acabamos de descrever, faz mais sentido traçar uma linha pelo gráfico.\n",
    "\n",
    "\n",
    "Assim, uma tendência que não é imediatamente óbvia em um **scatterplot**:"
   ]
  },
  {
   "cell_type": "code",
   "execution_count": null,
   "metadata": {},
   "outputs": [
    {
     "data": {
      "text/plain": [
       "<AxesSubplot: xlabel='text', ylabel='rule_violation'>"
      ]
     },
     "execution_count": 3,
     "metadata": {},
     "output_type": "execute_result"
    },
    {
     "data": {
      "image/png": "[encoded data removed]",
      "text/plain": [
       "<Figure size 640x480 with 1 Axes>"
      ]
     },
     "metadata": {},
     "output_type": "display_data"
    }
   ],
   "source": [
    "sns.scatterplot(x=\"text\", y=\"rule_violation\", data=cases)"
   ]
  },
  {
   "cell_type": "markdown",
   "metadata": {},
   "source": [
    "...se torna óbvia em um regplot."
   ]
  },
  {
   "cell_type": "code",
   "execution_count": 4,
   "metadata": {},
   "outputs": [
    {
     "data": {
      "text/plain": [
       "<AxesSubplot: xlabel='text', ylabel='rule_violation'>"
      ]
     },
     "execution_count": 4,
     "metadata": {},
     "output_type": "execute_result"
    },
    {
     "data": {
      "image/png": "[encoded data removed]",
      "text/plain": [
       "<Figure size 640x480 with 1 Axes>"
      ]
     },
     "metadata": {},
     "output_type": "display_data"
    }
   ],
   "source": [
    "sns.regplot(x=\"text\", y=\"rule_violation\", data=cases)"
   ]
  },
  {
   "cell_type": "markdown",
   "metadata": {},
   "source": [
    "Mas como decidimos onde traçar a linha? Nós temos alguma noção intuitiva do que fazer, mas, como sempre, podemos usar a estatística para dar uma resposta precisa a essa pergunta.\n",
    "\n",
    "Uma **regressão linear simples** faz exatamente isso: ela estima qual é a melhor linha para representar uma relação linear entre **duas variáveis**. \n",
    "\n",
    "A implementação mais comum da regressão linear simples minimiza o quadrado do erro de cada um dos pontos observados. Em outras palavras: ela acha a linha que retorna a menor soma de erros (diferença entre o valor previsto pelo Y da linha e o valor real) ao quadrado possível. Isso é muito parecido com calcular a variância da diferença entre o valor previsto e o valor real!\n",
    "\n",
    "A célula abaixo monta uma regressão linear simples entre a violação da regra (variável dependente) e violação do texto (variável independente)."
   ]
  },
  {
   "cell_type": "code",
   "execution_count": 18,
   "metadata": {},
   "outputs": [
    {
     "data": {
      "text/html": [
       "<table class=\"simpletable\">\n",
       "<caption>OLS Regression Results</caption>\n",
       "<tr>\n",
       "  <th>Dep. Variable:</th>     <td>rule_violation</td>  <th>  R-squared:         </th> <td>   0.301</td>\n",
       "</tr>\n",
       "<tr>\n",
       "  <th>Model:</th>                   <td>OLS</td>       <th>  Adj. R-squared:    </th> <td>   0.270</td>\n",
       "</tr>\n",
       "<tr>\n",
       "  <th>Method:</th>             <td>Least Squares</td>  <th>  F-statistic:       </th> <td>   9.489</td>\n",
       "</tr>\n",
       "<tr>\n",
       "  <th>Date:</th>             <td>Tue, 03 May 2022</td> <th>  Prob (F-statistic):</th>  <td>0.00547</td>\n",
       "</tr>\n",
       "<tr>\n",
       "  <th>Time:</th>                 <td>17:16:24</td>     <th>  Log-Likelihood:    </th> <td> -40.500</td>\n",
       "</tr>\n",
       "<tr>\n",
       "  <th>No. Observations:</th>      <td>    24</td>      <th>  AIC:               </th> <td>   85.00</td>\n",
       "</tr>\n",
       "<tr>\n",
       "  <th>Df Residuals:</th>          <td>    22</td>      <th>  BIC:               </th> <td>   87.36</td>\n",
       "</tr>\n",
       "<tr>\n",
       "  <th>Df Model:</th>              <td>     1</td>      <th>                     </th>     <td> </td>   \n",
       "</tr>\n",
       "<tr>\n",
       "  <th>Covariance Type:</th>      <td>nonrobust</td>    <th>                     </th>     <td> </td>   \n",
       "</tr>\n",
       "</table>\n",
       "<table class=\"simpletable\">\n",
       "<tr>\n",
       "      <td></td>         <th>coef</th>     <th>std err</th>      <th>t</th>      <th>P>|t|</th>  <th>[0.025</th>    <th>0.975]</th>  \n",
       "</tr>\n",
       "<tr>\n",
       "  <th>Intercept</th> <td>    1.7872</td> <td>    0.746</td> <td>    2.396</td> <td> 0.026</td> <td>    0.240</td> <td>    3.334</td>\n",
       "</tr>\n",
       "<tr>\n",
       "  <th>text</th>      <td>    0.5388</td> <td>    0.175</td> <td>    3.080</td> <td> 0.005</td> <td>    0.176</td> <td>    0.902</td>\n",
       "</tr>\n",
       "</table>\n",
       "<table class=\"simpletable\">\n",
       "<tr>\n",
       "  <th>Omnibus:</th>       <td> 1.261</td> <th>  Durbin-Watson:     </th> <td>   1.717</td>\n",
       "</tr>\n",
       "<tr>\n",
       "  <th>Prob(Omnibus):</th> <td> 0.532</td> <th>  Jarque-Bera (JB):  </th> <td>   1.170</td>\n",
       "</tr>\n",
       "<tr>\n",
       "  <th>Skew:</th>          <td>-0.430</td> <th>  Prob(JB):          </th> <td>   0.557</td>\n",
       "</tr>\n",
       "<tr>\n",
       "  <th>Kurtosis:</th>      <td> 2.343</td> <th>  Cond. No.          </th> <td>    12.0</td>\n",
       "</tr>\n",
       "</table><br/><br/>Notes:<br/>[1] Standard Errors assume that the covariance matrix of the errors is correctly specified."
      ],
      "text/plain": [
       "<class 'statsmodels.iolib.summary.Summary'>\n",
       "\"\"\"\n",
       "                            OLS Regression Results                            \n",
       "==============================================================================\n",
       "Dep. Variable:         rule_violation   R-squared:                       0.301\n",
       "Model:                            OLS   Adj. R-squared:                  0.270\n",
       "Method:                 Least Squares   F-statistic:                     9.489\n",
       "Date:                Tue, 03 May 2022   Prob (F-statistic):            0.00547\n",
       "Time:                        17:16:24   Log-Likelihood:                -40.500\n",
       "No. Observations:                  24   AIC:                             85.00\n",
       "Df Residuals:                      22   BIC:                             87.36\n",
       "Df Model:                           1                                         \n",
       "Covariance Type:            nonrobust                                         \n",
       "==============================================================================\n",
       "                 coef    std err          t      P>|t|      [0.025      0.975]\n",
       "------------------------------------------------------------------------------\n",
       "Intercept      1.7872      0.746      2.396      0.026       0.240       3.334\n",
       "text           0.5388      0.175      3.080      0.005       0.176       0.902\n",
       "==============================================================================\n",
       "Omnibus:                        1.261   Durbin-Watson:                   1.717\n",
       "Prob(Omnibus):                  0.532   Jarque-Bera (JB):                1.170\n",
       "Skew:                          -0.430   Prob(JB):                        0.557\n",
       "Kurtosis:                       2.343   Cond. No.                         12.0\n",
       "==============================================================================\n",
       "\n",
       "Notes:\n",
       "[1] Standard Errors assume that the covariance matrix of the errors is correctly specified.\n",
       "\"\"\""
      ]
     },
     "execution_count": 18,
     "metadata": {},
     "output_type": "execute_result"
    }
   ],
   "source": [
    "from statsmodels.formula.api import ols\n",
    "\n",
    "#DV está no eixo Y do nosso gráfico\n",
    "#IV está no eixo X do nosso gráfico\n",
    "\n",
    "#define o modelo\n",
    "modelo_texto = ols(\"rule_violation ~ text\", data=cases).fit()\n",
    "\n",
    "#imprimindo os resultados do modelo\n",
    "modelo_texto.summary()"
   ]
  },
  {
   "cell_type": "markdown",
   "metadata": {},
   "source": [
    "O coeficiente de regressão, 0.5388, no caso acima, nos dá uma métrica do tamanho do efeito que pode ser comparada entre variáveis diferentes. \n",
    "\n",
    "Assim, podemos construir um modelo com a variável 'moral' como IV e comparar a magnitude do efeito das duas coisas.\n",
    "\n",
    "## Sintaxe para criar regressões\n",
    "\n",
    "Utilizamos a função `ols` do pacote `statsmodels.formula.api` para *criar nossa regressão*. Essa biblioteca permite criar os modelos a partir de fórmulas determinadas por strings, semelhante ao que fazemos com o `query` em alguma medida.\n",
    "\n",
    "Utilizamos o argumento da função `data` para *informar o dataframe com os dados que serão utilizados* para criar e estimar o modelo. \n",
    "\n",
    "Para a fórmula temos uma sintaxe simples: começamos com o *nome da coluna que queremos prever*, seguido de um *til (~)*  e a *variável que queremos usar para prevê-la*.\n",
    "\n",
    "Na notação matemática o `~` significa aproximado, e indica que queremos estimar, ou aproximar, a variável antes dele a partir da variável seguinte.\n",
    "\n",
    "O pacote usado já inclui automaticamente o Intercepto (coeficiente linear como aprendemos em Matemática Básica), mas poderíamos ter usado explicitamente a fórmula `\"rule_violation ~ 1 + text\"` para representá-lo. Isso é basicamente o mesmo com a fórmula de uma linha que conhecemos:\n",
    "\n",
    "$ Y = mX + n $\n",
    "\n",
    "Reordenada como:\n",
    "\n",
    "$ Y = (n +) mX $ \n",
    "\n",
    "Omitindo a expressão entre parêntese.\n",
    "\n",
    "Como veremos abaixo, poderíamos usar ainda mais variáveis em nossa regressão, para isso basta incluir na fórmula a adição de novas colunas com o sinal de `+` e o nome da coluna!\n",
    "\n"
   ]
  },
  {
   "cell_type": "markdown",
   "metadata": {},
   "source": [
    "## Desafio\n",
    "\n",
    "Construir o modelo alternativo que descreve a violação da norma a partir da violação do propósito (coluna moral).\n",
    "\n",
    "Tente também explicar o resultado em palavras para praticar a interpretação do resultado."
   ]
  },
  {
   "cell_type": "code",
   "execution_count": null,
   "metadata": {},
   "outputs": [],
   "source": [
    "# código aqui\n",
    "modelo_proposito = "
   ]
  },
  {
   "cell_type": "markdown",
   "metadata": {},
   "source": [
    "## Mais sobre regressões lineares\n",
    "\n",
    "A formula que determina uma linha em um plano bidimensional é a seguinte:\n",
    "\n",
    "$ DVi = bIV + c $\n",
    "\n",
    "A regressão estima *quais valores de b e c minimizam o quadrado dos erros*. \n",
    "\n",
    "O **valor c** é uma constante que indica *em qual ponto do eixo Y a linha começa*, enquanto o **valor b** indica qual é o *grau de inclinação da linha*. Esse valor é justamente o **coeficiente de regressão** que usamos para responder à pergunta da pesquisa. [Esse site](https://setosa.io/ev/ordinary-least-squares-regression/) possui uma excelente ferramenta para entendermos como isso funciona.\n",
    "\n",
    "**Um outro valor extremamente importante é o R²**. Ele define qual é o *percentual da variação na variável dependente que é explicado pela variação na variável independente*. Isso é bastante útil! Usando o R² podemos saber até que ponto nossos modelos têm um poder explicativo adequado.\n",
    "\n",
    "\n",
    "OBS: Para os interessados na matemática, recomendo [esse vídeo](https://www.youtube.com/watch?v=lng4ZgConCM) e toda a série a qual ele pertence."
   ]
  },
  {
   "cell_type": "markdown",
   "metadata": {},
   "source": [
    "## Prevendo os valores de novas observações\n",
    "\n",
    "Uma vantagem das regressões lineares é que elas nos permitem fazer boas previsões a respeito do que acontece em dados não observados. Por exemplo, se uma situação recebe o rating médio de violação do texto em 6.3, qual deve ser o valor esperado do rating de violação da regra? Podemos inferir isso usando a formula das regressões lineares. Depois que já encontramos a linha que minimiza o quadrado dos erros, basta adicionar o valor da IV (6.3) na equação para chegar ao resultado. Fazemos isso no Python usando o método de modelos do scipy `.predict()`:"
   ]
  },
  {
   "cell_type": "code",
   "execution_count": null,
   "metadata": {},
   "outputs": [
    {
     "data": {
      "text/plain": [
       "0    5.181647\n",
       "dtype: float64"
      ]
     },
     "execution_count": 24,
     "metadata": {},
     "output_type": "execute_result"
    }
   ],
   "source": [
    "modelo_texto.predict({'text' : 6.3})"
   ]
  },
  {
   "cell_type": "markdown",
   "metadata": {},
   "source": [
    "# Regressões múltiplas\n",
    "\n",
    "As regressões possuem uma outra vantagem: podemos criar *modelos que contam com múltiplas variáveis independentes*. \n",
    "\n",
    "Nesse caso, temos dados que variam em múltiplas dimensões e se torna cada vez mais difícil de representar a relação entre as variáveis de forma visual. A vantagem de usar regressões múltiplas é que sabemos se o efeito de uma variável continua existindo quando levamos em conta a outra variável.\n",
    "\n",
    "Teoricamente, queremos avaliar agora a ideia de que a violação da regra é explicada tanto pela violação do texto quanto pela violação do propósito.\n",
    "\n",
    "Assim, podemos colocar tanto texto quanto moral como preditores (ou variáveis independentes) de julgamentos sobre violação da regra:"
   ]
  },
  {
   "cell_type": "code",
   "execution_count": null,
   "metadata": {},
   "outputs": [
    {
     "data": {
      "text/html": [
       "<div>\n",
       "<style scoped>\n",
       "    .dataframe tbody tr th:only-of-type {\n",
       "        vertical-align: middle;\n",
       "    }\n",
       "\n",
       "    .dataframe tbody tr th {\n",
       "        vertical-align: top;\n",
       "    }\n",
       "\n",
       "    .dataframe thead th {\n",
       "        text-align: right;\n",
       "    }\n",
       "</style>\n",
       "<table border=\"1\" class=\"dataframe\">\n",
       "  <thead>\n",
       "    <tr style=\"text-align: right;\">\n",
       "      <th></th>\n",
       "      <th>cases</th>\n",
       "      <th>text</th>\n",
       "      <th>moral</th>\n",
       "      <th>rule_violation</th>\n",
       "    </tr>\n",
       "  </thead>\n",
       "  <tbody>\n",
       "    <tr>\n",
       "      <th>0</th>\n",
       "      <td>acc1</td>\n",
       "      <td>2.000000</td>\n",
       "      <td>3.222222</td>\n",
       "      <td>3.583333</td>\n",
       "    </tr>\n",
       "    <tr>\n",
       "      <th>1</th>\n",
       "      <td>acc3</td>\n",
       "      <td>6.916667</td>\n",
       "      <td>6.500000</td>\n",
       "      <td>7.000000</td>\n",
       "    </tr>\n",
       "    <tr>\n",
       "      <th>2</th>\n",
       "      <td>acc4</td>\n",
       "      <td>1.454545</td>\n",
       "      <td>1.272727</td>\n",
       "      <td>1.333333</td>\n",
       "    </tr>\n",
       "  </tbody>\n",
       "</table>\n",
       "</div>"
      ],
      "text/plain": [
       "  cases      text     moral  rule_violation\n",
       "0  acc1  2.000000  3.222222        3.583333\n",
       "1  acc3  6.916667  6.500000        7.000000\n",
       "2  acc4  1.454545  1.272727        1.333333"
      ]
     },
     "execution_count": 5,
     "metadata": {},
     "output_type": "execute_result"
    }
   ],
   "source": [
    "cases.head(3)"
   ]
  },
  {
   "cell_type": "code",
   "execution_count": 27,
   "metadata": {},
   "outputs": [],
   "source": [
    "# definindo regressao, agora com 2 variáveis dependentes\n",
    "regressao_multipla = ols(\"rule_violation ~ moral + text\", data=cases).fit()"
   ]
  },
  {
   "cell_type": "code",
   "execution_count": 28,
   "metadata": {},
   "outputs": [
    {
     "data": {
      "text/html": [
       "<table class=\"simpletable\">\n",
       "<caption>OLS Regression Results</caption>\n",
       "<tr>\n",
       "  <th>Dep. Variable:</th>     <td>rule_violation</td>  <th>  R-squared:         </th> <td>   0.527</td>\n",
       "</tr>\n",
       "<tr>\n",
       "  <th>Model:</th>                   <td>OLS</td>       <th>  Adj. R-squared:    </th> <td>   0.482</td>\n",
       "</tr>\n",
       "<tr>\n",
       "  <th>Method:</th>             <td>Least Squares</td>  <th>  F-statistic:       </th> <td>   11.71</td>\n",
       "</tr>\n",
       "<tr>\n",
       "  <th>Date:</th>             <td>Tue, 03 May 2022</td> <th>  Prob (F-statistic):</th> <td>0.000383</td>\n",
       "</tr>\n",
       "<tr>\n",
       "  <th>Time:</th>                 <td>17:23:47</td>     <th>  Log-Likelihood:    </th> <td> -35.811</td>\n",
       "</tr>\n",
       "<tr>\n",
       "  <th>No. Observations:</th>      <td>    24</td>      <th>  AIC:               </th> <td>   77.62</td>\n",
       "</tr>\n",
       "<tr>\n",
       "  <th>Df Residuals:</th>          <td>    21</td>      <th>  BIC:               </th> <td>   81.16</td>\n",
       "</tr>\n",
       "<tr>\n",
       "  <th>Df Model:</th>              <td>     2</td>      <th>                     </th>     <td> </td>   \n",
       "</tr>\n",
       "<tr>\n",
       "  <th>Covariance Type:</th>      <td>nonrobust</td>    <th>                     </th>     <td> </td>   \n",
       "</tr>\n",
       "</table>\n",
       "<table class=\"simpletable\">\n",
       "<tr>\n",
       "      <td></td>         <th>coef</th>     <th>std err</th>      <th>t</th>      <th>P>|t|</th>  <th>[0.025</th>    <th>0.975]</th>  \n",
       "</tr>\n",
       "<tr>\n",
       "  <th>Intercept</th> <td>    0.7816</td> <td>    0.704</td> <td>    1.111</td> <td> 0.279</td> <td>   -0.682</td> <td>    2.245</td>\n",
       "</tr>\n",
       "<tr>\n",
       "  <th>moral</th>     <td>    0.4510</td> <td>    0.142</td> <td>    3.168</td> <td> 0.005</td> <td>    0.155</td> <td>    0.747</td>\n",
       "</tr>\n",
       "<tr>\n",
       "  <th>text</th>      <td>    0.4049</td> <td>    0.153</td> <td>    2.643</td> <td> 0.015</td> <td>    0.086</td> <td>    0.724</td>\n",
       "</tr>\n",
       "</table>\n",
       "<table class=\"simpletable\">\n",
       "<tr>\n",
       "  <th>Omnibus:</th>       <td> 2.168</td> <th>  Durbin-Watson:     </th> <td>   1.526</td>\n",
       "</tr>\n",
       "<tr>\n",
       "  <th>Prob(Omnibus):</th> <td> 0.338</td> <th>  Jarque-Bera (JB):  </th> <td>   1.117</td>\n",
       "</tr>\n",
       "<tr>\n",
       "  <th>Skew:</th>          <td> 0.024</td> <th>  Prob(JB):          </th> <td>   0.572</td>\n",
       "</tr>\n",
       "<tr>\n",
       "  <th>Kurtosis:</th>      <td> 1.944</td> <th>  Cond. No.          </th> <td>    17.1</td>\n",
       "</tr>\n",
       "</table><br/><br/>Notes:<br/>[1] Standard Errors assume that the covariance matrix of the errors is correctly specified."
      ],
      "text/plain": [
       "<class 'statsmodels.iolib.summary.Summary'>\n",
       "\"\"\"\n",
       "                            OLS Regression Results                            \n",
       "==============================================================================\n",
       "Dep. Variable:         rule_violation   R-squared:                       0.527\n",
       "Model:                            OLS   Adj. R-squared:                  0.482\n",
       "Method:                 Least Squares   F-statistic:                     11.71\n",
       "Date:                Tue, 03 May 2022   Prob (F-statistic):           0.000383\n",
       "Time:                        17:23:47   Log-Likelihood:                -35.811\n",
       "No. Observations:                  24   AIC:                             77.62\n",
       "Df Residuals:                      21   BIC:                             81.16\n",
       "Df Model:                           2                                         \n",
       "Covariance Type:            nonrobust                                         \n",
       "==============================================================================\n",
       "                 coef    std err          t      P>|t|      [0.025      0.975]\n",
       "------------------------------------------------------------------------------\n",
       "Intercept      0.7816      0.704      1.111      0.279      -0.682       2.245\n",
       "moral          0.4510      0.142      3.168      0.005       0.155       0.747\n",
       "text           0.4049      0.153      2.643      0.015       0.086       0.724\n",
       "==============================================================================\n",
       "Omnibus:                        2.168   Durbin-Watson:                   1.526\n",
       "Prob(Omnibus):                  0.338   Jarque-Bera (JB):                1.117\n",
       "Skew:                           0.024   Prob(JB):                        0.572\n",
       "Kurtosis:                       1.944   Cond. No.                         17.1\n",
       "==============================================================================\n",
       "\n",
       "Notes:\n",
       "[1] Standard Errors assume that the covariance matrix of the errors is correctly specified.\n",
       "\"\"\""
      ]
     },
     "execution_count": 28,
     "metadata": {},
     "output_type": "execute_result"
    }
   ],
   "source": [
    "# exibindo resultado\n",
    "regressao_multipla.summary()"
   ]
  },
  {
   "cell_type": "markdown",
   "metadata": {},
   "source": [
    "Nessas condições, podemos ver que o R² do modelo é maior quando incluímos as duas variáveis do que quando incluíamos cada uma delas em separado. Isso indica que as duas variáveis são importantes para entendermos o conceito ordinário de regra, o que faz parte do argumento desenvolvido no paper referenciado."
   ]
  },
  {
   "cell_type": "markdown",
   "metadata": {},
   "source": [
    "## Prevendo novos casos\n",
    "\n",
    "Assim como no caso de uma só variável, podemos usar essa regressão para prever novos casos da mesma forma."
   ]
  },
  {
   "cell_type": "code",
   "execution_count": null,
   "metadata": {},
   "outputs": [
    {
     "data": {
      "text/html": [
       "<div>\n",
       "<style scoped>\n",
       "    .dataframe tbody tr th:only-of-type {\n",
       "        vertical-align: middle;\n",
       "    }\n",
       "\n",
       "    .dataframe tbody tr th {\n",
       "        vertical-align: top;\n",
       "    }\n",
       "\n",
       "    .dataframe thead th {\n",
       "        text-align: right;\n",
       "    }\n",
       "</style>\n",
       "<table border=\"1\" class=\"dataframe\">\n",
       "  <thead>\n",
       "    <tr style=\"text-align: right;\">\n",
       "      <th></th>\n",
       "      <th>moral</th>\n",
       "      <th>text</th>\n",
       "    </tr>\n",
       "  </thead>\n",
       "  <tbody>\n",
       "    <tr>\n",
       "      <th>0</th>\n",
       "      <td>0.2</td>\n",
       "      <td>6.5</td>\n",
       "    </tr>\n",
       "    <tr>\n",
       "      <th>1</th>\n",
       "      <td>4.2</td>\n",
       "      <td>4.4</td>\n",
       "    </tr>\n",
       "    <tr>\n",
       "      <th>2</th>\n",
       "      <td>6.3</td>\n",
       "      <td>6.6</td>\n",
       "    </tr>\n",
       "  </tbody>\n",
       "</table>\n",
       "</div>"
      ],
      "text/plain": [
       "   moral  text\n",
       "0    0.2   6.5\n",
       "1    4.2   4.4\n",
       "2    6.3   6.6"
      ]
     },
     "metadata": {},
     "output_type": "display_data"
    }
   ],
   "source": [
    "novos_dados = pd.DataFrame(\n",
    "    columns=[\"moral\", \"text\"],\n",
    "    data=[(0.2,6.5), (4.2, 4.4), (6.3, 6.6)]\n",
    ")\n",
    "\n",
    "novos_dados"
   ]
  },
  {
   "cell_type": "code",
   "execution_count": null,
   "metadata": {},
   "outputs": [
    {
     "data": {
      "text/plain": [
       "0    3.503876\n",
       "1    4.457542\n",
       "2    6.295515\n",
       "dtype: float64"
      ]
     },
     "metadata": {},
     "output_type": "display_data"
    }
   ],
   "source": [
    "regressao_multipla.predict(novos_dados)"
   ]
  }
 ],
 "metadata": {
  "kernelspec": {
   "display_name": "Python 3 (ipykernel)",
   "language": "python",
   "name": "python3"
  },
  "language_info": {
   "codemirror_mode": {
    "name": "ipython",
    "version": 3
   },
   "file_extension": ".py",
   "mimetype": "text/x-python",
   "name": "python",
   "nbconvert_exporter": "python",
   "pygments_lexer": "ipython3",
   "version": "3.12.3"
  },
  "toc": {
   "base_numbering": 1,
   "nav_menu": {},
   "number_sections": true,
   "sideBar": true,
   "skip_h1_title": false,
   "title_cell": "Table of Contents",
   "title_sidebar": "Contents",
   "toc_cell": false,
   "toc_position": {},
   "toc_section_display": true,
   "toc_window_display": false
  },
  "vscode": {
   "interpreter": {
    "hash": "916dbcbb3f70747c44a77c7bcd40155683ae19c65e1c03b4aa3499c5328201f1"
   }
  }
 },
 "nbformat": 4,
 "nbformat_minor": 4
}
