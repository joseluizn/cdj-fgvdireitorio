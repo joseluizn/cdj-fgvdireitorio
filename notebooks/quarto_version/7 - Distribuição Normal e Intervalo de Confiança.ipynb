{
 "cells": [
  {
   "cell_type": "raw",
   "id": "e7939db4",
   "metadata": {
    "vscode": {
     "languageId": "raw"
    }
   },
   "source": [
    "---\n",
    "title: Distribuição Normal e Intervalo de Confiança\n",
    "author: 'Guilherme Almeida e José Luiz Nunes'\n",
    "format: \n",
    "    html:\n",
    "        toc: true\n",
    "        toc-depth: 4\n",
    "        toc-location: left\n",
    "        toc-title: Conteúdo\n",
    "        number-sections: true\n",
    "        number-depth: 3\n",
    "        smooth-scroll: true\n",
    "        link-external-icon: true\n",
    "        link-external-newwindow: true\n",
    "        self-contained: true\n",
    "embed-resources: true\n",
    "theme: zephyr\n",
    "abstract: Nesta aula, iremos abordar dois aspectos fundamentais e muito conhecidados da estatística inferencial.\n",
    " Primeiro, vamos discutir a distribuição normal, que é uma das distribuições mais importantes e amplamente utilizadas como fundamento da estatística.\n",
    " Em seguida, vamos falar sobre intervalos de confiança, que são utilizados para estimar um parâmetro populacional com base em uma estatística amostral.\n",
    " Um exemplo muito conhecido é estimar a intenção de voto da população a partir das amostras de pesquisas eletiroais.\n",
    "---"
   ]
  },
  {
   "cell_type": "markdown",
   "metadata": {},
   "source": [
    "### Material de apoio\n",
    "\n",
    "Leitura sugerida\n",
    "1. Statistical Thinking for the 21st Century. Poldrack. Capítulo 7.\n",
    "Disponível em: https://statsthinking21.github.io/statsthinking21-core-site/sampling.html\n",
    "2. An Introduction to Empirical Legal Research. Epstein & Martin. Capítulo 7, item 7.2. Pp. 149-154"
   ]
  },
  {
   "cell_type": "code",
   "execution_count": 1,
   "id": "7ba94030",
   "metadata": {},
   "outputs": [],
   "source": [
    "import numpy as np\n",
    "import pandas as pd\n",
    "import seaborn as sns\n",
    "import matplotlib.pyplot as plt"
   ]
  },
  {
   "cell_type": "markdown",
   "metadata": {},
   "source": [
    "# Distribuição Normal e Intervalo de Confiança\n",
    "\n",
    "Nas últimas aulas introduzimos ferraments e conceitos de estatística descritiva, que podem ser usadas diretamente quando temos dados populacionais. Na última aula, começamos a abordar o tópico de estatística inferencial. Essas ferramentas são especialmente utéis quando queremos fazer inferências sobre a população a partir de uma amostra, ou quando queremos avaliar se determinada teoria que prevê a relação entre variáveis é válida com os dados observados.\n",
    "\n",
    "Na aula de hoje vamos abordar instrumentos fundamentais, que são a base para a maioria dos testes estatísticos usados na estatística frequentista, a abordagem mais comum em trabalhos científicos e adotada no que apresentamos até aqui.\n",
    "\n",
    "Vamo partir de um problema comum, queremos estimar uma estatística (falaremos da média) da população. Isso é exatamente o que fazemos em pesquisas eleitorais ou de aprovação. Mas poderia ser qualquer valor numérico, por exemplo, peso, altura, idade, ou renda.\n",
    "\n",
    "Contudo, não temos recursos para coletar informação de toda a população. Portanto, precisamos obter nosso resultado a partir de uma amostra da população geral, e então estimar o valor de uma variável para a população completa. As ferrametas que vimos até agora não nos auxiliam nessa tarefa.\n",
    "\n",
    "Nesses casos queremos a partir dos valores observados fazer inferências sobre o universo da população. O caso mais simples dessa tarefa é estimar a média da variável que estamos estudando na população geral. Vamos abordá-lo na aula de hoje.\n",
    "\n",
    "Para resolver esse tipo de problema fazemos estimativas usando um **Intervalo de Confiança**, que nos permite chegar a dois valores que usamos de limite para delimitar o **intervalo** onde a variável que estamos estimando se encontra com um certo **nível de confiança**. Vamos ver isso com calma:"
   ]
  },
  {
   "cell_type": "markdown",
   "id": "0e7d20e0",
   "metadata": {},
   "source": [
    "## Exemplo"
   ]
  },
  {
   "cell_type": "markdown",
   "id": "7787f62e",
   "metadata": {},
   "source": [
    "Queremos estimar a porcentagem da população que utiliza cinto de segurança ao dirigir. Para realizar nossa pesquisa amostramos de forma aleatória uma parcela da população de 352 pessoas e pedimos que elas respondessem Sim ou Não para a pergunta da nossa pesquisa.\n",
    "\n",
    "Podemos carregar os dados de nosso exemplo"
   ]
  },
  {
   "cell_type": "code",
   "execution_count": 2,
   "id": "50cd91c0",
   "metadata": {},
   "outputs": [
    {
     "data": {
      "text/html": [
       "<div>\n",
       "<style scoped>\n",
       "    .dataframe tbody tr th:only-of-type {\n",
       "        vertical-align: middle;\n",
       "    }\n",
       "\n",
       "    .dataframe tbody tr th {\n",
       "        vertical-align: top;\n",
       "    }\n",
       "\n",
       "    .dataframe thead th {\n",
       "        text-align: right;\n",
       "    }\n",
       "</style>\n",
       "<table border=\"1\" class=\"dataframe\">\n",
       "  <thead>\n",
       "    <tr style=\"text-align: right;\">\n",
       "      <th></th>\n",
       "      <th>participante</th>\n",
       "      <th>resposta</th>\n",
       "    </tr>\n",
       "  </thead>\n",
       "  <tbody>\n",
       "    <tr>\n",
       "      <th>0</th>\n",
       "      <td>0</td>\n",
       "      <td>Sim</td>\n",
       "    </tr>\n",
       "    <tr>\n",
       "      <th>1</th>\n",
       "      <td>1</td>\n",
       "      <td>Sim</td>\n",
       "    </tr>\n",
       "    <tr>\n",
       "      <th>2</th>\n",
       "      <td>2</td>\n",
       "      <td>Não</td>\n",
       "    </tr>\n",
       "    <tr>\n",
       "      <th>3</th>\n",
       "      <td>3</td>\n",
       "      <td>Sim</td>\n",
       "    </tr>\n",
       "    <tr>\n",
       "      <th>4</th>\n",
       "      <td>4</td>\n",
       "      <td>Sim</td>\n",
       "    </tr>\n",
       "  </tbody>\n",
       "</table>\n",
       "</div>"
      ],
      "text/plain": [
       "   participante resposta\n",
       "0             0      Sim\n",
       "1             1      Sim\n",
       "2             2      Não\n",
       "3             3      Sim\n",
       "4             4      Sim"
      ]
     },
     "execution_count": 2,
     "metadata": {},
     "output_type": "execute_result"
    }
   ],
   "source": [
    "df_transito = pd.read_csv(\"http://bit.ly/3XU5lKF\")\n",
    "\n",
    "df_transito.head()"
   ]
  },
  {
   "cell_type": "markdown",
   "id": "1e783c52",
   "metadata": {},
   "source": [
    "Como podemos começar a responder essa pergunta?\n",
    "\n",
    "Para facilitar nossa intereção com termos matemáticos vamos estabelecer duas convenções de notação:\n",
    "\n",
    "* $\\sigma$ se refere ao Desvio Padrão do que queremos medir\n",
    "* $\\mu$ se refere a Média do mesmo valor"
   ]
  },
  {
   "cell_type": "markdown",
   "metadata": {},
   "source": [
    "# Porque a distribuição normal é tão importante para estatística?\n",
    "\n",
    "Ao longo das últimas aulas mencionamos muitas vezes a distribuição normal, inclusive falando que essa distribuição era especialmente importante para a estatística e para as ferramentas que iríamos aprender. Agora iremos motivar um pouco esse ponto, e aprender porque essa distribuição é tão útil e como podemos utilizar suas propriedades para lidar com incertezas.\n",
    "\n",
    "Um dos principais usos da distribuição normal é o fato de podermos aproximar variáveis que criamos a partir de processos **aleatórios** com ela. Isso significa que, caso certas pressuposições estejam presentes, podemos calcular a chance de certos eventos acontecerem a partir da chance de sortearmos um número equivalente da distribuição normal. Isso é uma consequência do chamado *Teorema Central do Limite*.\n",
    "\n",
    "O que a torna tão útil é que essas suposições são relativamente comuns, ou ainda, possibilitam aproximações boas em diversos casos.\n",
    "\n",
    "A consequência prática importante é que: se **normalizarmos** apropriadamente a média de um número **suficientemente grande** de variáveis amostradas de forma aleatória e independente o resultado desse valor pertence a uma distribuição normal. Veremos isso nos próximos tópicos.\n",
    "\n",
    "Para verificar o Teorema ocorrendo na prática podemos voltar ao exemplo do arremesso de dados das últimas aulas.\n",
    "\n",
    "A distribuição normal tem o seguinte formato:\n",
    "\n",
    "\n",
    "<img src=https://upload.wikimedia.org/wikipedia/commons/thumb/8/8c/Standard_deviation_diagram.svg/1920px-Standard_deviation_diagram.svg.png style = \"width:40%\">\n",
    "<br>\n",
    "<center> <i> Fonte: Wikipedia. Normal_distribution. Retrieved 04 May 2021 from https://en.wikipedia.org/wiki/Normal_distribution </i> </center>\n",
    "\n",
    "\n",
    "Vamos voltar ao exemplo do arremesse de dados, e usar um arremesso honesto de dados, de forma que o valor de cada dado é 100% aleatório, e recebemos de volta já o valor da soma dos dados arremessados.\n",
    "\n",
    "Vamos ver a distribuição dos valores que encontramos para diferentes números de arremessos honestos"
   ]
  },
  {
   "cell_type": "code",
   "execution_count": 3,
   "id": "8906d153",
   "metadata": {},
   "outputs": [],
   "source": [
    "from random import randint\n",
    "\n",
    "\n",
    "def plot_arremessos(arremessos):\n",
    "    print(\"A média dos arremessos foi: \", np.mean(arremessos))\n",
    "    p = sns.histplot(arremessos, kde=False, discrete=True)\n",
    "    \n",
    "    p.set(xlim=[0,np.max(arremessos)+2])\n",
    "\n",
    "\n",
    "def arremesso_honesto(n=2):\n",
    "    from random import randint\n",
    "    #cria nossos dados que podem ter, cada um, um resultado que varia entre 1 e 6\n",
    "    soma_dados = 0\n",
    "    for x in range(n):\n",
    "        soma_dados += randint(1, 6)\n",
    "    return soma_dados"
   ]
  },
  {
   "cell_type": "code",
   "execution_count": 9,
   "id": "cd0f1cfd",
   "metadata": {},
   "outputs": [
    {
     "name": "stdout",
     "output_type": "stream",
     "text": [
      "A média dos arremessos foi:  5.9\n"
     ]
    },
    {
     "data": {
      "image/png": "[encoded data removed]",
      "text/plain": [
       "<Figure size 640x480 with 1 Axes>"
      ]
     },
     "metadata": {},
     "output_type": "display_data"
    }
   ],
   "source": [
    "vinte_arremessos = [arremesso_honesto() for x in range(20)]\n",
    "\n",
    "plot_arremessos(vinte_arremessos)\n"
   ]
  },
  {
   "cell_type": "markdown",
   "id": "f12d8a63",
   "metadata": {},
   "source": [
    "Se executarmos a célula acima várias vezes veremos que valores no meio tendem a ocorrer com maior frequência que nas pontas, assim como a imagem da distribuição normal! Contudo, muitas vezes vamos nos deparar com distribuições estranhas e concentradas nas pontas, ou que alguns dos valores possíveis não ocorrem nunca.\n",
    "\n",
    "Vejamos o que acontece a medida que aumentamos o número de arremessos. Vale executar cada célula várias vezes para ver como ela varia para \"experimentos\" diferentes."
   ]
  },
  {
   "cell_type": "code",
   "execution_count": 14,
   "id": "e37493b8",
   "metadata": {
    "scrolled": true
   },
   "outputs": [
    {
     "name": "stdout",
     "output_type": "stream",
     "text": [
      "A média dos arremessos foi:  5.925\n"
     ]
    },
    {
     "data": {
      "image/png": "[encoded data removed]",
      "text/plain": [
       "<Figure size 640x480 with 1 Axes>"
      ]
     },
     "metadata": {},
     "output_type": "display_data"
    }
   ],
   "source": [
    "#40 arremessos\n",
    "plot_arremessos([arremesso_honesto() for x in range(40)])"
   ]
  },
  {
   "cell_type": "code",
   "execution_count": 16,
   "id": "bcdb65ee",
   "metadata": {},
   "outputs": [
    {
     "name": "stdout",
     "output_type": "stream",
     "text": [
      "A média dos arremessos foi:  7.1125\n"
     ]
    },
    {
     "data": {
      "image/png": "[encoded data removed]",
      "text/plain": [
       "<Figure size 640x480 with 1 Axes>"
      ]
     },
     "metadata": {},
     "output_type": "display_data"
    }
   ],
   "source": [
    "#80 arremessos\n",
    "plot_arremessos([arremesso_honesto() for x in range(80)])"
   ]
  },
  {
   "cell_type": "code",
   "execution_count": 18,
   "id": "26b326a4",
   "metadata": {},
   "outputs": [
    {
     "name": "stdout",
     "output_type": "stream",
     "text": [
      "A média dos arremessos foi:  7.1\n"
     ]
    },
    {
     "data": {
      "image/png": "[encoded data removed]",
      "text/plain": [
       "<Figure size 640x480 with 1 Axes>"
      ]
     },
     "metadata": {},
     "output_type": "display_data"
    }
   ],
   "source": [
    "# 200 arremessos!\n",
    "plot_arremessos([arremesso_honesto() for x in range(200)])"
   ]
  },
  {
   "cell_type": "code",
   "execution_count": 19,
   "id": "bcf87426",
   "metadata": {},
   "outputs": [
    {
     "name": "stdout",
     "output_type": "stream",
     "text": [
      "A média dos arremessos foi:  7.0455\n"
     ]
    },
    {
     "data": {
      "image/png": "[encoded data removed]",
      "text/plain": [
       "<Figure size 640x480 with 1 Axes>"
      ]
     },
     "metadata": {},
     "output_type": "display_data"
    }
   ],
   "source": [
    "# 2000 arremessos!\n",
    "plot_arremessos([arremesso_honesto() for x in range(2000)])"
   ]
  },
  {
   "cell_type": "markdown",
   "id": "75090cbe",
   "metadata": {},
   "source": [
    "20.000 arremessos!"
   ]
  },
  {
   "cell_type": "code",
   "execution_count": 21,
   "id": "35e56af4",
   "metadata": {},
   "outputs": [
    {
     "name": "stdout",
     "output_type": "stream",
     "text": [
      "A média dos arremessos foi:  6.96945\n"
     ]
    },
    {
     "data": {
      "image/png": "[encoded data removed]",
      "text/plain": [
       "<Figure size 640x480 with 1 Axes>"
      ]
     },
     "metadata": {},
     "output_type": "display_data"
    }
   ],
   "source": [
    "plot_arremessos([arremesso_honesto() for x in range(20000)])"
   ]
  },
  {
   "cell_type": "markdown",
   "id": "5475c24b",
   "metadata": {},
   "source": [
    "Nessa demonstração estávamos somando apenas 2 varíaveis (cada um dos dados arremessados) e nos aproximamos da distribuição normal aumentando o número de observações.\n",
    "\n",
    "Se você executou as células múltiplas vezes, terá percebido que para números menores de arremessos, temos alguma variação nos resultados. As vezes o histograma se assemelha muito a uma distribuição normal, outras vezes não. Contudo, a medida que aumentamos o número de arremessos, a distribuição se aproxima cada vez mais da distribuição normal.\n",
    "\n",
    "Isso é uma consequência matemática! Conforme aumentamos o número de arremessos nossos histograma fica mais parecido, e tende a variar menos quando executamos várias vezes, com a curva da distribuição normal.\n",
    "\n",
    "Aumentando o número de vezes que lançamos os dados fomos capazes de ver o que chamamos de *convergência dos dados para a Distribuição Normal*. Isso é uma consequência direta de estarmos aumentando nosso N, ou número de observações na amostra.\n",
    "\n",
    "Assim, para o que estamos estudando podemos entender que a medida que nosso N fica maior podemos fazer aproximações cada vez mais precisas, mesmo sem conhecer precisamente a distribuição original.\n",
    "\n",
    "\n",
    "\n",
    "\n",
    "# Desafio\n",
    "\n",
    "O que acontece se aumentarmos o número de dados e utilizarmos a **Média** do valor dos dados? Isso continua acontecendo? O quão comum são os casos extremos?\n",
    "\n",
    "Teste isso nas células abaixo!\n",
    "\n",
    "**Dica: A função arremesso honesto possui um argumento `n` que se refere ao número de dados. Use a função abaixo para testar!**\n",
    "\n",
    "Vale a pena ajustar o número de bins para ajustar o gráfico."
   ]
  },
  {
   "cell_type": "code",
   "execution_count": 12,
   "id": "e6345d89",
   "metadata": {},
   "outputs": [],
   "source": [
    "def plot_media_arremessos(media_arremessos, bins='auto'):\n",
    "    p = sns.histplot(media_arremessos, kde=False, bins=bins)\n",
    "    p.set(xlim=[1,6])"
   ]
  },
  {
   "cell_type": "code",
   "execution_count": 13,
   "id": "d9d0db07",
   "metadata": {},
   "outputs": [
    {
     "data": {
      "text/plain": [
       "12"
      ]
     },
     "execution_count": 13,
     "metadata": {},
     "output_type": "execute_result"
    }
   ],
   "source": [
    "n_arremessos = 2\n",
    "\n",
    "arremesso_honesto()"
   ]
  },
  {
   "cell_type": "markdown",
   "metadata": {},
   "source": [
    "Observamos empiricamehnte que certos resultados convergem para a distribuição normal. Agora, vamos ver algumas propriedades da distriubição que nos permitem obter informações sobre esses resultados.\n",
    "\n",
    "\n",
    "# Distribuição Normal\n",
    "\n",
    "<img src=https://upload.wikimedia.org/wikipedia/commons/thumb/8/8c/Standard_deviation_diagram.svg/1920px-Standard_deviation_diagram.svg.png style = \"width:40%\">\n",
    "\n",
    "    \n",
    "Olhando para a figura novamente, podemos ver algumas características da Distribuição normal.\n",
    "\n",
    "Em primeiro lugar, vale destacar que devido ao fato da distribuição normal ser perfeitamente simétrica e ter seu ponto máximo no meio, os valores da Média, Moda e Mediana são o mesmo e se encontram no centro da distribuição. Na figura acima exatamente no valor 0.\n",
    "\n",
    "A moda, média e mediana são iguais e estão no centro da distribuição. Nesse caso, chamamos de moda o local onde a distribuição é mais densa, ou seja, onde temos mais chance de sortear um valor.\n",
    "\n",
    "Outro ponto importante é que quando essa distribuição tem **Média 0 e Desvio Padrão 1 chamamos a distribuição de Normal Padrão** (Standard Normal). Essa é a forma que esse tipo de distribuição costuma ser mostrado em imagens e gráficos.\n",
    "\n",
    "Além disso, as porcentagens apresentadas representam a chance de sortearmos um valor da distribuição naquele intervalo. Alguns intervalos utéis, com a média no centro:\n",
    "\n",
    "* 68.2% dos valores estão a distância de 1 Desvio Padrão da média.\n",
    "* **95%** dos valores estão entre 1.96 Desvios Padrões abaixo e acima da média.\n",
    "* 95.4% estão a distância de até 2 Desvios Padrões\n",
    "* 99% estão a distância de até 2.576 Desvios Padrões\n",
    "* **99.5%** estão a distãncia de até 2.807 Desvios Padrões\n",
    "* 99.9% estão a distância de até 3.291 Desvios Padrões"
   ]
  },
  {
   "cell_type": "markdown",
   "id": "d25b6660",
   "metadata": {},
   "source": [
    "## Como podemos usar isso de forma mais ampla\n",
    "\n",
    "Podemos nos perguntar como isso pode ser tão útil, afinal, muitas vezes queremos ver coisas que não são quantificáveis diretamente em números, e a média pode não fazer tanto sentido. Afinal, nosso exemplo inicial era de uma pesquisa onde nossas respostas eram Sim ou Não.\n",
    "\n",
    "Podemos modelar nossos dados em volta desse tipo de fenômeno considerando que se observarmos o fenômeno desejado, atribuíremos a observação o valor 1, caso contrário atribuíremos o valor 0. Nesse caso a média dos dados serão a parcela de observações que foram marcadas como 1.\n",
    "\n",
    "Certas propriedades matemáticas desse tipo de dados permitem que as aproximações sejam dessa forma tenham as propriedades que mostramos acima.\n",
    "\n",
    "\n",
    "Voltando ao nosso exemplo inical podemos atribuir o valor 1 para os respondentes que apresentam a característica pesquisada, ou seja, utilizam cinto de segurança e 0 para os que responderam não.\n",
    "\n",
    "Vamos criar uma coluna que transforma as respostas Negativas e Positivas em número.\n",
    "\n"
   ]
  },
  {
   "cell_type": "code",
   "execution_count": null,
   "id": "b9900b05",
   "metadata": {},
   "outputs": [
    {
     "data": {
      "text/html": [
       "<div>\n",
       "<style scoped>\n",
       "    .dataframe tbody tr th:only-of-type {\n",
       "        vertical-align: middle;\n",
       "    }\n",
       "\n",
       "    .dataframe tbody tr th {\n",
       "        vertical-align: top;\n",
       "    }\n",
       "\n",
       "    .dataframe thead th {\n",
       "        text-align: right;\n",
       "    }\n",
       "</style>\n",
       "<table border=\"1\" class=\"dataframe\">\n",
       "  <thead>\n",
       "    <tr style=\"text-align: right;\">\n",
       "      <th></th>\n",
       "      <th>participante</th>\n",
       "      <th>resposta</th>\n",
       "      <th>resposta_binario</th>\n",
       "    </tr>\n",
       "  </thead>\n",
       "  <tbody>\n",
       "    <tr>\n",
       "      <th>0</th>\n",
       "      <td>0</td>\n",
       "      <td>Sim</td>\n",
       "      <td>1</td>\n",
       "    </tr>\n",
       "    <tr>\n",
       "      <th>1</th>\n",
       "      <td>1</td>\n",
       "      <td>Sim</td>\n",
       "      <td>1</td>\n",
       "    </tr>\n",
       "    <tr>\n",
       "      <th>2</th>\n",
       "      <td>2</td>\n",
       "      <td>Não</td>\n",
       "      <td>0</td>\n",
       "    </tr>\n",
       "    <tr>\n",
       "      <th>3</th>\n",
       "      <td>3</td>\n",
       "      <td>Sim</td>\n",
       "      <td>1</td>\n",
       "    </tr>\n",
       "    <tr>\n",
       "      <th>4</th>\n",
       "      <td>4</td>\n",
       "      <td>Sim</td>\n",
       "      <td>1</td>\n",
       "    </tr>\n",
       "  </tbody>\n",
       "</table>\n",
       "</div>"
      ],
      "text/plain": [
       "   participante resposta  resposta_binario\n",
       "0             0      Sim                 1\n",
       "1             1      Sim                 1\n",
       "2             2      Não                 0\n",
       "3             3      Sim                 1\n",
       "4             4      Sim                 1"
      ]
     },
     "execution_count": 14,
     "metadata": {},
     "output_type": "execute_result"
    }
   ],
   "source": [
    "valores = list()\n",
    "for v in df_transito['resposta']:\n",
    "    if v == 'Sim':\n",
    "        valores.append(1)\n",
    "    else:\n",
    "        valores.append(0)\n",
    "        \n",
    "df_transito['resposta_binario'] = valores\n",
    "\n",
    "df_transito.head()"
   ]
  },
  {
   "cell_type": "markdown",
   "id": "5f575de0",
   "metadata": {},
   "source": [
    "Vamos checar a média das respostas com nossa transformação, a proporção de cada resposta e o desvio padrão."
   ]
  },
  {
   "cell_type": "code",
   "execution_count": 15,
   "id": "396cc28e",
   "metadata": {},
   "outputs": [
    {
     "name": "stdout",
     "output_type": "stream",
     "text": [
      "O valor médio das respostas foi: 0.8323863636363636\n"
     ]
    },
    {
     "data": {
      "text/plain": [
       "1    0.832386\n",
       "0    0.167614\n",
       "Name: resposta_binario, dtype: float64"
      ]
     },
     "execution_count": 15,
     "metadata": {},
     "output_type": "execute_result"
    }
   ],
   "source": [
    "print(\"O valor médio das respostas foi:\", df_transito['resposta_binario'].mean())\n",
    "\n",
    "df_transito['resposta_binario'].value_counts(normalize=True)"
   ]
  },
  {
   "cell_type": "code",
   "execution_count": 16,
   "id": "15c6173a",
   "metadata": {},
   "outputs": [
    {
     "data": {
      "text/plain": [
       "0.3740545363537187"
      ]
     },
     "execution_count": 16,
     "metadata": {},
     "output_type": "execute_result"
    }
   ],
   "source": [
    "df_transito['resposta_binario'].std()"
   ]
  },
  {
   "cell_type": "markdown",
   "id": "a220b145",
   "metadata": {},
   "source": [
    "Vamos ver a seguir que outro fator importante é saber o número de respostas, vamos recuperar essa informação do DataFrame"
   ]
  },
  {
   "cell_type": "code",
   "execution_count": 17,
   "id": "90867a71",
   "metadata": {},
   "outputs": [
    {
     "data": {
      "text/plain": [
       "352"
      ]
     },
     "execution_count": 17,
     "metadata": {},
     "output_type": "execute_result"
    }
   ],
   "source": [
    "df_transito.shape[0]"
   ]
  },
  {
   "cell_type": "markdown",
   "id": "5fa85b7a",
   "metadata": {},
   "source": [
    "O que estamos aprendendo nos diz que podemos fazer inferências a partir do valor da média encontrado. Mas como podemos fazer isso?\n",
    "\n",
    "Nesse ponto, temos todas as informações necessárias."
   ]
  },
  {
   "cell_type": "markdown",
   "metadata": {},
   "source": [
    "# Construindo Intervalos de Confiança\n",
    "\n",
    "Intervalos de confiança tem 2 elementos importantes:\n",
    "\n",
    "1. Nível de confiança. Normalmente definido como: $\\gamma$\n",
    "2. Margem de erro: Valor que pode ser adicionado ou subtraído do valor encontrado e estabelecem os valores máximos e mínimos do intervalo.\n",
    "\n",
    "Esses 2 fatores estão diretamente relacionado, e se estabelecemos um deles podemos calcular o outro.\n",
    "\n",
    "Podemos relacioná-los com a distribuição normal que vimos anteriormente\n",
    "\n",
    "<img src=https://upload.wikimedia.org/wikipedia/commons/thumb/8/8c/Standard_deviation_diagram.svg/1920px-Standard_deviation_diagram.svg.png style = \"width:40%\">"
   ]
  },
  {
   "cell_type": "markdown",
   "id": "a387b364",
   "metadata": {},
   "source": [
    "Se considerarmos que a Média que encontramos é o centro da distribuição, nosso Nível de Confiança é equivalente a chance que temos de obter o valor até determinada distância da média. Já a margem de erro está diretamente relacionada ao desvio padrão, o qual usamos para estabelecer a distância.\n",
    "\n",
    "Em outras palavras, se construirmos um intervalo com Margem de Erro de 1 desvio padrão ($\\sigma$) da média, este intervalo teria Nível de Confiança de 0.682 (68,2%), que são os valores abrangidos nessa distância.\n",
    "\n",
    "Fazendo o caminho contrário, se estabelecermos que desejamos um intervalo com  Nível de Confiança de 95.4%, podemos olhar para a distribuição normal e ver que se estabelecermos uma margem de erro de 2 $\\sigma$ teremos a confiança desejada.\n",
    "\n",
    "Retornando aos valores que listamos acima, e usando valores mais comuns:\n",
    "\n",
    "* Um intervalo de confiança de 95% contém valores até 1.96 * $\\sigma$ da média\n",
    "* Um intervalo de 99.5% contém os valores até 2.807 * $\\sigma$ da média\n",
    "\n",
    "Utilizamos a letra $c$ para denominar esse número de intervalos de confiança que delimita nosso intervalo\n",
    "\n",
    "Com esse conhecimento estamos prontos para construir nosso intervalo de confiança!\n",
    "\n",
    "Vamos estabeler algumas últimas convenções:\n",
    "\n",
    "$N$ se refere ao tamanho da nossa amostra (número de observações)\n",
    "\n",
    "$\\bar{X}_n $ equivale ao valor média da amostra observada\n",
    "\n",
    "$\\mu$ se refere ao valor que estamos estimando (média real)\n",
    "\n",
    "Podemos estabelecer a fórmula para construir nosso intervalo de confiança de 2 modos diferentes:\n",
    "\n",
    "$\\Pr\\left(\\bar{X}_n - \\frac{c\\sigma}{\\sqrt{n}} \\le \\mu \\le \\bar{X}_n + \\frac{c\\sigma}{\\sqrt{n}} \\right)=\\gamma$\n",
    "\n",
    "A margem de erro é representada pelo termo: $\\frac{c \\sigma}{\\sqrt{n}}$\n",
    "\n",
    "Ou:\n",
    "\n",
    "$\\Pr\\left(\\mu \\le \\bar{X}_n + \\frac{c\\sigma}{\\sqrt{n}} \\right)= \\frac{(1 - \\gamma)}{2}$\n",
    "\n",
    "\n",
    "O limite interior do nosso intervalo é representado por:\n",
    "\n",
    "$\\bar{X}_n - \\frac{c\\sigma}{\\sqrt{n}}$\n",
    "\n",
    "E o limite superior por:\n",
    "\n",
    "$\\bar{X}_n + \\frac{c\\sigma}{\\sqrt{n}}$\n",
    "\n",
    "Vamos resolver o exemplo a partir de cada variável do intervalo para entendermos um pouco melhor"
   ]
  },
  {
   "cell_type": "markdown",
   "id": "9d907c63",
   "metadata": {},
   "source": [
    "Vamos calcular as estatísticas que precisamos!"
   ]
  },
  {
   "cell_type": "code",
   "execution_count": null,
   "id": "14c30be2",
   "metadata": {},
   "outputs": [],
   "source": [
    "desvpad_transito = df_transito['resposta_binario'].std()\n",
    "n = df_transito.shape[0]\n",
    "media_transito = df_transito['resposta_binario'].mean()"
   ]
  },
  {
   "cell_type": "markdown",
   "id": "ee845b03",
   "metadata": {},
   "source": [
    "Vamos definir um intervalo de 95% de confiança para nossa estimativa.\n",
    "\n",
    "Como mencionado acima utilizaremos um C de 1.96 desvios padrões"
   ]
  },
  {
   "cell_type": "code",
   "execution_count": 19,
   "id": "12986de3",
   "metadata": {},
   "outputs": [
    {
     "name": "stdout",
     "output_type": "stream",
     "text": [
      "Nosso intervalo de 95% de Confiança para motoristas que usam cinto de segurança é:\n",
      "(79.33%, 87.15%)\n"
     ]
    }
   ],
   "source": [
    "c = 1.96\n",
    "\n",
    "margem_erro = (c*desvpad_transito)/np.sqrt(n)\n",
    "\n",
    "limite_inferior = media_transito - margem_erro\n",
    "\n",
    "limite_superior = media_transito + margem_erro\n",
    "\n",
    "print(f\"Nosso intervalo de 95% de Confiança para motoristas que usam cinto de segurança é:\\n({round(100*limite_inferior,2)}%, {round(100*limite_superior,2)}%)\")"
   ]
  },
  {
   "cell_type": "markdown",
   "id": "51de9f6a",
   "metadata": {},
   "source": [
    "Podemos também calcular o `C` utilizando o próprio python. Trabalhar com distribuições de probabilidade é uma tarefa normal, assim já há funções para isso:"
   ]
  },
  {
   "cell_type": "code",
   "execution_count": 20,
   "id": "33f5212a",
   "metadata": {},
   "outputs": [
    {
     "data": {
      "text/plain": [
       "(-1.959963984540054, 1.959963984540054)"
      ]
     },
     "execution_count": 20,
     "metadata": {},
     "output_type": "execute_result"
    }
   ],
   "source": [
    "import scipy.stats\n",
    "\n",
    "confianca = 0.95 #95%\n",
    "scipy.stats.norm.interval(confianca)"
   ]
  },
  {
   "cell_type": "markdown",
   "metadata": {},
   "source": [
    "## Possíveis problemas\n",
    "\n",
    "Deixamos as perguntas abaixo para você refletir. Elas se referem a potenciais limitações no uso de intervalos de confiança:\n",
    "\n",
    "* As amostras usadas são geradas realmente de forma aleatória?\n",
    "\n",
    "* Se estamos considerando pessoas com características diferentes, nossa média pode ser diferente para grupos diferentes?\n",
    "\n",
    "## Interpreteção\n",
    "\n",
    "Um problema comum com o uso de intervalos de confiança é sua interpretação. Era comum ouvirmos em referências a pesquisas eleitorais a interpretação de que o *valor do Nível de Confiança seria a chance do intervalo conter o valor real*.\n",
    "\n",
    "Essa interpretação está incorreta.\n",
    "\n",
    "A forma correta de interpretarmos o intervalo de confiança é que *se realizarmos todo esse processo um grande número de vezes (desde a amostragem), o valor de $\\gamma$ será a proporção dos intervalos que contém o verdadeiro valor do que estamos tentando estimar*.\n",
    "\n"
   ]
  }
 ],
 "metadata": {
  "kernelspec": {
   "display_name": "eda",
   "language": "python",
   "name": "python3"
  },
  "language_info": {
   "codemirror_mode": {
    "name": "ipython",
    "version": 3
   },
   "file_extension": ".py",
   "mimetype": "text/x-python",
   "name": "python",
   "nbconvert_exporter": "python",
   "pygments_lexer": "ipython3",
   "version": "undefined.undefined.undefined"
  },
  "toc": {
   "base_numbering": 1,
   "nav_menu": {},
   "number_sections": true,
   "sideBar": true,
   "skip_h1_title": false,
   "title_cell": "Table of Contents",
   "title_sidebar": "Contents",
   "toc_cell": true,
   "toc_position": {},
   "toc_section_display": true,
   "toc_window_display": false
  }
 },
 "nbformat": 4,
 "nbformat_minor": 5
}
