{
 "cells": [
  {
   "cell_type": "markdown",
   "id": "fc7c84a3",
   "metadata": {},
   "source": [
    "# Apêndice - Teste Qui Quadrado (Chi-Squared Test)\n",
    "\n",
    "Em outras aulas vimos alguns exemplos de testes de hipótese para avaliar se a média de populações amostradas eram iguais. Vimos isso para 2, mas também apenas 1, população com o teste t. E também para mais grupos usando ANOVA. Porém, nem sempre queremos testar valores referentes a média.\n",
    "\n",
    "Para isso, existem outros testes estatísticos. Existem testes para comparar a mediana, a variância, se um conjunto de dados tem distribuição normal. Outra avaliação comum é comparar a frequência de observações entre diferentes grupos. Em outras palavras, temo 2 variáveis categóricas diferentes e nossas observações se dividem entre elas.\n",
    "\n",
    "Por exemplo, se queremos avaliar se classes processuais diferentes são distribuídas com a mesma frequência para ministros diferentes no STF. Teríamos como variável 1 os ministros e como variável 2 as classes processuais (ou grupos de classe, como controle concentrado). A hipótese contra a qual testaremos por padrão é de que não há relação entre as duas variáveis, logo, ministros diferentes recebem quantidades iguais (ou muito semelhantes) de processos de cada classe.\n",
    "\n",
    "Para isso, podemos usar o teste qui-quadrado. Em outras palavras, temos 2 variáveis categóricas diferentes: classe e ministro e nossas observações se dividem entre elas. \n",
    "\n",
    "O teste qui-quadrado tem como objetivo comparar a distribuição de frequência de observações amostrais entre diferentes categorias. Ele pode é usado quando queremos comparar a distribuição da frequência de observações entre grupos divididos por duas variáveis categóricas.\n",
    "\n",
    "A comparação é feita contra a distribuição esperada. NOrmalmente, e por padrão, iremos comparar com a hipótese de que todos os grupos deveriam receber o mesmo número de observações, mas podemos definir qual distribuição contra qual queremos comparar. Em nosso caso, a expectativa é de que todos os ministros recebem casos muito parecidos de cada classe processual.\n",
    "\n",
    "Veja um exemplo prático abaixo baseado no número de torcedores de 3 times de futebol em 2 cidades diferentes.\n",
    "\n",
    "## Criando um conjunto de dados\n",
    "\n",
    "Imagina que estamos pensando em número de torcedores (em milhões de pessoas) de três times entre dois estados diferentes (números inventados).\n",
    "\n",
    "Obs: O exemplo simplifica a realidade, e considera fatores como outro times ou que na realidade São Paulo tem mais habitantes que o Rio de Janeiro."
   ]
  },
  {
   "cell_type": "code",
   "execution_count": 1,
   "id": "d63de325",
   "metadata": {},
   "outputs": [
    {
     "data": {
      "text/html": [
       "<div>\n",
       "<style scoped>\n",
       "    .dataframe tbody tr th:only-of-type {\n",
       "        vertical-align: middle;\n",
       "    }\n",
       "\n",
       "    .dataframe tbody tr th {\n",
       "        vertical-align: top;\n",
       "    }\n",
       "\n",
       "    .dataframe thead th {\n",
       "        text-align: right;\n",
       "    }\n",
       "</style>\n",
       "<table border=\"1\" class=\"dataframe\">\n",
       "  <thead>\n",
       "    <tr style=\"text-align: right;\">\n",
       "      <th></th>\n",
       "      <th>Time</th>\n",
       "      <th>Estado</th>\n",
       "      <th>Número de torcedores</th>\n",
       "    </tr>\n",
       "  </thead>\n",
       "  <tbody>\n",
       "    <tr>\n",
       "      <th>0</th>\n",
       "      <td>Flamengo</td>\n",
       "      <td>Rio de Janeiro</td>\n",
       "      <td>8.5</td>\n",
       "    </tr>\n",
       "    <tr>\n",
       "      <th>1</th>\n",
       "      <td>Flamengo</td>\n",
       "      <td>São Paulo</td>\n",
       "      <td>4.0</td>\n",
       "    </tr>\n",
       "    <tr>\n",
       "      <th>2</th>\n",
       "      <td>Palmeiras</td>\n",
       "      <td>Rio de Janeiro</td>\n",
       "      <td>0.5</td>\n",
       "    </tr>\n",
       "    <tr>\n",
       "      <th>3</th>\n",
       "      <td>Palmeiras</td>\n",
       "      <td>São Paulo</td>\n",
       "      <td>5.0</td>\n",
       "    </tr>\n",
       "    <tr>\n",
       "      <th>4</th>\n",
       "      <td>Vasco</td>\n",
       "      <td>Rio de Janeiro</td>\n",
       "      <td>2.0</td>\n",
       "    </tr>\n",
       "  </tbody>\n",
       "</table>\n",
       "</div>"
      ],
      "text/plain": [
       "        Time          Estado  Número de torcedores\n",
       "0   Flamengo  Rio de Janeiro                   8.5\n",
       "1   Flamengo       São Paulo                   4.0\n",
       "2  Palmeiras  Rio de Janeiro                   0.5\n",
       "3  Palmeiras       São Paulo                   5.0\n",
       "4      Vasco  Rio de Janeiro                   2.0"
      ]
     },
     "execution_count": 1,
     "metadata": {},
     "output_type": "execute_result"
    }
   ],
   "source": [
    "import pandas as pd\n",
    "from scipy.stats import chi2_contingency\n",
    "\n",
    "df = pd.DataFrame(\n",
    "    columns=[\"Time\", \"Estado\", \"Número de torcedores\"],\n",
    "    data=[\n",
    "        (\"Flamengo\", \"Rio de Janeiro\", 8.5),\n",
    "        (\"Flamengo\", \"São Paulo\", 4),\n",
    "        (\"Palmeiras\", \"Rio de Janeiro\", 0.5),\n",
    "        (\"Palmeiras\", \"São Paulo\", 5),\n",
    "        (\"Vasco\", \"Rio de Janeiro\", 2),\n",
    "        (\"Vasco\", \"São Paulo\", 0.5)\n",
    "    ]\n",
    ")\n",
    "\n",
    "df.head()"
   ]
  },
  {
   "cell_type": "markdown",
   "id": "2cb5cd7f",
   "metadata": {},
   "source": [
    "O teste qui-quadrado (`chi2_contingency`) não espera os dados no formato **tidy** como costumamos usar ao longo do curso. Isso é, não espera que cada linha seja uma observação e cada coluna uma variável.\n",
    "\n",
    "Essa tabela espera que os dados estejam em um formato diferente, onde uma variável (e.g., time) é representada pelas linhas e outra pelas colunas (e.g., Estado). O número de observações é representado pelas células dessa tabela.\n",
    "\n",
    "O nome desse formato de representação de dados é **contingency table**. A forma mais simples para transformar os dados tidy para a tabela de contingência, podemos usar a função `crosstab` do pandas. \n",
    "\n",
    "O código abaixo faz essa transformação. Se não tivéssemos a estrutura acima, mas sim só as categorias, poderíamos omitir os argumentos `values` e `aggfunc`. Vamos mostrar essa segundo forma em seguida."
   ]
  },
  {
   "cell_type": "code",
   "execution_count": 11,
   "id": "a552e523",
   "metadata": {},
   "outputs": [
    {
     "name": "stderr",
     "output_type": "stream",
     "text": [
      "/var/folders/mj/j3hv11_n2k52jb10d4y2k5d00000gn/T/ipykernel_25343/1287707050.py:1: FutureWarning: The provided callable <built-in function sum> is currently using DataFrameGroupBy.sum. In a future version of pandas, the provided callable will be used directly. To keep current behavior pass the string \"sum\" instead.\n",
      "  cont_table = pd.crosstab(df[\"Time\"], df[\"Estado\"], values=df[\"Número de torcedores\"], aggfunc=sum)\n"
     ]
    },
    {
     "data": {
      "text/html": [
       "<div>\n",
       "<style scoped>\n",
       "    .dataframe tbody tr th:only-of-type {\n",
       "        vertical-align: middle;\n",
       "    }\n",
       "\n",
       "    .dataframe tbody tr th {\n",
       "        vertical-align: top;\n",
       "    }\n",
       "\n",
       "    .dataframe thead th {\n",
       "        text-align: right;\n",
       "    }\n",
       "</style>\n",
       "<table border=\"1\" class=\"dataframe\">\n",
       "  <thead>\n",
       "    <tr style=\"text-align: right;\">\n",
       "      <th>Estado</th>\n",
       "      <th>Rio de Janeiro</th>\n",
       "      <th>São Paulo</th>\n",
       "    </tr>\n",
       "    <tr>\n",
       "      <th>Time</th>\n",
       "      <th></th>\n",
       "      <th></th>\n",
       "    </tr>\n",
       "  </thead>\n",
       "  <tbody>\n",
       "    <tr>\n",
       "      <th>Flamengo</th>\n",
       "      <td>8.5</td>\n",
       "      <td>4.0</td>\n",
       "    </tr>\n",
       "    <tr>\n",
       "      <th>Palmeiras</th>\n",
       "      <td>0.5</td>\n",
       "      <td>5.0</td>\n",
       "    </tr>\n",
       "    <tr>\n",
       "      <th>Vasco</th>\n",
       "      <td>2.0</td>\n",
       "      <td>0.5</td>\n",
       "    </tr>\n",
       "  </tbody>\n",
       "</table>\n",
       "</div>"
      ],
      "text/plain": [
       "Estado     Rio de Janeiro  São Paulo\n",
       "Time                                \n",
       "Flamengo              8.5        4.0\n",
       "Palmeiras             0.5        5.0\n",
       "Vasco                 2.0        0.5"
      ]
     },
     "execution_count": 11,
     "metadata": {},
     "output_type": "execute_result"
    }
   ],
   "source": [
    "cont_table = pd.crosstab(df[\"Time\"], df[\"Estado\"], values=df[\"Número de torcedores\"], aggfunc=sum)\n",
    "cont_table"
   ]
  },
  {
   "cell_type": "markdown",
   "id": "45ad64a5",
   "metadata": {},
   "source": [
    "Agora um exemplo menor se precisássemos contar o número de linhas.\n",
    "\n",
    "Por exemplo, cada linha sendo um torcedor diferente, sobre o qual obtemos algumas informações.\n",
    "\n",
    "Não se preocupe com o código aqui, e não nós preocupamos em manter a relação com a realidade como acima. O objetivo é apenas mostrar o uso do `crosstab` para criar a tabela de contingência a partir de dados tidy."
   ]
  },
  {
   "cell_type": "code",
   "execution_count": 6,
   "id": "340240af",
   "metadata": {},
   "outputs": [
    {
     "data": {
      "text/html": [
       "<div>\n",
       "<style scoped>\n",
       "    .dataframe tbody tr th:only-of-type {\n",
       "        vertical-align: middle;\n",
       "    }\n",
       "\n",
       "    .dataframe tbody tr th {\n",
       "        vertical-align: top;\n",
       "    }\n",
       "\n",
       "    .dataframe thead th {\n",
       "        text-align: right;\n",
       "    }\n",
       "</style>\n",
       "<table border=\"1\" class=\"dataframe\">\n",
       "  <thead>\n",
       "    <tr style=\"text-align: right;\">\n",
       "      <th></th>\n",
       "      <th>id_respondente</th>\n",
       "      <th>time</th>\n",
       "      <th>estado</th>\n",
       "    </tr>\n",
       "  </thead>\n",
       "  <tbody>\n",
       "    <tr>\n",
       "      <th>0</th>\n",
       "      <td>0</td>\n",
       "      <td>Vasco</td>\n",
       "      <td>São Paulo</td>\n",
       "    </tr>\n",
       "    <tr>\n",
       "      <th>1</th>\n",
       "      <td>1</td>\n",
       "      <td>Palmeiras</td>\n",
       "      <td>Rio de Janeiro</td>\n",
       "    </tr>\n",
       "  </tbody>\n",
       "</table>\n",
       "</div>"
      ],
      "text/plain": [
       "   id_respondente       time          estado\n",
       "0               0      Vasco       São Paulo\n",
       "1               1  Palmeiras  Rio de Janeiro"
      ]
     },
     "execution_count": 6,
     "metadata": {},
     "output_type": "execute_result"
    }
   ],
   "source": [
    "df_torcedores = pd.DataFrame(\n",
    "    columns=[\"id_respondente\", \"time\", \"estado\"],\n",
    "    data=[\n",
    "        (i, df[\"Time\"].sample().values[0], df[\"Estado\"].sample().values[0])\n",
    "        for i in range(127)\n",
    "    ]\n",
    ")\n",
    "\n",
    "df_torcedores.head(2)"
   ]
  },
  {
   "cell_type": "code",
   "execution_count": 7,
   "id": "e71dcfbe",
   "metadata": {},
   "outputs": [
    {
     "data": {
      "text/html": [
       "<div>\n",
       "<style scoped>\n",
       "    .dataframe tbody tr th:only-of-type {\n",
       "        vertical-align: middle;\n",
       "    }\n",
       "\n",
       "    .dataframe tbody tr th {\n",
       "        vertical-align: top;\n",
       "    }\n",
       "\n",
       "    .dataframe thead th {\n",
       "        text-align: right;\n",
       "    }\n",
       "</style>\n",
       "<table border=\"1\" class=\"dataframe\">\n",
       "  <thead>\n",
       "    <tr style=\"text-align: right;\">\n",
       "      <th>estado</th>\n",
       "      <th>Rio de Janeiro</th>\n",
       "      <th>São Paulo</th>\n",
       "    </tr>\n",
       "    <tr>\n",
       "      <th>time</th>\n",
       "      <th></th>\n",
       "      <th></th>\n",
       "    </tr>\n",
       "  </thead>\n",
       "  <tbody>\n",
       "    <tr>\n",
       "      <th>Flamengo</th>\n",
       "      <td>32</td>\n",
       "      <td>12</td>\n",
       "    </tr>\n",
       "    <tr>\n",
       "      <th>Palmeiras</th>\n",
       "      <td>24</td>\n",
       "      <td>23</td>\n",
       "    </tr>\n",
       "    <tr>\n",
       "      <th>Vasco</th>\n",
       "      <td>16</td>\n",
       "      <td>20</td>\n",
       "    </tr>\n",
       "  </tbody>\n",
       "</table>\n",
       "</div>"
      ],
      "text/plain": [
       "estado     Rio de Janeiro  São Paulo\n",
       "time                                \n",
       "Flamengo               32         12\n",
       "Palmeiras              24         23\n",
       "Vasco                  16         20"
      ]
     },
     "execution_count": 7,
     "metadata": {},
     "output_type": "execute_result"
    }
   ],
   "source": [
    "contingency_from_tidy = pd.crosstab(df_torcedores[\"time\"], df_torcedores[\"estado\"])\n",
    "\n",
    "contingency_from_tidy"
   ]
  },
  {
   "cell_type": "markdown",
   "id": "1baa34e4",
   "metadata": {},
   "source": [
    "# Realizando o teste\n",
    "\n",
    "Agora que os dados estão no formato adequado, podemos realizar o chisquare test!\n",
    "\n",
    "Como você pode ter reparado mais acima, vamos usar a função `chi2_contingency` do módulo `scipy.stats`. Você pode consultar a documentação dela [aqui](https://docs.scipy.org/doc/scipy/reference/generated/scipy.stats.chi2_contingency.html)."
   ]
  },
  {
   "cell_type": "code",
   "execution_count": 12,
   "id": "874e5f7f",
   "metadata": {},
   "outputs": [
    {
     "name": "stdout",
     "output_type": "stream",
     "text": [
      "Estatística Qui-quadrado:     6.1249\n",
      "p-value:            0.046774\n",
      "DoF: 2\n",
      "Frequências esperadas:\n",
      "[[6.70731707 5.79268293]\n",
      " [2.95121951 2.54878049]\n",
      " [1.34146341 1.15853659]]\n"
     ]
    }
   ],
   "source": [
    "chi2, p, dof, expected = chi2_contingency(cont_table)\n",
    "\n",
    "print(f\"Estatística Qui-quadrado:     {chi2:.5g}\")\n",
    "print(f\"p-value:            {p:.5g}\")\n",
    "print(f\"DoF: {dof}\")\n",
    "print(\"Frequências esperadas:\")\n",
    "print(expected)"
   ]
  },
  {
   "cell_type": "markdown",
   "id": "3a515bec",
   "metadata": {},
   "source": [
    "Segundo a documentação, o resultado retorna:\n",
    "\n",
    "chi2 - *The test statistic.*<br>\n",
    "p - *The p-value of the test.*<br>\n",
    "dof - *Degrees of freedom.*<br>\n",
    "expected - *The expected frequencies, based on the marginal sums of the table.*\n",
    "\n",
    "Ou seja, o primeiro valor é a estatística de tamanho do efeito, o segundo valor é o valor p e por último temos quais seriam as frequências esperadas caso a hipótese nula fosse verdadeira.\n",
    "\n",
    "Para melhor visualização poderíamos criar um novo dataframe com os valores esperados e calcular a diferença absoluta:"
   ]
  },
  {
   "cell_type": "code",
   "execution_count": 13,
   "id": "73098a04",
   "metadata": {},
   "outputs": [
    {
     "data": {
      "text/html": [
       "<div>\n",
       "<style scoped>\n",
       "    .dataframe tbody tr th:only-of-type {\n",
       "        vertical-align: middle;\n",
       "    }\n",
       "\n",
       "    .dataframe tbody tr th {\n",
       "        vertical-align: top;\n",
       "    }\n",
       "\n",
       "    .dataframe thead th {\n",
       "        text-align: right;\n",
       "    }\n",
       "</style>\n",
       "<table border=\"1\" class=\"dataframe\">\n",
       "  <thead>\n",
       "    <tr style=\"text-align: right;\">\n",
       "      <th>Estado</th>\n",
       "      <th>Rio de Janeiro</th>\n",
       "      <th>São Paulo</th>\n",
       "    </tr>\n",
       "    <tr>\n",
       "      <th>Time</th>\n",
       "      <th></th>\n",
       "      <th></th>\n",
       "    </tr>\n",
       "  </thead>\n",
       "  <tbody>\n",
       "    <tr>\n",
       "      <th>Flamengo</th>\n",
       "      <td>6.707317</td>\n",
       "      <td>5.792683</td>\n",
       "    </tr>\n",
       "    <tr>\n",
       "      <th>Palmeiras</th>\n",
       "      <td>2.951220</td>\n",
       "      <td>2.548780</td>\n",
       "    </tr>\n",
       "    <tr>\n",
       "      <th>Vasco</th>\n",
       "      <td>1.341463</td>\n",
       "      <td>1.158537</td>\n",
       "    </tr>\n",
       "  </tbody>\n",
       "</table>\n",
       "</div>"
      ],
      "text/plain": [
       "Estado     Rio de Janeiro  São Paulo\n",
       "Time                                \n",
       "Flamengo         6.707317   5.792683\n",
       "Palmeiras        2.951220   2.548780\n",
       "Vasco            1.341463   1.158537"
      ]
     },
     "execution_count": 13,
     "metadata": {},
     "output_type": "execute_result"
    }
   ],
   "source": [
    "# cria df com mesmas colunas e nomes de índices\n",
    "df_expected = pd.DataFrame(\n",
    "    columns=cont_table.columns,\n",
    "    index=cont_table.index,\n",
    "    data=expected\n",
    ")\n",
    "df_expected"
   ]
  },
  {
   "cell_type": "markdown",
   "id": "4f95109f",
   "metadata": {},
   "source": [
    "Para ver a diferença absoluta entre o observado e esperado podemos diminuir os valores:"
   ]
  },
  {
   "cell_type": "code",
   "execution_count": 14,
   "id": "09a948f3",
   "metadata": {},
   "outputs": [
    {
     "data": {
      "text/html": [
       "<div>\n",
       "<style scoped>\n",
       "    .dataframe tbody tr th:only-of-type {\n",
       "        vertical-align: middle;\n",
       "    }\n",
       "\n",
       "    .dataframe tbody tr th {\n",
       "        vertical-align: top;\n",
       "    }\n",
       "\n",
       "    .dataframe thead th {\n",
       "        text-align: right;\n",
       "    }\n",
       "</style>\n",
       "<table border=\"1\" class=\"dataframe\">\n",
       "  <thead>\n",
       "    <tr style=\"text-align: right;\">\n",
       "      <th>Estado</th>\n",
       "      <th>Rio de Janeiro</th>\n",
       "      <th>São Paulo</th>\n",
       "    </tr>\n",
       "    <tr>\n",
       "      <th>Time</th>\n",
       "      <th></th>\n",
       "      <th></th>\n",
       "    </tr>\n",
       "  </thead>\n",
       "  <tbody>\n",
       "    <tr>\n",
       "      <th>Flamengo</th>\n",
       "      <td>1.792683</td>\n",
       "      <td>-1.792683</td>\n",
       "    </tr>\n",
       "    <tr>\n",
       "      <th>Palmeiras</th>\n",
       "      <td>-2.451220</td>\n",
       "      <td>2.451220</td>\n",
       "    </tr>\n",
       "    <tr>\n",
       "      <th>Vasco</th>\n",
       "      <td>0.658537</td>\n",
       "      <td>-0.658537</td>\n",
       "    </tr>\n",
       "  </tbody>\n",
       "</table>\n",
       "</div>"
      ],
      "text/plain": [
       "Estado     Rio de Janeiro  São Paulo\n",
       "Time                                \n",
       "Flamengo         1.792683  -1.792683\n",
       "Palmeiras       -2.451220   2.451220\n",
       "Vasco            0.658537  -0.658537"
      ]
     },
     "execution_count": 14,
     "metadata": {},
     "output_type": "execute_result"
    }
   ],
   "source": [
    "cont_table - df_expected"
   ]
  },
  {
   "cell_type": "markdown",
   "id": "a45839ff",
   "metadata": {},
   "source": [
    "O que encontramos como resultado? \n",
    "\n",
    "Considere a significância do valor p, e que a diferença observada positiva significa que o número de torcedores de determinado time naquele estado é maior que o esperado se não houvesse relação entre as duas variáveis, e se negativo menor que o esperado."
   ]
  }
 ],
 "metadata": {
  "kernelspec": {
   "display_name": "eda_312",
   "language": "python",
   "name": "python3"
  },
  "language_info": {
   "codemirror_mode": {
    "name": "ipython",
    "version": 3
   },
   "file_extension": ".py",
   "mimetype": "text/x-python",
   "name": "python",
   "nbconvert_exporter": "python",
   "pygments_lexer": "ipython3",
   "version": "3.12.3"
  },
  "toc": {
   "base_numbering": 1,
   "nav_menu": {},
   "number_sections": true,
   "sideBar": true,
   "skip_h1_title": false,
   "title_cell": "Table of Contents",
   "title_sidebar": "Contents",
   "toc_cell": false,
   "toc_position": {},
   "toc_section_display": true,
   "toc_window_display": false
  }
 },
 "nbformat": 4,
 "nbformat_minor": 5
}
