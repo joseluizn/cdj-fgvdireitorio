{
 "cells": [
  {
   "attachments": {},
   "cell_type": "markdown",
   "metadata": {},
   "source": [
    "# Material de Apoio {.unnumbered}\n",
    "\n",
    "1. A explicação do pandas sobre o GroupBy, e o método de `split-apply-combine` é uma boa referência: [https://pandas.pydata.org/pandas-docs/stable/user_guide/groupby.html](https://pandas.pydata.org/pandas-docs/stable/user_guide/groupby.html)\n",
    "2. Essa postagem mostra algumas funcionalidades úteis do groupby, e é feita em português: [https://medium.com/data-hackers/8-coisas-que-voc%C3%AA-n%C3%A3o-sabia-sobre-o-pandas-groupby-b2c9033d7034](https://medium.com/data-hackers/8-coisas-que-voc%C3%AA-n%C3%A3o-sabia-sobre-o-pandas-groupby-b2c9033d7034)\n",
    "3. [Essa postagem em inglês tem conteúdo semelhante, mas inclui uma explicação de como o groupby funciona no início](https://towardsdatascience.com/5-pandas-group-by-tricks-you-should-know-in-python-f53246c92c94)"
   ]
  },
  {
   "attachments": {},
   "cell_type": "markdown",
   "metadata": {},
   "source": [
    "# Caso 2\n",
    "\n",
    "Em 2017, o MP questionou judicialmente os gastos com saúde do Estado. Segundo o MP, [os investimentos foram realizados abaixo dos limites mínimos estabelecidos por lei](https://oglobo.globo.com/rio/rj-investiu-apenas-6-da-receita-na-saude-ate-fim-de-outubro-dizmp-22191439). Trata-se de uma violação grave com repercussões jurídicas relevantes.\n",
    "\n",
    "Como parte do seu papel de fiscalização, o MP do Rio de Janeiro usou os dados publicados pelo Estado sobre as previsões e execuções orçamentárias para verificar se os limites estavam sendo respeitados. Os dados estão disponíveis na seguinte URL:\n",
    "\n",
    "http://bit.ly/3bMquz7\n",
    "\n",
    "Para recriar os passos do MP, podemos ler o arquivo simplesmente passando a URL como argumento para a função `pd.read_csv`:"
   ]
  },
  {
   "cell_type": "code",
   "execution_count": 1,
   "metadata": {},
   "outputs": [],
   "source": [
    "import pandas as pd\n",
    "\n",
    "despesas18 = pd.read_csv(\"http://bit.ly/3bMquz7\")"
   ]
  },
  {
   "cell_type": "markdown",
   "metadata": {},
   "source": [
    "Qual é o tipo de `despesas18`?"
   ]
  },
  {
   "cell_type": "code",
   "execution_count": 2,
   "metadata": {},
   "outputs": [
    {
     "data": {
      "text/plain": [
       "pandas.core.frame.DataFrame"
      ]
     },
     "execution_count": 2,
     "metadata": {},
     "output_type": "execute_result"
    }
   ],
   "source": [
    "type(despesas18)"
   ]
  },
  {
   "cell_type": "markdown",
   "metadata": {},
   "source": [
    "Trata-se de um `DataFrame`: uma estrutura de dados que alia algumas das vantagens de dicionários a uma série de métodos próprios que facilitam imensamente a vida de quem está analisando dados.\n",
    "\n",
    "A seguir, vemos alguns desses métodos no contexto dos dados do Estado do Rio de Janeiro. Para recapitular com mais detalhes, volte a primeira parte da apostila em que apresentamos com maior minúcia as funções do pandas. Nessa aula, vamos seguir um fluxo que seria natural para entender e explorar um conjunto de dados desconhecido.\n",
    "\n",
    "Se quisermos dar uma olhada nos dados que acabamos de baixar, podemos usar o método `.head()`, que mostra apenas as 5 primeiras linhas."
   ]
  },
  {
   "cell_type": "code",
   "execution_count": 3,
   "metadata": {},
   "outputs": [
    {
     "data": {
      "text/html": [
       "<div>\n",
       "<style scoped>\n",
       "    .dataframe tbody tr th:only-of-type {\n",
       "        vertical-align: middle;\n",
       "    }\n",
       "\n",
       "    .dataframe tbody tr th {\n",
       "        vertical-align: top;\n",
       "    }\n",
       "\n",
       "    .dataframe thead th {\n",
       "        text-align: right;\n",
       "    }\n",
       "</style>\n",
       "<table border=\"1\" class=\"dataframe\">\n",
       "  <thead>\n",
       "    <tr style=\"text-align: right;\">\n",
       "      <th></th>\n",
       "      <th>Poder</th>\n",
       "      <th>Elemento</th>\n",
       "      <th>Sub Elemento</th>\n",
       "      <th>Órgão</th>\n",
       "      <th>UO</th>\n",
       "      <th>UG</th>\n",
       "      <th>Credor</th>\n",
       "      <th>Fonte de Recursos</th>\n",
       "      <th>Função</th>\n",
       "      <th>Sub Função</th>\n",
       "      <th>Licitação</th>\n",
       "      <th>Valor Empenhado</th>\n",
       "      <th>Valor Liquidado</th>\n",
       "      <th>Valor Pago</th>\n",
       "    </tr>\n",
       "  </thead>\n",
       "  <tbody>\n",
       "    <tr>\n",
       "      <th>0</th>\n",
       "      <td>Executivo</td>\n",
       "      <td>Outros Serviços de Terceiros - Pessoa Física</td>\n",
       "      <td>NaN</td>\n",
       "      <td>Secretaria de Estado da Casa Civil e Desenvol</td>\n",
       "      <td>Departamento de Trânsito do Estado do Rio de</td>\n",
       "      <td>DEPARTAMENTO DE TRANSITO DO RIO DE JANEIRO</td>\n",
       "      <td>ALEXANDRE CESAR DE SOUZA</td>\n",
       "      <td>Taxas pelo Exercício do Poder de Polícia e por...</td>\n",
       "      <td>Segurança Pública</td>\n",
       "      <td>Administração Geral</td>\n",
       "      <td>DISPENSA</td>\n",
       "      <td>0</td>\n",
       "      <td>0</td>\n",
       "      <td>0</td>\n",
       "    </tr>\n",
       "    <tr>\n",
       "      <th>1</th>\n",
       "      <td>Executivo</td>\n",
       "      <td>Diárias - Civil</td>\n",
       "      <td>NaN</td>\n",
       "      <td>Secretaria de Estado de Transportes</td>\n",
       "      <td>Instituto de Pesos e Medidas do Estado do Rio</td>\n",
       "      <td>INSTITUTO DE PESOS E MEDIDAS DO RJ</td>\n",
       "      <td>LUIS ALEXANDRE FERREIRA SILVEIRA</td>\n",
       "      <td>Transferências Voluntárias</td>\n",
       "      <td>Indústria</td>\n",
       "      <td>Administração Geral</td>\n",
       "      <td>NAO APLICAVEL</td>\n",
       "      <td>0</td>\n",
       "      <td>0</td>\n",
       "      <td>0</td>\n",
       "    </tr>\n",
       "    <tr>\n",
       "      <th>2</th>\n",
       "      <td>Executivo</td>\n",
       "      <td>Outros Serviços de Terceiros - Pessoa Jurídic</td>\n",
       "      <td>NaN</td>\n",
       "      <td>Secretaria de Estado de Saúde</td>\n",
       "      <td>Fundo Estadual de Saúde</td>\n",
       "      <td>FUNDO ESTADUAL DE SAUDE - FES</td>\n",
       "      <td>BRASIL SUL IND E COM LTDA</td>\n",
       "      <td>Adicional do ICMS - FECP</td>\n",
       "      <td>Saúde</td>\n",
       "      <td>Assistência Hospitalar e Ambulatorial</td>\n",
       "      <td>PREGÃO ELETRÔNICO</td>\n",
       "      <td>0</td>\n",
       "      <td>0</td>\n",
       "      <td>0</td>\n",
       "    </tr>\n",
       "    <tr>\n",
       "      <th>3</th>\n",
       "      <td>Executivo</td>\n",
       "      <td>Material de Consumo</td>\n",
       "      <td>NaN</td>\n",
       "      <td>Secretaria de Estado da Casa Civil e Desenvol</td>\n",
       "      <td>Subsecretaria de Estado de Governo</td>\n",
       "      <td>SUBSEC. DE REC. LOGISTICOS - SEFAZ-LOGISTICA</td>\n",
       "      <td>PETROBRAS DISTRIBUIDORA S/A</td>\n",
       "      <td>Ordinários Provenientes de Impostos</td>\n",
       "      <td>Administração</td>\n",
       "      <td>Administração Geral</td>\n",
       "      <td>PREGÃO ELETRÔNICO</td>\n",
       "      <td>0</td>\n",
       "      <td>0</td>\n",
       "      <td>0</td>\n",
       "    </tr>\n",
       "    <tr>\n",
       "      <th>4</th>\n",
       "      <td>Executivo</td>\n",
       "      <td>Outros Serviços de Terceiros - Pessoa Jurídic</td>\n",
       "      <td>NaN</td>\n",
       "      <td>Secretaria de Estado de Ciência Tecnologia  I</td>\n",
       "      <td>Subsecretaria de Cultura</td>\n",
       "      <td>SECRETARIA DE ESTADO DE CULTURA</td>\n",
       "      <td>NaN</td>\n",
       "      <td>Ordinários Provenientes de Impostos</td>\n",
       "      <td>Cultura</td>\n",
       "      <td>Administração Geral</td>\n",
       "      <td>DISPENSA</td>\n",
       "      <td>0</td>\n",
       "      <td>0</td>\n",
       "      <td>0</td>\n",
       "    </tr>\n",
       "  </tbody>\n",
       "</table>\n",
       "</div>"
      ],
      "text/plain": [
       "       Poder                                       Elemento Sub Elemento  \\\n",
       "0  Executivo   Outros Serviços de Terceiros - Pessoa Física          NaN   \n",
       "1  Executivo                                Diárias - Civil          NaN   \n",
       "2  Executivo  Outros Serviços de Terceiros - Pessoa Jurídic          NaN   \n",
       "3  Executivo                            Material de Consumo          NaN   \n",
       "4  Executivo  Outros Serviços de Terceiros - Pessoa Jurídic          NaN   \n",
       "\n",
       "                                           Órgão  \\\n",
       "0  Secretaria de Estado da Casa Civil e Desenvol   \n",
       "1            Secretaria de Estado de Transportes   \n",
       "2                  Secretaria de Estado de Saúde   \n",
       "3  Secretaria de Estado da Casa Civil e Desenvol   \n",
       "4  Secretaria de Estado de Ciência Tecnologia  I   \n",
       "\n",
       "                                              UO  \\\n",
       "0   Departamento de Trânsito do Estado do Rio de   \n",
       "1  Instituto de Pesos e Medidas do Estado do Rio   \n",
       "2                        Fundo Estadual de Saúde   \n",
       "3             Subsecretaria de Estado de Governo   \n",
       "4                       Subsecretaria de Cultura   \n",
       "\n",
       "                                             UG  \\\n",
       "0    DEPARTAMENTO DE TRANSITO DO RIO DE JANEIRO   \n",
       "1            INSTITUTO DE PESOS E MEDIDAS DO RJ   \n",
       "2                 FUNDO ESTADUAL DE SAUDE - FES   \n",
       "3  SUBSEC. DE REC. LOGISTICOS - SEFAZ-LOGISTICA   \n",
       "4               SECRETARIA DE ESTADO DE CULTURA   \n",
       "\n",
       "                             Credor  \\\n",
       "0          ALEXANDRE CESAR DE SOUZA   \n",
       "1  LUIS ALEXANDRE FERREIRA SILVEIRA   \n",
       "2         BRASIL SUL IND E COM LTDA   \n",
       "3       PETROBRAS DISTRIBUIDORA S/A   \n",
       "4                               NaN   \n",
       "\n",
       "                                   Fonte de Recursos             Função  \\\n",
       "0  Taxas pelo Exercício do Poder de Polícia e por...  Segurança Pública   \n",
       "1                         Transferências Voluntárias          Indústria   \n",
       "2                           Adicional do ICMS - FECP              Saúde   \n",
       "3                Ordinários Provenientes de Impostos      Administração   \n",
       "4                Ordinários Provenientes de Impostos            Cultura   \n",
       "\n",
       "                              Sub Função          Licitação Valor Empenhado  \\\n",
       "0                    Administração Geral           DISPENSA               0   \n",
       "1                    Administração Geral      NAO APLICAVEL               0   \n",
       "2  Assistência Hospitalar e Ambulatorial  PREGÃO ELETRÔNICO               0   \n",
       "3                    Administração Geral  PREGÃO ELETRÔNICO               0   \n",
       "4                    Administração Geral           DISPENSA               0   \n",
       "\n",
       "  Valor Liquidado Valor Pago  \n",
       "0               0          0  \n",
       "1               0          0  \n",
       "2               0          0  \n",
       "3               0          0  \n",
       "4               0          0  "
      ]
     },
     "execution_count": 3,
     "metadata": {},
     "output_type": "execute_result"
    }
   ],
   "source": [
    "despesas18.head()"
   ]
  },
  {
   "cell_type": "markdown",
   "metadata": {},
   "source": [
    "Por que não podemos simplesmente dar `print` em `despesas18`? Até podemos, mas, como o arquivo é muito grande, essa parece ser uma má ideia. O atributo `.shape` nos permite ver quantas linhas e colunas um `DataFrame` possui:"
   ]
  },
  {
   "cell_type": "code",
   "execution_count": 4,
   "metadata": {},
   "outputs": [
    {
     "data": {
      "text/plain": [
       "(99190, 14)"
      ]
     },
     "execution_count": 4,
     "metadata": {},
     "output_type": "execute_result"
    }
   ],
   "source": [
    "despesas18.shape"
   ]
  },
  {
   "cell_type": "markdown",
   "metadata": {},
   "source": [
    "Estamos falando de 99.190 linhas! Não faz sentido imprimirmos todas elas e é quase impossível imaginar que uma pessoa ou um grupo pequeno de pessoas poderia fazer qualquer verificação exaustiva de maneira manual. Mesmo no Excel, é difícil lidar com esse volume de dados.\n",
    "\n",
    "O `pandas`, porém, facilita a nossa vida. As informações em um `DataFrame` são armazenadas como uma tabela, em **linhas** e **colunas**. O atributo `.shape` nos informa quantas linhas (primeiro elemento) e quantas colunas (segundo elemento) um `DataFrame` contém. `DataFrames` podem ter seus elementos acessáveis através de índices.\n",
    "\n",
    "No caso anterior, verificamos como fazer as coisas mais básicas com o Pandas, podemos seguir adiante com o nosso objetivo de investigar apenas os gastos com saúde e sua relação com os demais gastos do governo.\n",
    "\n",
    "Uma avaliação preliminar nos mostra que essa informação está contida na coluna \"Função\". O Pandas possui um método que vai ser bastante útil na hora de trabalhar com dados do direito: `.value_counts()`, que retorna o número de ocorrências que cada categoria possui."
   ]
  },
  {
   "cell_type": "code",
   "execution_count": 5,
   "metadata": {},
   "outputs": [
    {
     "data": {
      "text/plain": [
       "Função\n",
       "Educação                 30536\n",
       "Segurança Pública        12789\n",
       "Saúde                    11429\n",
       "Transporte                5669\n",
       "Essencial à Justiça       5416\n",
       "Agricultura               4918\n",
       "Administração             4476\n",
       "Assistência Social        2720\n",
       "Judiciária                2428\n",
       "Comércio e Serviços       2408\n",
       "Gestão Ambiental          2326\n",
       "Previdência Social        2175\n",
       "Legislativa               2113\n",
       "Indústria                 1960\n",
       "Cultura                   1587\n",
       "Ciência e Tecnologia      1586\n",
       "Encargos Especiais        1138\n",
       "Urbanismo                  731\n",
       "Direitos da Cidadania      644\n",
       "Desporto e Lazer           528\n",
       "Trabalho                   520\n",
       "Habitação                  518\n",
       "Organização Agrária        230\n",
       "Saneamento                 188\n",
       "Comunicações               157\n",
       "Name: count, dtype: int64"
      ]
     },
     "execution_count": 5,
     "metadata": {},
     "output_type": "execute_result"
    }
   ],
   "source": [
    "despesas18[\"Função\"].value_counts()"
   ]
  },
  {
   "cell_type": "markdown",
   "metadata": {},
   "source": [
    "De pronto, essa função nos informa que a rúbrica mais frequente é referente a \"Educação\", seguida por \"Segurança Pública\" e \"Saúde\". Mas isso não é suficiente para responder as perguntas que propusemos anteriormente. Para tal, precisamos saber qual **valor** foi efetivamente pago para cada uma dessas rúbricas.\n",
    "\n",
    "Para descobrir isso, precisamos pegar a soma dos montantes registrados nas 11.429 linhas dedicadas à saúde e comparar o valor resultante com o gasto global. Para fazer isso, podemos usar duas ferramentas: o método `.sum()`, próprio das `Series`, estrutura de dados contida em cada coluna de um `DataFrame`, e a indexação lógica, onde podemos escolher subseções de um `DataFrame` com base em condições lógicas.\n",
    "\n",
    "Antes disso, porém, precisamos transformar a coluna \"Valor Pago\" em uma coluna numérica. Se acessarmos os tipos das colunas contidas em `despesas18`, veremos que, por enquanto, \"Valor Pago\" é do tipo `object`:"
   ]
  },
  {
   "cell_type": "code",
   "execution_count": 6,
   "metadata": {},
   "outputs": [
    {
     "name": "stdout",
     "output_type": "stream",
     "text": [
      "<class 'pandas.core.frame.DataFrame'>\n",
      "RangeIndex: 99190 entries, 0 to 99189\n",
      "Data columns (total 14 columns):\n",
      " #   Column             Non-Null Count  Dtype \n",
      "---  ------             --------------  ----- \n",
      " 0   Poder              99190 non-null  object\n",
      " 1   Elemento           99190 non-null  object\n",
      " 2   Sub Elemento       68505 non-null  object\n",
      " 3   Órgão              99190 non-null  object\n",
      " 4   UO                 99190 non-null  object\n",
      " 5   UG                 99190 non-null  object\n",
      " 6   Credor             69866 non-null  object\n",
      " 7   Fonte de Recursos  99190 non-null  object\n",
      " 8   Função             99190 non-null  object\n",
      " 9   Sub Função         99190 non-null  object\n",
      " 10  Licitação          99190 non-null  object\n",
      " 11  Valor Empenhado    98304 non-null  object\n",
      " 12  Valor Liquidado    98304 non-null  object\n",
      " 13  Valor Pago         98304 non-null  object\n",
      "dtypes: object(14)\n",
      "memory usage: 10.6+ MB\n"
     ]
    }
   ],
   "source": [
    "despesas18.info()"
   ]
  },
  {
   "cell_type": "markdown",
   "metadata": {},
   "source": [
    "Vamos imprimir os 5 primeiros valores de \"Valor Pago\" para darmos uma olhada em seu conteúdo."
   ]
  },
  {
   "cell_type": "code",
   "execution_count": 7,
   "metadata": {},
   "outputs": [
    {
     "data": {
      "text/plain": [
       "0    0\n",
       "1    0\n",
       "2    0\n",
       "3    0\n",
       "4    0\n",
       "Name: Valor Pago, dtype: object"
      ]
     },
     "execution_count": 7,
     "metadata": {},
     "output_type": "execute_result"
    }
   ],
   "source": [
    "despesas18.iloc[0:5][\"Valor Pago\"]"
   ]
  },
  {
   "cell_type": "markdown",
   "metadata": {},
   "source": [
    "Isso não foi muito informativo... Quando o valor é 0 - e aparentemente o valor é 0 na maioria dos casos - nós não temos como saber porque a coluna não foi interpretada pelo Python como do tipo `float`. Podemos usar a **indexação lógica** para resolver esse problema. Sabemos que existem valores pagos pelo Estado. Portanto, nem todas as colunas podem ter valor = 0. Para saber quais valores estão preenchidos, portanto, basta *eliminar* o caracter \"0\" dessa coluna e ver o que permanece preenchido!\n",
    "\n",
    "Podemos filtrar a tabela utilizando o `query`. **Note que como a coluna é do tipo object, ela armazena valores em texto. Assim precisamos delimitar o 0 como string dentro do query**.\n",
    "\n",
    "Vamos nos restringir a coluna de interesse."
   ]
  },
  {
   "cell_type": "code",
   "execution_count": 8,
   "metadata": {},
   "outputs": [
    {
     "data": {
      "text/plain": [
       "360           112440\n",
       "361      15716395,53\n",
       "365         310484,5\n",
       "366         38402,37\n",
       "390        209623,99\n",
       "            ...     \n",
       "99185            NaN\n",
       "99186            NaN\n",
       "99187            NaN\n",
       "99188            NaN\n",
       "99189            NaN\n",
       "Name: Valor Pago, Length: 54061, dtype: object"
      ]
     },
     "execution_count": 8,
     "metadata": {},
     "output_type": "execute_result"
    }
   ],
   "source": [
    "despesas18.query(\"`Valor Pago` != '0'\")[\"Valor Pago\"]"
   ]
  },
  {
   "cell_type": "markdown",
   "metadata": {},
   "source": [
    "Agora podemos ver que o comportamento dos números. Valores decimais estão sendo representados com vírgula, o que é o padrão fora dos Estados Unidos.\n",
    "\n",
    "O que acontece se tentarmos simplesmente transformar o valor pago como está acima em `float`? Em tese, isso pode ser feito para cada célula através do método `.astype()`. "
   ]
  },
  {
   "cell_type": "code",
   "execution_count": 9,
   "metadata": {},
   "outputs": [
    {
     "ename": "ValueError",
     "evalue": "could not convert string to float: '15716395,53'",
     "output_type": "error",
     "traceback": [
      "\u001b[1;31m---------------------------------------------------------------------------\u001b[0m",
      "\u001b[1;31mValueError\u001b[0m                                Traceback (most recent call last)",
      "Cell \u001b[1;32mIn[9], line 1\u001b[0m\n\u001b[1;32m----> 1\u001b[0m despesas18[\u001b[38;5;124m\"\u001b[39m\u001b[38;5;124mValor Pago Float\u001b[39m\u001b[38;5;124m\"\u001b[39m] \u001b[38;5;241m=\u001b[39m \u001b[43mdespesas18\u001b[49m\u001b[43m[\u001b[49m\u001b[38;5;124;43m\"\u001b[39;49m\u001b[38;5;124;43mValor Pago\u001b[39;49m\u001b[38;5;124;43m\"\u001b[39;49m\u001b[43m]\u001b[49m\u001b[38;5;241;43m.\u001b[39;49m\u001b[43mastype\u001b[49m\u001b[43m(\u001b[49m\u001b[38;5;124;43m\"\u001b[39;49m\u001b[38;5;124;43mfloat\u001b[39;49m\u001b[38;5;124;43m\"\u001b[39;49m\u001b[43m)\u001b[49m\n",
      "File \u001b[1;32mc:\\ProgramData\\Miniconda3\\envs\\eda\\Lib\\site-packages\\pandas\\core\\generic.py:6643\u001b[0m, in \u001b[0;36mNDFrame.astype\u001b[1;34m(self, dtype, copy, errors)\u001b[0m\n\u001b[0;32m   6637\u001b[0m     results \u001b[38;5;241m=\u001b[39m [\n\u001b[0;32m   6638\u001b[0m         ser\u001b[38;5;241m.\u001b[39mastype(dtype, copy\u001b[38;5;241m=\u001b[39mcopy, errors\u001b[38;5;241m=\u001b[39merrors) \u001b[38;5;28;01mfor\u001b[39;00m _, ser \u001b[38;5;129;01min\u001b[39;00m \u001b[38;5;28mself\u001b[39m\u001b[38;5;241m.\u001b[39mitems()\n\u001b[0;32m   6639\u001b[0m     ]\n\u001b[0;32m   6641\u001b[0m \u001b[38;5;28;01melse\u001b[39;00m:\n\u001b[0;32m   6642\u001b[0m     \u001b[38;5;66;03m# else, only a single dtype is given\u001b[39;00m\n\u001b[1;32m-> 6643\u001b[0m     new_data \u001b[38;5;241m=\u001b[39m \u001b[38;5;28;43mself\u001b[39;49m\u001b[38;5;241;43m.\u001b[39;49m\u001b[43m_mgr\u001b[49m\u001b[38;5;241;43m.\u001b[39;49m\u001b[43mastype\u001b[49m\u001b[43m(\u001b[49m\u001b[43mdtype\u001b[49m\u001b[38;5;241;43m=\u001b[39;49m\u001b[43mdtype\u001b[49m\u001b[43m,\u001b[49m\u001b[43m \u001b[49m\u001b[43mcopy\u001b[49m\u001b[38;5;241;43m=\u001b[39;49m\u001b[43mcopy\u001b[49m\u001b[43m,\u001b[49m\u001b[43m \u001b[49m\u001b[43merrors\u001b[49m\u001b[38;5;241;43m=\u001b[39;49m\u001b[43merrors\u001b[49m\u001b[43m)\u001b[49m\n\u001b[0;32m   6644\u001b[0m     res \u001b[38;5;241m=\u001b[39m \u001b[38;5;28mself\u001b[39m\u001b[38;5;241m.\u001b[39m_constructor_from_mgr(new_data, axes\u001b[38;5;241m=\u001b[39mnew_data\u001b[38;5;241m.\u001b[39maxes)\n\u001b[0;32m   6645\u001b[0m     \u001b[38;5;28;01mreturn\u001b[39;00m res\u001b[38;5;241m.\u001b[39m__finalize__(\u001b[38;5;28mself\u001b[39m, method\u001b[38;5;241m=\u001b[39m\u001b[38;5;124m\"\u001b[39m\u001b[38;5;124mastype\u001b[39m\u001b[38;5;124m\"\u001b[39m)\n",
      "File \u001b[1;32mc:\\ProgramData\\Miniconda3\\envs\\eda\\Lib\\site-packages\\pandas\\core\\internals\\managers.py:430\u001b[0m, in \u001b[0;36mBaseBlockManager.astype\u001b[1;34m(self, dtype, copy, errors)\u001b[0m\n\u001b[0;32m    427\u001b[0m \u001b[38;5;28;01melif\u001b[39;00m using_copy_on_write():\n\u001b[0;32m    428\u001b[0m     copy \u001b[38;5;241m=\u001b[39m \u001b[38;5;28;01mFalse\u001b[39;00m\n\u001b[1;32m--> 430\u001b[0m \u001b[38;5;28;01mreturn\u001b[39;00m \u001b[38;5;28;43mself\u001b[39;49m\u001b[38;5;241;43m.\u001b[39;49m\u001b[43mapply\u001b[49m\u001b[43m(\u001b[49m\n\u001b[0;32m    431\u001b[0m \u001b[43m    \u001b[49m\u001b[38;5;124;43m\"\u001b[39;49m\u001b[38;5;124;43mastype\u001b[39;49m\u001b[38;5;124;43m\"\u001b[39;49m\u001b[43m,\u001b[49m\n\u001b[0;32m    432\u001b[0m \u001b[43m    \u001b[49m\u001b[43mdtype\u001b[49m\u001b[38;5;241;43m=\u001b[39;49m\u001b[43mdtype\u001b[49m\u001b[43m,\u001b[49m\n\u001b[0;32m    433\u001b[0m \u001b[43m    \u001b[49m\u001b[43mcopy\u001b[49m\u001b[38;5;241;43m=\u001b[39;49m\u001b[43mcopy\u001b[49m\u001b[43m,\u001b[49m\n\u001b[0;32m    434\u001b[0m \u001b[43m    \u001b[49m\u001b[43merrors\u001b[49m\u001b[38;5;241;43m=\u001b[39;49m\u001b[43merrors\u001b[49m\u001b[43m,\u001b[49m\n\u001b[0;32m    435\u001b[0m \u001b[43m    \u001b[49m\u001b[43musing_cow\u001b[49m\u001b[38;5;241;43m=\u001b[39;49m\u001b[43musing_copy_on_write\u001b[49m\u001b[43m(\u001b[49m\u001b[43m)\u001b[49m\u001b[43m,\u001b[49m\n\u001b[0;32m    436\u001b[0m \u001b[43m\u001b[49m\u001b[43m)\u001b[49m\n",
      "File \u001b[1;32mc:\\ProgramData\\Miniconda3\\envs\\eda\\Lib\\site-packages\\pandas\\core\\internals\\managers.py:363\u001b[0m, in \u001b[0;36mBaseBlockManager.apply\u001b[1;34m(self, f, align_keys, **kwargs)\u001b[0m\n\u001b[0;32m    361\u001b[0m         applied \u001b[38;5;241m=\u001b[39m b\u001b[38;5;241m.\u001b[39mapply(f, \u001b[38;5;241m*\u001b[39m\u001b[38;5;241m*\u001b[39mkwargs)\n\u001b[0;32m    362\u001b[0m     \u001b[38;5;28;01melse\u001b[39;00m:\n\u001b[1;32m--> 363\u001b[0m         applied \u001b[38;5;241m=\u001b[39m \u001b[38;5;28;43mgetattr\u001b[39;49m\u001b[43m(\u001b[49m\u001b[43mb\u001b[49m\u001b[43m,\u001b[49m\u001b[43m \u001b[49m\u001b[43mf\u001b[49m\u001b[43m)\u001b[49m\u001b[43m(\u001b[49m\u001b[38;5;241;43m*\u001b[39;49m\u001b[38;5;241;43m*\u001b[39;49m\u001b[43mkwargs\u001b[49m\u001b[43m)\u001b[49m\n\u001b[0;32m    364\u001b[0m     result_blocks \u001b[38;5;241m=\u001b[39m extend_blocks(applied, result_blocks)\n\u001b[0;32m    366\u001b[0m out \u001b[38;5;241m=\u001b[39m \u001b[38;5;28mtype\u001b[39m(\u001b[38;5;28mself\u001b[39m)\u001b[38;5;241m.\u001b[39mfrom_blocks(result_blocks, \u001b[38;5;28mself\u001b[39m\u001b[38;5;241m.\u001b[39maxes)\n",
      "File \u001b[1;32mc:\\ProgramData\\Miniconda3\\envs\\eda\\Lib\\site-packages\\pandas\\core\\internals\\blocks.py:758\u001b[0m, in \u001b[0;36mBlock.astype\u001b[1;34m(self, dtype, copy, errors, using_cow, squeeze)\u001b[0m\n\u001b[0;32m    755\u001b[0m         \u001b[38;5;28;01mraise\u001b[39;00m \u001b[38;5;167;01mValueError\u001b[39;00m(\u001b[38;5;124m\"\u001b[39m\u001b[38;5;124mCan not squeeze with more than one column.\u001b[39m\u001b[38;5;124m\"\u001b[39m)\n\u001b[0;32m    756\u001b[0m     values \u001b[38;5;241m=\u001b[39m values[\u001b[38;5;241m0\u001b[39m, :]  \u001b[38;5;66;03m# type: ignore[call-overload]\u001b[39;00m\n\u001b[1;32m--> 758\u001b[0m new_values \u001b[38;5;241m=\u001b[39m \u001b[43mastype_array_safe\u001b[49m\u001b[43m(\u001b[49m\u001b[43mvalues\u001b[49m\u001b[43m,\u001b[49m\u001b[43m \u001b[49m\u001b[43mdtype\u001b[49m\u001b[43m,\u001b[49m\u001b[43m \u001b[49m\u001b[43mcopy\u001b[49m\u001b[38;5;241;43m=\u001b[39;49m\u001b[43mcopy\u001b[49m\u001b[43m,\u001b[49m\u001b[43m \u001b[49m\u001b[43merrors\u001b[49m\u001b[38;5;241;43m=\u001b[39;49m\u001b[43merrors\u001b[49m\u001b[43m)\u001b[49m\n\u001b[0;32m    760\u001b[0m new_values \u001b[38;5;241m=\u001b[39m maybe_coerce_values(new_values)\n\u001b[0;32m    762\u001b[0m refs \u001b[38;5;241m=\u001b[39m \u001b[38;5;28;01mNone\u001b[39;00m\n",
      "File \u001b[1;32mc:\\ProgramData\\Miniconda3\\envs\\eda\\Lib\\site-packages\\pandas\\core\\dtypes\\astype.py:237\u001b[0m, in \u001b[0;36mastype_array_safe\u001b[1;34m(values, dtype, copy, errors)\u001b[0m\n\u001b[0;32m    234\u001b[0m     dtype \u001b[38;5;241m=\u001b[39m dtype\u001b[38;5;241m.\u001b[39mnumpy_dtype\n\u001b[0;32m    236\u001b[0m \u001b[38;5;28;01mtry\u001b[39;00m:\n\u001b[1;32m--> 237\u001b[0m     new_values \u001b[38;5;241m=\u001b[39m \u001b[43mastype_array\u001b[49m\u001b[43m(\u001b[49m\u001b[43mvalues\u001b[49m\u001b[43m,\u001b[49m\u001b[43m \u001b[49m\u001b[43mdtype\u001b[49m\u001b[43m,\u001b[49m\u001b[43m \u001b[49m\u001b[43mcopy\u001b[49m\u001b[38;5;241;43m=\u001b[39;49m\u001b[43mcopy\u001b[49m\u001b[43m)\u001b[49m\n\u001b[0;32m    238\u001b[0m \u001b[38;5;28;01mexcept\u001b[39;00m (\u001b[38;5;167;01mValueError\u001b[39;00m, \u001b[38;5;167;01mTypeError\u001b[39;00m):\n\u001b[0;32m    239\u001b[0m     \u001b[38;5;66;03m# e.g. _astype_nansafe can fail on object-dtype of strings\u001b[39;00m\n\u001b[0;32m    240\u001b[0m     \u001b[38;5;66;03m#  trying to convert to float\u001b[39;00m\n\u001b[0;32m    241\u001b[0m     \u001b[38;5;28;01mif\u001b[39;00m errors \u001b[38;5;241m==\u001b[39m \u001b[38;5;124m\"\u001b[39m\u001b[38;5;124mignore\u001b[39m\u001b[38;5;124m\"\u001b[39m:\n",
      "File \u001b[1;32mc:\\ProgramData\\Miniconda3\\envs\\eda\\Lib\\site-packages\\pandas\\core\\dtypes\\astype.py:182\u001b[0m, in \u001b[0;36mastype_array\u001b[1;34m(values, dtype, copy)\u001b[0m\n\u001b[0;32m    179\u001b[0m     values \u001b[38;5;241m=\u001b[39m values\u001b[38;5;241m.\u001b[39mastype(dtype, copy\u001b[38;5;241m=\u001b[39mcopy)\n\u001b[0;32m    181\u001b[0m \u001b[38;5;28;01melse\u001b[39;00m:\n\u001b[1;32m--> 182\u001b[0m     values \u001b[38;5;241m=\u001b[39m \u001b[43m_astype_nansafe\u001b[49m\u001b[43m(\u001b[49m\u001b[43mvalues\u001b[49m\u001b[43m,\u001b[49m\u001b[43m \u001b[49m\u001b[43mdtype\u001b[49m\u001b[43m,\u001b[49m\u001b[43m \u001b[49m\u001b[43mcopy\u001b[49m\u001b[38;5;241;43m=\u001b[39;49m\u001b[43mcopy\u001b[49m\u001b[43m)\u001b[49m\n\u001b[0;32m    184\u001b[0m \u001b[38;5;66;03m# in pandas we don't store numpy str dtypes, so convert to object\u001b[39;00m\n\u001b[0;32m    185\u001b[0m \u001b[38;5;28;01mif\u001b[39;00m \u001b[38;5;28misinstance\u001b[39m(dtype, np\u001b[38;5;241m.\u001b[39mdtype) \u001b[38;5;129;01mand\u001b[39;00m \u001b[38;5;28missubclass\u001b[39m(values\u001b[38;5;241m.\u001b[39mdtype\u001b[38;5;241m.\u001b[39mtype, \u001b[38;5;28mstr\u001b[39m):\n",
      "File \u001b[1;32mc:\\ProgramData\\Miniconda3\\envs\\eda\\Lib\\site-packages\\pandas\\core\\dtypes\\astype.py:133\u001b[0m, in \u001b[0;36m_astype_nansafe\u001b[1;34m(arr, dtype, copy, skipna)\u001b[0m\n\u001b[0;32m    129\u001b[0m     \u001b[38;5;28;01mraise\u001b[39;00m \u001b[38;5;167;01mValueError\u001b[39;00m(msg)\n\u001b[0;32m    131\u001b[0m \u001b[38;5;28;01mif\u001b[39;00m copy \u001b[38;5;129;01mor\u001b[39;00m arr\u001b[38;5;241m.\u001b[39mdtype \u001b[38;5;241m==\u001b[39m \u001b[38;5;28mobject\u001b[39m \u001b[38;5;129;01mor\u001b[39;00m dtype \u001b[38;5;241m==\u001b[39m \u001b[38;5;28mobject\u001b[39m:\n\u001b[0;32m    132\u001b[0m     \u001b[38;5;66;03m# Explicit copy, or required since NumPy can't view from / to object.\u001b[39;00m\n\u001b[1;32m--> 133\u001b[0m     \u001b[38;5;28;01mreturn\u001b[39;00m \u001b[43marr\u001b[49m\u001b[38;5;241;43m.\u001b[39;49m\u001b[43mastype\u001b[49m\u001b[43m(\u001b[49m\u001b[43mdtype\u001b[49m\u001b[43m,\u001b[49m\u001b[43m \u001b[49m\u001b[43mcopy\u001b[49m\u001b[38;5;241;43m=\u001b[39;49m\u001b[38;5;28;43;01mTrue\u001b[39;49;00m\u001b[43m)\u001b[49m\n\u001b[0;32m    135\u001b[0m \u001b[38;5;28;01mreturn\u001b[39;00m arr\u001b[38;5;241m.\u001b[39mastype(dtype, copy\u001b[38;5;241m=\u001b[39mcopy)\n",
      "\u001b[1;31mValueError\u001b[0m: could not convert string to float: '15716395,53'"
     ]
    }
   ],
   "source": [
    "despesas18[\"Valor Pago Float\"] = despesas18[\"Valor Pago\"].astype(\"float\")"
   ]
  },
  {
   "cell_type": "markdown",
   "metadata": {},
   "source": [
    "A mensagem de erro aponta para o problema: o Python/Pandas não sabe como lidar com vírgulas como separador de decimais!\n",
    "\n",
    "Precisamos de 2 passos, portanto: primeiro, precisamos substituir as vírgulas por pontos e depois transformar a variável em float:"
   ]
  },
  {
   "cell_type": "code",
   "execution_count": 10,
   "metadata": {},
   "outputs": [],
   "source": [
    "despesas18[\"Valor Pago Float\"] = despesas18[\"Valor Pago\"].str.replace(\",\", \".\")\n",
    "\n",
    "despesas18[\"Valor Pago Float\"] = despesas18[\"Valor Pago Float\"].astype(\"float\")"
   ]
  },
  {
   "cell_type": "markdown",
   "metadata": {},
   "source": [
    "Agora, podemos confirmar o tipo da nova variável invocando o atributo `.dtypes`:"
   ]
  },
  {
   "cell_type": "code",
   "execution_count": 11,
   "metadata": {},
   "outputs": [
    {
     "data": {
      "text/plain": [
       "Poder                 object\n",
       "Elemento              object\n",
       "Sub Elemento          object\n",
       "Órgão                 object\n",
       "UO                    object\n",
       "UG                    object\n",
       "Credor                object\n",
       "Fonte de Recursos     object\n",
       "Função                object\n",
       "Sub Função            object\n",
       "Licitação             object\n",
       "Valor Empenhado       object\n",
       "Valor Liquidado       object\n",
       "Valor Pago            object\n",
       "Valor Pago Float     float64\n",
       "dtype: object"
      ]
     },
     "execution_count": 11,
     "metadata": {},
     "output_type": "execute_result"
    }
   ],
   "source": [
    "despesas18.dtypes"
   ]
  },
  {
   "cell_type": "markdown",
   "metadata": {},
   "source": [
    "A coluna \"Valor Pago Float\" não é mais do tipo `object`, agora ela é um novo tipo de `float`: `float64`. Isso tem a ver com o número de bits que um número pode ocupar, o que limita a quantidade de números à direita da vírgula, mas isso não é importante. O importante é que podemos usar essa variável, aliada ao método `.sum()` para verificar se o Estado respeitou o investimento mínimo legal em saúde no ano de 2018."
   ]
  },
  {
   "cell_type": "code",
   "execution_count": 12,
   "metadata": {},
   "outputs": [
    {
     "data": {
      "text/plain": [
       "np.float64(39367403957.09)"
      ]
     },
     "execution_count": 12,
     "metadata": {},
     "output_type": "execute_result"
    }
   ],
   "source": [
    "valor_pago_total = despesas18[\"Valor Pago Float\"].sum()\n",
    "valor_pago_total"
   ]
  },
  {
   "cell_type": "markdown",
   "metadata": {},
   "source": [
    "Para calcular qual valor foi gasto especificamente com saúde, podemos usar o índice lógico:"
   ]
  },
  {
   "cell_type": "code",
   "execution_count": 13,
   "metadata": {},
   "outputs": [
    {
     "data": {
      "text/plain": [
       "np.float64(2424204722.47)"
      ]
     },
     "execution_count": 13,
     "metadata": {},
     "output_type": "execute_result"
    }
   ],
   "source": [
    "valor_pago_saude = despesas18.query(\"Função == 'Saúde'\")[\"Valor Pago Float\"].sum()\n",
    "valor_pago_saude"
   ]
  },
  {
   "cell_type": "code",
   "execution_count": 14,
   "metadata": {},
   "outputs": [
    {
     "data": {
      "text/plain": [
       "np.float64(0.0615789835954729)"
      ]
     },
     "execution_count": 14,
     "metadata": {},
     "output_type": "execute_result"
    }
   ],
   "source": [
    "valor_pago_saude / valor_pago_total"
   ]
  },
  {
   "cell_type": "markdown",
   "metadata": {},
   "source": [
    "Ou poderiamos fazer a conta direto das colunas"
   ]
  },
  {
   "cell_type": "code",
   "execution_count": 15,
   "metadata": {},
   "outputs": [
    {
     "data": {
      "text/plain": [
       "np.float64(0.0615789835954729)"
      ]
     },
     "execution_count": 15,
     "metadata": {},
     "output_type": "execute_result"
    }
   ],
   "source": [
    "despesas18.query(\"Função == 'Saúde'\")[\"Valor Pago Float\"].sum() / despesas18[\"Valor Pago Float\"].sum()"
   ]
  },
  {
   "cell_type": "code",
   "execution_count": 16,
   "metadata": {},
   "outputs": [
    {
     "data": {
      "text/plain": [
       "np.float64(0.0615789835954729)"
      ]
     },
     "execution_count": 16,
     "metadata": {},
     "output_type": "execute_result"
    }
   ],
   "source": [
    "despesas18.query(\"Função == 'Saúde' and `Valor Pago Float` != 0\")[\"Valor Pago Float\"].sum() / despesas18.query(\"`Valor Pago Float` != 0\")[\"Valor Pago Float\"].sum()"
   ]
  },
  {
   "cell_type": "markdown",
   "metadata": {},
   "source": [
    "Segundo o Ministério Público, o valor mínimo a ser investido seria de 12%. Claramente, o Estado não parece ter cumprido com esse requisito legal, haja vista que apenas 6% do valor efetivamente pago teve como destino essa função.\n",
    "\n",
    "#### Exercício\n",
    "\n",
    "O que aconteceria se levássemos em conta não o valor pago e sim o valor liquidado? E se levássemos em conta o valor empenhado? Esses são os desafios dessa aula! Crie variáveis chamadas \"razao_liquidado\" e \"razao_empenhado\" com suas respostas."
   ]
  },
  {
   "cell_type": "code",
   "execution_count": 17,
   "metadata": {},
   "outputs": [],
   "source": [
    "# implemente seu código aqui"
   ]
  },
  {
   "cell_type": "code",
   "execution_count": null,
   "metadata": {},
   "outputs": [],
   "source": [
    "# rode essa célula para verificar se você acertou o % liquidado na saúde\n",
    "from correcoes import aula10_ex1\n",
    "\n",
    "aula10_ex1(despesas18, razao_liquidado)"
   ]
  },
  {
   "cell_type": "code",
   "execution_count": null,
   "metadata": {},
   "outputs": [],
   "source": [
    "# implemente seu código aqui"
   ]
  },
  {
   "cell_type": "code",
   "execution_count": null,
   "metadata": {},
   "outputs": [],
   "source": [
    "# rode essa célula para verificar se você acertou o % empenhado na saúde\n",
    "from correcoes import aula10_ex2\n",
    "\n",
    "aula10_ex2(despesas18, razao_empenhado)"
   ]
  },
  {
   "attachments": {},
   "cell_type": "markdown",
   "metadata": {},
   "source": [
    "# Agrupando Dados\n",
    "\n",
    "Uma maneira interessante de colocar esses dados em perspectiva é verificar qual é o % do orçamento gasto com outras funções. Mas seria extremamente chato fazer essa conta função por função. Uma opção seria usar um `for` loop, mas o Pandas nos fornece um método elegante para fazer esse tipo de coisa: o método `groupby`.\n",
    "\n",
    "A ideia do `groupby` é agrupar os dados de acordo com o valor de uma coluna (ou várias!). Assim, criamos uma espécie de identificador para cada grupo e selecionamos todas as linhas que possuem o mesmo valor do identificador. Em seguida, podemos aplicar aplicar alguma função de resumo para cada grupo para gerar novos valores.\n",
    "\n",
    "Essa estratégia é chamada em inglês de \"split-apply-combine\". Primeiro, dividimos os dados em grupos (identificados pelo valor comum nas colunas selecionadas). Depois, aplicamos uma função para em cada grupo que pode gerar novos valores, ou filtrar parte dos valores antigos (o \"apply\"). Por fim, combinamos os resultados em um novo conjunto de dados.\n",
    "\n",
    "Vamos ver como isso funciona na prática, para uma explicação mais detalhada, veja a explicação de groupby do pandas em: [https://pandas.pydata.org/pandas-docs/stable/user_guide/groupby.html#](https://pandas.pydata.org/pandas-docs/stable/user_guide/groupby.html#)"
   ]
  },
  {
   "cell_type": "code",
   "execution_count": 18,
   "metadata": {},
   "outputs": [],
   "source": [
    "funcoes_pagas = despesas18.groupby(\"Função\")[\"Valor Pago Float\"].sum()"
   ]
  },
  {
   "attachments": {},
   "cell_type": "markdown",
   "metadata": {},
   "source": [
    "A ideia da sintaxe mais simples é: `dataframe.groupby(\"coluna_agrupadora\")[\"coluna_agrupada\"].metodo_agrupamento()`.\n",
    "\n",
    "Como resultado recebemos uma variável do tipo `pd.Series`."
   ]
  },
  {
   "cell_type": "code",
   "execution_count": 19,
   "metadata": {},
   "outputs": [
    {
     "data": {
      "text/plain": [
       "Função\n",
       "Administração            1.607817e+09\n",
       "Agricultura              2.455236e+08\n",
       "Assistência Social       2.440759e+08\n",
       "Ciência e Tecnologia     7.515062e+07\n",
       "Comunicações             3.664972e+06\n",
       "Comércio e Serviços      1.646209e+08\n",
       "Cultura                  7.532741e+07\n",
       "Desporto e Lazer         1.843662e+07\n",
       "Direitos da Cidadania    5.680392e+07\n",
       "Educação                 4.098150e+09\n",
       "Encargos Especiais       2.174700e+09\n",
       "Essencial à Justiça      1.685453e+09\n",
       "Gestão Ambiental         1.565200e+08\n",
       "Habitação                4.750836e+07\n",
       "Indústria                6.326317e+07\n",
       "Judiciária               3.094868e+09\n",
       "Legislativa              9.244184e+08\n",
       "Organização Agrária      6.918813e+06\n",
       "Previdência Social       1.439876e+10\n",
       "Saneamento               5.603955e+07\n",
       "Saúde                    2.424205e+09\n",
       "Segurança Pública        6.674909e+09\n",
       "Trabalho                 9.293780e+06\n",
       "Transporte               7.022514e+08\n",
       "Urbanismo                3.587235e+08\n",
       "Name: Valor Pago Float, dtype: float64"
      ]
     },
     "execution_count": 19,
     "metadata": {},
     "output_type": "execute_result"
    }
   ],
   "source": [
    "funcoes_pagas"
   ]
  },
  {
   "cell_type": "markdown",
   "metadata": {},
   "source": [
    "Mas vamos alterar o comportamento para que o resultado seja um `DataFrame`: podemos adicionar o argumento `as_index=False` ao método `groupby`."
   ]
  },
  {
   "cell_type": "code",
   "execution_count": 20,
   "metadata": {},
   "outputs": [
    {
     "data": {
      "text/html": [
       "<div>\n",
       "<style scoped>\n",
       "    .dataframe tbody tr th:only-of-type {\n",
       "        vertical-align: middle;\n",
       "    }\n",
       "\n",
       "    .dataframe tbody tr th {\n",
       "        vertical-align: top;\n",
       "    }\n",
       "\n",
       "    .dataframe thead th {\n",
       "        text-align: right;\n",
       "    }\n",
       "</style>\n",
       "<table border=\"1\" class=\"dataframe\">\n",
       "  <thead>\n",
       "    <tr style=\"text-align: right;\">\n",
       "      <th></th>\n",
       "      <th>Função</th>\n",
       "      <th>Valor Pago Float</th>\n",
       "    </tr>\n",
       "  </thead>\n",
       "  <tbody>\n",
       "    <tr>\n",
       "      <th>0</th>\n",
       "      <td>Administração</td>\n",
       "      <td>1.607817e+09</td>\n",
       "    </tr>\n",
       "    <tr>\n",
       "      <th>1</th>\n",
       "      <td>Agricultura</td>\n",
       "      <td>2.455236e+08</td>\n",
       "    </tr>\n",
       "    <tr>\n",
       "      <th>2</th>\n",
       "      <td>Assistência Social</td>\n",
       "      <td>2.440759e+08</td>\n",
       "    </tr>\n",
       "  </tbody>\n",
       "</table>\n",
       "</div>"
      ],
      "text/plain": [
       "               Função  Valor Pago Float\n",
       "0       Administração      1.607817e+09\n",
       "1         Agricultura      2.455236e+08\n",
       "2  Assistência Social      2.440759e+08"
      ]
     },
     "execution_count": 20,
     "metadata": {},
     "output_type": "execute_result"
    }
   ],
   "source": [
    "funcoes_pagas = despesas18.groupby(\"Função\", as_index=False)[\"Valor Pago Float\"].sum()\n",
    "\n",
    "funcoes_pagas.head(3)"
   ]
  },
  {
   "cell_type": "markdown",
   "metadata": {},
   "source": [
    "\n",
    "*Atenção:* Considere o que acontece com a unidade de análise quando fazemos um groupby. Inicialmente, nosso dataframe apresentava uma linha para cada despesa incorrida pelo Estado do Rio de Janeiro. Após o groupby, qual é a unidade de análise do nosso novo conjunto de dados?\n",
    "\n",
    "\n",
    "Podemos ordenar os valores em `funcoes_pagas` descrescente através do método `.sort_values()`:"
   ]
  },
  {
   "cell_type": "code",
   "execution_count": 21,
   "metadata": {},
   "outputs": [],
   "source": [
    "funcoes_pagas.sort_values(\"Valor Pago Float\", ascending=False, inplace=True)"
   ]
  },
  {
   "cell_type": "code",
   "execution_count": 22,
   "metadata": {},
   "outputs": [
    {
     "data": {
      "text/html": [
       "<div>\n",
       "<style scoped>\n",
       "    .dataframe tbody tr th:only-of-type {\n",
       "        vertical-align: middle;\n",
       "    }\n",
       "\n",
       "    .dataframe tbody tr th {\n",
       "        vertical-align: top;\n",
       "    }\n",
       "\n",
       "    .dataframe thead th {\n",
       "        text-align: right;\n",
       "    }\n",
       "</style>\n",
       "<table border=\"1\" class=\"dataframe\">\n",
       "  <thead>\n",
       "    <tr style=\"text-align: right;\">\n",
       "      <th></th>\n",
       "      <th>Função</th>\n",
       "      <th>Valor Pago Float</th>\n",
       "    </tr>\n",
       "  </thead>\n",
       "  <tbody>\n",
       "    <tr>\n",
       "      <th>18</th>\n",
       "      <td>Previdência Social</td>\n",
       "      <td>1.439876e+10</td>\n",
       "    </tr>\n",
       "    <tr>\n",
       "      <th>21</th>\n",
       "      <td>Segurança Pública</td>\n",
       "      <td>6.674909e+09</td>\n",
       "    </tr>\n",
       "    <tr>\n",
       "      <th>9</th>\n",
       "      <td>Educação</td>\n",
       "      <td>4.098150e+09</td>\n",
       "    </tr>\n",
       "  </tbody>\n",
       "</table>\n",
       "</div>"
      ],
      "text/plain": [
       "                Função  Valor Pago Float\n",
       "18  Previdência Social      1.439876e+10\n",
       "21   Segurança Pública      6.674909e+09\n",
       "9             Educação      4.098150e+09"
      ]
     },
     "execution_count": 22,
     "metadata": {},
     "output_type": "execute_result"
    }
   ],
   "source": [
    "funcoes_pagas.head(3)"
   ]
  },
  {
   "cell_type": "markdown",
   "metadata": {},
   "source": [
    "Poderiamos ordenar em ordem crescente alterando o valor do argumento `ascending` para `True`.\n",
    "\n",
    "Também podemos evitar que o Python de usar notação científica pedindo o valor gasto com cada uma das funções em milhões de reais:"
   ]
  },
  {
   "cell_type": "code",
   "execution_count": 23,
   "metadata": {},
   "outputs": [
    {
     "data": {
      "text/html": [
       "<div>\n",
       "<style scoped>\n",
       "    .dataframe tbody tr th:only-of-type {\n",
       "        vertical-align: middle;\n",
       "    }\n",
       "\n",
       "    .dataframe tbody tr th {\n",
       "        vertical-align: top;\n",
       "    }\n",
       "\n",
       "    .dataframe thead th {\n",
       "        text-align: right;\n",
       "    }\n",
       "</style>\n",
       "<table border=\"1\" class=\"dataframe\">\n",
       "  <thead>\n",
       "    <tr style=\"text-align: right;\">\n",
       "      <th></th>\n",
       "      <th>Função</th>\n",
       "      <th>valor_pago_milhoes</th>\n",
       "    </tr>\n",
       "  </thead>\n",
       "  <tbody>\n",
       "    <tr>\n",
       "      <th>18</th>\n",
       "      <td>Previdência Social</td>\n",
       "      <td>14398.761171</td>\n",
       "    </tr>\n",
       "    <tr>\n",
       "      <th>21</th>\n",
       "      <td>Segurança Pública</td>\n",
       "      <td>6674.908626</td>\n",
       "    </tr>\n",
       "    <tr>\n",
       "      <th>9</th>\n",
       "      <td>Educação</td>\n",
       "      <td>4098.149843</td>\n",
       "    </tr>\n",
       "    <tr>\n",
       "      <th>15</th>\n",
       "      <td>Judiciária</td>\n",
       "      <td>3094.867999</td>\n",
       "    </tr>\n",
       "    <tr>\n",
       "      <th>20</th>\n",
       "      <td>Saúde</td>\n",
       "      <td>2424.204722</td>\n",
       "    </tr>\n",
       "    <tr>\n",
       "      <th>10</th>\n",
       "      <td>Encargos Especiais</td>\n",
       "      <td>2174.700350</td>\n",
       "    </tr>\n",
       "    <tr>\n",
       "      <th>11</th>\n",
       "      <td>Essencial à Justiça</td>\n",
       "      <td>1685.452792</td>\n",
       "    </tr>\n",
       "    <tr>\n",
       "      <th>0</th>\n",
       "      <td>Administração</td>\n",
       "      <td>1607.817429</td>\n",
       "    </tr>\n",
       "    <tr>\n",
       "      <th>16</th>\n",
       "      <td>Legislativa</td>\n",
       "      <td>924.418409</td>\n",
       "    </tr>\n",
       "    <tr>\n",
       "      <th>23</th>\n",
       "      <td>Transporte</td>\n",
       "      <td>702.251428</td>\n",
       "    </tr>\n",
       "    <tr>\n",
       "      <th>24</th>\n",
       "      <td>Urbanismo</td>\n",
       "      <td>358.723511</td>\n",
       "    </tr>\n",
       "    <tr>\n",
       "      <th>1</th>\n",
       "      <td>Agricultura</td>\n",
       "      <td>245.523609</td>\n",
       "    </tr>\n",
       "    <tr>\n",
       "      <th>2</th>\n",
       "      <td>Assistência Social</td>\n",
       "      <td>244.075927</td>\n",
       "    </tr>\n",
       "    <tr>\n",
       "      <th>5</th>\n",
       "      <td>Comércio e Serviços</td>\n",
       "      <td>164.620931</td>\n",
       "    </tr>\n",
       "    <tr>\n",
       "      <th>12</th>\n",
       "      <td>Gestão Ambiental</td>\n",
       "      <td>156.519991</td>\n",
       "    </tr>\n",
       "    <tr>\n",
       "      <th>6</th>\n",
       "      <td>Cultura</td>\n",
       "      <td>75.327413</td>\n",
       "    </tr>\n",
       "    <tr>\n",
       "      <th>3</th>\n",
       "      <td>Ciência e Tecnologia</td>\n",
       "      <td>75.150619</td>\n",
       "    </tr>\n",
       "    <tr>\n",
       "      <th>14</th>\n",
       "      <td>Indústria</td>\n",
       "      <td>63.263170</td>\n",
       "    </tr>\n",
       "    <tr>\n",
       "      <th>8</th>\n",
       "      <td>Direitos da Cidadania</td>\n",
       "      <td>56.803922</td>\n",
       "    </tr>\n",
       "    <tr>\n",
       "      <th>19</th>\n",
       "      <td>Saneamento</td>\n",
       "      <td>56.039546</td>\n",
       "    </tr>\n",
       "    <tr>\n",
       "      <th>13</th>\n",
       "      <td>Habitação</td>\n",
       "      <td>47.508365</td>\n",
       "    </tr>\n",
       "    <tr>\n",
       "      <th>7</th>\n",
       "      <td>Desporto e Lazer</td>\n",
       "      <td>18.436619</td>\n",
       "    </tr>\n",
       "    <tr>\n",
       "      <th>22</th>\n",
       "      <td>Trabalho</td>\n",
       "      <td>9.293780</td>\n",
       "    </tr>\n",
       "    <tr>\n",
       "      <th>17</th>\n",
       "      <td>Organização Agrária</td>\n",
       "      <td>6.918813</td>\n",
       "    </tr>\n",
       "    <tr>\n",
       "      <th>4</th>\n",
       "      <td>Comunicações</td>\n",
       "      <td>3.664972</td>\n",
       "    </tr>\n",
       "  </tbody>\n",
       "</table>\n",
       "</div>"
      ],
      "text/plain": [
       "                   Função  valor_pago_milhoes\n",
       "18     Previdência Social        14398.761171\n",
       "21      Segurança Pública         6674.908626\n",
       "9                Educação         4098.149843\n",
       "15             Judiciária         3094.867999\n",
       "20                  Saúde         2424.204722\n",
       "10     Encargos Especiais         2174.700350\n",
       "11    Essencial à Justiça         1685.452792\n",
       "0           Administração         1607.817429\n",
       "16            Legislativa          924.418409\n",
       "23             Transporte          702.251428\n",
       "24              Urbanismo          358.723511\n",
       "1             Agricultura          245.523609\n",
       "2      Assistência Social          244.075927\n",
       "5     Comércio e Serviços          164.620931\n",
       "12       Gestão Ambiental          156.519991\n",
       "6                 Cultura           75.327413\n",
       "3    Ciência e Tecnologia           75.150619\n",
       "14              Indústria           63.263170\n",
       "8   Direitos da Cidadania           56.803922\n",
       "19             Saneamento           56.039546\n",
       "13              Habitação           47.508365\n",
       "7        Desporto e Lazer           18.436619\n",
       "22               Trabalho            9.293780\n",
       "17    Organização Agrária            6.918813\n",
       "4            Comunicações            3.664972"
      ]
     },
     "execution_count": 23,
     "metadata": {},
     "output_type": "execute_result"
    }
   ],
   "source": [
    "funcoes_pagas[\"valor_pago_milhoes\"] = funcoes_pagas[\"Valor Pago Float\"] / 1000000\n",
    "\n",
    "funcoes_pagas[[\"Função\", \"valor_pago_milhoes\"]]"
   ]
  },
  {
   "attachments": {},
   "cell_type": "markdown",
   "metadata": {},
   "source": [
    "Vamos observar cada uma das funções com maior quantidade de gastos. No final das contas, o investimento abaixo do mínimo em saúde está justificado? Ou existem outras rúbricas que poderiam ser reduzidas?\n",
    "\n",
    "### Outros detalhes do groupby"
   ]
  },
  {
   "attachments": {},
   "cell_type": "markdown",
   "metadata": {},
   "source": [
    "Também podemos fazer agrupamento por múltiplas colunas, a ideia é semelhante a de selecionar várias colunas: em vez de passar uma string com o nome da coluna para o `groupby` devemos passar uma lista com o nome das colunas que queremos usar."
   ]
  },
  {
   "cell_type": "code",
   "execution_count": 24,
   "metadata": {},
   "outputs": [
    {
     "data": {
      "text/html": [
       "<div>\n",
       "<style scoped>\n",
       "    .dataframe tbody tr th:only-of-type {\n",
       "        vertical-align: middle;\n",
       "    }\n",
       "\n",
       "    .dataframe tbody tr th {\n",
       "        vertical-align: top;\n",
       "    }\n",
       "\n",
       "    .dataframe thead th {\n",
       "        text-align: right;\n",
       "    }\n",
       "</style>\n",
       "<table border=\"1\" class=\"dataframe\">\n",
       "  <thead>\n",
       "    <tr style=\"text-align: right;\">\n",
       "      <th></th>\n",
       "      <th>Poder</th>\n",
       "      <th>Fonte de Recursos</th>\n",
       "      <th>Valor Pago Float</th>\n",
       "    </tr>\n",
       "  </thead>\n",
       "  <tbody>\n",
       "    <tr>\n",
       "      <th>0</th>\n",
       "      <td>Executivo</td>\n",
       "      <td>Adicional do ICMS - FECP</td>\n",
       "      <td>1.480718e+09</td>\n",
       "    </tr>\n",
       "    <tr>\n",
       "      <th>1</th>\n",
       "      <td>Executivo</td>\n",
       "      <td>Alienação de Bens</td>\n",
       "      <td>0.000000e+00</td>\n",
       "    </tr>\n",
       "    <tr>\n",
       "      <th>2</th>\n",
       "      <td>Executivo</td>\n",
       "      <td>Compensação Financeira pela Exploração de Petr...</td>\n",
       "      <td>1.032864e+09</td>\n",
       "    </tr>\n",
       "    <tr>\n",
       "      <th>3</th>\n",
       "      <td>Executivo</td>\n",
       "      <td>Contratos Intraorçamentários Gestão de Saúde</td>\n",
       "      <td>2.098283e+08</td>\n",
       "    </tr>\n",
       "    <tr>\n",
       "      <th>4</th>\n",
       "      <td>Executivo</td>\n",
       "      <td>Contribuição de Intervenção no Domínio Econômi...</td>\n",
       "      <td>3.963611e+07</td>\n",
       "    </tr>\n",
       "  </tbody>\n",
       "</table>\n",
       "</div>"
      ],
      "text/plain": [
       "       Poder                                  Fonte de Recursos  \\\n",
       "0  Executivo                           Adicional do ICMS - FECP   \n",
       "1  Executivo                                  Alienação de Bens   \n",
       "2  Executivo  Compensação Financeira pela Exploração de Petr...   \n",
       "3  Executivo       Contratos Intraorçamentários Gestão de Saúde   \n",
       "4  Executivo  Contribuição de Intervenção no Domínio Econômi...   \n",
       "\n",
       "   Valor Pago Float  \n",
       "0      1.480718e+09  \n",
       "1      0.000000e+00  \n",
       "2      1.032864e+09  \n",
       "3      2.098283e+08  \n",
       "4      3.963611e+07  "
      ]
     },
     "execution_count": 24,
     "metadata": {},
     "output_type": "execute_result"
    }
   ],
   "source": [
    "despesas18.groupby([\"Poder\", \"Fonte de Recursos\"], as_index=False)[\"Valor Pago Float\"].sum().head()"
   ]
  },
  {
   "attachments": {},
   "cell_type": "markdown",
   "metadata": {},
   "source": [
    "E se quisermos fazer operações de agrupamento em múltiplas colunas, ou ainda, múltiplas operações na mesma coluna?\n",
    "\n",
    "Uma opção é fazê-las individualmente e juntá-las depois com o `merge`, tópico de nossas próximas aulas. Mas isso seria um tanto trabalhoso.\n",
    "\n",
    "Outra opção é usar o método `.agg` junto ao groupby. Veja a descrição e os exemplos [na documentação do pandas](https://pandas.pydata.org/pandas-docs/version/0.23/generated/pandas.core.groupby.DataFrameGroupBy.agg.html).\n",
    "\n",
    "A premissa é criar um dicionário listando as operações que queremos fazer em cada coluna. Por exemplo, se quisermos saber a soma dos pagamentos por Poder e o número de funções nas quais cada um gastou, podemos fazer:"
   ]
  },
  {
   "cell_type": "code",
   "execution_count": 25,
   "metadata": {},
   "outputs": [
    {
     "data": {
      "text/html": [
       "<div>\n",
       "<style scoped>\n",
       "    .dataframe tbody tr th:only-of-type {\n",
       "        vertical-align: middle;\n",
       "    }\n",
       "\n",
       "    .dataframe tbody tr th {\n",
       "        vertical-align: top;\n",
       "    }\n",
       "\n",
       "    .dataframe thead th {\n",
       "        text-align: right;\n",
       "    }\n",
       "</style>\n",
       "<table border=\"1\" class=\"dataframe\">\n",
       "  <thead>\n",
       "    <tr style=\"text-align: right;\">\n",
       "      <th></th>\n",
       "      <th>Poder</th>\n",
       "      <th>Valor Pago Float</th>\n",
       "      <th>Função</th>\n",
       "    </tr>\n",
       "  </thead>\n",
       "  <tbody>\n",
       "    <tr>\n",
       "      <th>0</th>\n",
       "      <td>Executivo</td>\n",
       "      <td>3.437531e+10</td>\n",
       "      <td>23</td>\n",
       "    </tr>\n",
       "    <tr>\n",
       "      <th>1</th>\n",
       "      <td>Judiciário</td>\n",
       "      <td>3.094868e+09</td>\n",
       "      <td>1</td>\n",
       "    </tr>\n",
       "    <tr>\n",
       "      <th>2</th>\n",
       "      <td>Legislativo</td>\n",
       "      <td>9.244184e+08</td>\n",
       "      <td>1</td>\n",
       "    </tr>\n",
       "    <tr>\n",
       "      <th>3</th>\n",
       "      <td>Ministério Público</td>\n",
       "      <td>9.728032e+08</td>\n",
       "      <td>1</td>\n",
       "    </tr>\n",
       "  </tbody>\n",
       "</table>\n",
       "</div>"
      ],
      "text/plain": [
       "                Poder  Valor Pago Float  Função\n",
       "0           Executivo      3.437531e+10      23\n",
       "1          Judiciário      3.094868e+09       1\n",
       "2         Legislativo      9.244184e+08       1\n",
       "3  Ministério Público      9.728032e+08       1"
      ]
     },
     "execution_count": 25,
     "metadata": {},
     "output_type": "execute_result"
    }
   ],
   "source": [
    "despesas18.groupby([\"Poder\"], as_index=False).agg(\n",
    "    {\n",
    "        \"Valor Pago Float\": \"sum\",\n",
    "        \"Função\": \"nunique\",\n",
    "    }\n",
    ")"
   ]
  },
  {
   "cell_type": "markdown",
   "metadata": {},
   "source": [
    "Vamos agora supor também que queremos calcular duas agregações da mesma coluna. Além do pagamento total por poder, queremos saber o valor do pagamento mais elevado para cada poder. Podemos fazer isso alterando a estrutura do dicionário passado para o método `.agg` para incluir uma estrutura que nos deixa listar mais de um item: uma lista.\n",
    "\n",
    "Veja:"
   ]
  },
  {
   "cell_type": "code",
   "execution_count": 26,
   "metadata": {},
   "outputs": [
    {
     "data": {
      "text/html": [
       "<div>\n",
       "<style scoped>\n",
       "    .dataframe tbody tr th:only-of-type {\n",
       "        vertical-align: middle;\n",
       "    }\n",
       "\n",
       "    .dataframe tbody tr th {\n",
       "        vertical-align: top;\n",
       "    }\n",
       "\n",
       "    .dataframe thead tr th {\n",
       "        text-align: left;\n",
       "    }\n",
       "</style>\n",
       "<table border=\"1\" class=\"dataframe\">\n",
       "  <thead>\n",
       "    <tr>\n",
       "      <th></th>\n",
       "      <th>Poder</th>\n",
       "      <th colspan=\"2\" halign=\"left\">Valor Pago Float</th>\n",
       "      <th>Função</th>\n",
       "    </tr>\n",
       "    <tr>\n",
       "      <th></th>\n",
       "      <th></th>\n",
       "      <th>sum</th>\n",
       "      <th>max</th>\n",
       "      <th>nunique</th>\n",
       "    </tr>\n",
       "  </thead>\n",
       "  <tbody>\n",
       "    <tr>\n",
       "      <th>0</th>\n",
       "      <td>Executivo</td>\n",
       "      <td>3.437531e+10</td>\n",
       "      <td>1.929584e+09</td>\n",
       "      <td>23</td>\n",
       "    </tr>\n",
       "    <tr>\n",
       "      <th>1</th>\n",
       "      <td>Judiciário</td>\n",
       "      <td>3.094868e+09</td>\n",
       "      <td>7.052589e+08</td>\n",
       "      <td>1</td>\n",
       "    </tr>\n",
       "    <tr>\n",
       "      <th>2</th>\n",
       "      <td>Legislativo</td>\n",
       "      <td>9.244184e+08</td>\n",
       "      <td>1.585384e+08</td>\n",
       "      <td>1</td>\n",
       "    </tr>\n",
       "    <tr>\n",
       "      <th>3</th>\n",
       "      <td>Ministério Público</td>\n",
       "      <td>9.728032e+08</td>\n",
       "      <td>3.595991e+08</td>\n",
       "      <td>1</td>\n",
       "    </tr>\n",
       "  </tbody>\n",
       "</table>\n",
       "</div>"
      ],
      "text/plain": [
       "                Poder Valor Pago Float                Função\n",
       "                                   sum           max nunique\n",
       "0           Executivo     3.437531e+10  1.929584e+09      23\n",
       "1          Judiciário     3.094868e+09  7.052589e+08       1\n",
       "2         Legislativo     9.244184e+08  1.585384e+08       1\n",
       "3  Ministério Público     9.728032e+08  3.595991e+08       1"
      ]
     },
     "execution_count": 26,
     "metadata": {},
     "output_type": "execute_result"
    }
   ],
   "source": [
    "despesas18.groupby([\"Poder\"], as_index=False).agg(\n",
    "    {\n",
    "        \"Valor Pago Float\": [\"sum\", \"max\"],\n",
    "        \"Função\": [\"nunique\"],\n",
    "    }\n",
    ")"
   ]
  },
  {
   "cell_type": "markdown",
   "metadata": {},
   "source": [
    "Novamente, temos uma linha de código um tanto longa com muitos objetos, aumentando a chance de errarmos alguma coisa.\n",
    "\n",
    "Como de costume, podemos fazer essas coisas separado. Primeiro criamos o dicionário que elencará as operações que queremos fazer em cada coluna, guardamos isso em uma variável e depois passamos essa variável para o método `agg`:"
   ]
  },
  {
   "cell_type": "code",
   "execution_count": 49,
   "metadata": {},
   "outputs": [
    {
     "data": {
      "text/html": [
       "<div>\n",
       "<style scoped>\n",
       "    .dataframe tbody tr th:only-of-type {\n",
       "        vertical-align: middle;\n",
       "    }\n",
       "\n",
       "    .dataframe tbody tr th {\n",
       "        vertical-align: top;\n",
       "    }\n",
       "\n",
       "    .dataframe thead tr th {\n",
       "        text-align: left;\n",
       "    }\n",
       "</style>\n",
       "<table border=\"1\" class=\"dataframe\">\n",
       "  <thead>\n",
       "    <tr>\n",
       "      <th></th>\n",
       "      <th>Poder</th>\n",
       "      <th colspan=\"2\" halign=\"left\">Valor Pago Float</th>\n",
       "      <th>Função</th>\n",
       "    </tr>\n",
       "    <tr>\n",
       "      <th></th>\n",
       "      <th></th>\n",
       "      <th>sum</th>\n",
       "      <th>max</th>\n",
       "      <th>nunique</th>\n",
       "    </tr>\n",
       "  </thead>\n",
       "  <tbody>\n",
       "    <tr>\n",
       "      <th>0</th>\n",
       "      <td>Executivo</td>\n",
       "      <td>3.437531e+10</td>\n",
       "      <td>1.929584e+09</td>\n",
       "      <td>23</td>\n",
       "    </tr>\n",
       "    <tr>\n",
       "      <th>1</th>\n",
       "      <td>Judiciário</td>\n",
       "      <td>3.094868e+09</td>\n",
       "      <td>7.052589e+08</td>\n",
       "      <td>1</td>\n",
       "    </tr>\n",
       "    <tr>\n",
       "      <th>2</th>\n",
       "      <td>Legislativo</td>\n",
       "      <td>9.244184e+08</td>\n",
       "      <td>1.585384e+08</td>\n",
       "      <td>1</td>\n",
       "    </tr>\n",
       "    <tr>\n",
       "      <th>3</th>\n",
       "      <td>Ministério Público</td>\n",
       "      <td>9.728032e+08</td>\n",
       "      <td>3.595991e+08</td>\n",
       "      <td>1</td>\n",
       "    </tr>\n",
       "  </tbody>\n",
       "</table>\n",
       "</div>"
      ],
      "text/plain": [
       "                Poder Valor Pago Float                Função\n",
       "                                   sum           max nunique\n",
       "0           Executivo     3.437531e+10  1.929584e+09      23\n",
       "1          Judiciário     3.094868e+09  7.052589e+08       1\n",
       "2         Legislativo     9.244184e+08  1.585384e+08       1\n",
       "3  Ministério Público     9.728032e+08  3.595991e+08       1"
      ]
     },
     "execution_count": 49,
     "metadata": {},
     "output_type": "execute_result"
    }
   ],
   "source": [
    "# para facilitar leitura do código vamos criar um dicionario separado\n",
    "group_functions = {\"Valor Pago Float\": [\"sum\", \"max\"], \"Função\": [\"nunique\"]}\n",
    "\n",
    "despesas_poder = despesas18.groupby([\"Poder\"], as_index=False).agg(group_functions)\n",
    "\n",
    "despesas_poder"
   ]
  },
  {
   "cell_type": "markdown",
   "metadata": {},
   "source": [
    "Um detalhe importante de observar é que ao passar listas para o método `agg`, o Pandas cria um índice hierárquico para as colunas. Isso pode ser um pouco confuso, mas é uma maneira de manter a organização dos dados para o pacote. Assim, é melhor não usar listas se formos calcular um único valor para determinada coluna.\n",
    "\n",
    "Se desejarmos múltiplos, o resultado pode dificultar o acesso aos dados para outras casos já que acessar a coluna de interesse é um pouco mais complicado. \n",
    "\n",
    "Uma opção para lidar com isso é mudar a estrutura para usar agregações nomeadas. Deixamos esse caso apenas para referência, caso tenha interesse em se aprofundar. Confira a explicação do tópico [na documentação: https://pandas.pydata.org/pandas-docs/stable/user_guide/groupby.html#named-aggregation](https://pandas.pydata.org/pandas-docs/stable/user_guide/groupby.html#named-aggregation).\n",
    "\n",
    "Outra é juntar as duas partes das colunas. Caso você se depare com esse tipo de caso, você pode usar o código abaixo para juntar o nome dos dois níveis de coluna:"
   ]
  },
  {
   "cell_type": "code",
   "execution_count": 50,
   "metadata": {},
   "outputs": [
    {
     "data": {
      "text/html": [
       "<div>\n",
       "<style scoped>\n",
       "    .dataframe tbody tr th:only-of-type {\n",
       "        vertical-align: middle;\n",
       "    }\n",
       "\n",
       "    .dataframe tbody tr th {\n",
       "        vertical-align: top;\n",
       "    }\n",
       "\n",
       "    .dataframe thead th {\n",
       "        text-align: right;\n",
       "    }\n",
       "</style>\n",
       "<table border=\"1\" class=\"dataframe\">\n",
       "  <thead>\n",
       "    <tr style=\"text-align: right;\">\n",
       "      <th></th>\n",
       "      <th>Poder</th>\n",
       "      <th>Valor Pago Float_sum</th>\n",
       "      <th>Valor Pago Float_max</th>\n",
       "      <th>Função_nunique</th>\n",
       "    </tr>\n",
       "  </thead>\n",
       "  <tbody>\n",
       "    <tr>\n",
       "      <th>0</th>\n",
       "      <td>Executivo</td>\n",
       "      <td>3.437531e+10</td>\n",
       "      <td>1.929584e+09</td>\n",
       "      <td>23</td>\n",
       "    </tr>\n",
       "    <tr>\n",
       "      <th>1</th>\n",
       "      <td>Judiciário</td>\n",
       "      <td>3.094868e+09</td>\n",
       "      <td>7.052589e+08</td>\n",
       "      <td>1</td>\n",
       "    </tr>\n",
       "    <tr>\n",
       "      <th>2</th>\n",
       "      <td>Legislativo</td>\n",
       "      <td>9.244184e+08</td>\n",
       "      <td>1.585384e+08</td>\n",
       "      <td>1</td>\n",
       "    </tr>\n",
       "    <tr>\n",
       "      <th>3</th>\n",
       "      <td>Ministério Público</td>\n",
       "      <td>9.728032e+08</td>\n",
       "      <td>3.595991e+08</td>\n",
       "      <td>1</td>\n",
       "    </tr>\n",
       "  </tbody>\n",
       "</table>\n",
       "</div>"
      ],
      "text/plain": [
       "                Poder  Valor Pago Float_sum  Valor Pago Float_max  \\\n",
       "0           Executivo          3.437531e+10          1.929584e+09   \n",
       "1          Judiciário          3.094868e+09          7.052589e+08   \n",
       "2         Legislativo          9.244184e+08          1.585384e+08   \n",
       "3  Ministério Público          9.728032e+08          3.595991e+08   \n",
       "\n",
       "   Função_nunique  \n",
       "0              23  \n",
       "1               1  \n",
       "2               1  \n",
       "3               1  "
      ]
     },
     "execution_count": 50,
     "metadata": {},
     "output_type": "execute_result"
    }
   ],
   "source": [
    "# Aqui usamos o \"_\" como separados dos dois nomes\n",
    "despesas_poder.columns = [\"_\".join(col_name).rstrip('_') for col_name in despesas_poder.columns]   \n",
    "\n",
    "despesas_poder"
   ]
  },
  {
   "cell_type": "markdown",
   "metadata": {},
   "source": [
    "## Operações de Agregação\n",
    "\n",
    "Para uma lista das opções de funções de agregação, sugerimos consultar o cheatsheet a algumas das referências indicadas no início do notebook.\n",
    "\n",
    "Além disos, veja a [ a lista de estatísticas descritivas para o GroupBy na API do pandas: https://pandas.pydata.org/pandas-docs/version/0.23/api.html#id39](https://pandas.pydata.org/pandas-docs/version/0.23/generated/pandas.core.groupby.DataFrameGroupBy.agg.html).\n",
    "\n",
    "\n",
    "Destacamos aqui algumas das funções mais comuns de serem usadas nas agregações para obter informações sobre cada grupo:\n",
    "- `mean`: média dos valores da coluna\n",
    "- `median`: mediana dos valores da coluna\n",
    "- `sum`: soma dos valores da coluna\n",
    "- `max`: valor máximo da coluna\n",
    "- `min`: valor mínimo da coluna\n",
    "- `count`: contagem de linhas não nulas na coluna\n",
    "- `nunique`: número de valores únicos na coluna\n",
    "- `nlargest`: n maiores valores da coluna\n",
    "- `nsmallest`: n menores valores da coluna"
   ]
  },
  {
   "attachments": {},
   "cell_type": "markdown",
   "metadata": {},
   "source": [
    "# Resumo\n",
    "\n",
    "* Vimos como ler arquivos processáveis usando Pandas (o procedimento que usamos para ler arquivos .csv pode ser replicado para arquivos .xlsx);\n",
    "* Aprendemos a usar o Pandas para começar a fazer análise de dados.\n",
    "* Conseguimos gerar as estatísticas descritivas básicas a respeito dos gastos do Estado por função.\n",
    "\n",
    "# Uma breve introdução: como gerar gráficos com o Seaborn\n",
    "\n",
    "Mais a frente do curso iremos dedicar mais tempo à visualização de dados. Contudo, pode ser interessante ter alguma ideia de como gerar alguns gráficos sobre os dados que estamos explorando. \n",
    "\n",
    "Em muitos sentidos, a comunicação dos dados é tão importante quanto as inferências que conseguimos extrair deles. Nesse contexto, nada ajuda mais que um gráfico. Se uma imagem vale por mil palavras, um gráfico vale por pelo menos dez tabelas. A principal biblioteca de visualização de dados que vamos utilizar ao longo do curso se chama `Seaborn`. O primeiro passo para usarmos o `Seaborn`, naturalmente, é realizar a importação do pacote com sua notação canônica."
   ]
  },
  {
   "cell_type": "code",
   "execution_count": 51,
   "metadata": {},
   "outputs": [],
   "source": [
    "import seaborn as sns"
   ]
  },
  {
   "cell_type": "markdown",
   "metadata": {},
   "source": [
    "Uma das formas mais comuns e úteis de apresentar informações quantitativas visualmente é o **gráfico de barras**. Ele permite que possamos comparar quantidades de maneira rápida e intuitiva. Um bom uso do gráfico de barras, por exemplo, é mostrar quais foram as funções com mais dinheiro pago e qual é a diferença entre elas.\n",
    "\n",
    "Um dos argumentos apresentados pelo Governo do Estado em contraposição ao MP foi o de que o Estado atravessava importante e notória crise fiscal. Se o MP quer contra-argumentar com dados, uma forma eficiente é mostrar que os gastos com outras funções foram elevados. Representar essa discrepância visualmente é uma maneira eficiente de fazer esse ponto."
   ]
  },
  {
   "cell_type": "code",
   "execution_count": 59,
   "metadata": {},
   "outputs": [
    {
     "data": {
      "text/html": [
       "<div>\n",
       "<style scoped>\n",
       "    .dataframe tbody tr th:only-of-type {\n",
       "        vertical-align: middle;\n",
       "    }\n",
       "\n",
       "    .dataframe tbody tr th {\n",
       "        vertical-align: top;\n",
       "    }\n",
       "\n",
       "    .dataframe thead th {\n",
       "        text-align: right;\n",
       "    }\n",
       "</style>\n",
       "<table border=\"1\" class=\"dataframe\">\n",
       "  <thead>\n",
       "    <tr style=\"text-align: right;\">\n",
       "      <th></th>\n",
       "      <th>Função</th>\n",
       "      <th>Valor Pago Float</th>\n",
       "    </tr>\n",
       "  </thead>\n",
       "  <tbody>\n",
       "    <tr>\n",
       "      <th>0</th>\n",
       "      <td>Administração</td>\n",
       "      <td>1.607817e+09</td>\n",
       "    </tr>\n",
       "    <tr>\n",
       "      <th>1</th>\n",
       "      <td>Agricultura</td>\n",
       "      <td>2.455236e+08</td>\n",
       "    </tr>\n",
       "    <tr>\n",
       "      <th>2</th>\n",
       "      <td>Assistência Social</td>\n",
       "      <td>2.440759e+08</td>\n",
       "    </tr>\n",
       "    <tr>\n",
       "      <th>3</th>\n",
       "      <td>Ciência e Tecnologia</td>\n",
       "      <td>7.515062e+07</td>\n",
       "    </tr>\n",
       "    <tr>\n",
       "      <th>4</th>\n",
       "      <td>Comunicações</td>\n",
       "      <td>3.664972e+06</td>\n",
       "    </tr>\n",
       "  </tbody>\n",
       "</table>\n",
       "</div>"
      ],
      "text/plain": [
       "                 Função  Valor Pago Float\n",
       "0         Administração      1.607817e+09\n",
       "1           Agricultura      2.455236e+08\n",
       "2    Assistência Social      2.440759e+08\n",
       "3  Ciência e Tecnologia      7.515062e+07\n",
       "4          Comunicações      3.664972e+06"
      ]
     },
     "execution_count": 59,
     "metadata": {},
     "output_type": "execute_result"
    }
   ],
   "source": [
    "funcoes_pagas = despesas18.groupby(\"Função\", as_index=False)[\"Valor Pago Float\"].sum()\n",
    "\n",
    "funcoes_pagas.head()"
   ]
  },
  {
   "cell_type": "markdown",
   "metadata": {},
   "source": [
    "Em primeiro lugar, vamos usar o próprio Pandas para gerar a visualização. Isso é possível usando o método `.plot.bar()`, nativo de DataFrames. Assim, é importante verificar que nosso agrupamento criou um DataFrame e não uma Series."
   ]
  },
  {
   "cell_type": "code",
   "execution_count": 60,
   "metadata": {},
   "outputs": [
    {
     "data": {
      "text/plain": [
       "pandas.core.frame.DataFrame"
      ]
     },
     "execution_count": 60,
     "metadata": {},
     "output_type": "execute_result"
    }
   ],
   "source": [
    "type(funcoes_pagas)"
   ]
  },
  {
   "cell_type": "markdown",
   "metadata": {},
   "source": [
    "Cuidamos desse problema ao adicionar o argumento `as_index=False` ao método `groupby`. Contudo, se não o tivéssemos feito, poderíamos resolver o problema de outra forma. Nesse caso, a coluna que usamos para identificar os grupos estaria guardada no índice do DataFrame. Para alterar isso e guardar \"Função\" como uma coluna, basta chamarmos o método `.reset_index()` e salvarmos o resultado em uma nova variável.\n",
    "\n",
    "Exemplo:\n",
    "\n",
    "```python\n",
    "funcoes_pagas = despesas18.groupby(\"Função\")[\"Valor Pago Float\"].sum()\n",
    "\n",
    "funcoes_pagas_df = funcoes_pagas.reset_index()\n",
    "```"
   ]
  },
  {
   "cell_type": "markdown",
   "metadata": {},
   "source": [
    "Agora, para fazer um gráfico de barras usando o Pandas, basta chamarmos `.plot.bar()` dando os argumentos referentes aos eixos X e Y:"
   ]
  },
  {
   "cell_type": "code",
   "execution_count": 61,
   "metadata": {},
   "outputs": [
    {
     "data": {
      "text/plain": [
       "<Axes: xlabel='Função'>"
      ]
     },
     "execution_count": 61,
     "metadata": {},
     "output_type": "execute_result"
    },
    {
     "data": {
      "image/png": "[encoded data removed]",
      "text/plain": [
       "<Figure size 640x480 with 1 Axes>"
      ]
     },
     "metadata": {},
     "output_type": "display_data"
    }
   ],
   "source": [
    "funcoes_pagas.plot.bar(x=\"Função\", y=\"Valor Pago Float\")"
   ]
  },
  {
   "cell_type": "markdown",
   "metadata": {},
   "source": [
    "O gráfico é bastante simplificado e esteticamente, não é muito bonito. Para fazer o mesmo gráfico usando o `seaborn`, basta usarmos a função `barplot()`:"
   ]
  },
  {
   "cell_type": "code",
   "execution_count": 62,
   "metadata": {
    "scrolled": true
   },
   "outputs": [
    {
     "data": {
      "text/plain": [
       "<Axes: xlabel='Função', ylabel='Valor Pago Float'>"
      ]
     },
     "execution_count": 62,
     "metadata": {},
     "output_type": "execute_result"
    },
    {
     "data": {
      "image/png": "[encoded data removed]",
      "text/plain": [
       "<Figure size 640x480 with 1 Axes>"
      ]
     },
     "metadata": {},
     "output_type": "display_data"
    }
   ],
   "source": [
    "sns.barplot(x=\"Função\", y=\"Valor Pago Float\", data=funcoes_pagas)"
   ]
  },
  {
   "cell_type": "markdown",
   "metadata": {},
   "source": [
    "Uma primeira reação é notar que o gráfico está ainda mais feio! Por que usar o `seaborn` ao invés do próprio Pandas? Uma vantagem do seaborn é a maior quantidade de opções. Se quisermos mudar a cor das barras para azul claro, por exemplo, podemos fazer isso introduzindo um único argumento."
   ]
  },
  {
   "cell_type": "code",
   "execution_count": 63,
   "metadata": {},
   "outputs": [
    {
     "data": {
      "text/plain": [
       "<Axes: xlabel='Função', ylabel='Valor Pago Float'>"
      ]
     },
     "execution_count": 63,
     "metadata": {},
     "output_type": "execute_result"
    },
    {
     "data": {
      "image/png": "[encoded data removed]",
      "text/plain": [
       "<Figure size 640x480 with 1 Axes>"
      ]
     },
     "metadata": {},
     "output_type": "display_data"
    }
   ],
   "source": [
    "sns.barplot(x=\"Função\", y=\"Valor Pago Float\", data=funcoes_pagas, color=\"skyblue\")"
   ]
  },
  {
   "cell_type": "markdown",
   "metadata": {},
   "source": [
    "Tanto o Pandas quanto o Seaborn, \"por trás dos panos\", usam a mesma biblioteca, chamada `matplotlib`. Infelizmente, quando queremos alterar aspectos que não constam da lista de argumentos aceitos pelas funções do Seaborn, precisamos fazer chamados manuais a essa função. Assim, se queremos alterar o ângulo com o qual são apresentados os nomes das funções, podemos fazer isso usando esse módulo, seja importando ele diretamente (canonicamente `from matplotlib import pyplot as plt`), seja usando algum dos métodos que o pacote implementa em objetos reconhecidos como gráficos, como fazemos abaixo com o método `set_xticklabels`."
   ]
  },
  {
   "cell_type": "code",
   "execution_count": 64,
   "metadata": {},
   "outputs": [
    {
     "name": "stderr",
     "output_type": "stream",
     "text": [
      "C:\\Users\\jlnun\\AppData\\Local\\Temp\\ipykernel_2464\\1358065895.py:3: UserWarning: set_ticklabels() should only be used with a fixed number of ticks, i.e. after set_ticks() or using a FixedLocator.\n",
      "  bars.set_xticklabels(labels=funcoes_pagas[\"Função\"], rotation=90)\n"
     ]
    },
    {
     "data": {
      "text/plain": [
       "[Text(0, 0, 'Administração'),\n",
       " Text(1, 0, 'Agricultura'),\n",
       " Text(2, 0, 'Assistência Social'),\n",
       " Text(3, 0, 'Ciência e Tecnologia'),\n",
       " Text(4, 0, 'Comunicações'),\n",
       " Text(5, 0, 'Comércio e Serviços'),\n",
       " Text(6, 0, 'Cultura'),\n",
       " Text(7, 0, 'Desporto e Lazer'),\n",
       " Text(8, 0, 'Direitos da Cidadania'),\n",
       " Text(9, 0, 'Educação'),\n",
       " Text(10, 0, 'Encargos Especiais'),\n",
       " Text(11, 0, 'Essencial à Justiça'),\n",
       " Text(12, 0, 'Gestão Ambiental'),\n",
       " Text(13, 0, 'Habitação'),\n",
       " Text(14, 0, 'Indústria'),\n",
       " Text(15, 0, 'Judiciária'),\n",
       " Text(16, 0, 'Legislativa'),\n",
       " Text(17, 0, 'Organização Agrária'),\n",
       " Text(18, 0, 'Previdência Social'),\n",
       " Text(19, 0, 'Saneamento'),\n",
       " Text(20, 0, 'Saúde'),\n",
       " Text(21, 0, 'Segurança Pública'),\n",
       " Text(22, 0, 'Trabalho'),\n",
       " Text(23, 0, 'Transporte'),\n",
       " Text(24, 0, 'Urbanismo')]"
      ]
     },
     "execution_count": 64,
     "metadata": {},
     "output_type": "execute_result"
    },
    {
     "data": {
      "image/png": "[encoded data removed]",
      "text/plain": [
       "<Figure size 640x480 with 1 Axes>"
      ]
     },
     "metadata": {},
     "output_type": "display_data"
    }
   ],
   "source": [
    "bars = sns.barplot(x=\"Função\", y=\"Valor Pago Float\", data=funcoes_pagas, color=\"skyblue\")\n",
    "\n",
    "bars.set_xticklabels(labels=funcoes_pagas[\"Função\"], rotation=90)"
   ]
  },
  {
   "cell_type": "markdown",
   "metadata": {},
   "source": [
    "Tanto no Pandas quanto no Seaborn, esse gráfico apresenta alguns problemas:\n",
    "\n",
    "1) ele não está ordenado;\n",
    "\n",
    "2) ele tem um excesso de barras.\n",
    "\n",
    "Para resolver esses dois problemas, vamos respectivamente ordenar o dataframe e usar `.head()` para plotar apenas as 5 funções com mais gastos."
   ]
  },
  {
   "cell_type": "code",
   "execution_count": 65,
   "metadata": {},
   "outputs": [
    {
     "name": "stderr",
     "output_type": "stream",
     "text": [
      "C:\\Users\\jlnun\\AppData\\Local\\Temp\\ipykernel_2464\\1093558539.py:7: UserWarning: set_ticklabels() should only be used with a fixed number of ticks, i.e. after set_ticks() or using a FixedLocator.\n",
      "  bars.set_xticklabels(labels=funcoes_pagas.head()[\"Função\"], rotation=90)\n"
     ]
    },
    {
     "data": {
      "text/plain": [
       "[Text(0, 0, 'Previdência Social'),\n",
       " Text(1, 0, 'Segurança Pública'),\n",
       " Text(2, 0, 'Educação'),\n",
       " Text(3, 0, 'Judiciária'),\n",
       " Text(4, 0, 'Saúde')]"
      ]
     },
     "execution_count": 65,
     "metadata": {},
     "output_type": "execute_result"
    },
    {
     "data": {
      "image/png": "[encoded data removed]",
      "text/plain": [
       "<Figure size 640x480 with 1 Axes>"
      ]
     },
     "metadata": {},
     "output_type": "display_data"
    }
   ],
   "source": [
    "# por padrão, o Pandas ordena em ordem crescente. Quando queremos os top 5, precisamos ordenar por ordem decrescente.\n",
    "funcoes_pagas.sort_values(\"Valor Pago Float\", ascending=False, inplace=True)\n",
    "\n",
    "bars = sns.barplot(x=\"Função\", y=\"Valor Pago Float\", data=funcoes_pagas.head(), color=\"steelblue\")\n",
    "\n",
    "# se esquecermos de adicionar .head() aos labels, teremos um excesso de labels\n",
    "bars.set_xticklabels(labels=funcoes_pagas.head()[\"Função\"], rotation=90)"
   ]
  },
  {
   "cell_type": "markdown",
   "metadata": {},
   "source": [
    "O gráfico acima ainda está longe e estar pronto: falta acertar os nomes dos eixos, adicionar um título, alterar a forma de apresentação dos valores de notação científica para algo que advogados entendem, adicionar ajustes estéticos... Possivelmente uma ideia melhor seria também orientar as barras horizontalmente, já que os nomes das funções são longos.\n",
    "\n",
    "Mas todas essas coisas são objeto de oturas aulas. A ideia, neste momento, é apenas introduzir duas maneiras de visualizar graficamente os dados.\n",
    "\n",
    "## Desafio\n",
    "\n",
    "Fizemos o gráfico para os valores efetivamente pagos. Faça o gráfico referente à diferença entre os valores empenhados e pagos.\n"
   ]
  },
  {
   "cell_type": "code",
   "execution_count": null,
   "metadata": {},
   "outputs": [],
   "source": []
  }
 ],
 "metadata": {
  "kernelspec": {
   "display_name": "eda",
   "language": "python",
   "name": "python3"
  },
  "language_info": {
   "codemirror_mode": {
    "name": "ipython",
    "version": 3
   },
   "file_extension": ".py",
   "mimetype": "text/x-python",
   "name": "python",
   "nbconvert_exporter": "python",
   "pygments_lexer": "ipython3",
   "version": "3.12.5"
  },
  "vscode": {
   "interpreter": {
    "hash": "abb44a25ac141f9fc3c6de45abf9ef72613fc3eebc8c35ca26f9ad8a6120c4e5"
   }
  }
 },
 "nbformat": 4,
 "nbformat_minor": 4
}
