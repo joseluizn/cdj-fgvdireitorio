{
 "cells": [
  {
   "cell_type": "markdown",
   "metadata": {},
   "source": [
    "**Índice**<a id='toc0_'></a>    \n",
    "- [Material de apoio](#toc1_)    \n",
    "- [Correlação](#toc2_)    \n",
    "  - [Realizando o teste estatístico](#toc2_1_)    \n",
    "  - [Desafio](#toc2_2_)    \n",
    "\n",
    "<!-- vscode-jupyter-toc-config\n",
    "\tnumbering=false\n",
    "\tanchor=true\n",
    "\tflat=false\n",
    "\tminLevel=1\n",
    "\tmaxLevel=3\n",
    "\t/vscode-jupyter-toc-config -->\n",
    "<!-- THIS CELL WILL BE REPLACED ON TOC UPDATE. DO NOT WRITE YOUR TEXT IN THIS CELL -->"
   ]
  },
  {
   "cell_type": "markdown",
   "metadata": {},
   "source": [
    "# <a id='toc1_'></a>[Material de apoio](#toc0_)\n",
    "\n",
    "Leitura Sugerida:\n",
    "1. Statistical Thinking for the 21st Century. Poldrack. Capítulo 13.\n",
    "Disponível em: https://statsthinking21.github.io/statsthinking21-core-site/hypothesis-testing.html\n",
    "\n",
    "Leitura Complementar:\n",
    "1. The Book of Why. Judea Pearl e Dana Mackenzie.\n",
    "\n",
    "Esse livro é uma ótimo introdução ao pensamento e pesquisa do autor ganhador do Turing Award (equivalente do Nobel na área de computação) que desenvolveu sua carreira pesquisando sobre como estudar causa e efeito.\n"
   ]
  },
  {
   "cell_type": "markdown",
   "metadata": {},
   "source": [
    "# <a id='toc2_'></a>[Correlação](#toc0_)\n",
    "\n",
    "Na última aula, vimos o nosso primeiro teste estatístico, o **t-test** e como ele pode ser usado para comparar as médias de dois conjuntos de dados diferentes. Vimos que podemos usar o valor p associado ao teste para rejeitar a hipótese nula e fazer inferências a respeito dos nossos dados.\n",
    "\n",
    "O t-test, porém, não é a ferramenta estatística adequada para investigar todos os problemas. Existem outras ferramentas que pretendem responder a outras perguntas. Algumas vezes, por exemplo, notamos que dois dados variam juntos: quando um sobe, o outro também tende a subir e quando um desce, o outro também tende a descer. Nesses casos, temos duas variáveis a respeito de uma mesma observação e queremos saber se elas se correlacionam ou não.\n",
    "\n",
    "Nesta aula, vamos discutir o que é uma correlação, usando dados de um paper recente sobre o conceito de regra e filosofia experimental do direito, [disponível aqui](http://journal.sjdm.org/19/191125/jdm191125.pdf?fbclid=IwAR1HCDmwEXWdGFw5o_GeHuY8x45g2um_dOZpOPt3hq0IAH_Or_krv60HZ8Q).\n",
    "\n",
    "O paper investiga o conceito ordinário de regra e qual é a influência exercida sobre esse conceito pelo texto e pelo propósito. Nos primeiros experimentos, perguntávamos a uma mesma pessoa sobre se o texto havia sido violado, se o propósito havia sido violado e se a regra em si tinha sido violada. Neles, vimos que texto e propósito importam, mas que o texto importa mais que o propósito. Um problema como essa estratégia é que as próprias perguntas podem fazer alguma diferença. Pode ser que ser lembrado de que o texto e o propósito são componentes diferentes do conceito de regra faça com que as pessoas se tornem mais formalistas.\n",
    "\n",
    "Para testar essa hipótese, desenvolvemos um estudo onde cada pessoa respondia a apenas uma dimensão (texto, propósito ou regra) sobre cada caso. Nossa ideia era agregar as respostas dadas a cada caso e ver quais eram as **correlações** entre as três variáveis."
   ]
  },
  {
   "cell_type": "code",
   "execution_count": 1,
   "metadata": {},
   "outputs": [],
   "source": [
    "import pandas as pd"
   ]
  },
  {
   "cell_type": "code",
   "execution_count": 2,
   "metadata": {
    "scrolled": false
   },
   "outputs": [
    {
     "data": {
      "text/html": [
       "<div>\n",
       "<style scoped>\n",
       "    .dataframe tbody tr th:only-of-type {\n",
       "        vertical-align: middle;\n",
       "    }\n",
       "\n",
       "    .dataframe tbody tr th {\n",
       "        vertical-align: top;\n",
       "    }\n",
       "\n",
       "    .dataframe thead th {\n",
       "        text-align: right;\n",
       "    }\n",
       "</style>\n",
       "<table border=\"1\" class=\"dataframe\">\n",
       "  <thead>\n",
       "    <tr style=\"text-align: right;\">\n",
       "      <th></th>\n",
       "      <th>ResponseId</th>\n",
       "      <th>case</th>\n",
       "      <th>moral</th>\n",
       "      <th>rule_violation</th>\n",
       "      <th>text</th>\n",
       "      <th>EndDate</th>\n",
       "      <th>Duration (in seconds)</th>\n",
       "      <th>Finished</th>\n",
       "      <th>consent</th>\n",
       "      <th>idade</th>\n",
       "      <th>...</th>\n",
       "      <th>politica</th>\n",
       "      <th>school</th>\n",
       "      <th>lawyer</th>\n",
       "      <th>anos_formado</th>\n",
       "      <th>periodo</th>\n",
       "      <th>aluno_noel</th>\n",
       "      <th>familiarizado</th>\n",
       "      <th>previous_research</th>\n",
       "      <th>pergunta</th>\n",
       "      <th>flagged_for_exclusion</th>\n",
       "    </tr>\n",
       "  </thead>\n",
       "  <tbody>\n",
       "    <tr>\n",
       "      <th>0</th>\n",
       "      <td>R_0MzzLNxqX4wqy5P</td>\n",
       "      <td>alice4</td>\n",
       "      <td>NaN</td>\n",
       "      <td>NaN</td>\n",
       "      <td>6.0</td>\n",
       "      <td>2018-04-26 22:18:05</td>\n",
       "      <td>226</td>\n",
       "      <td>1</td>\n",
       "      <td>1</td>\n",
       "      <td>18.0</td>\n",
       "      <td>...</td>\n",
       "      <td>2.0</td>\n",
       "      <td>2.0</td>\n",
       "      <td>2.0</td>\n",
       "      <td>NaN</td>\n",
       "      <td>1.0</td>\n",
       "      <td>0</td>\n",
       "      <td>NaN</td>\n",
       "      <td>2</td>\n",
       "      <td>text</td>\n",
       "      <td>0</td>\n",
       "    </tr>\n",
       "    <tr>\n",
       "      <th>1</th>\n",
       "      <td>R_0MzzLNxqX4wqy5P</td>\n",
       "      <td>felipe1</td>\n",
       "      <td>NaN</td>\n",
       "      <td>NaN</td>\n",
       "      <td>4.0</td>\n",
       "      <td>2018-04-26 22:18:05</td>\n",
       "      <td>226</td>\n",
       "      <td>1</td>\n",
       "      <td>1</td>\n",
       "      <td>18.0</td>\n",
       "      <td>...</td>\n",
       "      <td>2.0</td>\n",
       "      <td>2.0</td>\n",
       "      <td>2.0</td>\n",
       "      <td>NaN</td>\n",
       "      <td>1.0</td>\n",
       "      <td>0</td>\n",
       "      <td>NaN</td>\n",
       "      <td>2</td>\n",
       "      <td>text</td>\n",
       "      <td>0</td>\n",
       "    </tr>\n",
       "    <tr>\n",
       "      <th>2</th>\n",
       "      <td>R_0MzzLNxqX4wqy5P</td>\n",
       "      <td>gui1</td>\n",
       "      <td>NaN</td>\n",
       "      <td>NaN</td>\n",
       "      <td>7.0</td>\n",
       "      <td>2018-04-26 22:18:05</td>\n",
       "      <td>226</td>\n",
       "      <td>1</td>\n",
       "      <td>1</td>\n",
       "      <td>18.0</td>\n",
       "      <td>...</td>\n",
       "      <td>2.0</td>\n",
       "      <td>2.0</td>\n",
       "      <td>2.0</td>\n",
       "      <td>NaN</td>\n",
       "      <td>1.0</td>\n",
       "      <td>0</td>\n",
       "      <td>NaN</td>\n",
       "      <td>2</td>\n",
       "      <td>text</td>\n",
       "      <td>0</td>\n",
       "    </tr>\n",
       "    <tr>\n",
       "      <th>3</th>\n",
       "      <td>R_0MzzLNxqX4wqy5P</td>\n",
       "      <td>gui3</td>\n",
       "      <td>NaN</td>\n",
       "      <td>NaN</td>\n",
       "      <td>2.0</td>\n",
       "      <td>2018-04-26 22:18:05</td>\n",
       "      <td>226</td>\n",
       "      <td>1</td>\n",
       "      <td>1</td>\n",
       "      <td>18.0</td>\n",
       "      <td>...</td>\n",
       "      <td>2.0</td>\n",
       "      <td>2.0</td>\n",
       "      <td>2.0</td>\n",
       "      <td>NaN</td>\n",
       "      <td>1.0</td>\n",
       "      <td>0</td>\n",
       "      <td>NaN</td>\n",
       "      <td>2</td>\n",
       "      <td>text</td>\n",
       "      <td>0</td>\n",
       "    </tr>\n",
       "    <tr>\n",
       "      <th>4</th>\n",
       "      <td>R_0OmSmAAt0h01ur7</td>\n",
       "      <td>felipe2</td>\n",
       "      <td>5.0</td>\n",
       "      <td>NaN</td>\n",
       "      <td>NaN</td>\n",
       "      <td>2018-04-28 22:58:36</td>\n",
       "      <td>234</td>\n",
       "      <td>1</td>\n",
       "      <td>1</td>\n",
       "      <td>21.0</td>\n",
       "      <td>...</td>\n",
       "      <td>6.0</td>\n",
       "      <td>2.0</td>\n",
       "      <td>2.0</td>\n",
       "      <td>NaN</td>\n",
       "      <td>8.0</td>\n",
       "      <td>1</td>\n",
       "      <td>2.0</td>\n",
       "      <td>2</td>\n",
       "      <td>moral</td>\n",
       "      <td>0</td>\n",
       "    </tr>\n",
       "  </tbody>\n",
       "</table>\n",
       "<p>5 rows × 21 columns</p>\n",
       "</div>"
      ],
      "text/plain": [
       "          ResponseId     case  moral  rule_violation  text  \\\n",
       "0  R_0MzzLNxqX4wqy5P   alice4    NaN             NaN   6.0   \n",
       "1  R_0MzzLNxqX4wqy5P  felipe1    NaN             NaN   4.0   \n",
       "2  R_0MzzLNxqX4wqy5P     gui1    NaN             NaN   7.0   \n",
       "3  R_0MzzLNxqX4wqy5P     gui3    NaN             NaN   2.0   \n",
       "4  R_0OmSmAAt0h01ur7  felipe2    5.0             NaN   NaN   \n",
       "\n",
       "               EndDate  Duration (in seconds)  Finished  consent  idade  ...  \\\n",
       "0  2018-04-26 22:18:05                    226         1        1   18.0  ...   \n",
       "1  2018-04-26 22:18:05                    226         1        1   18.0  ...   \n",
       "2  2018-04-26 22:18:05                    226         1        1   18.0  ...   \n",
       "3  2018-04-26 22:18:05                    226         1        1   18.0  ...   \n",
       "4  2018-04-28 22:58:36                    234         1        1   21.0  ...   \n",
       "\n",
       "   politica  school  lawyer  anos_formado  periodo  aluno_noel  familiarizado  \\\n",
       "0       2.0     2.0     2.0           NaN      1.0           0            NaN   \n",
       "1       2.0     2.0     2.0           NaN      1.0           0            NaN   \n",
       "2       2.0     2.0     2.0           NaN      1.0           0            NaN   \n",
       "3       2.0     2.0     2.0           NaN      1.0           0            NaN   \n",
       "4       6.0     2.0     2.0           NaN      8.0           1            2.0   \n",
       "\n",
       "   previous_research  pergunta flagged_for_exclusion  \n",
       "0                  2      text                     0  \n",
       "1                  2      text                     0  \n",
       "2                  2      text                     0  \n",
       "3                  2      text                     0  \n",
       "4                  2     moral                     0  \n",
       "\n",
       "[5 rows x 21 columns]"
      ]
     },
     "execution_count": 2,
     "metadata": {},
     "output_type": "execute_result"
    }
   ],
   "source": [
    "experimental_guide = pd.read_csv(\"https://bit.ly/study3-exp-guide\")\n",
    "experimental_guide.head()"
   ]
  },
  {
   "cell_type": "code",
   "execution_count": 3,
   "metadata": {
    "scrolled": false
   },
   "outputs": [
    {
     "data": {
      "text/html": [
       "<div>\n",
       "<style scoped>\n",
       "    .dataframe tbody tr th:only-of-type {\n",
       "        vertical-align: middle;\n",
       "    }\n",
       "\n",
       "    .dataframe tbody tr th {\n",
       "        vertical-align: top;\n",
       "    }\n",
       "\n",
       "    .dataframe thead th {\n",
       "        text-align: right;\n",
       "    }\n",
       "</style>\n",
       "<table border=\"1\" class=\"dataframe\">\n",
       "  <thead>\n",
       "    <tr style=\"text-align: right;\">\n",
       "      <th></th>\n",
       "      <th>ResponseId</th>\n",
       "      <th>case</th>\n",
       "      <th>moral</th>\n",
       "      <th>rule_violation</th>\n",
       "      <th>text</th>\n",
       "      <th>EndDate</th>\n",
       "      <th>Duration (in seconds)</th>\n",
       "      <th>Finished</th>\n",
       "      <th>consent</th>\n",
       "      <th>idade</th>\n",
       "      <th>...</th>\n",
       "      <th>politica</th>\n",
       "      <th>school</th>\n",
       "      <th>lawyer</th>\n",
       "      <th>anos_formado</th>\n",
       "      <th>periodo</th>\n",
       "      <th>aluno_noel</th>\n",
       "      <th>familiarizado</th>\n",
       "      <th>previous_research</th>\n",
       "      <th>pergunta</th>\n",
       "      <th>flagged_for_exclusion</th>\n",
       "    </tr>\n",
       "  </thead>\n",
       "  <tbody>\n",
       "    <tr>\n",
       "      <th>695</th>\n",
       "      <td>R_xbgIFmGumX8Dmvv</td>\n",
       "      <td>urs3</td>\n",
       "      <td>1.0</td>\n",
       "      <td>NaN</td>\n",
       "      <td>NaN</td>\n",
       "      <td>2018-04-29 07:31:31</td>\n",
       "      <td>169</td>\n",
       "      <td>1</td>\n",
       "      <td>1</td>\n",
       "      <td>24.0</td>\n",
       "      <td>...</td>\n",
       "      <td>3.0</td>\n",
       "      <td>3.0</td>\n",
       "      <td>1.0</td>\n",
       "      <td>1.0</td>\n",
       "      <td>NaN</td>\n",
       "      <td>1</td>\n",
       "      <td>3.0</td>\n",
       "      <td>1</td>\n",
       "      <td>moral</td>\n",
       "      <td>1</td>\n",
       "    </tr>\n",
       "    <tr>\n",
       "      <th>696</th>\n",
       "      <td>R_yO5c9CCjvlvvP8d</td>\n",
       "      <td>acc1</td>\n",
       "      <td>NaN</td>\n",
       "      <td>NaN</td>\n",
       "      <td>1.0</td>\n",
       "      <td>2018-04-30 17:47:01</td>\n",
       "      <td>632</td>\n",
       "      <td>1</td>\n",
       "      <td>1</td>\n",
       "      <td>17.0</td>\n",
       "      <td>...</td>\n",
       "      <td>4.0</td>\n",
       "      <td>2.0</td>\n",
       "      <td>2.0</td>\n",
       "      <td>NaN</td>\n",
       "      <td>1.0</td>\n",
       "      <td>0</td>\n",
       "      <td>NaN</td>\n",
       "      <td>2</td>\n",
       "      <td>text</td>\n",
       "      <td>0</td>\n",
       "    </tr>\n",
       "    <tr>\n",
       "      <th>697</th>\n",
       "      <td>R_yO5c9CCjvlvvP8d</td>\n",
       "      <td>acc4</td>\n",
       "      <td>NaN</td>\n",
       "      <td>NaN</td>\n",
       "      <td>1.0</td>\n",
       "      <td>2018-04-30 17:47:01</td>\n",
       "      <td>632</td>\n",
       "      <td>1</td>\n",
       "      <td>1</td>\n",
       "      <td>17.0</td>\n",
       "      <td>...</td>\n",
       "      <td>4.0</td>\n",
       "      <td>2.0</td>\n",
       "      <td>2.0</td>\n",
       "      <td>NaN</td>\n",
       "      <td>1.0</td>\n",
       "      <td>0</td>\n",
       "      <td>NaN</td>\n",
       "      <td>2</td>\n",
       "      <td>text</td>\n",
       "      <td>0</td>\n",
       "    </tr>\n",
       "    <tr>\n",
       "      <th>698</th>\n",
       "      <td>R_yO5c9CCjvlvvP8d</td>\n",
       "      <td>alice2</td>\n",
       "      <td>NaN</td>\n",
       "      <td>NaN</td>\n",
       "      <td>6.0</td>\n",
       "      <td>2018-04-30 17:47:01</td>\n",
       "      <td>632</td>\n",
       "      <td>1</td>\n",
       "      <td>1</td>\n",
       "      <td>17.0</td>\n",
       "      <td>...</td>\n",
       "      <td>4.0</td>\n",
       "      <td>2.0</td>\n",
       "      <td>2.0</td>\n",
       "      <td>NaN</td>\n",
       "      <td>1.0</td>\n",
       "      <td>0</td>\n",
       "      <td>NaN</td>\n",
       "      <td>2</td>\n",
       "      <td>text</td>\n",
       "      <td>0</td>\n",
       "    </tr>\n",
       "    <tr>\n",
       "      <th>699</th>\n",
       "      <td>R_yO5c9CCjvlvvP8d</td>\n",
       "      <td>iv4</td>\n",
       "      <td>NaN</td>\n",
       "      <td>NaN</td>\n",
       "      <td>6.0</td>\n",
       "      <td>2018-04-30 17:47:01</td>\n",
       "      <td>632</td>\n",
       "      <td>1</td>\n",
       "      <td>1</td>\n",
       "      <td>17.0</td>\n",
       "      <td>...</td>\n",
       "      <td>4.0</td>\n",
       "      <td>2.0</td>\n",
       "      <td>2.0</td>\n",
       "      <td>NaN</td>\n",
       "      <td>1.0</td>\n",
       "      <td>0</td>\n",
       "      <td>NaN</td>\n",
       "      <td>2</td>\n",
       "      <td>text</td>\n",
       "      <td>0</td>\n",
       "    </tr>\n",
       "  </tbody>\n",
       "</table>\n",
       "<p>5 rows × 21 columns</p>\n",
       "</div>"
      ],
      "text/plain": [
       "            ResponseId    case  moral  rule_violation  text  \\\n",
       "695  R_xbgIFmGumX8Dmvv    urs3    1.0             NaN   NaN   \n",
       "696  R_yO5c9CCjvlvvP8d    acc1    NaN             NaN   1.0   \n",
       "697  R_yO5c9CCjvlvvP8d    acc4    NaN             NaN   1.0   \n",
       "698  R_yO5c9CCjvlvvP8d  alice2    NaN             NaN   6.0   \n",
       "699  R_yO5c9CCjvlvvP8d     iv4    NaN             NaN   6.0   \n",
       "\n",
       "                 EndDate  Duration (in seconds)  Finished  consent  idade  \\\n",
       "695  2018-04-29 07:31:31                    169         1        1   24.0   \n",
       "696  2018-04-30 17:47:01                    632         1        1   17.0   \n",
       "697  2018-04-30 17:47:01                    632         1        1   17.0   \n",
       "698  2018-04-30 17:47:01                    632         1        1   17.0   \n",
       "699  2018-04-30 17:47:01                    632         1        1   17.0   \n",
       "\n",
       "     ...  politica  school  lawyer  anos_formado  periodo  aluno_noel  \\\n",
       "695  ...       3.0     3.0     1.0           1.0      NaN           1   \n",
       "696  ...       4.0     2.0     2.0           NaN      1.0           0   \n",
       "697  ...       4.0     2.0     2.0           NaN      1.0           0   \n",
       "698  ...       4.0     2.0     2.0           NaN      1.0           0   \n",
       "699  ...       4.0     2.0     2.0           NaN      1.0           0   \n",
       "\n",
       "     familiarizado  previous_research  pergunta flagged_for_exclusion  \n",
       "695            3.0                  1     moral                     1  \n",
       "696            NaN                  2      text                     0  \n",
       "697            NaN                  2      text                     0  \n",
       "698            NaN                  2      text                     0  \n",
       "699            NaN                  2      text                     0  \n",
       "\n",
       "[5 rows x 21 columns]"
      ]
     },
     "execution_count": 3,
     "metadata": {},
     "output_type": "execute_result"
    }
   ],
   "source": [
    "experimental_guide.tail()"
   ]
  },
  {
   "cell_type": "markdown",
   "metadata": {},
   "source": [
    "Acima, carregamos os dados conforme eles foram extraídos da plataforma de questionários. Isso significa que precisamos fazer algumas coisas ainda antes de discutirmos sobre as correlações propriamente ditas. Em particular, os dados atuais possuem uma linha para cada resposta que um participante deu para um caso.\n",
    "\n",
    "Assim, cada participante aparece 4 vezes na tabela. Por exemplo, se olharmos para o participante \"R_0MzzLNxqX4wqy5P\", vemos que esse valor se repete nas 4 primeiras linhas. \n",
    "\n",
    "Além disso, ele avaliou apenas o texto de cada um dos casos. Por isso, a coluna \"text\" está preenchida, enquanto as colunas \"moral\" e \"rule_violation\" não estão preenchidas. Isso ocorre sistematicamente. Cada pessoa só respondia a uma pergunta sobre o caso, de maneira que na maioria das linhas, esperamos que apenas uma dessas três colunas esteja preenchida. Podemos observar esse fato contando a quantidade de vezes em que o valor está vazio para cada uma das colunas."
   ]
  },
  {
   "cell_type": "code",
   "execution_count": 4,
   "metadata": {},
   "outputs": [
    {
     "data": {
      "text/plain": [
       "True     472\n",
       "False    228\n",
       "Name: moral, dtype: int64"
      ]
     },
     "execution_count": 4,
     "metadata": {},
     "output_type": "execute_result"
    }
   ],
   "source": [
    "pd.isnull(experimental_guide.moral).value_counts()"
   ]
  },
  {
   "cell_type": "code",
   "execution_count": 5,
   "metadata": {},
   "outputs": [
    {
     "data": {
      "text/plain": [
       "True     440\n",
       "False    260\n",
       "Name: text, dtype: int64"
      ]
     },
     "execution_count": 5,
     "metadata": {},
     "output_type": "execute_result"
    }
   ],
   "source": [
    "pd.isnull(experimental_guide.text).value_counts()"
   ]
  },
  {
   "cell_type": "code",
   "execution_count": 6,
   "metadata": {
    "scrolled": true
   },
   "outputs": [
    {
     "data": {
      "text/plain": [
       "True     488\n",
       "False    212\n",
       "Name: rule_violation, dtype: int64"
      ]
     },
     "execution_count": 6,
     "metadata": {},
     "output_type": "execute_result"
    }
   ],
   "source": [
    "pd.isnull(experimental_guide.rule_violation).value_counts()"
   ]
  },
  {
   "cell_type": "markdown",
   "metadata": {},
   "source": [
    "Para resolver esse problema, vamos agrupar os dados por caso, extraindo a média para cada uma das três variáveis em cada caso."
   ]
  },
  {
   "cell_type": "code",
   "execution_count": 10,
   "metadata": {},
   "outputs": [
    {
     "data": {
      "text/html": [
       "<div>\n",
       "<style scoped>\n",
       "    .dataframe tbody tr th:only-of-type {\n",
       "        vertical-align: middle;\n",
       "    }\n",
       "\n",
       "    .dataframe tbody tr th {\n",
       "        vertical-align: top;\n",
       "    }\n",
       "\n",
       "    .dataframe thead th {\n",
       "        text-align: right;\n",
       "    }\n",
       "</style>\n",
       "<table border=\"1\" class=\"dataframe\">\n",
       "  <thead>\n",
       "    <tr style=\"text-align: right;\">\n",
       "      <th></th>\n",
       "      <th>cases</th>\n",
       "      <th>text</th>\n",
       "      <th>moral</th>\n",
       "      <th>rule_violation</th>\n",
       "    </tr>\n",
       "  </thead>\n",
       "  <tbody>\n",
       "    <tr>\n",
       "      <th>0</th>\n",
       "      <td>acc1</td>\n",
       "      <td>2.000000</td>\n",
       "      <td>3.222222</td>\n",
       "      <td>3.583333</td>\n",
       "    </tr>\n",
       "    <tr>\n",
       "      <th>1</th>\n",
       "      <td>acc3</td>\n",
       "      <td>6.916667</td>\n",
       "      <td>6.500000</td>\n",
       "      <td>7.000000</td>\n",
       "    </tr>\n",
       "    <tr>\n",
       "      <th>2</th>\n",
       "      <td>acc4</td>\n",
       "      <td>1.454545</td>\n",
       "      <td>1.272727</td>\n",
       "      <td>1.333333</td>\n",
       "    </tr>\n",
       "    <tr>\n",
       "      <th>3</th>\n",
       "      <td>alice2</td>\n",
       "      <td>5.785714</td>\n",
       "      <td>1.000000</td>\n",
       "      <td>1.818182</td>\n",
       "    </tr>\n",
       "    <tr>\n",
       "      <th>4</th>\n",
       "      <td>alice3</td>\n",
       "      <td>4.666667</td>\n",
       "      <td>4.000000</td>\n",
       "      <td>3.000000</td>\n",
       "    </tr>\n",
       "  </tbody>\n",
       "</table>\n",
       "</div>"
      ],
      "text/plain": [
       "    cases      text     moral  rule_violation\n",
       "0    acc1  2.000000  3.222222        3.583333\n",
       "1    acc3  6.916667  6.500000        7.000000\n",
       "2    acc4  1.454545  1.272727        1.333333\n",
       "3  alice2  5.785714  1.000000        1.818182\n",
       "4  alice3  4.666667  4.000000        3.000000"
      ]
     },
     "execution_count": 10,
     "metadata": {},
     "output_type": "execute_result"
    }
   ],
   "source": [
    "cases = experimental_guide.groupby(\"case\", as_index=False)[[\"text\", \"moral\", \"rule_violation\"]].mean()\n",
    "cases.columns = [\"cases\", \"text\", \"moral\", \"rule_violation\"]\n",
    "cases.head()"
   ]
  },
  {
   "cell_type": "markdown",
   "metadata": {},
   "source": [
    "Um dos primeiros passos para testar uma correlação é observar como os pontos se comportam em um plano cartesiano. \n",
    "\n",
    "Como discutimos no começo da aula, uma correlação envolve duas variáveis a respeito de uma mesma observação. Se queremos investigar a relação entre texto e regra, por exemplo, podemos ver que temos duas variáveis (texto e regra) sobre cada um dos 24 casos que utilizamos. Assim, temos 24 observações e dois atributos destas observações. \n",
    "\n",
    "Isso significa que podemos representar a relação entre essas duas variáveis usando um **scatterplot**, um gráfico de pontos que plota cada uma dessas observações em um plano bidimensional tomando as duas variáveis como os eixos X e Y.\n",
    "\n",
    "Convencionalmente, a nossa **variável dependente**, o fenômeno que queremos explicar, é colocada no eixo Y, enquanto a **variável independente**, aquilo que deve explicar a variável dependente, é colocada no eixo X. No caso, queremos explicar o conceito ordinário de regra, ou seja, quais são os fatores que levam alguém a dizer que uma regra foi descumprida. Logo, julgamentos a respeito da regra devem ser incluídos no eixo Y, enquanto julgamentos a respeito do texto da regra serão representados no eixo X. O mesmo pode ser repetido para a relação entre propósito e julgamentos de violação da regra e para a relação entre texto e propósito.\n",
    "\n",
    "Podemos ver isso a partir de uma linha (regplot). A equação dessa linha é uma forma de descrever a relação entre as variáveis da seguinte forma:\n",
    "\n",
    "$DV = a*IV + b$\n",
    "\n",
    "Vamos falar mais dessa idéia na próxima aula, ao tratarmos de regressão linear. Por enquanto, vamos nos concentrar apenas em visualizar a relação entre as variáveis."
   ]
  },
  {
   "cell_type": "code",
   "execution_count": 11,
   "metadata": {},
   "outputs": [
    {
     "data": {
      "text/plain": [
       "Text(0.5, 1.0, 'Julgamentos de violação à regra como uma função\\ndos julgamentos de violação ao texto')"
      ]
     },
     "execution_count": 11,
     "metadata": {},
     "output_type": "execute_result"
    },
    {
     "data": {
      "image/png": "[encoded data removed]",
      "text/plain": [
       "<Figure size 640x480 with 1 Axes>"
      ]
     },
     "metadata": {},
     "output_type": "display_data"
    }
   ],
   "source": [
    "import seaborn as sns\n",
    "\n",
    "p = sns.regplot(x=\"text\", y=\"rule_violation\", data=cases)\n",
    "\n",
    "p.set_title(\"Julgamentos de violação à regra como uma função\\ndos julgamentos de violação ao texto\")"
   ]
  },
  {
   "cell_type": "code",
   "execution_count": 12,
   "metadata": {},
   "outputs": [
    {
     "data": {
      "text/plain": [
       "<AxesSubplot: xlabel='moral', ylabel='rule_violation'>"
      ]
     },
     "execution_count": 12,
     "metadata": {},
     "output_type": "execute_result"
    },
    {
     "data": {
      "image/png": "[encoded data removed]",
      "text/plain": [
       "<Figure size 640x480 with 1 Axes>"
      ]
     },
     "metadata": {},
     "output_type": "display_data"
    }
   ],
   "source": [
    "sns.regplot(x=\"moral\", y=\"rule_violation\", data=cases)"
   ]
  },
  {
   "cell_type": "code",
   "execution_count": 13,
   "metadata": {},
   "outputs": [
    {
     "data": {
      "text/plain": [
       "<AxesSubplot: xlabel='moral', ylabel='text'>"
      ]
     },
     "execution_count": 13,
     "metadata": {},
     "output_type": "execute_result"
    },
    {
     "data": {
      "image/png": "[encoded data removed]",
      "text/plain": [
       "<Figure size 640x480 with 1 Axes>"
      ]
     },
     "metadata": {},
     "output_type": "display_data"
    }
   ],
   "source": [
    "sns.scatterplot(x=\"moral\", y=\"text\", data=cases)"
   ]
  },
  {
   "cell_type": "markdown",
   "metadata": {},
   "source": [
    "## <a id='toc2_1_'></a>[Realizando o teste estatístico](#toc0_)\n",
    "\n",
    "\n",
    "Assim como podemos quantificar nossa confiança na existência de uma diferença entre duas médias usando o valor p de um t-test, podemos quantificar nossa confiança na existência de uma correlação entre duas variáveis usando o coeficiente de correlação, ou r de Pearson."
   ]
  },
  {
   "cell_type": "code",
   "execution_count": 14,
   "metadata": {},
   "outputs": [
    {
     "data": {
      "text/plain": [
       "PearsonRResult(statistic=0.5489446503291954, pvalue=0.005469900673572377)"
      ]
     },
     "execution_count": 14,
     "metadata": {},
     "output_type": "execute_result"
    }
   ],
   "source": [
    "from scipy.stats import pearsonr\n",
    "\n",
    "pearsonr(cases.text, cases.rule_violation)"
   ]
  },
  {
   "cell_type": "markdown",
   "metadata": {},
   "source": [
    "O teste acima indica um coeficiente de correlação de 0.55 e um valor p de 0.005. Na aula passada, quando discutimos o t-test, olhamos pouco para a estatística t e muito para o valor p. Já discutimos bastante o significado do valor p e, naquela ocasião, comentamos que a estatística t não tinha um significado tão claro. O mesmo não é verdade com relação ao coeficiente de correlação: ele é uma medida fácil de interpretar, clara e muito útil."
   ]
  },
  {
   "cell_type": "markdown",
   "metadata": {},
   "source": [
    "<img src=https://www.mathsisfun.com/data/images/correlation-examples.svg style = \"width:80%\">\n",
    "<br>\n",
    "<center> <i> Fonte: Pierce, Rod. (22 Jan 2020). \"Correlation\". Math Is Fun. Retrieved 27 Apr 2020 from http://www.mathsisfun.com/data/correlation.html </i> </center>\n",
    "\n"
   ]
  },
  {
   "cell_type": "markdown",
   "metadata": {},
   "source": [
    "O coeficiente de correlação é importante para sabermos qual é a força de uma relação, ou seja, o quão próximos de uma linha estão todos os pontos, mas não é muito bom para nos dizer qual é a magnitude da relação, i.e., o quão inclinada é a linha. Para a pesquisa, era importante conhecer também este dado. Afinal, dizer que o texto da regra influencia mais os julgamentos que as pessoas fazem a respeito de seu cumprimento do que o propósito envolve comparar a inclinação destas duas linhas. Veremos como fazer isso em breve.\n",
    "\n",
    "> OBS.: muito embora uma correlação alta seja indicativa de uma relação entre as duas variáveis, não podemos inferir disso que uma variável *causa* a outra. Um dos slogans mais famosos da estatística é: **correlação não implica causalidade**. [Esse site](http://www.tylervigen.com/spurious-correlations) contém vários exemplos de \"correlações espúrias\", casos nos quais duas variáveis se correlacionam, mas não temos nenhuma razão para crer que uma seja causa da outra. Assim, sempre precisamos de razões teóricas sólidas que acompanhem a nossa observação estatística para embasar inferências relativas à causalidade. No nosso caso, por exemplo, antes mesmo de observar os dados, já havíamos levantado a carga de trabalho como possível causa dos atrasos na apreciação das medidas liminares."
   ]
  },
  {
   "cell_type": "markdown",
   "metadata": {},
   "source": [
    "## <a id='toc2_2_'></a>[Desafio](#toc0_)\n",
    "\n",
    "O desafio é calcular e interpretar as correlações entre propósito e violação à regra e entre propósito e texto.\n",
    "\n",
    "Olhando o resultado dos 3 testes, o que isso sugere sobre a relação entre violação do propósito e texto com a violação da regra como um todo?"
   ]
  },
  {
   "cell_type": "code",
   "execution_count": 11,
   "metadata": {},
   "outputs": [],
   "source": [
    "#seu código aqui\n"
   ]
  }
 ],
 "metadata": {
  "kernelspec": {
   "display_name": "Python 3 (ipykernel)",
   "language": "python",
   "name": "python3"
  },
  "language_info": {
   "codemirror_mode": {
    "name": "ipython",
    "version": 3
   },
   "file_extension": ".py",
   "mimetype": "text/x-python",
   "name": "python",
   "nbconvert_exporter": "python",
   "pygments_lexer": "ipython3",
   "version": "3.12.3"
  },
  "toc": {
   "base_numbering": 1,
   "nav_menu": {},
   "number_sections": true,
   "sideBar": true,
   "skip_h1_title": false,
   "title_cell": "Table of Contents",
   "title_sidebar": "Contents",
   "toc_cell": false,
   "toc_position": {},
   "toc_section_display": true,
   "toc_window_display": false
  },
  "vscode": {
   "interpreter": {
    "hash": "abb44a25ac141f9fc3c6de45abf9ef72613fc3eebc8c35ca26f9ad8a6120c4e5"
   }
  }
 },
 "nbformat": 4,
 "nbformat_minor": 4
}
