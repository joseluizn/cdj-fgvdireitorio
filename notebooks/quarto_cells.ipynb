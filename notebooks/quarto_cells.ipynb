{
 "cells": [
  {
   "cell_type": "raw",
   "metadata": {
    "vscode": {
     "languageId": "raw"
    }
   },
   "source": [
    "---\n",
    "title: Introdução ao pandas - Parte 1\n",
    "author: 'Guilherme Almeida e José Luiz Nunes'\n",
    "format: \n",
    "    html:\n",
    "        toc: true\n",
    "        toc-depth: 4\n",
    "        toc-location: left\n",
    "        toc-title: Conteúdo\n",
    "        number-sections: true\n",
    "        number-depth: 3\n",
    "        smooth-scroll: true\n",
    "        link-external-icon: true\n",
    "        link-external-newwindow: true\n",
    "        code-copy: false\n",
    "embed-resources: truecp\n",
    "theme: zephyr\n",
    "abstract: Nossa primeira aula apresenta um resumo das funcionalidades básicas do pandas a partir de um estudo sobre compra de cloroquina pelo governo federal em 2020.\n",
    "---"
   ]
  },
  {
   "cell_type": "raw",
   "metadata": {
    "vscode": {
     "languageId": "raw"
    }
   },
   "source": [
    "---\n",
    "title: Introdução ao pandas - Parte 2: Groupby e agrupamentos\n",
    "author: 'Guilherme Almeida e José Luiz Nunes'\n",
    "format: \n",
    "    html:\n",
    "        toc: true\n",
    "        toc-depth: 3\n",
    "        toc-location: left\n",
    "        toc-title: Conteúdo\n",
    "        number-sections: true\n",
    "        number-depth: 3\n",
    "        smooth-scroll: true\n",
    "        link-external-icon: true\n",
    "        link-external-newwindow: true\n",
    "        code-copy: false\n",
    "embed-resources: true\n",
    "theme: zephyr\n",
    "abstract: Nesta aula vamos continuar explorando o uso do Pandas.\n",
    " Agora vamos apresentar uma funcionalidade importante para transformar e agruparmo dados, uma tarefa essencial - o método groupby.\n",
    "---"
   ]
  },
  {
   "cell_type": "raw",
   "metadata": {
    "vscode": {
     "languageId": "raw"
    }
   },
   "source": [
    "---\n",
    "title: Expressões regulares no pandas\n",
    "author: 'Guilherme Almeida e José Luiz Nunes'\n",
    "format: \n",
    "    html:\n",
    "        toc: true\n",
    "        toc-depth: 3\n",
    "        toc-location: left\n",
    "        toc-title: Conteúdo\n",
    "        number-sections: true\n",
    "        number-depth: 3\n",
    "        smooth-scroll: true\n",
    "        link-external-icon: true\n",
    "        link-external-newwindow: true\n",
    "        code-copy: false\n",
    "embed-resources: true\n",
    "theme: zephyr\n",
    "abstract: Nesta aula vamos introduzir o funcionamento de expressões regulares no pandas.\n",
    "  A aula começa com uma introdução ao funcionamento do módulo re e justificativa para seu uso.\n",
    "  Então, apresentamos os métodos disponíveis para aplicação de expressões regulares disponíveis diretamente do Pandas.\n",
    "---"
   ]
  },
  {
   "cell_type": "markdown",
   "metadata": {},
   "source": [
    "# Appendix"
   ]
  },
  {
   "cell_type": "raw",
   "metadata": {
    "vscode": {
     "languageId": "raw"
    }
   },
   "source": [
    "---\n",
    "title: Apêndice - Teste Qui Quadrado\n",
    "author: 'Guilherme Almeida e José Luiz Nunes'\n",
    "format: \n",
    "    html:\n",
    "        toc: true\n",
    "        toc-depth: 4\n",
    "        toc-location: left\n",
    "        toc-title: Conteúdo\n",
    "        number-sections: true\n",
    "        number-depth: 3\n",
    "        smooth-scroll: true\n",
    "        link-external-icon: true\n",
    "        link-external-newwindow: true\n",
    "embed-resources: true\n",
    "theme: zephyr\n",
    "abstract: Nesse arquivo apresentamos rapidamente o teste Qui Quadrado (Chi Squared) para avaliar distribuições de frequência.\n",
    "---"
   ]
  },
  {
   "cell_type": "raw",
   "metadata": {
    "vscode": {
     "languageId": "raw"
    }
   },
   "source": [
    "---\n",
    "title: Captando dados a partir de APIs\n",
    "author: 'Guilherme Almeida, José Luiz Nunes e Ivar Hartmann'\n",
    "format: \n",
    "    html:\n",
    "        toc: true\n",
    "        toc-depth: 4\n",
    "        toc-location: left\n",
    "        toc-title: Conteúdo\n",
    "        number-sections: true\n",
    "        number-depth: 3\n",
    "        smooth-scroll: true\n",
    "        link-external-icon: true\n",
    "        link-external-newwindow: true\n",
    "embed-resources: true\n",
    "theme: zephyr\n",
    "abstract: Nesse arquivo somos apresentados a como conseguir obter dados de APIs disponibilizadas ao público.\n",
    "---"
   ]
  },
  {
   "cell_type": "raw",
   "metadata": {
    "vscode": {
     "languageId": "raw"
    }
   },
   "source": [
    "---\n",
    "title: Scraping - Coletando dados de Websites\n",
    "author: 'Guilherme Almeida, José Luiz Nunes e Ivar Hartmann'\n",
    "format: \n",
    "    html:\n",
    "        toc: true\n",
    "        toc-depth: 4\n",
    "        toc-location: left\n",
    "        toc-title: Conteúdo\n",
    "        number-sections: true\n",
    "        number-depth: 3\n",
    "        embed-resources: true\n",
    "        smooth-scroll: true\n",
    "        link-external-icon: true\n",
    "        link-external-newwindow: true\n",
    "embed-resources: true\n",
    "theme: zephyr\n",
    "abstract: Essa apostila contém uma introdução a como fazer scraping em websites.\n",
    "---"
   ]
  },
  {
   "cell_type": "markdown",
   "metadata": {},
   "source": []
  }
 ],
 "metadata": {
  "language_info": {
   "name": "python"
  }
 },
 "nbformat": 4,
 "nbformat_minor": 2
}
