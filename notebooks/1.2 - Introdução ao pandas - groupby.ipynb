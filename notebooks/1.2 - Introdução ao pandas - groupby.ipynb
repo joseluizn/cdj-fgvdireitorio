{
 "cells": [
  {
   "cell_type": "markdown",
   "metadata": {},
   "source": [
    "**Índice**<a id='toc0_'></a>    \n",
    "- [Material de Apoio](#toc1_)    \n",
    "- [Caso 2](#toc2_)    \n",
    "- [Exercício](#toc3_)    \n",
    "- [Agrupando Dados](#toc4_)    \n",
    "  - [Outros detalhes do groupby](#toc4_1_)    \n",
    "- [Resumo](#toc5_)    \n",
    "- [Uma breve introdução: como gerar gráficos com o Seaborn](#toc6_)    \n",
    "  - [Desafio](#toc6_1_)    \n",
    "  - [Desafio 2](#toc6_2_)    \n",
    "\n",
    "<!-- vscode-jupyter-toc-config\n",
    "\tnumbering=false\n",
    "\tanchor=true\n",
    "\tflat=false\n",
    "\tminLevel=1\n",
    "\tmaxLevel=3\n",
    "\t/vscode-jupyter-toc-config -->\n",
    "<!-- THIS CELL WILL BE REPLACED ON TOC UPDATE. DO NOT WRITE YOUR TEXT IN THIS CELL -->"
   ]
  },
  {
   "cell_type": "markdown",
   "metadata": {},
   "source": [
    "# <a id='toc1_'></a>[Material de Apoio](#toc0_)\n",
    "\n",
    "1. Essa postagem mostra algumas funcionalidades úteis do groupby, e é feita em português: [https://medium.com/data-hackers/8-coisas-que-voc%C3%AA-n%C3%A3o-sabia-sobre-o-pandas-groupby-b2c9033d7034](https://medium.com/data-hackers/8-coisas-que-voc%C3%AA-n%C3%A3o-sabia-sobre-o-pandas-groupby-b2c9033d7034)\n",
    "2. [Essa postagem em inglês tem conteúdo semelhante, mas inclui uma explicação de como o groupby funciona no início](https://towardsdatascience.com/5-pandas-group-by-tricks-you-should-know-in-python-f53246c92c94)"
   ]
  },
  {
   "cell_type": "markdown",
   "metadata": {},
   "source": [
    "# <a id='toc2_'></a>[Caso 2](#toc0_)\n",
    "\n",
    "Em 2017, o MP questionou judicialmente os gastos com saúde do Estado. Segundo o MP, [os investimentos foram realizados abaixo dos limites mínimos estabelecidos por lei](https://oglobo.globo.com/rio/rj-investiu-apenas-6-da-receita-na-saude-ate-fim-de-outubro-dizmp-22191439). Trata-se de uma violação grave com repercussões jurídicas relevantes.\n",
    "\n",
    "Como parte do seu papel de fiscalização, o MP do Rio de Janeiro usou os dados publicados pelo Estado sobre as previsões e execuções orçamentárias para verificar se os limites estavam sendo respeitados. Os dados estão disponíveis na seguinte URL:\n",
    "\n",
    "http://bit.ly/3bMquz7\n",
    "\n",
    "Para recriar os passos do MP, podemos ler o arquivo simplesmente passando a URL como argumento para a função `pd.read_csv`:"
   ]
  },
  {
   "cell_type": "code",
   "execution_count": 1,
   "metadata": {},
   "outputs": [],
   "source": [
    "import pandas as pd\n",
    "despesas18 = pd.read_csv(\"http://bit.ly/3bMquz7\")"
   ]
  },
  {
   "cell_type": "markdown",
   "metadata": {},
   "source": [
    "Qual é o tipo de `despesas18`?"
   ]
  },
  {
   "cell_type": "code",
   "execution_count": 2,
   "metadata": {},
   "outputs": [
    {
     "data": {
      "text/plain": [
       "pandas.core.frame.DataFrame"
      ]
     },
     "execution_count": 2,
     "metadata": {},
     "output_type": "execute_result"
    }
   ],
   "source": [
    "type(despesas18)"
   ]
  },
  {
   "cell_type": "markdown",
   "metadata": {},
   "source": [
    "Trata-se de um `DataFrame`: uma nova estrutura de dados que alia algumas das vantagens de dicionários a uma série de métodos próprios que facilitam imensamente a vida de quem está analisando dados. A seguir, vemos alguns desses métodos no contexto dos dados do Estado do Rio de Janeiro.\n",
    "\n",
    "Se quisermos dar uma olhada nos dados que acabamos de baixar, podemos usar o método `.head()`, que mostra apenas as 5 primeiras linhas."
   ]
  },
  {
   "cell_type": "code",
   "execution_count": 3,
   "metadata": {},
   "outputs": [
    {
     "data": {
      "text/html": [
       "<div>\n",
       "<style scoped>\n",
       "    .dataframe tbody tr th:only-of-type {\n",
       "        vertical-align: middle;\n",
       "    }\n",
       "\n",
       "    .dataframe tbody tr th {\n",
       "        vertical-align: top;\n",
       "    }\n",
       "\n",
       "    .dataframe thead th {\n",
       "        text-align: right;\n",
       "    }\n",
       "</style>\n",
       "<table border=\"1\" class=\"dataframe\">\n",
       "  <thead>\n",
       "    <tr style=\"text-align: right;\">\n",
       "      <th></th>\n",
       "      <th>Poder</th>\n",
       "      <th>Elemento</th>\n",
       "      <th>Sub Elemento</th>\n",
       "      <th>Órgão</th>\n",
       "      <th>UO</th>\n",
       "      <th>UG</th>\n",
       "      <th>Credor</th>\n",
       "      <th>Fonte de Recursos</th>\n",
       "      <th>Função</th>\n",
       "      <th>Sub Função</th>\n",
       "      <th>Licitação</th>\n",
       "      <th>Valor Empenhado</th>\n",
       "      <th>Valor Liquidado</th>\n",
       "      <th>Valor Pago</th>\n",
       "    </tr>\n",
       "  </thead>\n",
       "  <tbody>\n",
       "    <tr>\n",
       "      <th>0</th>\n",
       "      <td>Executivo</td>\n",
       "      <td>Outros Serviços de Terceiros - Pessoa Física</td>\n",
       "      <td>NaN</td>\n",
       "      <td>Secretaria de Estado da Casa Civil e Desenvol</td>\n",
       "      <td>Departamento de Trânsito do Estado do Rio de</td>\n",
       "      <td>DEPARTAMENTO DE TRANSITO DO RIO DE JANEIRO</td>\n",
       "      <td>ALEXANDRE CESAR DE SOUZA</td>\n",
       "      <td>Taxas pelo Exercício do Poder de Polícia e por...</td>\n",
       "      <td>Segurança Pública</td>\n",
       "      <td>Administração Geral</td>\n",
       "      <td>DISPENSA</td>\n",
       "      <td>0</td>\n",
       "      <td>0</td>\n",
       "      <td>0</td>\n",
       "    </tr>\n",
       "    <tr>\n",
       "      <th>1</th>\n",
       "      <td>Executivo</td>\n",
       "      <td>Diárias - Civil</td>\n",
       "      <td>NaN</td>\n",
       "      <td>Secretaria de Estado de Transportes</td>\n",
       "      <td>Instituto de Pesos e Medidas do Estado do Rio</td>\n",
       "      <td>INSTITUTO DE PESOS E MEDIDAS DO RJ</td>\n",
       "      <td>LUIS ALEXANDRE FERREIRA SILVEIRA</td>\n",
       "      <td>Transferências Voluntárias</td>\n",
       "      <td>Indústria</td>\n",
       "      <td>Administração Geral</td>\n",
       "      <td>NAO APLICAVEL</td>\n",
       "      <td>0</td>\n",
       "      <td>0</td>\n",
       "      <td>0</td>\n",
       "    </tr>\n",
       "    <tr>\n",
       "      <th>2</th>\n",
       "      <td>Executivo</td>\n",
       "      <td>Outros Serviços de Terceiros - Pessoa Jurídic</td>\n",
       "      <td>NaN</td>\n",
       "      <td>Secretaria de Estado de Saúde</td>\n",
       "      <td>Fundo Estadual de Saúde</td>\n",
       "      <td>FUNDO ESTADUAL DE SAUDE - FES</td>\n",
       "      <td>BRASIL SUL IND E COM LTDA</td>\n",
       "      <td>Adicional do ICMS - FECP</td>\n",
       "      <td>Saúde</td>\n",
       "      <td>Assistência Hospitalar e Ambulatorial</td>\n",
       "      <td>PREGÃO ELETRÔNICO</td>\n",
       "      <td>0</td>\n",
       "      <td>0</td>\n",
       "      <td>0</td>\n",
       "    </tr>\n",
       "    <tr>\n",
       "      <th>3</th>\n",
       "      <td>Executivo</td>\n",
       "      <td>Material de Consumo</td>\n",
       "      <td>NaN</td>\n",
       "      <td>Secretaria de Estado da Casa Civil e Desenvol</td>\n",
       "      <td>Subsecretaria de Estado de Governo</td>\n",
       "      <td>SUBSEC. DE REC. LOGISTICOS - SEFAZ-LOGISTICA</td>\n",
       "      <td>PETROBRAS DISTRIBUIDORA S/A</td>\n",
       "      <td>Ordinários Provenientes de Impostos</td>\n",
       "      <td>Administração</td>\n",
       "      <td>Administração Geral</td>\n",
       "      <td>PREGÃO ELETRÔNICO</td>\n",
       "      <td>0</td>\n",
       "      <td>0</td>\n",
       "      <td>0</td>\n",
       "    </tr>\n",
       "    <tr>\n",
       "      <th>4</th>\n",
       "      <td>Executivo</td>\n",
       "      <td>Outros Serviços de Terceiros - Pessoa Jurídic</td>\n",
       "      <td>NaN</td>\n",
       "      <td>Secretaria de Estado de Ciência Tecnologia  I</td>\n",
       "      <td>Subsecretaria de Cultura</td>\n",
       "      <td>SECRETARIA DE ESTADO DE CULTURA</td>\n",
       "      <td>NaN</td>\n",
       "      <td>Ordinários Provenientes de Impostos</td>\n",
       "      <td>Cultura</td>\n",
       "      <td>Administração Geral</td>\n",
       "      <td>DISPENSA</td>\n",
       "      <td>0</td>\n",
       "      <td>0</td>\n",
       "      <td>0</td>\n",
       "    </tr>\n",
       "  </tbody>\n",
       "</table>\n",
       "</div>"
      ],
      "text/plain": [
       "       Poder                                       Elemento Sub Elemento  \\\n",
       "0  Executivo   Outros Serviços de Terceiros - Pessoa Física          NaN   \n",
       "1  Executivo                                Diárias - Civil          NaN   \n",
       "2  Executivo  Outros Serviços de Terceiros - Pessoa Jurídic          NaN   \n",
       "3  Executivo                            Material de Consumo          NaN   \n",
       "4  Executivo  Outros Serviços de Terceiros - Pessoa Jurídic          NaN   \n",
       "\n",
       "                                           Órgão  \\\n",
       "0  Secretaria de Estado da Casa Civil e Desenvol   \n",
       "1            Secretaria de Estado de Transportes   \n",
       "2                  Secretaria de Estado de Saúde   \n",
       "3  Secretaria de Estado da Casa Civil e Desenvol   \n",
       "4  Secretaria de Estado de Ciência Tecnologia  I   \n",
       "\n",
       "                                              UO  \\\n",
       "0   Departamento de Trânsito do Estado do Rio de   \n",
       "1  Instituto de Pesos e Medidas do Estado do Rio   \n",
       "2                        Fundo Estadual de Saúde   \n",
       "3             Subsecretaria de Estado de Governo   \n",
       "4                       Subsecretaria de Cultura   \n",
       "\n",
       "                                             UG  \\\n",
       "0    DEPARTAMENTO DE TRANSITO DO RIO DE JANEIRO   \n",
       "1            INSTITUTO DE PESOS E MEDIDAS DO RJ   \n",
       "2                 FUNDO ESTADUAL DE SAUDE - FES   \n",
       "3  SUBSEC. DE REC. LOGISTICOS - SEFAZ-LOGISTICA   \n",
       "4               SECRETARIA DE ESTADO DE CULTURA   \n",
       "\n",
       "                             Credor  \\\n",
       "0          ALEXANDRE CESAR DE SOUZA   \n",
       "1  LUIS ALEXANDRE FERREIRA SILVEIRA   \n",
       "2         BRASIL SUL IND E COM LTDA   \n",
       "3       PETROBRAS DISTRIBUIDORA S/A   \n",
       "4                               NaN   \n",
       "\n",
       "                                   Fonte de Recursos             Função  \\\n",
       "0  Taxas pelo Exercício do Poder de Polícia e por...  Segurança Pública   \n",
       "1                         Transferências Voluntárias          Indústria   \n",
       "2                           Adicional do ICMS - FECP              Saúde   \n",
       "3                Ordinários Provenientes de Impostos      Administração   \n",
       "4                Ordinários Provenientes de Impostos            Cultura   \n",
       "\n",
       "                              Sub Função          Licitação Valor Empenhado  \\\n",
       "0                    Administração Geral           DISPENSA               0   \n",
       "1                    Administração Geral      NAO APLICAVEL               0   \n",
       "2  Assistência Hospitalar e Ambulatorial  PREGÃO ELETRÔNICO               0   \n",
       "3                    Administração Geral  PREGÃO ELETRÔNICO               0   \n",
       "4                    Administração Geral           DISPENSA               0   \n",
       "\n",
       "  Valor Liquidado Valor Pago  \n",
       "0               0          0  \n",
       "1               0          0  \n",
       "2               0          0  \n",
       "3               0          0  \n",
       "4               0          0  "
      ]
     },
     "execution_count": 3,
     "metadata": {},
     "output_type": "execute_result"
    }
   ],
   "source": [
    "despesas18.head()"
   ]
  },
  {
   "cell_type": "markdown",
   "metadata": {},
   "source": [
    "Por que não podemos simplesmente dar `print` em `despesas18`? Até podemos, mas, como o arquivo é muito grande, essa parece ser uma má ideia. O atributo `.shape` nos permite ver quantas linhas e colunas um `DataFrame` possui:"
   ]
  },
  {
   "cell_type": "code",
   "execution_count": 4,
   "metadata": {},
   "outputs": [
    {
     "data": {
      "text/plain": [
       "(99190, 14)"
      ]
     },
     "execution_count": 4,
     "metadata": {},
     "output_type": "execute_result"
    }
   ],
   "source": [
    "despesas18.shape"
   ]
  },
  {
   "cell_type": "markdown",
   "metadata": {},
   "source": [
    "Estamos falando de 99.190 linhas! Não faz sentido imprimirmos todas elas e é quase impossível imaginar que uma pessoa ou um grupo pequeno de pessoas poderia fazer qualquer verificação exaustiva de maneira manual. Mesmo no Excel, é difícil lidar com esse volume de dados.\n",
    "\n",
    "O `pandas`, porém, facilita a nossa vida. As informações em um `DataFrame` são armazenadas como uma tabela, em **linhas** e **colunas**. \n",
    "\n",
    "O atributo `.shape` nos informa quantas linhas (primeiro elemento) e quantas colunas (segundo elemento) um `DataFrame` contém. `DataFrames` podem ter seus elementos acessáveis através de índices.\n",
    "\n",
    "No caso anterior, verificamos como fazer as coisas mais básicas com o Pandas, podemos seguir adiante com o nosso objetivo de investigar apenas os gastos com saúde e sua relação com os demais gastos do governo.\n",
    "\n",
    "Uma avaliação preliminar nos mostra que essa informação está contida na coluna \"Função\". \n",
    "\n",
    "O Pandas possui um método que vai ser bastante útil na hora de trabalhar com dados do direito: `.value_counts()`, que retorna o **número de ocorrências que cada categoria possui**."
   ]
  },
  {
   "cell_type": "code",
   "execution_count": 5,
   "metadata": {},
   "outputs": [
    {
     "data": {
      "text/plain": [
       "Educação                 30536\n",
       "Segurança Pública        12789\n",
       "Saúde                    11429\n",
       "Transporte                5669\n",
       "Essencial à Justiça       5416\n",
       "Agricultura               4918\n",
       "Administração             4476\n",
       "Assistência Social        2720\n",
       "Judiciária                2428\n",
       "Comércio e Serviços       2408\n",
       "Gestão Ambiental          2326\n",
       "Previdência Social        2175\n",
       "Legislativa               2113\n",
       "Indústria                 1960\n",
       "Cultura                   1587\n",
       "Ciência e Tecnologia      1586\n",
       "Encargos Especiais        1138\n",
       "Urbanismo                  731\n",
       "Direitos da Cidadania      644\n",
       "Desporto e Lazer           528\n",
       "Trabalho                   520\n",
       "Habitação                  518\n",
       "Organização Agrária        230\n",
       "Saneamento                 188\n",
       "Comunicações               157\n",
       "Name: Função, dtype: int64"
      ]
     },
     "execution_count": 5,
     "metadata": {},
     "output_type": "execute_result"
    }
   ],
   "source": [
    "despesas18[\"Função\"].value_counts()"
   ]
  },
  {
   "cell_type": "markdown",
   "metadata": {},
   "source": [
    "De pronto, essa função nos informa que a rúbrica mais frequente é referente a \"Educação\", seguida por \"Segurança Pública\" e \"Saúde\". Mas isso não é suficiente para responder as perguntas que propusemos anteriormente. Para tal, precisamos saber qual **valor** foi efetivamente pago para cada uma dessas rúbricas.\n",
    "\n",
    "Para descobrir isso, precisamos pegar a soma dos montantes registrados nas 11.429 linhas dedicadas à saúde e comparar o valor resultante com o gasto global. \n",
    "\n",
    "Para isso, podemos usar duas ferramentas: o método `.sum()`, próprio das `Series`, estrutura de dados contida em cada coluna de um `DataFrame`, e a indexação lógica, onde podemos escolher subseções de um `DataFrame` com base em condições lógicas.\n",
    "\n",
    "Antes disso, porém, precisamos transformar a coluna \"Valor Pago\" em uma coluna numérica. Se acessarmos os tipos das colunas contidas em `despesas18`, veremos que, por enquanto, \"Valor Pago\" é do tipo `object`:"
   ]
  },
  {
   "cell_type": "code",
   "execution_count": 6,
   "metadata": {},
   "outputs": [
    {
     "data": {
      "text/plain": [
       "Poder                object\n",
       "Elemento             object\n",
       "Sub Elemento         object\n",
       "Órgão                object\n",
       "UO                   object\n",
       "UG                   object\n",
       "Credor               object\n",
       "Fonte de Recursos    object\n",
       "Função               object\n",
       "Sub Função           object\n",
       "Licitação            object\n",
       "Valor Empenhado      object\n",
       "Valor Liquidado      object\n",
       "Valor Pago           object\n",
       "dtype: object"
      ]
     },
     "execution_count": 6,
     "metadata": {},
     "output_type": "execute_result"
    }
   ],
   "source": [
    "despesas18.dtypes"
   ]
  },
  {
   "cell_type": "markdown",
   "metadata": {},
   "source": [
    "Vamos imprimir os 5 primeiros valores de \"Valor Pago\" para darmos uma olhada em seu conteúdo."
   ]
  },
  {
   "cell_type": "code",
   "execution_count": 7,
   "metadata": {},
   "outputs": [
    {
     "data": {
      "text/plain": [
       "0    0\n",
       "1    0\n",
       "2    0\n",
       "3    0\n",
       "4    0\n",
       "Name: Valor Pago, dtype: object"
      ]
     },
     "execution_count": 7,
     "metadata": {},
     "output_type": "execute_result"
    }
   ],
   "source": [
    "despesas18.iloc[0:5][\"Valor Pago\"]"
   ]
  },
  {
   "cell_type": "markdown",
   "metadata": {},
   "source": [
    "Isso não foi muito informativo... Quando o valor é 0 - e aparentemente o valor é 0 na maioria dos casos - nós não temos como saber porque a coluna não foi interpretada pelo Python como do tipo `float`. Podemos usar a **indexação lógica** para resolver esse problema. Sabemos que existem valores pagos pelo Estado. Portanto, nem todas as colunas podem ter valor = 0. Para saber quais valores estão preenchidos, portanto, basta *eliminar* o caracter \"0\" dessa coluna e ver o que permanece preenchido!\n",
    "\n",
    "Podemos filtrar a tabela utilizando o `query`. **Note que como a coluna é do tipo object, ela armazena valores em texto. Assim precisamos delimitar o 0 como string dentro do query**.\n",
    "\n",
    "Vamos nos restringir a coluna de interesse."
   ]
  },
  {
   "cell_type": "code",
   "execution_count": 8,
   "metadata": {},
   "outputs": [
    {
     "data": {
      "text/plain": [
       "360           112440\n",
       "361      15716395,53\n",
       "365         310484,5\n",
       "366         38402,37\n",
       "390        209623,99\n",
       "            ...     \n",
       "99185            NaN\n",
       "99186            NaN\n",
       "99187            NaN\n",
       "99188            NaN\n",
       "99189            NaN\n",
       "Name: Valor Pago, Length: 54061, dtype: object"
      ]
     },
     "execution_count": 8,
     "metadata": {},
     "output_type": "execute_result"
    }
   ],
   "source": [
    "despesas18.query(\"`Valor Pago` != '0'\")[\"Valor Pago\"]"
   ]
  },
  {
   "cell_type": "markdown",
   "metadata": {},
   "source": [
    "\n",
    "\n",
    "O que acontece se tentarmos simplesmente transformar o valor pago como está acima em `float`? Em tese, isso pode ser feito para cada célula através do método `.astype()`. "
   ]
  },
  {
   "cell_type": "code",
   "execution_count": 11,
   "metadata": {},
   "outputs": [
    {
     "ename": "ValueError",
     "evalue": "could not convert string to float: '15716395,53'",
     "output_type": "error",
     "traceback": [
      "\u001b[0;31m---------------------------------------------------------------------------\u001b[0m",
      "\u001b[0;31mValueError\u001b[0m                                Traceback (most recent call last)",
      "Cell \u001b[0;32mIn[11], line 1\u001b[0m\n\u001b[0;32m----> 1\u001b[0m despesas18[\u001b[39m\"\u001b[39m\u001b[39mValor Pago Float\u001b[39m\u001b[39m\"\u001b[39m] \u001b[39m=\u001b[39m despesas18[\u001b[39m\"\u001b[39;49m\u001b[39mValor Pago\u001b[39;49m\u001b[39m\"\u001b[39;49m]\u001b[39m.\u001b[39;49mastype(\u001b[39m\"\u001b[39;49m\u001b[39mfloat\u001b[39;49m\u001b[39m\"\u001b[39;49m)\n",
      "File \u001b[0;32m~/miniconda3/lib/python3.10/site-packages/pandas/core/generic.py:6240\u001b[0m, in \u001b[0;36mNDFrame.astype\u001b[0;34m(self, dtype, copy, errors)\u001b[0m\n\u001b[1;32m   6233\u001b[0m     results \u001b[39m=\u001b[39m [\n\u001b[1;32m   6234\u001b[0m         \u001b[39mself\u001b[39m\u001b[39m.\u001b[39miloc[:, i]\u001b[39m.\u001b[39mastype(dtype, copy\u001b[39m=\u001b[39mcopy)\n\u001b[1;32m   6235\u001b[0m         \u001b[39mfor\u001b[39;00m i \u001b[39min\u001b[39;00m \u001b[39mrange\u001b[39m(\u001b[39mlen\u001b[39m(\u001b[39mself\u001b[39m\u001b[39m.\u001b[39mcolumns))\n\u001b[1;32m   6236\u001b[0m     ]\n\u001b[1;32m   6238\u001b[0m \u001b[39melse\u001b[39;00m:\n\u001b[1;32m   6239\u001b[0m     \u001b[39m# else, only a single dtype is given\u001b[39;00m\n\u001b[0;32m-> 6240\u001b[0m     new_data \u001b[39m=\u001b[39m \u001b[39mself\u001b[39;49m\u001b[39m.\u001b[39;49m_mgr\u001b[39m.\u001b[39;49mastype(dtype\u001b[39m=\u001b[39;49mdtype, copy\u001b[39m=\u001b[39;49mcopy, errors\u001b[39m=\u001b[39;49merrors)\n\u001b[1;32m   6241\u001b[0m     \u001b[39mreturn\u001b[39;00m \u001b[39mself\u001b[39m\u001b[39m.\u001b[39m_constructor(new_data)\u001b[39m.\u001b[39m__finalize__(\u001b[39mself\u001b[39m, method\u001b[39m=\u001b[39m\u001b[39m\"\u001b[39m\u001b[39mastype\u001b[39m\u001b[39m\"\u001b[39m)\n\u001b[1;32m   6243\u001b[0m \u001b[39m# GH 33113: handle empty frame or series\u001b[39;00m\n",
      "File \u001b[0;32m~/miniconda3/lib/python3.10/site-packages/pandas/core/internals/managers.py:450\u001b[0m, in \u001b[0;36mBaseBlockManager.astype\u001b[0;34m(self, dtype, copy, errors)\u001b[0m\n\u001b[1;32m    449\u001b[0m \u001b[39mdef\u001b[39;00m \u001b[39mastype\u001b[39m(\u001b[39mself\u001b[39m: T, dtype, copy: \u001b[39mbool\u001b[39m \u001b[39m=\u001b[39m \u001b[39mFalse\u001b[39;00m, errors: \u001b[39mstr\u001b[39m \u001b[39m=\u001b[39m \u001b[39m\"\u001b[39m\u001b[39mraise\u001b[39m\u001b[39m\"\u001b[39m) \u001b[39m-\u001b[39m\u001b[39m>\u001b[39m T:\n\u001b[0;32m--> 450\u001b[0m     \u001b[39mreturn\u001b[39;00m \u001b[39mself\u001b[39;49m\u001b[39m.\u001b[39;49mapply(\u001b[39m\"\u001b[39;49m\u001b[39mastype\u001b[39;49m\u001b[39m\"\u001b[39;49m, dtype\u001b[39m=\u001b[39;49mdtype, copy\u001b[39m=\u001b[39;49mcopy, errors\u001b[39m=\u001b[39;49merrors)\n",
      "File \u001b[0;32m~/miniconda3/lib/python3.10/site-packages/pandas/core/internals/managers.py:352\u001b[0m, in \u001b[0;36mBaseBlockManager.apply\u001b[0;34m(self, f, align_keys, ignore_failures, **kwargs)\u001b[0m\n\u001b[1;32m    350\u001b[0m         applied \u001b[39m=\u001b[39m b\u001b[39m.\u001b[39mapply(f, \u001b[39m*\u001b[39m\u001b[39m*\u001b[39mkwargs)\n\u001b[1;32m    351\u001b[0m     \u001b[39melse\u001b[39;00m:\n\u001b[0;32m--> 352\u001b[0m         applied \u001b[39m=\u001b[39m \u001b[39mgetattr\u001b[39;49m(b, f)(\u001b[39m*\u001b[39;49m\u001b[39m*\u001b[39;49mkwargs)\n\u001b[1;32m    353\u001b[0m \u001b[39mexcept\u001b[39;00m (\u001b[39mTypeError\u001b[39;00m, \u001b[39mNotImplementedError\u001b[39;00m):\n\u001b[1;32m    354\u001b[0m     \u001b[39mif\u001b[39;00m \u001b[39mnot\u001b[39;00m ignore_failures:\n",
      "File \u001b[0;32m~/miniconda3/lib/python3.10/site-packages/pandas/core/internals/blocks.py:526\u001b[0m, in \u001b[0;36mBlock.astype\u001b[0;34m(self, dtype, copy, errors)\u001b[0m\n\u001b[1;32m    508\u001b[0m \u001b[39m\"\"\"\u001b[39;00m\n\u001b[1;32m    509\u001b[0m \u001b[39mCoerce to the new dtype.\u001b[39;00m\n\u001b[1;32m    510\u001b[0m \n\u001b[0;32m   (...)\u001b[0m\n\u001b[1;32m    522\u001b[0m \u001b[39mBlock\u001b[39;00m\n\u001b[1;32m    523\u001b[0m \u001b[39m\"\"\"\u001b[39;00m\n\u001b[1;32m    524\u001b[0m values \u001b[39m=\u001b[39m \u001b[39mself\u001b[39m\u001b[39m.\u001b[39mvalues\n\u001b[0;32m--> 526\u001b[0m new_values \u001b[39m=\u001b[39m astype_array_safe(values, dtype, copy\u001b[39m=\u001b[39;49mcopy, errors\u001b[39m=\u001b[39;49merrors)\n\u001b[1;32m    528\u001b[0m new_values \u001b[39m=\u001b[39m maybe_coerce_values(new_values)\n\u001b[1;32m    529\u001b[0m newb \u001b[39m=\u001b[39m \u001b[39mself\u001b[39m\u001b[39m.\u001b[39mmake_block(new_values)\n",
      "File \u001b[0;32m~/miniconda3/lib/python3.10/site-packages/pandas/core/dtypes/astype.py:299\u001b[0m, in \u001b[0;36mastype_array_safe\u001b[0;34m(values, dtype, copy, errors)\u001b[0m\n\u001b[1;32m    296\u001b[0m     \u001b[39mreturn\u001b[39;00m values\u001b[39m.\u001b[39mcopy()\n\u001b[1;32m    298\u001b[0m \u001b[39mtry\u001b[39;00m:\n\u001b[0;32m--> 299\u001b[0m     new_values \u001b[39m=\u001b[39m astype_array(values, dtype, copy\u001b[39m=\u001b[39;49mcopy)\n\u001b[1;32m    300\u001b[0m \u001b[39mexcept\u001b[39;00m (\u001b[39mValueError\u001b[39;00m, \u001b[39mTypeError\u001b[39;00m):\n\u001b[1;32m    301\u001b[0m     \u001b[39m# e.g. astype_nansafe can fail on object-dtype of strings\u001b[39;00m\n\u001b[1;32m    302\u001b[0m     \u001b[39m#  trying to convert to float\u001b[39;00m\n\u001b[1;32m    303\u001b[0m     \u001b[39mif\u001b[39;00m errors \u001b[39m==\u001b[39m \u001b[39m\"\u001b[39m\u001b[39mignore\u001b[39m\u001b[39m\"\u001b[39m:\n",
      "File \u001b[0;32m~/miniconda3/lib/python3.10/site-packages/pandas/core/dtypes/astype.py:230\u001b[0m, in \u001b[0;36mastype_array\u001b[0;34m(values, dtype, copy)\u001b[0m\n\u001b[1;32m    227\u001b[0m     values \u001b[39m=\u001b[39m values\u001b[39m.\u001b[39mastype(dtype, copy\u001b[39m=\u001b[39mcopy)\n\u001b[1;32m    229\u001b[0m \u001b[39melse\u001b[39;00m:\n\u001b[0;32m--> 230\u001b[0m     values \u001b[39m=\u001b[39m astype_nansafe(values, dtype, copy\u001b[39m=\u001b[39;49mcopy)\n\u001b[1;32m    232\u001b[0m \u001b[39m# in pandas we don't store numpy str dtypes, so convert to object\u001b[39;00m\n\u001b[1;32m    233\u001b[0m \u001b[39mif\u001b[39;00m \u001b[39misinstance\u001b[39m(dtype, np\u001b[39m.\u001b[39mdtype) \u001b[39mand\u001b[39;00m \u001b[39missubclass\u001b[39m(values\u001b[39m.\u001b[39mdtype\u001b[39m.\u001b[39mtype, \u001b[39mstr\u001b[39m):\n",
      "File \u001b[0;32m~/miniconda3/lib/python3.10/site-packages/pandas/core/dtypes/astype.py:170\u001b[0m, in \u001b[0;36mastype_nansafe\u001b[0;34m(arr, dtype, copy, skipna)\u001b[0m\n\u001b[1;32m    166\u001b[0m     \u001b[39mraise\u001b[39;00m \u001b[39mValueError\u001b[39;00m(msg)\n\u001b[1;32m    168\u001b[0m \u001b[39mif\u001b[39;00m copy \u001b[39mor\u001b[39;00m is_object_dtype(arr\u001b[39m.\u001b[39mdtype) \u001b[39mor\u001b[39;00m is_object_dtype(dtype):\n\u001b[1;32m    169\u001b[0m     \u001b[39m# Explicit copy, or required since NumPy can't view from / to object.\u001b[39;00m\n\u001b[0;32m--> 170\u001b[0m     \u001b[39mreturn\u001b[39;00m arr\u001b[39m.\u001b[39;49mastype(dtype, copy\u001b[39m=\u001b[39;49m\u001b[39mTrue\u001b[39;49;00m)\n\u001b[1;32m    172\u001b[0m \u001b[39mreturn\u001b[39;00m arr\u001b[39m.\u001b[39mastype(dtype, copy\u001b[39m=\u001b[39mcopy)\n",
      "\u001b[0;31mValueError\u001b[0m: could not convert string to float: '15716395,53'"
     ]
    }
   ],
   "source": [
    "despesas18[\"Valor Pago Float\"] = despesas18[\"Valor Pago\"].astype(\"float\")"
   ]
  },
  {
   "cell_type": "markdown",
   "metadata": {},
   "source": [
    "A mensagem de erro aponta para o problema: o Python/Pandas não sabe como lidar com vírgulas como separador de decimais!\n",
    "\n",
    "Precisamos de 2 passos, portanto: primeiro, precisamos substituir as vírgulas por pontos e depois transformar a variável em float:"
   ]
  },
  {
   "cell_type": "code",
   "execution_count": 9,
   "metadata": {},
   "outputs": [],
   "source": [
    "despesas18[\"Valor Pago Float\"] = despesas18[\"Valor Pago\"].str.replace(\",\", \".\")\n",
    "\n",
    "despesas18[\"Valor Pago Float\"] = despesas18[\"Valor Pago Float\"].astype(\"float\")"
   ]
  },
  {
   "cell_type": "markdown",
   "metadata": {},
   "source": [
    "Agora, podemos confirmar o tipo da nova variável invocando mais uma vez o atributo `.dtypes`:"
   ]
  },
  {
   "cell_type": "code",
   "execution_count": 10,
   "metadata": {},
   "outputs": [
    {
     "data": {
      "text/plain": [
       "Poder                 object\n",
       "Elemento              object\n",
       "Sub Elemento          object\n",
       "Órgão                 object\n",
       "UO                    object\n",
       "UG                    object\n",
       "Credor                object\n",
       "Fonte de Recursos     object\n",
       "Função                object\n",
       "Sub Função            object\n",
       "Licitação             object\n",
       "Valor Empenhado       object\n",
       "Valor Liquidado       object\n",
       "Valor Pago            object\n",
       "Valor Pago Float     float64\n",
       "dtype: object"
      ]
     },
     "execution_count": 10,
     "metadata": {},
     "output_type": "execute_result"
    }
   ],
   "source": [
    "despesas18.dtypes"
   ]
  },
  {
   "cell_type": "markdown",
   "metadata": {},
   "source": [
    "A coluna \"Valor Pago Float\" não é mais do tipo `object`, agora ela é um novo tipo de `float`: `float64`. Isso tem a ver com o número de bits que um número pode ocupar na memória do computador, mas isso não é importante.\n",
    "\n",
    "O importante é que podemos usar essa variável, aliada ao método `.sum()` para verificar se o Estado respeitou o investimento mínimo legal em saúde no ano de 2018."
   ]
  },
  {
   "cell_type": "code",
   "execution_count": 11,
   "metadata": {},
   "outputs": [
    {
     "data": {
      "text/plain": [
       "39367403957.09"
      ]
     },
     "execution_count": 11,
     "metadata": {},
     "output_type": "execute_result"
    }
   ],
   "source": [
    "valor_pago_total = despesas18[\"Valor Pago Float\"].sum()\n",
    "valor_pago_total"
   ]
  },
  {
   "cell_type": "markdown",
   "metadata": {},
   "source": [
    "Para calcular qual valor foi gasto especificamente com saúde, podemos usar o índice lógico:"
   ]
  },
  {
   "cell_type": "code",
   "execution_count": 12,
   "metadata": {},
   "outputs": [
    {
     "data": {
      "text/plain": [
       "2424204722.47"
      ]
     },
     "execution_count": 12,
     "metadata": {},
     "output_type": "execute_result"
    }
   ],
   "source": [
    "valor_pago_saude = despesas18.query(\"Função == 'Saúde'\")[\"Valor Pago Float\"].sum()\n",
    "valor_pago_saude"
   ]
  },
  {
   "cell_type": "code",
   "execution_count": 13,
   "metadata": {},
   "outputs": [
    {
     "data": {
      "text/plain": [
       "0.0615789835954729"
      ]
     },
     "execution_count": 13,
     "metadata": {},
     "output_type": "execute_result"
    }
   ],
   "source": [
    "valor_pago_saude / valor_pago_total"
   ]
  },
  {
   "cell_type": "markdown",
   "metadata": {},
   "source": [
    "Ou poderiamos fazer a conta direto das colunas"
   ]
  },
  {
   "cell_type": "code",
   "execution_count": 14,
   "metadata": {},
   "outputs": [
    {
     "data": {
      "text/plain": [
       "0.0615789835954729"
      ]
     },
     "execution_count": 14,
     "metadata": {},
     "output_type": "execute_result"
    }
   ],
   "source": [
    "despesas18.query(\"Função == 'Saúde'\")[\"Valor Pago Float\"].sum() / despesas18[\"Valor Pago Float\"].sum()"
   ]
  },
  {
   "cell_type": "code",
   "execution_count": 15,
   "metadata": {},
   "outputs": [
    {
     "data": {
      "text/plain": [
       "0.0615789835954729"
      ]
     },
     "execution_count": 15,
     "metadata": {},
     "output_type": "execute_result"
    }
   ],
   "source": [
    "despesas18.query(\"Função == 'Saúde' and `Valor Pago Float` != 0\")[\"Valor Pago Float\"].sum() / despesas18.query(\"`Valor Pago Float` != 0\")[\"Valor Pago Float\"].sum()"
   ]
  },
  {
   "cell_type": "markdown",
   "metadata": {},
   "source": [
    "Segundo o Ministério Público, o valor mínimo a ser investido seria de 12%. Claramente, o Estado não parece ter cumprido com esse requisito legal, haja vista que apenas 6% do valor efetivamente pago teve como destino essa função.\n",
    "\n",
    "# <a id='toc3_'></a>[Exercício](#toc0_)\n",
    "\n",
    "O que aconteceria se levássemos em conta não o valor pago e sim o valor liquidado? E se levássemos em conta o valor empenhado? Esses são os desafios dessa aula! Crie variáveis chamadas \"razao_liquidado\" e \"razao_empenhado\" com suas respostas."
   ]
  },
  {
   "cell_type": "code",
   "execution_count": 19,
   "metadata": {},
   "outputs": [],
   "source": [
    "#implemente seu código aqui"
   ]
  },
  {
   "cell_type": "code",
   "execution_count": null,
   "metadata": {},
   "outputs": [],
   "source": [
    "#rode essa célula para verificar se você acertou o % liquidado na saúde\n",
    "from correcoes import aula10_ex1\n",
    "aula10_ex1(despesas18, razao_liquidado)"
   ]
  },
  {
   "cell_type": "code",
   "execution_count": 21,
   "metadata": {},
   "outputs": [],
   "source": [
    "#implemente seu código aqui"
   ]
  },
  {
   "cell_type": "code",
   "execution_count": null,
   "metadata": {},
   "outputs": [],
   "source": [
    "#rode essa célula para verificar se você acertou o % empenhado na saúde\n",
    "from correcoes import aula10_ex2\n",
    "aula10_ex2(despesas18, razao_empenhado)"
   ]
  },
  {
   "cell_type": "markdown",
   "metadata": {},
   "source": [
    "# <a id='toc4_'></a>[Agrupando Dados](#toc0_)\n",
    "\n",
    "Uma maneira interessante de colocar esses dados em perspectiva é verificar qual é o % do orçamento gasto com outras funções. Mas seria extremamente chato fazer essa conta função para cada função, além de manualmente trabalhoso. \n",
    "\n",
    "Uma opção seria usar um `for` loop, mas o Pandas nos fornece um método elegante para fazer esse tipo de operação: o método `groupby`."
   ]
  },
  {
   "cell_type": "code",
   "execution_count": 16,
   "metadata": {},
   "outputs": [],
   "source": [
    "funcoes_pagas = despesas18.groupby(\"Função\")[\"Valor Pago Float\"].sum()"
   ]
  },
  {
   "cell_type": "markdown",
   "metadata": {},
   "source": [
    "A ideia da sintaxe é: `dataframe.groupby(\"coluna_com_valor_pelo_qual_agrupar\")[\"coluna_com_valores\"].metodo_agrupamento()`.\n",
    "\n",
    "Como resultado recebemos uma variável do tipo `pd.Series`."
   ]
  },
  {
   "cell_type": "code",
   "execution_count": 17,
   "metadata": {},
   "outputs": [
    {
     "data": {
      "text/plain": [
       "Função\n",
       "Administração            1.607817e+09\n",
       "Agricultura              2.455236e+08\n",
       "Assistência Social       2.440759e+08\n",
       "Ciência e Tecnologia     7.515062e+07\n",
       "Comunicações             3.664972e+06\n",
       "Comércio e Serviços      1.646209e+08\n",
       "Cultura                  7.532741e+07\n",
       "Desporto e Lazer         1.843662e+07\n",
       "Direitos da Cidadania    5.680392e+07\n",
       "Educação                 4.098150e+09\n",
       "Encargos Especiais       2.174700e+09\n",
       "Essencial à Justiça      1.685453e+09\n",
       "Gestão Ambiental         1.565200e+08\n",
       "Habitação                4.750836e+07\n",
       "Indústria                6.326317e+07\n",
       "Judiciária               3.094868e+09\n",
       "Legislativa              9.244184e+08\n",
       "Organização Agrária      6.918813e+06\n",
       "Previdência Social       1.439876e+10\n",
       "Saneamento               5.603955e+07\n",
       "Saúde                    2.424205e+09\n",
       "Segurança Pública        6.674909e+09\n",
       "Trabalho                 9.293780e+06\n",
       "Transporte               7.022514e+08\n",
       "Urbanismo                3.587235e+08\n",
       "Name: Valor Pago Float, dtype: float64"
      ]
     },
     "execution_count": 17,
     "metadata": {},
     "output_type": "execute_result"
    }
   ],
   "source": [
    "funcoes_pagas"
   ]
  },
  {
   "cell_type": "markdown",
   "metadata": {},
   "source": [
    "Podemos ordenar os valores em `funcoes_pagas` através do método `.sort_values()`:"
   ]
  },
  {
   "cell_type": "code",
   "execution_count": 18,
   "metadata": {},
   "outputs": [
    {
     "data": {
      "text/plain": [
       "Função\n",
       "Previdência Social       1.439876e+10\n",
       "Segurança Pública        6.674909e+09\n",
       "Educação                 4.098150e+09\n",
       "Judiciária               3.094868e+09\n",
       "Saúde                    2.424205e+09\n",
       "Encargos Especiais       2.174700e+09\n",
       "Essencial à Justiça      1.685453e+09\n",
       "Administração            1.607817e+09\n",
       "Legislativa              9.244184e+08\n",
       "Transporte               7.022514e+08\n",
       "Urbanismo                3.587235e+08\n",
       "Agricultura              2.455236e+08\n",
       "Assistência Social       2.440759e+08\n",
       "Comércio e Serviços      1.646209e+08\n",
       "Gestão Ambiental         1.565200e+08\n",
       "Cultura                  7.532741e+07\n",
       "Ciência e Tecnologia     7.515062e+07\n",
       "Indústria                6.326317e+07\n",
       "Direitos da Cidadania    5.680392e+07\n",
       "Saneamento               5.603955e+07\n",
       "Habitação                4.750836e+07\n",
       "Desporto e Lazer         1.843662e+07\n",
       "Trabalho                 9.293780e+06\n",
       "Organização Agrária      6.918813e+06\n",
       "Comunicações             3.664972e+06\n",
       "Name: Valor Pago Float, dtype: float64"
      ]
     },
     "execution_count": 18,
     "metadata": {},
     "output_type": "execute_result"
    }
   ],
   "source": [
    "funcoes_pagas.sort_values(ascending=False)"
   ]
  },
  {
   "cell_type": "markdown",
   "metadata": {},
   "source": [
    "Também podemos impedir o Python de usar notação científica pedindo o valor gasto com cada uma das funções em milhões de reais:"
   ]
  },
  {
   "cell_type": "code",
   "execution_count": 19,
   "metadata": {},
   "outputs": [
    {
     "data": {
      "text/plain": [
       "Função\n",
       "Previdência Social       14398.761171\n",
       "Segurança Pública         6674.908626\n",
       "Educação                  4098.149843\n",
       "Judiciária                3094.867999\n",
       "Saúde                     2424.204722\n",
       "Encargos Especiais        2174.700350\n",
       "Essencial à Justiça       1685.452792\n",
       "Administração             1607.817429\n",
       "Legislativa                924.418409\n",
       "Transporte                 702.251428\n",
       "Urbanismo                  358.723511\n",
       "Agricultura                245.523609\n",
       "Assistência Social         244.075927\n",
       "Comércio e Serviços        164.620931\n",
       "Gestão Ambiental           156.519991\n",
       "Cultura                     75.327413\n",
       "Ciência e Tecnologia        75.150619\n",
       "Indústria                   63.263170\n",
       "Direitos da Cidadania       56.803922\n",
       "Saneamento                  56.039546\n",
       "Habitação                   47.508365\n",
       "Desporto e Lazer            18.436619\n",
       "Trabalho                     9.293780\n",
       "Organização Agrária          6.918813\n",
       "Comunicações                 3.664972\n",
       "Name: Valor Pago Float, dtype: float64"
      ]
     },
     "execution_count": 19,
     "metadata": {},
     "output_type": "execute_result"
    }
   ],
   "source": [
    "funcoes_pagas.sort_values(ascending = False) / 1000000"
   ]
  },
  {
   "cell_type": "markdown",
   "metadata": {},
   "source": [
    "No final das contas, o investimento abaixo do mínimo em saúde está justificado? Ou existem outras rúbricas que poderiam ser reduzidas?\n",
    "\n",
    "## <a id='toc4_1_'></a>[Outros detalhes do groupby](#toc0_)\n",
    "\n",
    "Se quisermos um `DataFrame` e não uma `series` podemos alterar o resultado com o argumento `as_index` que instrui que o que será usado para o agrupamento não seja usado como índice do `DataFrame`."
   ]
  },
  {
   "cell_type": "code",
   "execution_count": 20,
   "metadata": {},
   "outputs": [
    {
     "data": {
      "text/html": [
       "<div>\n",
       "<style scoped>\n",
       "    .dataframe tbody tr th:only-of-type {\n",
       "        vertical-align: middle;\n",
       "    }\n",
       "\n",
       "    .dataframe tbody tr th {\n",
       "        vertical-align: top;\n",
       "    }\n",
       "\n",
       "    .dataframe thead th {\n",
       "        text-align: right;\n",
       "    }\n",
       "</style>\n",
       "<table border=\"1\" class=\"dataframe\">\n",
       "  <thead>\n",
       "    <tr style=\"text-align: right;\">\n",
       "      <th></th>\n",
       "      <th>Função</th>\n",
       "      <th>Valor Pago Float</th>\n",
       "    </tr>\n",
       "  </thead>\n",
       "  <tbody>\n",
       "    <tr>\n",
       "      <th>0</th>\n",
       "      <td>Administração</td>\n",
       "      <td>1.607817e+09</td>\n",
       "    </tr>\n",
       "    <tr>\n",
       "      <th>1</th>\n",
       "      <td>Agricultura</td>\n",
       "      <td>2.455236e+08</td>\n",
       "    </tr>\n",
       "    <tr>\n",
       "      <th>2</th>\n",
       "      <td>Assistência Social</td>\n",
       "      <td>2.440759e+08</td>\n",
       "    </tr>\n",
       "    <tr>\n",
       "      <th>3</th>\n",
       "      <td>Ciência e Tecnologia</td>\n",
       "      <td>7.515062e+07</td>\n",
       "    </tr>\n",
       "    <tr>\n",
       "      <th>4</th>\n",
       "      <td>Comunicações</td>\n",
       "      <td>3.664972e+06</td>\n",
       "    </tr>\n",
       "    <tr>\n",
       "      <th>5</th>\n",
       "      <td>Comércio e Serviços</td>\n",
       "      <td>1.646209e+08</td>\n",
       "    </tr>\n",
       "    <tr>\n",
       "      <th>6</th>\n",
       "      <td>Cultura</td>\n",
       "      <td>7.532741e+07</td>\n",
       "    </tr>\n",
       "    <tr>\n",
       "      <th>7</th>\n",
       "      <td>Desporto e Lazer</td>\n",
       "      <td>1.843662e+07</td>\n",
       "    </tr>\n",
       "    <tr>\n",
       "      <th>8</th>\n",
       "      <td>Direitos da Cidadania</td>\n",
       "      <td>5.680392e+07</td>\n",
       "    </tr>\n",
       "    <tr>\n",
       "      <th>9</th>\n",
       "      <td>Educação</td>\n",
       "      <td>4.098150e+09</td>\n",
       "    </tr>\n",
       "    <tr>\n",
       "      <th>10</th>\n",
       "      <td>Encargos Especiais</td>\n",
       "      <td>2.174700e+09</td>\n",
       "    </tr>\n",
       "    <tr>\n",
       "      <th>11</th>\n",
       "      <td>Essencial à Justiça</td>\n",
       "      <td>1.685453e+09</td>\n",
       "    </tr>\n",
       "    <tr>\n",
       "      <th>12</th>\n",
       "      <td>Gestão Ambiental</td>\n",
       "      <td>1.565200e+08</td>\n",
       "    </tr>\n",
       "    <tr>\n",
       "      <th>13</th>\n",
       "      <td>Habitação</td>\n",
       "      <td>4.750836e+07</td>\n",
       "    </tr>\n",
       "    <tr>\n",
       "      <th>14</th>\n",
       "      <td>Indústria</td>\n",
       "      <td>6.326317e+07</td>\n",
       "    </tr>\n",
       "    <tr>\n",
       "      <th>15</th>\n",
       "      <td>Judiciária</td>\n",
       "      <td>3.094868e+09</td>\n",
       "    </tr>\n",
       "    <tr>\n",
       "      <th>16</th>\n",
       "      <td>Legislativa</td>\n",
       "      <td>9.244184e+08</td>\n",
       "    </tr>\n",
       "    <tr>\n",
       "      <th>17</th>\n",
       "      <td>Organização Agrária</td>\n",
       "      <td>6.918813e+06</td>\n",
       "    </tr>\n",
       "    <tr>\n",
       "      <th>18</th>\n",
       "      <td>Previdência Social</td>\n",
       "      <td>1.439876e+10</td>\n",
       "    </tr>\n",
       "    <tr>\n",
       "      <th>19</th>\n",
       "      <td>Saneamento</td>\n",
       "      <td>5.603955e+07</td>\n",
       "    </tr>\n",
       "    <tr>\n",
       "      <th>20</th>\n",
       "      <td>Saúde</td>\n",
       "      <td>2.424205e+09</td>\n",
       "    </tr>\n",
       "    <tr>\n",
       "      <th>21</th>\n",
       "      <td>Segurança Pública</td>\n",
       "      <td>6.674909e+09</td>\n",
       "    </tr>\n",
       "    <tr>\n",
       "      <th>22</th>\n",
       "      <td>Trabalho</td>\n",
       "      <td>9.293780e+06</td>\n",
       "    </tr>\n",
       "    <tr>\n",
       "      <th>23</th>\n",
       "      <td>Transporte</td>\n",
       "      <td>7.022514e+08</td>\n",
       "    </tr>\n",
       "    <tr>\n",
       "      <th>24</th>\n",
       "      <td>Urbanismo</td>\n",
       "      <td>3.587235e+08</td>\n",
       "    </tr>\n",
       "  </tbody>\n",
       "</table>\n",
       "</div>"
      ],
      "text/plain": [
       "                   Função  Valor Pago Float\n",
       "0           Administração      1.607817e+09\n",
       "1             Agricultura      2.455236e+08\n",
       "2      Assistência Social      2.440759e+08\n",
       "3    Ciência e Tecnologia      7.515062e+07\n",
       "4            Comunicações      3.664972e+06\n",
       "5     Comércio e Serviços      1.646209e+08\n",
       "6                 Cultura      7.532741e+07\n",
       "7        Desporto e Lazer      1.843662e+07\n",
       "8   Direitos da Cidadania      5.680392e+07\n",
       "9                Educação      4.098150e+09\n",
       "10     Encargos Especiais      2.174700e+09\n",
       "11    Essencial à Justiça      1.685453e+09\n",
       "12       Gestão Ambiental      1.565200e+08\n",
       "13              Habitação      4.750836e+07\n",
       "14              Indústria      6.326317e+07\n",
       "15             Judiciária      3.094868e+09\n",
       "16            Legislativa      9.244184e+08\n",
       "17    Organização Agrária      6.918813e+06\n",
       "18     Previdência Social      1.439876e+10\n",
       "19             Saneamento      5.603955e+07\n",
       "20                  Saúde      2.424205e+09\n",
       "21      Segurança Pública      6.674909e+09\n",
       "22               Trabalho      9.293780e+06\n",
       "23             Transporte      7.022514e+08\n",
       "24              Urbanismo      3.587235e+08"
      ]
     },
     "execution_count": 20,
     "metadata": {},
     "output_type": "execute_result"
    }
   ],
   "source": [
    "despesas18.groupby(\"Função\", as_index=False)[\"Valor Pago Float\"].sum()"
   ]
  },
  {
   "cell_type": "markdown",
   "metadata": {},
   "source": [
    "Também podemos fazer agrupamento por múltiplas colunas, a ideia é semelhante a de selecionar várias colunas: em vez de passar uma string com o nome da coluna para o `groupby` devemos passar uma lista com o nome das colunas que queremos usar."
   ]
  },
  {
   "cell_type": "code",
   "execution_count": 25,
   "metadata": {},
   "outputs": [
    {
     "data": {
      "text/html": [
       "<div>\n",
       "<style scoped>\n",
       "    .dataframe tbody tr th:only-of-type {\n",
       "        vertical-align: middle;\n",
       "    }\n",
       "\n",
       "    .dataframe tbody tr th {\n",
       "        vertical-align: top;\n",
       "    }\n",
       "\n",
       "    .dataframe thead th {\n",
       "        text-align: right;\n",
       "    }\n",
       "</style>\n",
       "<table border=\"1\" class=\"dataframe\">\n",
       "  <thead>\n",
       "    <tr style=\"text-align: right;\">\n",
       "      <th></th>\n",
       "      <th>Poder</th>\n",
       "      <th>Fonte de Recursos</th>\n",
       "      <th>Valor Pago Float</th>\n",
       "    </tr>\n",
       "  </thead>\n",
       "  <tbody>\n",
       "    <tr>\n",
       "      <th>0</th>\n",
       "      <td>Executivo</td>\n",
       "      <td>Adicional do ICMS - FECP</td>\n",
       "      <td>1.480718e+09</td>\n",
       "    </tr>\n",
       "    <tr>\n",
       "      <th>1</th>\n",
       "      <td>Executivo</td>\n",
       "      <td>Alienação de Bens</td>\n",
       "      <td>0.000000e+00</td>\n",
       "    </tr>\n",
       "    <tr>\n",
       "      <th>2</th>\n",
       "      <td>Executivo</td>\n",
       "      <td>Compensação Financeira pela Exploração de Petr...</td>\n",
       "      <td>1.032864e+09</td>\n",
       "    </tr>\n",
       "    <tr>\n",
       "      <th>3</th>\n",
       "      <td>Executivo</td>\n",
       "      <td>Contratos Intraorçamentários Gestão de Saúde</td>\n",
       "      <td>2.098283e+08</td>\n",
       "    </tr>\n",
       "    <tr>\n",
       "      <th>4</th>\n",
       "      <td>Executivo</td>\n",
       "      <td>Contribuição de Intervenção no Domínio Econômi...</td>\n",
       "      <td>3.963611e+07</td>\n",
       "    </tr>\n",
       "  </tbody>\n",
       "</table>\n",
       "</div>"
      ],
      "text/plain": [
       "       Poder                                  Fonte de Recursos  \\\n",
       "0  Executivo                           Adicional do ICMS - FECP   \n",
       "1  Executivo                                  Alienação de Bens   \n",
       "2  Executivo  Compensação Financeira pela Exploração de Petr...   \n",
       "3  Executivo       Contratos Intraorçamentários Gestão de Saúde   \n",
       "4  Executivo  Contribuição de Intervenção no Domínio Econômi...   \n",
       "\n",
       "   Valor Pago Float  \n",
       "0      1.480718e+09  \n",
       "1      0.000000e+00  \n",
       "2      1.032864e+09  \n",
       "3      2.098283e+08  \n",
       "4      3.963611e+07  "
      ]
     },
     "execution_count": 25,
     "metadata": {},
     "output_type": "execute_result"
    }
   ],
   "source": [
    "despesas18.groupby([\"Poder\", \"Fonte de Recursos\"], as_index=False)['Valor Pago Float'].sum().head()"
   ]
  },
  {
   "cell_type": "markdown",
   "metadata": {},
   "source": [
    "E se quisermos fazer operações de agrupamento em múltiplas colunas, ou ainda, múltiplas operações na mesma coluna?\n",
    "\n",
    "Uma opção é fazê-las individualmente e juntá-las depois com o `merge`, nosso próximo tópico. Outra opção é usar o método `.agg` junto ao groupby. Veja a descrição e os exemplos [na documentação do pandas](https://pandas.pydata.org/pandas-docs/version/0.23/generated/pandas.core.groupby.DataFrameGroupBy.agg.html).\n",
    "\n",
    "Podemos fazer essas coisas separado, mas vamos montar um groupby complexo para exeplo. Queremos a soma e maior pagamento feito por Poder e o número de funções que cada um gastou."
   ]
  },
  {
   "cell_type": "code",
   "execution_count": 26,
   "metadata": {},
   "outputs": [
    {
     "data": {
      "text/html": [
       "<div>\n",
       "<style scoped>\n",
       "    .dataframe tbody tr th:only-of-type {\n",
       "        vertical-align: middle;\n",
       "    }\n",
       "\n",
       "    .dataframe tbody tr th {\n",
       "        vertical-align: top;\n",
       "    }\n",
       "\n",
       "    .dataframe thead tr th {\n",
       "        text-align: left;\n",
       "    }\n",
       "</style>\n",
       "<table border=\"1\" class=\"dataframe\">\n",
       "  <thead>\n",
       "    <tr>\n",
       "      <th></th>\n",
       "      <th>Poder</th>\n",
       "      <th colspan=\"2\" halign=\"left\">Valor Pago Float</th>\n",
       "      <th>Função</th>\n",
       "    </tr>\n",
       "    <tr>\n",
       "      <th></th>\n",
       "      <th></th>\n",
       "      <th>sum</th>\n",
       "      <th>max</th>\n",
       "      <th>nunique</th>\n",
       "    </tr>\n",
       "  </thead>\n",
       "  <tbody>\n",
       "    <tr>\n",
       "      <th>0</th>\n",
       "      <td>Executivo</td>\n",
       "      <td>3.437531e+10</td>\n",
       "      <td>1.929584e+09</td>\n",
       "      <td>23</td>\n",
       "    </tr>\n",
       "    <tr>\n",
       "      <th>1</th>\n",
       "      <td>Judiciário</td>\n",
       "      <td>3.094868e+09</td>\n",
       "      <td>7.052589e+08</td>\n",
       "      <td>1</td>\n",
       "    </tr>\n",
       "    <tr>\n",
       "      <th>2</th>\n",
       "      <td>Legislativo</td>\n",
       "      <td>9.244184e+08</td>\n",
       "      <td>1.585384e+08</td>\n",
       "      <td>1</td>\n",
       "    </tr>\n",
       "    <tr>\n",
       "      <th>3</th>\n",
       "      <td>Ministério Público</td>\n",
       "      <td>9.728032e+08</td>\n",
       "      <td>3.595991e+08</td>\n",
       "      <td>1</td>\n",
       "    </tr>\n",
       "  </tbody>\n",
       "</table>\n",
       "</div>"
      ],
      "text/plain": [
       "                Poder Valor Pago Float                Função\n",
       "                                   sum           max nunique\n",
       "0           Executivo     3.437531e+10  1.929584e+09      23\n",
       "1          Judiciário     3.094868e+09  7.052589e+08       1\n",
       "2         Legislativo     9.244184e+08  1.585384e+08       1\n",
       "3  Ministério Público     9.728032e+08  3.595991e+08       1"
      ]
     },
     "execution_count": 26,
     "metadata": {},
     "output_type": "execute_result"
    }
   ],
   "source": [
    "# para facilitar leitura do código vamos criar um dicionario separado\n",
    "group_functions = {\"Valor Pago Float\": [\"sum\", \"max\"], \"Função\": [\"nunique\"]}\n",
    "\n",
    "despesas18.groupby([\"Poder\"], as_index=False).agg(group_functions)"
   ]
  },
  {
   "cell_type": "markdown",
   "metadata": {},
   "source": [
    "# <a id='toc5_'></a>[Resumo](#toc0_)\n",
    "\n",
    "* Vimos como ler arquivos processáveis usando Pandas (o procedimento que usamos para ler arquivos .csv pode ser replicado para arquivos .xlsx);\n",
    "* Aprendemos a usar o Pandas para começar a fazer análise de dados.\n",
    "* Conseguimos gerar as estatísticas descritivas básicas a respeito dos gastos do Estado por função.\n",
    "\n",
    "# <a id='toc6_'></a>[Uma breve introdução: como gerar gráficos com o Seaborn](#toc0_)\n",
    "\n",
    "Mais a frente do curso iremos discutir com calma visualização de dados. Contudo, pode ser interessante ter alguma ideia de como gerar alguns gráficos sobre os dados que estamos explorando. \n",
    "\n",
    "Em muitos sentidos, a comunicação dos dados é tão importante quanto as inferências que conseguimos extrair deles. Nesse contexto, nada ajuda mais que um gráfico. Se uma imagem vale por mil palavras, um gráfico vale por pelo menos dez tabelas.\n",
    "\n",
    "A principal biblioteca de visualização de dados que vamos utilizar ao longo do curso se chama `Seaborn`. O primeiro passo para usarmos o `Seaborn`, naturalmente, é realizar a importação do pacote com sua notação canônica."
   ]
  },
  {
   "cell_type": "code",
   "execution_count": 32,
   "metadata": {},
   "outputs": [],
   "source": [
    "import seaborn as sns\n",
    "\n",
    "%matplotlib inline"
   ]
  },
  {
   "cell_type": "markdown",
   "metadata": {},
   "source": [
    "    OBS: a linha `%matplotlib inline` é específica do Jupyter Notebook e simplesmente diz para o programa que os gráficos devem ser apresentados na célula de resposta.\n",
    "\n",
    "Uma das formas mais comuns e úteis de apresentar informações quantitativas visualmente é o **gráfico de barras**. Ele permite que possamos comparar quantidades de maneira rápida e intuitiva. Um bom uso do gráfico de barras, por exemplo, é mostrar quais foram as funções com mais dinheiro pago e qual é a diferença entre elas.\n",
    "\n",
    "Um dos argumentos apresentados pelo Governo do Estado em contraposição ao MP foi o de que o Estado atravessava importante e notória crise fiscal. Se o MP quer contra-argumentar com dados, uma forma eficiente é mostrar que os gastos com outras funções foram elevados. Representar essa discrepância visualmente é uma maneira eficiente de fazer esse ponto."
   ]
  },
  {
   "cell_type": "code",
   "execution_count": 33,
   "metadata": {},
   "outputs": [
    {
     "data": {
      "text/plain": [
       "Função\n",
       "Administração           1.607817e+09\n",
       "Agricultura             2.455236e+08\n",
       "Assistência Social      2.440759e+08\n",
       "Ciência e Tecnologia    7.515062e+07\n",
       "Comunicações            3.664972e+06\n",
       "Name: Valor Pago Float, dtype: float64"
      ]
     },
     "execution_count": 33,
     "metadata": {},
     "output_type": "execute_result"
    }
   ],
   "source": [
    "funcoes_pagas.head()"
   ]
  },
  {
   "cell_type": "markdown",
   "metadata": {},
   "source": [
    "Em primeiro lugar, vamos usar o próprio Pandas para gerar a visualização. Isso é possível usando o método `.plot.bar()`, nativo de DataFrames. Mas antes, precisamos transformar `funcoes_pagas` em um DataFrame, já que atualmente ele é uma `Series`."
   ]
  },
  {
   "cell_type": "code",
   "execution_count": 34,
   "metadata": {},
   "outputs": [
    {
     "data": {
      "text/plain": [
       "pandas.core.series.Series"
      ]
     },
     "execution_count": 34,
     "metadata": {},
     "output_type": "execute_result"
    }
   ],
   "source": [
    "type(funcoes_pagas)"
   ]
  },
  {
   "cell_type": "code",
   "execution_count": 35,
   "metadata": {},
   "outputs": [
    {
     "data": {
      "text/html": [
       "<div>\n",
       "<style scoped>\n",
       "    .dataframe tbody tr th:only-of-type {\n",
       "        vertical-align: middle;\n",
       "    }\n",
       "\n",
       "    .dataframe tbody tr th {\n",
       "        vertical-align: top;\n",
       "    }\n",
       "\n",
       "    .dataframe thead th {\n",
       "        text-align: right;\n",
       "    }\n",
       "</style>\n",
       "<table border=\"1\" class=\"dataframe\">\n",
       "  <thead>\n",
       "    <tr style=\"text-align: right;\">\n",
       "      <th></th>\n",
       "      <th>Valor Pago Float</th>\n",
       "    </tr>\n",
       "    <tr>\n",
       "      <th>Função</th>\n",
       "      <th></th>\n",
       "    </tr>\n",
       "  </thead>\n",
       "  <tbody>\n",
       "    <tr>\n",
       "      <th>Administração</th>\n",
       "      <td>1.607817e+09</td>\n",
       "    </tr>\n",
       "    <tr>\n",
       "      <th>Agricultura</th>\n",
       "      <td>2.455236e+08</td>\n",
       "    </tr>\n",
       "    <tr>\n",
       "      <th>Assistência Social</th>\n",
       "      <td>2.440759e+08</td>\n",
       "    </tr>\n",
       "    <tr>\n",
       "      <th>Ciência e Tecnologia</th>\n",
       "      <td>7.515062e+07</td>\n",
       "    </tr>\n",
       "    <tr>\n",
       "      <th>Comunicações</th>\n",
       "      <td>3.664972e+06</td>\n",
       "    </tr>\n",
       "  </tbody>\n",
       "</table>\n",
       "</div>"
      ],
      "text/plain": [
       "                      Valor Pago Float\n",
       "Função                                \n",
       "Administração             1.607817e+09\n",
       "Agricultura               2.455236e+08\n",
       "Assistência Social        2.440759e+08\n",
       "Ciência e Tecnologia      7.515062e+07\n",
       "Comunicações              3.664972e+06"
      ]
     },
     "execution_count": 35,
     "metadata": {},
     "output_type": "execute_result"
    }
   ],
   "source": [
    "funcoes_pagas_df = pd.DataFrame(funcoes_pagas)\n",
    "funcoes_pagas_df.head()"
   ]
  },
  {
   "cell_type": "markdown",
   "metadata": {},
   "source": [
    "`funcoes_pagas_df` já é um DataFrame, mas uma das informações interessantes (a função) está guardada no índice. Muito embora isso possa ser útil para muitas coisas, essa configuração não é a ideal dada a sintaxe que vai ser utilizada nos gráficos. Para alterar isso e guardar \"Função\" como uma coluna, basta chamarmos o método `.reset_index()`, com o argumento `inplace` como verdadeiro:"
   ]
  },
  {
   "cell_type": "code",
   "execution_count": 36,
   "metadata": {},
   "outputs": [
    {
     "data": {
      "text/html": [
       "<div>\n",
       "<style scoped>\n",
       "    .dataframe tbody tr th:only-of-type {\n",
       "        vertical-align: middle;\n",
       "    }\n",
       "\n",
       "    .dataframe tbody tr th {\n",
       "        vertical-align: top;\n",
       "    }\n",
       "\n",
       "    .dataframe thead th {\n",
       "        text-align: right;\n",
       "    }\n",
       "</style>\n",
       "<table border=\"1\" class=\"dataframe\">\n",
       "  <thead>\n",
       "    <tr style=\"text-align: right;\">\n",
       "      <th></th>\n",
       "      <th>Função</th>\n",
       "      <th>Valor Pago Float</th>\n",
       "    </tr>\n",
       "  </thead>\n",
       "  <tbody>\n",
       "    <tr>\n",
       "      <th>0</th>\n",
       "      <td>Administração</td>\n",
       "      <td>1.607817e+09</td>\n",
       "    </tr>\n",
       "    <tr>\n",
       "      <th>1</th>\n",
       "      <td>Agricultura</td>\n",
       "      <td>2.455236e+08</td>\n",
       "    </tr>\n",
       "    <tr>\n",
       "      <th>2</th>\n",
       "      <td>Assistência Social</td>\n",
       "      <td>2.440759e+08</td>\n",
       "    </tr>\n",
       "    <tr>\n",
       "      <th>3</th>\n",
       "      <td>Ciência e Tecnologia</td>\n",
       "      <td>7.515062e+07</td>\n",
       "    </tr>\n",
       "    <tr>\n",
       "      <th>4</th>\n",
       "      <td>Comunicações</td>\n",
       "      <td>3.664972e+06</td>\n",
       "    </tr>\n",
       "  </tbody>\n",
       "</table>\n",
       "</div>"
      ],
      "text/plain": [
       "                 Função  Valor Pago Float\n",
       "0         Administração      1.607817e+09\n",
       "1           Agricultura      2.455236e+08\n",
       "2    Assistência Social      2.440759e+08\n",
       "3  Ciência e Tecnologia      7.515062e+07\n",
       "4          Comunicações      3.664972e+06"
      ]
     },
     "execution_count": 36,
     "metadata": {},
     "output_type": "execute_result"
    }
   ],
   "source": [
    "funcoes_pagas_df.reset_index(inplace=True)\n",
    "funcoes_pagas_df.head()"
   ]
  },
  {
   "cell_type": "markdown",
   "metadata": {},
   "source": [
    "Agora, para fazer um gráfico de barras usando o Pandas, basta chamarmos `.plot.bar()` dando os argumentos referentes aos eixos X e Y:"
   ]
  },
  {
   "cell_type": "code",
   "execution_count": 39,
   "metadata": {},
   "outputs": [
    {
     "data": {
      "text/plain": [
       "<AxesSubplot: xlabel='Função'>"
      ]
     },
     "execution_count": 39,
     "metadata": {},
     "output_type": "execute_result"
    },
    {
     "data": {
      "image/png": "[encoded data removed]",
      "text/plain": [
       "<Figure size 640x480 with 1 Axes>"
      ]
     },
     "metadata": {},
     "output_type": "display_data"
    }
   ],
   "source": [
    "funcoes_pagas_df.plot.bar(x = \"Função\", y = \"Valor Pago Float\")"
   ]
  },
  {
   "cell_type": "markdown",
   "metadata": {},
   "source": [
    "O gráfico é bastante simplificado e esteticamente, não é muito bonito. Para fazer o mesmo gráfico usando o `seaborn`, basta usarmos a função `barplot()`:"
   ]
  },
  {
   "cell_type": "code",
   "execution_count": 40,
   "metadata": {
    "scrolled": true
   },
   "outputs": [
    {
     "data": {
      "text/plain": [
       "<AxesSubplot: xlabel='Função', ylabel='Valor Pago Float'>"
      ]
     },
     "execution_count": 40,
     "metadata": {},
     "output_type": "execute_result"
    },
    {
     "data": {
      "image/png": "[encoded data removed]",
      "text/plain": [
       "<Figure size 640x480 with 1 Axes>"
      ]
     },
     "metadata": {},
     "output_type": "display_data"
    }
   ],
   "source": [
    "sns.barplot(x = \"Função\", y = \"Valor Pago Float\", data = funcoes_pagas_df)"
   ]
  },
  {
   "cell_type": "markdown",
   "metadata": {},
   "source": [
    "<span style=\"color:red\"> *O gráfico apresenta os mesmos resultados, porém com cores diferentes para cada barra e sem podermos ler o que está escrito em cada função no eixo x.*\n",
    "\n",
    "Uma primeira reação é notar que o gráfico está ainda mais feio! Por que usar o `seaborn` ao invés do próprio Pandas?\n",
    "\n",
    "Uma vantagem do seaborn é a maior quantidade de opções. Se quisermos mudar a cor das barras para azul claro, por exemplo, podemos fazer isso introduzindo um único argumento."
   ]
  },
  {
   "cell_type": "code",
   "execution_count": 41,
   "metadata": {},
   "outputs": [
    {
     "data": {
      "text/plain": [
       "<AxesSubplot: xlabel='Função', ylabel='Valor Pago Float'>"
      ]
     },
     "execution_count": 41,
     "metadata": {},
     "output_type": "execute_result"
    },
    {
     "data": {
      "image/png": "[encoded data removed]",
      "text/plain": [
       "<Figure size 640x480 with 1 Axes>"
      ]
     },
     "metadata": {},
     "output_type": "display_data"
    }
   ],
   "source": [
    "sns.barplot(x = \"Função\", y = \"Valor Pago Float\", data = funcoes_pagas_df, color = \"skyblue\")"
   ]
  },
  {
   "cell_type": "markdown",
   "metadata": {},
   "source": [
    "Tanto o Pandas quanto o Seaborn, \"por trás dos panos\", usam a mesma biblioteca, chamada `matplotlib`. Infelizmente, quando queremos alterar aspectos que não constam da lista de argumentos aceitos pelas funções do Seaborn, precisamos fazer chamados manuais a essa função.\n",
    "\n",
    "Assim, se queremos alterar o ângulo com o qual são apresentados os nomes das funções, podemos fazer isso usando esse módulo, seja importando ele diretamente (canonicamente `from matplotlib import pyplot as plt`), seja usando algum dos métodos que o pacote implementa em objetos reconhecidos como gráficos, como fazemos abaixo com o método `set_xticklabels`."
   ]
  },
  {
   "cell_type": "code",
   "execution_count": 42,
   "metadata": {},
   "outputs": [
    {
     "data": {
      "text/plain": [
       "[Text(0, 0, 'Administração'),\n",
       " Text(1, 0, 'Agricultura'),\n",
       " Text(2, 0, 'Assistência Social'),\n",
       " Text(3, 0, 'Ciência e Tecnologia'),\n",
       " Text(4, 0, 'Comunicações'),\n",
       " Text(5, 0, 'Comércio e Serviços'),\n",
       " Text(6, 0, 'Cultura'),\n",
       " Text(7, 0, 'Desporto e Lazer'),\n",
       " Text(8, 0, 'Direitos da Cidadania'),\n",
       " Text(9, 0, 'Educação'),\n",
       " Text(10, 0, 'Encargos Especiais'),\n",
       " Text(11, 0, 'Essencial à Justiça'),\n",
       " Text(12, 0, 'Gestão Ambiental'),\n",
       " Text(13, 0, 'Habitação'),\n",
       " Text(14, 0, 'Indústria'),\n",
       " Text(15, 0, 'Judiciária'),\n",
       " Text(16, 0, 'Legislativa'),\n",
       " Text(17, 0, 'Organização Agrária'),\n",
       " Text(18, 0, 'Previdência Social'),\n",
       " Text(19, 0, 'Saneamento'),\n",
       " Text(20, 0, 'Saúde'),\n",
       " Text(21, 0, 'Segurança Pública'),\n",
       " Text(22, 0, 'Trabalho'),\n",
       " Text(23, 0, 'Transporte'),\n",
       " Text(24, 0, 'Urbanismo')]"
      ]
     },
     "execution_count": 42,
     "metadata": {},
     "output_type": "execute_result"
    },
    {
     "data": {
      "image/png": "[encoded data removed]",
      "text/plain": [
       "<Figure size 640x480 with 1 Axes>"
      ]
     },
     "metadata": {},
     "output_type": "display_data"
    }
   ],
   "source": [
    "bars = sns.barplot(x = \"Função\", y = \"Valor Pago Float\", data = funcoes_pagas_df, color = \"skyblue\")\n",
    "\n",
    "bars.set_xticklabels(labels = funcoes_pagas_df[\"Função\"], rotation = 90)"
   ]
  },
  {
   "cell_type": "markdown",
   "metadata": {},
   "source": [
    "Tanto no Pandas quanto no Seaborn, esse gráfico apresenta alguns problemas:\n",
    "\n",
    "1) ele não está ordenado;\n",
    "\n",
    "2) ele tem um excesso de barras.\n",
    "\n",
    "Para resolver esses dois problemas, vamos ordenar o dataframe (perceba que as barras estão na mesma ordem que no dataframe) por valor e usar `.head()` para plotar apenas as 5 funções com mais gastos."
   ]
  },
  {
   "cell_type": "code",
   "execution_count": 43,
   "metadata": {},
   "outputs": [
    {
     "data": {
      "text/plain": [
       "[Text(0, 0, 'Previdência Social'),\n",
       " Text(1, 0, 'Segurança Pública'),\n",
       " Text(2, 0, 'Educação'),\n",
       " Text(3, 0, 'Judiciária'),\n",
       " Text(4, 0, 'Saúde')]"
      ]
     },
     "execution_count": 43,
     "metadata": {},
     "output_type": "execute_result"
    },
    {
     "data": {
      "image/png": "[encoded data removed]",
      "text/plain": [
       "<Figure size 640x480 with 1 Axes>"
      ]
     },
     "metadata": {},
     "output_type": "display_data"
    }
   ],
   "source": [
    "# por padrão, o Pandas ordena em ordem crescente. Quando queremos os top 5, precisamos ordenar por ordem decrescente.\n",
    "funcoes_pagas_df.sort_values(\"Valor Pago Float\", ascending=False, inplace=True)\n",
    "\n",
    "bars = sns.barplot(x = \"Função\", y = \"Valor Pago Float\", data = funcoes_pagas_df.head(), color = \"steelblue\")\n",
    "\n",
    "# se esquecermos de adicionar .head() aos labels, teremos um excesso de labels\n",
    "bars.set_xticklabels(labels = funcoes_pagas_df.head()[\"Função\"], rotation = 90)"
   ]
  },
  {
   "cell_type": "markdown",
   "metadata": {},
   "source": [
    "O gráfico acima ainda está longe de estar pronto. Algumas coisas que precisariam ser ajustadas: falta acertar os nomes dos eixos, adicionar um título, alterar a forma de apresentação dos valores de notação científica para algo que advogados entendem, adicionar outros ajustes estéticos...\n",
    "\n",
    "Mas todas essas coisas serão objeto de aulas posteriores. A ideia, neste momento, é apenas introduzir duas maneiras de visualizar graficamente os dados.\n",
    "\n",
    "\n",
    "\n",
    "## <a id='toc6_1_'></a>[Desafio](#toc0_)\n",
    "\n",
    "Se queremos dialogar diretamente com a alegação do Ministério Público, talvez uma ideia melhor fosse que as barras representassem o percentual de gastos com cada função. Para isso, poderíamos criar uma nova coluna no DataFrame que contivesse essa informação e plotar o gráfico com base nela.\n"
   ]
  },
  {
   "cell_type": "code",
   "execution_count": null,
   "metadata": {},
   "outputs": [],
   "source": []
  },
  {
   "cell_type": "markdown",
   "metadata": {},
   "source": [
    "## <a id='toc6_2_'></a>[Desafio 2](#toc0_)\n",
    "\n",
    "Fizemos o gráfico para os valores efetivamente pagos. Faça o gráfico referente à **diferença** entre os valores empenhados e pagos.\n"
   ]
  },
  {
   "cell_type": "code",
   "execution_count": null,
   "metadata": {},
   "outputs": [],
   "source": []
  }
 ],
 "metadata": {
  "kernelspec": {
   "display_name": "Python 3 (ipykernel)",
   "language": "python",
   "name": "python3"
  },
  "language_info": {
   "codemirror_mode": {
    "name": "ipython",
    "version": 3
   },
   "file_extension": ".py",
   "mimetype": "text/x-python",
   "name": "python",
   "nbconvert_exporter": "python",
   "pygments_lexer": "ipython3",
   "version": "3.10.9"
  },
  "vscode": {
   "interpreter": {
    "hash": "abb44a25ac141f9fc3c6de45abf9ef72613fc3eebc8c35ca26f9ad8a6120c4e5"
   }
  }
 },
 "nbformat": 4,
 "nbformat_minor": 4
}
